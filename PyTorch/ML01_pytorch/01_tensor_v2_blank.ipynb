{
  "cells": [
    {
      "cell_type": "markdown",
      "metadata": {
        "id": "_gE94V3G1RCx"
      },
      "source": [
        "# 01. Знакомство с `torch.Tensor`\n",
        "\n",
        "V 0.1 04.02.2021"
      ]
    },
    {
      "cell_type": "markdown",
      "metadata": {
        "id": "TlWOXn0f1RC7"
      },
      "source": [
        "---"
      ]
    },
    {
      "cell_type": "markdown",
      "metadata": {
        "id": "lZfJ1FRM1RC8"
      },
      "source": [
        "При решении данных задач не подразумевается использования циклов или генераторов Python, если в задании не сказано обратного. Решение должно опираться на использование функционала библиотеки `torch`.\n",
        "\n",
        "[PyTorch documentation](https://pytorch.org/docs/stable/#pytorch-documentation)"
      ]
    },
    {
      "cell_type": "code",
      "execution_count": null,
      "metadata": {
        "id": "b3AW8rF-1RC9"
      },
      "outputs": [],
      "source": [
        "import torch"
      ]
    },
    {
      "cell_type": "markdown",
      "metadata": {
        "id": "vow49PuE1RC9"
      },
      "source": [
        "## 1.1 Создание тензоров и выполнение базовых операций над ними\n",
        "\n",
        "[Документация по функциям для создания тензоров](https://pytorch.org/docs/stable/torch.html#creation-ops)\n",
        "\n",
        "[Документация по функциям для работы с индексами](https://pytorch.org/docs/stable/torch.html#indexing-slicing-joining-mutating-ops)"
      ]
    },
    {
      "cell_type": "code",
      "execution_count": null,
      "metadata": {
        "colab": {
          "base_uri": "https://localhost:8080/"
        },
        "id": "LYE4wR8TbCS8",
        "outputId": "ebeab5ab-44db-428a-9619-315d259acc5a"
      },
      "outputs": [],
      "source": [
        "t = torch.tensor([[1, 2] , [3, 4], [5, 6]])\n",
        "\n",
        "print(t)\n",
        "\n",
        "# додеалть чтоб было три измерения\n",
        "\n",
        "print(t.shape)"
      ]
    },
    {
      "cell_type": "code",
      "execution_count": null,
      "metadata": {
        "colab": {
          "base_uri": "https://localhost:8080/"
        },
        "id": "BpbDRAkcbldD",
        "outputId": "0ae9a2a5-3aa5-4692-a3e5-0b66f6b24dd2"
      },
      "outputs": [],
      "source": [
        "torch.zeros(3, 4)"
      ]
    },
    {
      "cell_type": "code",
      "execution_count": null,
      "metadata": {
        "colab": {
          "base_uri": "https://localhost:8080/"
        },
        "id": "4KClsYOxbrmV",
        "outputId": "d24c191d-171d-43a3-e19a-f403fd5ae60b"
      },
      "outputs": [],
      "source": [
        "torch.ones(3, 2)"
      ]
    },
    {
      "cell_type": "code",
      "execution_count": null,
      "metadata": {
        "colab": {
          "base_uri": "https://localhost:8080/"
        },
        "id": "FT4disRcbvlD",
        "outputId": "33b83309-2dea-4f52-c53d-5fabd0d6bacd"
      },
      "outputs": [],
      "source": [
        "4 * torch.eye(4)"
      ]
    },
    {
      "cell_type": "code",
      "execution_count": null,
      "metadata": {
        "colab": {
          "base_uri": "https://localhost:8080/"
        },
        "id": "yOGsBzT_bzsM",
        "outputId": "98602bb0-6f4c-483e-9769-6742c771b03b"
      },
      "outputs": [],
      "source": [
        "torch.arange(100).reshape(10, 10) + torch.ones(1, 10) * 2 "
      ]
    },
    {
      "cell_type": "code",
      "execution_count": null,
      "metadata": {
        "colab": {
          "base_uri": "https://localhost:8080/"
        },
        "id": "y0fVpnjec2Y5",
        "outputId": "910db869-3e10-4118-9d3f-d2ea2cdd1687"
      },
      "outputs": [],
      "source": [
        "t = torch.arange(100).reshape(10, 10)\n",
        "print(t)\n",
        "print(\"------------------------\")\n",
        "\n",
        "t[2:5:, ::2]"
      ]
    },
    {
      "cell_type": "markdown",
      "metadata": {
        "id": "wBIwO1SB1RC-"
      },
      "source": [
        "1.1.1 Создайте двумерный тензор размера (8, 8). Используя как можно меньше операций, добейтесь расстановки кодов \"шахматных фигур\".\n",
        "\n",
        "Ожидаемый результат:\n",
        "\n",
        "```\n",
        "[[-4., -3., -2., -6., -5., -2., -3., -4.],\n",
        " [-1., -1., -1., -1., -1., -1., -1., -1.],\n",
        " [0., 0., 0., 0., 0., 0., 0., 0.],\n",
        " [0., 0., 0., 0., 0., 0., 0., 0.],\n",
        " [0., 0., 0., 0., 0., 0., 0., 0.],\n",
        " [0., 0., 0., 0., 0., 0., 0., 0.],\n",
        " [1., 1., 1., 1., 1., 1., 1., 1.],\n",
        " [4., 3., 2., 6., 5., 2., 3., 4.]]\n",
        "\n",
        "```"
      ]
    },
    {
      "cell_type": "code",
      "execution_count": null,
      "metadata": {
        "colab": {
          "base_uri": "https://localhost:8080/"
        },
        "id": "SsAk2G-FjF5S",
        "outputId": "78f47e87-2e3f-4ba5-dd04-fcb1335870b4"
      },
      "outputs": [],
      "source": [
        "t = torch.zeros(8, 8)\n",
        "t[0] = torch.tensor([-4., -3., -2., -6., -5., -2., -3., -4.])\n",
        "t[-1] = t[0] * -1\n",
        "t[1] = -1 * torch.ones(1, 8)\n",
        "t[-2] = t[1] * -1\n",
        "t"
      ]
    },
    {
      "cell_type": "markdown",
      "metadata": {
        "id": "20x5RE1V1RC_"
      },
      "source": [
        "1.1.2 Средствами `torch` рассчитать произведения четных чисел от 2 до 20 на ближайшие к ним бОльшие нечетные числа."
      ]
    },
    {
      "cell_type": "code",
      "execution_count": null,
      "metadata": {},
      "outputs": [],
      "source": [
        "result = 1\n",
        "for i in range(2, 21, 2):\n",
        "    result *= torch.tensor(i * (i + 1))\n",
        "\n",
        "print(result)"
      ]
    },
    {
      "attachments": {},
      "cell_type": "markdown",
      "metadata": {},
      "source": [
        "This code iterates over the even numbers from 2 to 20 (incrementing by 2 each time), and calculates the product of each even number with the nearest larger odd number (which is simply i + 1 in this case). The result of the calculation is then converted to a PyTorch tensor using the torch.tensor function, and the final result is printed."
      ]
    },
    {
      "cell_type": "code",
      "execution_count": null,
      "metadata": {},
      "outputs": [],
      "source": [
        "even_numbers = torch.tensor([2, 4, 6, 8, 10, 12, 14, 16, 18, 20])\n",
        "odd_numbers = even_numbers + 1\n",
        "products = even_numbers * odd_numbers\n",
        "result = products.prod()\n",
        "\n",
        "print(result)"
      ]
    },
    {
      "attachments": {},
      "cell_type": "markdown",
      "metadata": {},
      "source": [
        "In this code, the even numbers from 2 to 20 are first created as a PyTorch tensor even_numbers. The nearest larger odd numbers are then calculated as odd_numbers by adding 1 to even_numbers. The product of each even and odd number is then calculated as products, and the final result is obtained using the prod() method which computes the product of all elements in a tensor. The final result is then printed."
      ]
    },
    {
      "cell_type": "markdown",
      "metadata": {
        "id": "N_-t5GRM1RC_"
      },
      "source": [
        "1.1.3 Создать тензор размера 11x7 вида: [[1, 2, 3, ..., 7], [11, 12, 13, ..., 17], [21, 22, 23, ..., 27], ..., [101, 102, 103, ..., 107]]"
      ]
    },
    {
      "cell_type": "code",
      "execution_count": null,
      "metadata": {
        "colab": {
          "base_uri": "https://localhost:8080/"
        },
        "id": "S7PCzW7zjvPL",
        "outputId": "11df2354-d8ad-4ed2-b579-25fe31321ac6"
      },
      "outputs": [],
      "source": [
        "torch.arange(1, 111).reshape(11, 10)[::, :7:]"
      ]
    },
    {
      "cell_type": "code",
      "execution_count": null,
      "metadata": {},
      "outputs": [],
      "source": [
        "import torch\n",
        "\n",
        "row = torch.arange(1, 8)\n",
        "rows = torch.stack([row + 10 * i for i in range(11)])\n",
        "result = rows\n",
        "\n",
        "print(result)"
      ]
    },
    {
      "attachments": {},
      "cell_type": "markdown",
      "metadata": {},
      "source": [
        "In this code, the first row [1, 2, 3, ..., 7] is created as a PyTorch tensor row using the arange function. This row is then duplicated and shifted by multiples of 10 to obtain all the other rows. The final result is a 11x7 tensor rows obtained by stacking all the rows together using the stack function. The final result is then assigned to result and printed."
      ]
    },
    {
      "cell_type": "markdown",
      "metadata": {
        "id": "oxVeUiHR1RC_"
      },
      "source": [
        "1.1.4 Написать функцию, которая для целых значений `n` и `m` будет возвращать тензор размера `n`x`m`, заполненный текстурой размера 2x2, состоящей из следующих значений:\n",
        "\n",
        "```\n",
        "0 1\n",
        "\n",
        "2 3\n",
        "\n",
        "```\n",
        "\n",
        "Пример для n = 4 и m = 5:\n",
        "\n",
        "```\n",
        "0 1 0 1 0\n",
        "\n",
        "2 3 2 3 2\n",
        "\n",
        "0 1 0 1 0\n",
        "\n",
        "2 3 2 3 2\n",
        "```"
      ]
    },
    {
      "cell_type": "code",
      "execution_count": 7,
      "metadata": {
        "colab": {
          "base_uri": "https://localhost:8080/"
        },
        "id": "dhq6h_7wH4cp",
        "outputId": "4802c6c6-2848-4e3b-bced-ad4349e7e6cc"
      },
      "outputs": [
        {
          "data": {
            "text/plain": [
              "tensor([[0, 1, 0, 1, 0],\n",
              "        [2, 3, 2, 3, 2],\n",
              "        [0, 1, 0, 1, 0],\n",
              "        [2, 3, 2, 3, 2]])"
            ]
          },
          "execution_count": 7,
          "metadata": {},
          "output_type": "execute_result"
        }
      ],
      "source": [
        "# repeat\n",
        "import torch\n",
        "\n",
        "n, m = 4, 5\n",
        "\n",
        "mask = torch.tensor([[0, 1], [2, 3]])\n",
        "mask.repeat(n, m)[:n, :m]"
      ]
    },
    {
      "cell_type": "markdown",
      "metadata": {
        "id": "WH9hxJse1RDA"
      },
      "source": [
        "1.1.5 Сгенерировать двумерный тензор `t` размерности (4, 7), состоящий из случайных действительных чисел, равномерно распределенных в дипазоне от 0 до 20. Нормализовать значения массива с помощью преобразования вида $ax+b$ так, что после нормализации максимальный элемент масива будет равен 1.0, минимальный 0.0"
      ]
    },
    {
      "cell_type": "code",
      "execution_count": null,
      "metadata": {
        "colab": {
          "base_uri": "https://localhost:8080/"
        },
        "id": "E59_SnoMlHtz",
        "outputId": "0067f994-d925-4665-9b91-5ba0d1393329"
      },
      "outputs": [],
      "source": [
        "torch.rand(4, 7) * 20"
      ]
    },
    {
      "cell_type": "code",
      "execution_count": null,
      "metadata": {
        "colab": {
          "base_uri": "https://localhost:8080/"
        },
        "id": "TU6qee0UMZH2",
        "outputId": "c2c86884-9d8e-4dd8-f42c-1d875965ae4f"
      },
      "outputs": [],
      "source": [
        "t = torch.rand(4, 7) * 20\n",
        "# минимальный элемент\n",
        "m = t.min()\n",
        "# максимальный элемент\n",
        "M = t.max()\n",
        "\n",
        "a = 1 / (M - m)\n",
        "b = - a * m\n",
        "\n",
        "print(t)\n",
        "\n",
        "print(\"--------------------\")\n",
        "\n",
        "\n",
        "a * t + b"
      ]
    },
    {
      "cell_type": "markdown",
      "metadata": {
        "id": "vPqIeewXB-mM"
      },
      "source": [
        "[Random Sampling](https://pytorch.org/docs/stable/torch.html#random-sampling)\n",
        "\n",
        "[Distributions](https://pytorch.org/docs/stable/distributions.html)"
      ]
    },
    {
      "cell_type": "markdown",
      "metadata": {
        "id": "K_R6cwq11RDE"
      },
      "source": [
        "1.1.6 Задать два двумерных тензора `ar1` и `ar2` размерности (4, 7), состоящих из случайных целых чисел в пределах от 0 до 10. Построить двумерный тензор размерности (4, 7), каждый элемент которого представляет собой максимум из двух значений, находящихся на аналогичной позиции в тензорах `ar1`, `ar2`.\n",
        "\n",
        "[Reductions ops](https://pytorch.org/docs/stable/torch.html#reduction-ops)"
      ]
    },
    {
      "cell_type": "code",
      "execution_count": null,
      "metadata": {
        "colab": {
          "base_uri": "https://localhost:8080/"
        },
        "id": "ONIwA6MRlt8z",
        "outputId": "53f4e179-368d-4ca8-f4a2-2e074ef37394"
      },
      "outputs": [],
      "source": [
        "torch.randint(0, 11, (4, 7))"
      ]
    },
    {
      "cell_type": "code",
      "execution_count": null,
      "metadata": {
        "colab": {
          "base_uri": "https://localhost:8080/"
        },
        "id": "cRMwi0wONjsC",
        "outputId": "cb8dac2d-7581-456b-8793-9e2ebddd16f1"
      },
      "outputs": [],
      "source": [
        "ar1 = torch.randint(0, 11, (4, 7))\n",
        "ar2 = torch.randint(0, 11, (4, 7))\n",
        "\n",
        "print(ar1)\n",
        "print(\"---------------\")\n",
        "print(ar2)\n",
        "\n"
      ]
    },
    {
      "cell_type": "code",
      "execution_count": null,
      "metadata": {
        "colab": {
          "base_uri": "https://localhost:8080/"
        },
        "id": "EihEeplimYXS",
        "outputId": "7028f039-b8e4-444c-98da-cdb3043fd452"
      },
      "outputs": [],
      "source": [
        "ar2 * (ar1 < ar2)"
      ]
    },
    {
      "cell_type": "code",
      "execution_count": null,
      "metadata": {
        "colab": {
          "base_uri": "https://localhost:8080/"
        },
        "id": "1qWlN4wImhtb",
        "outputId": "9b36ce6f-2a21-447a-f5c2-7810cceb120d"
      },
      "outputs": [],
      "source": [
        "ar2 * (ar1 < ar2) + ar1 * (ar1 >= ar2)"
      ]
    },
    {
      "cell_type": "code",
      "execution_count": null,
      "metadata": {
        "colab": {
          "base_uri": "https://localhost:8080/"
        },
        "id": "wZU4Fpabl6Dz",
        "outputId": "215de2d6-6369-4795-9011-92eede6dddf4"
      },
      "outputs": [],
      "source": [
        "ar1 * (ar1 >= ar2)"
      ]
    },
    {
      "cell_type": "markdown",
      "metadata": {
        "id": "x6zmMhyKBPWQ"
      },
      "source": [
        "1.1.7 Создать тензор из 20 случайных целых чисел от 0 до 100. Получить второе сверху значение в тензоре. Определить индекс этого значения."
      ]
    },
    {
      "cell_type": "code",
      "execution_count": null,
      "metadata": {},
      "outputs": [],
      "source": [
        "tensor = torch.randint(0, 100, (20,))\n",
        "print(tensor)\n",
        "\n",
        "second_value = tensor[1]\n",
        "print(second_value)\n",
        "\n",
        "index = tensor.nonzero()[1].item()\n",
        "print(index)"
      ]
    },
    {
      "attachments": {},
      "cell_type": "markdown",
      "metadata": {},
      "source": [
        "Note that the nonzero() method returns a tensor of shape (1, n) where n is the number of non-zero values, so to get the index we need to access the first (and only) item in the second dimension using the [1].item() operator."
      ]
    },
    {
      "cell_type": "code",
      "execution_count": null,
      "metadata": {},
      "outputs": [],
      "source": [
        "index = torch.where(tensor == second_value)[0][0].item()\n",
        "print(index)"
      ]
    },
    {
      "attachments": {},
      "cell_type": "markdown",
      "metadata": {},
      "source": [
        "Note that the torch.where() function returns a tensor of shape (n, 1) where n is the number of values that meet the condition, so to get the index we need to access the first (and only) item in the first dimension using the [0][0].item() operator."
      ]
    },
    {
      "cell_type": "code",
      "execution_count": null,
      "metadata": {},
      "outputs": [],
      "source": []
    },
    {
      "cell_type": "code",
      "execution_count": null,
      "metadata": {
        "id": "ZLalxFB6mlnj"
      },
      "outputs": [],
      "source": [
        "# sort"
      ]
    },
    {
      "cell_type": "markdown",
      "metadata": {
        "id": "Xshsy8fD1RDE"
      },
      "source": [
        "## 1.2 Распространение"
      ]
    },
    {
      "cell_type": "markdown",
      "metadata": {
        "id": "jlP22HAJCo28"
      },
      "source": [
        "[Numpy broadcasting](https://numpy.org/devdocs/user/theory.broadcasting.html)\n",
        "\n",
        "[Torch broadcasting](https://pytorch.org/docs/stable/notes/broadcasting.html)"
      ]
    },
    {
      "cell_type": "markdown",
      "metadata": {
        "id": "uRD6-8Gd1RDF"
      },
      "source": [
        "1.2.1 Создать тензор 11x7 вида: `[[1, 2, 3, ..., 7], [11, 12, 13, ..., 17], [21, 22, 23, ..., 27], ..., [101, 102, 103, ..., 107]]`. При решении задачи применить технику распространения."
      ]
    },
    {
      "cell_type": "code",
      "execution_count": null,
      "metadata": {},
      "outputs": [],
      "source": [
        "base = torch.arange(1, 8)\n",
        "tensor = base + 10 * torch.arange(0, 11).view(-1, 1)\n",
        "print(tensor)"
      ]
    },
    {
      "attachments": {},
      "cell_type": "markdown",
      "metadata": {},
      "source": [
        "Note that the view(-1, 1) method is used to reshape the 1-dimensional tensor torch.arange(0, 11) into a 2-dimensional tensor of shape (11, 1). This allows us to use broadcasting to add it to the base tensor, which has shape (7,).\n",
        "\n",
        "This will add 10 to each element in each row of the tensor, effectively creating the desired pattern."
      ]
    },
    {
      "cell_type": "markdown",
      "metadata": {
        "id": "iSY9Iday1RDF"
      },
      "source": [
        "1.2.2 Вычесть одномерный тензор `b_1d` из двухмерного тензора `a_2d`, так, чтобы каждый элемент одномерного тензора вычитался из всех элементов соответствующих строк двумерного тензора.\n",
        "\n",
        "_Пример:_\n",
        "\n",
        "Для входа:\n",
        "```python\n",
        "a_2d = torch.tensor([[3,3,3],[4,4,4],[5,5,5]])\n",
        "b_1d = torch.tensor([1,2,3])\n",
        "```\n",
        "\n",
        "Ожидается резульат:\n",
        "\n",
        "```python\n",
        "[[2 2 2]\n",
        " [2 2 2]\n",
        " [2 2 2]]\n",
        "```"
      ]
    },
    {
      "cell_type": "code",
      "execution_count": null,
      "metadata": {},
      "outputs": [],
      "source": [
        "a_2d = torch.tensor([[3,3,3],[4,4,4],[5,5,5]])\n",
        "b_1d = torch.tensor([1,2,3])\n",
        "\n",
        "result = a_2d - b_1d.view(-1, 1)\n",
        "print(result)"
      ]
    },
    {
      "attachments": {},
      "cell_type": "markdown",
      "metadata": {},
      "source": [
        "Note that the view(-1, 1) method is used to reshape the 1-dimensional tensor b_1d into a 2-dimensional tensor of shape (3, 1), allowing us to perform broadcasting subtraction with the 2-dimensional tensor a_2d. This will subtract each element of b_1d from all elements of the corresponding rows of a_2d."
      ]
    },
    {
      "cell_type": "markdown",
      "metadata": {
        "id": "dFTvPsY91RDF"
      },
      "source": [
        "## 1.3 Индексы, маскирование и прихотливое индексирование\n",
        "\n",
        "[Документация по функциям для работы с индексами](https://pytorch.org/docs/stable/torch.html#indexing-slicing-joining-mutating-ops)"
      ]
    },
    {
      "cell_type": "markdown",
      "metadata": {
        "id": "McYtDYhH1RDG"
      },
      "source": [
        "1.3.1 Получить индексы, для которых элементы тензоров `a` и `b` совпадают.\n",
        "\n",
        "_Пример:_\n",
        "\n",
        "Для входа:\n",
        "```python\n",
        "a = torch.tensor([1,2,3,2,3,4,3,4,5,6])\n",
        "b = torch.tensor([7,2,10,2,7,4,9,4,9,8])\n",
        "```\n",
        "\n",
        "Ожидается резульат:\n",
        "\n",
        "```python\n",
        "tensor([1, 3, 5, 7])\n",
        "```"
      ]
    },
    {
      "cell_type": "code",
      "execution_count": null,
      "metadata": {},
      "outputs": [],
      "source": [
        "a = torch.tensor([1,2,3,2,3,4,3,4,5,6])\n",
        "b = torch.tensor([7,2,10,2,7,4,9,4,9,8])\n",
        "\n",
        "matching_indexes = (a == b).nonzero().squeeze()\n",
        "print(matching_indexes)"
      ]
    },
    {
      "attachments": {},
      "cell_type": "markdown",
      "metadata": {},
      "source": [
        "The nonzero() method is used to get the indices where the elements of a and b match. The squeeze() method is used to remove any singleton dimensions from the resulting tensor. This will give us the indexes for which elements of a and b match, in this case [1, 3, 5, 7]."
      ]
    },
    {
      "cell_type": "markdown",
      "metadata": {
        "id": "MnBq3nfy1RDG"
      },
      "source": [
        "1.3.2 Инвертировать порядок элементов в двумерном тензоре `torch.arange(9).view(3,3)`.\n",
        "\n",
        "Ожидаемый результат:\n",
        "\n",
        "\n",
        "```python\n",
        "tensor([[8, 7, 6],\n",
        "       [5, 4, 3],\n",
        "       [2, 1, 0]])\n",
        "```"
      ]
    },
    {
      "cell_type": "code",
      "execution_count": null,
      "metadata": {},
      "outputs": [],
      "source": [
        "tensor = torch.arange(9).view(3, 3)\n",
        "inverted_tensor = tensor.flip(dims=(-2,1))\n",
        "print(inverted_tensor)"
      ]
    },
    {
      "cell_type": "markdown",
      "metadata": {
        "id": "tANsLnOC1RDH"
      },
      "source": [
        "1.3.3 Из входного тензора a получить только элементы, находящиеся в диапазоне от 5 до 10.\n",
        "\n",
        "_Пример:_\n",
        "\n",
        "Для входа:\n",
        "```python\n",
        "a = torch.tensor([2, 6, 1, 9, 10, 3, 27])\n",
        "```\n",
        "\n",
        "Ожидается результат:\n",
        "\n",
        "```python\n",
        "tensor([6, 9, 10])\n",
        "```"
      ]
    },
    {
      "cell_type": "code",
      "execution_count": null,
      "metadata": {},
      "outputs": [],
      "source": [
        "a = torch.tensor([2, 6, 1, 9, 10, 3, 27])\n",
        "mask = (a >= 5) & (a <= 10)\n",
        "result = a[mask]\n",
        "print(result)"
      ]
    },
    {
      "attachments": {},
      "cell_type": "markdown",
      "metadata": {},
      "source": [
        "You can use the boolean masking technique to achieve this. Boolean masking involves creating a boolean tensor with the same shape as the input tensor, where each element is True if the corresponding element in the input tensor meets a certain condition, and False otherwise. You can then use the boolean tensor to index into the input tensor and extract only the elements that meet the condition."
      ]
    },
    {
      "cell_type": "markdown",
      "metadata": {
        "id": "3vlK0gV21RDH"
      },
      "source": [
        "1.3.4 Поменять местами столбец 1 и 2 тензора `torch.arange(9).reshape(3,3)`"
      ]
    },
    {
      "cell_type": "code",
      "execution_count": null,
      "metadata": {},
      "outputs": [],
      "source": [
        "a = torch.arange(9).reshape(3, 3)\n",
        "print(\"Original tensor:\")\n",
        "print(a)\n",
        "\n",
        "a[:, [0, 1]] = a[:, [1, 0]]\n",
        "print(\"\\nTensor with columns 0 and 1 swapped:\")\n",
        "print(a)"
      ]
    },
    {
      "cell_type": "markdown",
      "metadata": {
        "id": "cheFtWhU1RDH"
      },
      "source": [
        "1.3.5 Создать тензор 8 на 10 из случайных целых чисел из диапазона от 0 до 10 и найти в ней строку (ее индекс и вывести саму строку), в которой сумма значений минимальна."
      ]
    },
    {
      "cell_type": "code",
      "execution_count": null,
      "metadata": {},
      "outputs": [],
      "source": [
        "tensor = torch.randint(0, 11, (8, 10))\n",
        "\n",
        "# Find the row with the minimum sum\n",
        "min_sum, min_index = tensor.sum(dim=1).min(dim=0)\n",
        "min_row = tensor[min_index]\n",
        "\n",
        "print(\"The tensor:\\n\", tensor)\n",
        "print(\"\\nThe row with the minimum sum:\", min_row)\n",
        "print(\"Index of the row with the minimum sum:\", min_index)"
      ]
    },
    {
      "cell_type": "markdown",
      "metadata": {
        "id": "grOCNU4XFE2B"
      },
      "source": [
        "1.3.6 Cоздать тензор из 20 случайных целых чисел от 0 до 100. Обрезать значения тензора (заменить значения, выходящие за диапазон, на крайние значения) снизу по значению 30, сверху по значению 70."
      ]
    },
    {
      "cell_type": "code",
      "execution_count": null,
      "metadata": {},
      "outputs": [],
      "source": [
        "# Create a tensor from 20 random integers from 0 to 100\n",
        "tensor = torch.randint(0, 101, (20,))\n",
        "\n",
        "# Trim values from below by value 30 and from above by value 70\n",
        "tensor = torch.clamp(tensor, 30, 70)\n",
        "\n",
        "print(\"Tensor with trimmed values:\", tensor)"
      ]
    },
    {
      "cell_type": "markdown",
      "metadata": {
        "id": "HNfQjY8P1RDI"
      },
      "source": [
        "1.3.7 Создать два тензора размера 30 на 3 из случайных целых чисел из диапазона от 0 до 10 и найти все значения первого тензора, которые больше соответсвующих (по расположению) значений второго тензора. Подсчитать сумму этих значений."
      ]
    },
    {
      "cell_type": "code",
      "execution_count": null,
      "metadata": {},
      "outputs": [],
      "source": [
        "tensor1 = torch.randint(0, 11, (30, 3))\n",
        "tensor2 = torch.randint(0, 11, (30, 3))\n",
        "\n",
        "result = tensor1[tensor1 > tensor2]\n",
        "\n",
        "sum_result = result.sum()\n",
        "print(\"Sum of values in tensor1 greater than corresponding values in tensor2: \", sum_result)"
      ]
    },
    {
      "attachments": {},
      "cell_type": "markdown",
      "metadata": {},
      "source": [
        "In this example, tensor1 and tensor2 are created from random integers from 0 to 10. The comparison tensor1 > tensor2 creates a boolean tensor indicating which elements of tensor1 are greater than the corresponding elements of tensor2. Finally, we select these elements from tensor1 using boolean indexing and calculate their sum."
      ]
    },
    {
      "cell_type": "markdown",
      "metadata": {
        "id": "doBCxYJA1RDI"
      },
      "source": [
        "1.3.8 При помощи прихотливого индексирования для двухмерного массива размерности (20, 20), состоящего из случайных целых чисел в пределах от 0 до 10 получить массив элементов находящихся на диагонали, проходящей над основной диагональю."
      ]
    },
    {
      "cell_type": "code",
      "execution_count": null,
      "metadata": {},
      "outputs": [],
      "source": [
        "a = torch.randint(0, 11, (20, 20))\n",
        "\n",
        "# Get the indices of elements above the main diagonal\n",
        "idx = torch.triu_indices(20, 20, 1)\n",
        "\n",
        "# Use the indices to extract the elements above the main diagonal\n",
        "result = a[idx[0], idx[1]]\n",
        "\n",
        "print(result)"
      ]
    },
    {
      "attachments": {},
      "cell_type": "markdown",
      "metadata": {},
      "source": [
        "In this example, the torch.triu_indices function is used to get the indices of the elements above the main diagonal, and then those indices are used to extract the corresponding elements from a."
      ]
    },
    {
      "cell_type": "markdown",
      "metadata": {
        "id": "6M1lkfLp1RDJ"
      },
      "source": [
        "1.3.9 Задать два двухмерных тензора `ar1` и `ar2` размерности (5, 10), состоящих из случайных целых чисел в пределах от 0 до 10. Удвоить все значения `ar1`, которые совпадают со значениями `ar2`, расположенными на аналогичных позициях."
      ]
    },
    {
      "cell_type": "code",
      "execution_count": null,
      "metadata": {},
      "outputs": [],
      "source": [
        "ar1 = torch.randint(0, 11, (5, 10))\n",
        "ar2 = torch.randint(0, 11, (5, 10))\n",
        "\n",
        "indices = (ar1 == ar2)\n",
        "ar1[indices] *= 2\n",
        "\n",
        "ar1"
      ]
    },
    {
      "attachments": {},
      "cell_type": "markdown",
      "metadata": {},
      "source": [
        "In this example, indices is a tensor of size (5, 10) that contains True values at positions where the elements of ar1 and ar2 are equal. The line ar1[indices] *= 2 doubles all values in ar1 at positions where the corresponding values in indices are True."
      ]
    },
    {
      "cell_type": "markdown",
      "metadata": {
        "id": "Qe2oVr4p1RDJ"
      },
      "source": [
        "1.3.10 Заданы три двухмерных тензора `ar1`, `ar2` и `ar3` размерности (4, 7), состоящие из случайных целых чисел в пределах от 0 до 10. Обнулить все элементы `ar1`, которые больше соответствующих (находящихся в соответствующих позициях) элементов `ar2` и меньше соответствующих элементов `ar3`."
      ]
    },
    {
      "cell_type": "code",
      "execution_count": null,
      "metadata": {},
      "outputs": [],
      "source": [
        "# Generating three tensors with random integers\n",
        "ar1 = torch.randint(low=0, high=11, size=(4, 7))\n",
        "ar2 = torch.randint(low=0, high=11, size=(4, 7))\n",
        "ar3 = torch.randint(low=0, high=11, size=(4, 7))\n",
        "\n",
        "# Zeroing out elements of ar1 that are greater than ar2 and fewer than ar3\n",
        "ar1[(ar1 > ar2) & (ar1 < ar3)] = 0\n",
        "\n",
        "ar1"
      ]
    },
    {
      "attachments": {},
      "cell_type": "markdown",
      "metadata": {},
      "source": [
        "After this code, ar1 will be a tensor with zeros in place of the elements that were greater than corresponding ar2 elements and fewer than corresponding ar3 elements."
      ]
    },
    {
      "cell_type": "markdown",
      "metadata": {
        "id": "BTcRVeYh1RDK"
      },
      "source": [
        "1.3.11 Задан двумерный тензор `ar1` размерности (20, 5), состоящий из случайных целых чисел в пределах от 0 до 20. Определить, в каких столбцах не менее 5 раз встречается значение, максимальное по своей строке."
      ]
    },
    {
      "cell_type": "code",
      "execution_count": null,
      "metadata": {},
      "outputs": [],
      "source": [
        "ar1 = torch.randint(0, 21, (20, 5))\n",
        "column_counts = torch.zeros(5)\n",
        "print(ar1)\n",
        "\n",
        "for i in range(20):\n",
        "    row_max = ar1[i].max().item()\n",
        "    # print(row_max)\n",
        "    for j in range(5):\n",
        "        if ar1[i][j].item() == row_max:\n",
        "            print(ar1[i][j].item(), row_max)\n",
        "            column_counts[j] += 1\n",
        "            \n",
        "print(column_counts)\n",
        "result = []\n",
        "for i in range(5):\n",
        "    if column_counts[i] >= 5:\n",
        "        result.append(i)\n",
        "        \n",
        "print(\"Columns with the maximum value occurring at least 5 times:\", result)"
      ]
    },
    {
      "attachments": {},
      "cell_type": "markdown",
      "metadata": {},
      "source": [
        "This code first creates a tensor ar1 of random integers from 0 to 20, and then creates an all-zero tensor column_counts to store the count of the maximum value in each column.\n",
        "\n",
        "Next, it loops through the rows of ar1 and finds the maximum value in each row. For each column where the maximum value occurs, it increments the corresponding count in column_counts.\n",
        "\n",
        "Finally, it loops through column_counts and finds the columns where the count is greater than or equal to 5, and appends the column indices to a list result.\n",
        "\n",
        "The final result is the list of columns where the maximum value occurs at least 5 times."
      ]
    },
    {
      "cell_type": "code",
      "execution_count": null,
      "metadata": {},
      "outputs": [],
      "source": [
        "columns = []\n",
        "\n",
        "while len(columns) == 0:\n",
        "    ar1 = torch.randint(0, 21, (20, 5))\n",
        "    for j in range(5):\n",
        "        column = ar1[:, j]\n",
        "        count = (column == column.max()).sum().item()\n",
        "        if count >= 5:\n",
        "            columns.append(j)\n",
        "    # print(ar1)\n",
        "print(ar1)\n",
        "print(columns)"
      ]
    },
    {
      "cell_type": "markdown",
      "metadata": {
        "id": "ZeYlNWNE1RDK"
      },
      "source": [
        "1.3.12 Задан двумерный тензор `ar1` размерности (4, 7), состоящий из случайных  чисел в пределах от 0 до 1. Обнулить все значения в массиве, расположенные строго правее и ниже максимального элемента массива. "
      ]
    },
    {
      "cell_type": "code",
      "execution_count": null,
      "metadata": {},
      "outputs": [],
      "source": [
        "# Create the tensor with random values from 0 to 1\n",
        "ar1 = torch.rand(4, 7)\n",
        "print(ar1)\n",
        "\n",
        "# Find the indices of the maximum element in the tensor\n",
        "max_index = torch.argmax(ar1)\n",
        "max_row, max_col = max_index // 7, max_index % 7\n",
        "print(max_index, max_row, max_col)\n",
        "# Zero out all values below and to the right of the maximum value\n",
        "# ar1[max_row+1:, max_col] = 0\n",
        "# ar1[max_row:, max_col+1:] = 0 \n",
        "ar1[max_row+1:, :] = 0\n",
        "ar1[:, max_col+1:] = 0\n",
        "\n",
        "\n",
        "print(ar1)"
      ]
    },
    {
      "attachments": {},
      "cell_type": "markdown",
      "metadata": {},
      "source": [
        "This code creates a two-dimensional tensor ar1 of shape (4, 7) with random values ranging from 0 to 1. The maximum value in the tensor is found using the torch.argmax() function, which returns the index of the maximum value in the tensor. The max_row and max_col variables store the row and column of the maximum value, respectively.\n",
        "\n",
        "Finally, we set all values in the tensor that are located below and to the right of the maximum value to zero using slicing and assignment. The resulting tensor is printed to verify that the values have been set to zero as expected."
      ]
    },
    {
      "cell_type": "markdown",
      "metadata": {
        "id": "pYxX90B11RDL"
      },
      "source": [
        "1.3.13 Построить \"one-hot encoding\" для одномерного тензора, содержащего целые числа (длина вектора заранее неизвестна, набор значений заранее неизвестен, при этом в итоговой матрице должны присутствовать столбцы для всех натуральных чисел вплоть до максимального встречающегося в исходном массиве).\n",
        "\n",
        "Пример:\n",
        "\n",
        "для тензора `torch.tensor([2, 3, 2, 2, 2, 1])`.\n",
        "\n",
        "Ожидается результат:\n",
        "\n",
        "```python\n",
        "tensor([[0., 1., 0.],\n",
        "        [0., 0., 1.],\n",
        "        [0., 1., 0.],\n",
        "        [0., 1., 0.],\n",
        "        [0., 1., 0.],\n",
        "        [1., 0., 0.]])\n",
        "```"
      ]
    },
    {
      "cell_type": "code",
      "execution_count": null,
      "metadata": {},
      "outputs": [],
      "source": [
        "# Input tensor\n",
        "x = torch.tensor([2, 3, 2, 2, 2, 1])\n",
        "\n",
        "def one_hot_encode_tensor(x):\n",
        "    # Determine the maximum value\n",
        "    max_val = x.max()\n",
        "\n",
        "    # Create a tensor with shape [len(x), max_val] filled with zeros\n",
        "    one_hot = torch.zeros((len(x), max_val), dtype=torch.float32)\n",
        "\n",
        "    # Use indexing to set the appropriate values to 1\n",
        "    for i in range(len(x)):\n",
        "        one_hot[i, x[i]-1] = 1\n",
        "\n",
        "    # Return the one-hot encoded tensor\n",
        "    return one_hot\n",
        "\n",
        "one_hot_encode_tensor(x)"
      ]
    },
    {
      "cell_type": "markdown",
      "metadata": {
        "id": "GYU8DmNTDLN8"
      },
      "source": [
        "1.3.14 Создать тензор `arr` из 20 случайных целых чисел от 0 до 100. Найти самое частое значение в тензоре. \n",
        "Найти индексы в тензоре, соответствующие самому частому значению. Проверить, как работет алгоритм при двух значениях, имеющих наибольшую встречаемость, предложить приемлемое поведение алгоритма для этого случая. "
      ]
    },
    {
      "cell_type": "code",
      "execution_count": null,
      "metadata": {},
      "outputs": [],
      "source": [
        "\n",
        "# Create the tensor with random integers from 0 to 100\n",
        "arr = torch.tensor([71, 83, 40, 27, 36, 13,  7, 72,  7, 49, 43, 36, 38, 90,  5, 61, 93, 35,\n",
        "        96, 23])\n",
        "print(\"Tensor: \", arr)\n",
        "\n",
        "# Find the most frequent value in the tensor\n",
        "value, count = torch.mode(arr)\n",
        "print(\"Most frequent value: \", value.item())\n",
        "print(\"Number of occurrences: \", count.item())\n",
        "\n",
        "# Find the indices corresponding to the most frequent value\n",
        "indices = torch.where(arr == value.item())[0]\n",
        "print(\"Indices of the most frequent value: \", indices)\n",
        "\n",
        "# In case of tie for the two values with highest occurrences,\n",
        "# the algorithm will return the first one found in the tensor.\n",
        "# If a different behavior is desired, it can be implemented by\n",
        "# sorting the tensor and counting the occurrences of each unique value,\n",
        "# then finding the two values with the highest count and using both of them in the one-hot encoding"
      ]
    },
    {
      "cell_type": "code",
      "execution_count": null,
      "metadata": {},
      "outputs": [],
      "source": [
        "# arr = torch.randint(0, 101, (20,))\n",
        "arr = torch.tensor([71, 83, 40, 27, 37, 13,  7, 72,  7, 49, 5, 36, 38, 90,  5, 61, 93, 35,\n",
        "        96, 23])\n",
        "print(arr)\n",
        "\n",
        "# Find the most frequent value in the tensor\n",
        "values, counts = torch.unique(arr, return_counts=True)\n",
        "print(values, counts)\n",
        "most_frequent_value = values[counts.argmax()]\n",
        "print(\"Most frequent value: \", most_frequent_value)\n",
        "\n",
        "# Find the indices in the tensor corresponding to the most frequent value\n",
        "indices = torch.where(arr == most_frequent_value)[0]\n",
        "print(\"Indices: \", indices)"
      ]
    },
    {
      "attachments": {},
      "cell_type": "markdown",
      "metadata": {},
      "source": [
        "This code generates a 1D tensor arr containing 20 random integers from 0 to 100. It then uses the torch.unique function to find the unique values in the tensor and their count of occurrences. The most frequent value is determined by finding the maximum count and its corresponding value. Finally, the indices corresponding to the most frequent value are found using torch.where function.\n",
        "\n",
        "In the case where there are two values with the highest occurrence, the code will return the indices of one of the values. The acceptable behavior of the algorithm would be to return the indices of both values, as both of them are equally frequent in the tensor."
      ]
    },
    {
      "cell_type": "code",
      "execution_count": null,
      "metadata": {},
      "outputs": [],
      "source": [
        "# Create a tensor with 20 random integers from 0 to 100\n",
        "arr = torch.randint(0, 101, (20,))\n",
        "print(\"Tensor: \", arr)\n",
        "\n",
        "# Find the unique values in the tensor and their counts\n",
        "unique_vals, counts = torch.unique(arr, return_counts=True)\n",
        "\n",
        "# Sort the count tensor in descending order and find the two values with the highest counts\n",
        "sorted_counts, indices = torch.sort(counts, descending=True)\n",
        "first_max = unique_vals[indices[0]]\n",
        "second_max = unique_vals[indices[1]] if sorted_counts[0] == sorted_counts[1] else None\n",
        "print(\"First max: \", first_max, \"Count: \", sorted_counts[0])\n",
        "print(\"Second max: \", second_max, \"Count: \", sorted_counts[1])\n",
        "\n",
        "# Create a tensor to store the one-hot encoded values for the first max value\n",
        "one_hot_1 = (arr == first_max).float()\n",
        "print(\"One-hot encoding for first max: \", one_hot_1)\n",
        "print(f\"Indexes: {torch.where(one_hot_1 == one_hot_1.max())[0]}\")\n",
        "\n",
        "# Create a tensor to store the one-hot encoded values for the second max value, if it exists\n",
        "if second_max is not None:\n",
        "    one_hot_2 = (arr == second_max).float()\n",
        "    print(\"One-hot encoding for second max: \", one_hot_2)\n",
        "    print(f\"Indexes: {torch.where(one_hot_2 == one_hot_2.max())[0]}\")"
      ]
    },
    {
      "cell_type": "code",
      "execution_count": null,
      "metadata": {},
      "outputs": [],
      "source": [
        "# Create a tensor with 20 random integers from 0 to 100\n",
        "arr = torch.randint(0, 100, (20,))\n",
        "\n",
        "# Find the most frequent value\n",
        "value, count = torch.mode(arr)\n",
        "\n",
        "# Get the indices of the most frequent value\n",
        "indices = (arr == value).nonzero()\n",
        "\n",
        "print(\"Tensor:\", arr)\n",
        "print(\"Most frequent value:\", value)\n",
        "print(\"Count of most frequent value:\", count)\n",
        "print(\"Indices of most frequent value:\", indices)"
      ]
    },
    {
      "attachments": {},
      "cell_type": "markdown",
      "metadata": {},
      "source": [
        "This code first finds the unique values and their counts in the arr tensor using the torch.unique function. It then sorts the count tensor in descending order and finds the two values with the highest counts. If the two values have the same count, it stores the second max value in the second_max variable, otherwise it sets second_max to None. Finally, it creates two separate one-hot encoded tensors, one_hot_1 for the first max value and one_hot_2 for the second max value (if it exists), by using the equality operator == and casting the result to a float tensor."
      ]
    },
    {
      "cell_type": "markdown",
      "metadata": {
        "id": "UenAEfEG1RDN"
      },
      "source": [
        "## 1.4 Математические задачи"
      ]
    },
    {
      "cell_type": "markdown",
      "metadata": {
        "id": "6weDrqJR1RDN"
      },
      "source": [
        "1.4.1 Приблизительно (с погрешностью порядка 1%) рассчитать на какой части интервала от 0 до 10 значение функции x * sin(x) больше 0.5."
      ]
    },
    {
      "cell_type": "code",
      "execution_count": null,
      "metadata": {},
      "outputs": [],
      "source": [
        "import numpy as np\n",
        "\n",
        "def func(x):\n",
        "    return x * np.sin(x)\n",
        "\n",
        "def bisect(a, b):\n",
        "    eps = 0.01 * (b - a)\n",
        "    mid = (a + b) / 2\n",
        "    while abs(func(mid) - 0.5) >= eps:\n",
        "        if func(mid) > 0.5:\n",
        "            b = mid\n",
        "        else:\n",
        "            a = mid\n",
        "        mid = (a + b) / 2\n",
        "    return mid\n",
        "\n",
        "a, b = 0, 10\n",
        "x = bisect(a, b)\n",
        "print(\"The solution is approximately x =\", x)"
      ]
    },
    {
      "attachments": {},
      "cell_type": "markdown",
      "metadata": {},
      "source": [
        "Метод деления пополам — это итерационный метод, который работает путем многократного деления интервала пополам до тех пор, пока не будет найдено решение. На каждой итерации вычисляется средняя точка интервала и сравнивается с целевым значением (в данном случае 0,5). Затем интервал обновляется, чтобы исключить половину интервала, где решение вряд ли будет найдено. Это продолжается до тех пор, пока ошибка не станет меньше 1% ширины интервала."
      ]
    },
    {
      "cell_type": "code",
      "execution_count": null,
      "metadata": {},
      "outputs": [],
      "source": [
        "import numpy as np\n",
        "from scipy.optimize import minimize_scalar\n",
        "\n",
        "def func(x):\n",
        "    return x * np.sin(x) - 0.5\n",
        "\n",
        "result = minimize_scalar(func, bounds=(0, 10), method='bounded')\n",
        "print(result)\n",
        "x_opt = result.x\n",
        "\n",
        "print(\"The value of x where x * sin(x) is approximately equal to 0.5 is:\", x_opt)"
      ]
    },
    {
      "cell_type": "markdown",
      "metadata": {
        "id": "B9xAv8TR1RDN"
      },
      "source": [
        "1.4.2 Найти все простые числа в пределах ста. (Для решения предлагается использовать Решето Эратосфена) Использовать не более 1 цикла (желательно)."
      ]
    },
    {
      "cell_type": "code",
      "execution_count": null,
      "metadata": {},
      "outputs": [],
      "source": [
        "# Создаем список чисел от 2 до 100\n",
        "numbers = list(range(2, 101))\n",
        "\n",
        "# Проходим по списку чисел\n",
        "for i in numbers:\n",
        "    # Если число не вычеркнуто, то оно простое\n",
        "    if i:\n",
        "        # Вычеркиваем все кратные числа\n",
        "        for j in range(i * 2, 101, i):\n",
        "            numbers[j - 2] = None\n",
        "\n",
        "# Выводим все простые числа\n",
        "primes = [x for x in numbers if x]\n",
        "print(primes)"
      ]
    },
    {
      "cell_type": "code",
      "execution_count": null,
      "metadata": {},
      "outputs": [],
      "source": [
        "# Create a boolean tensor of size 100 with all values set to True\n",
        "is_prime = torch.ones(100, dtype=torch.bool)\n",
        "\n",
        "print(is_prime)\n",
        "# Set the first two values (0 and 1) to False, since they are not primes\n",
        "is_prime[:2] = False\n",
        "print(is_prime)\n",
        "\n",
        "# Use the Sieve of Eratosthenes algorithm to mark non-prime numbers as False\n",
        "for i in range(2, 11):\n",
        "    if is_prime[i]:\n",
        "        is_prime[i*2::i] = False\n",
        "\n",
        "# Extract the indices of the True values to get the list of prime numbers\n",
        "primes = torch.nonzero(is_prime).flatten()\n",
        "\n",
        "print(primes)"
      ]
    },
    {
      "attachments": {},
      "cell_type": "markdown",
      "metadata": {},
      "source": [
        "Алгоритм Решето Эратосфена заключается в следующем:\n",
        "\n",
        "Создать список чисел от 2 до N, где N - верхняя граница диапазона, в котором мы ищем простые числа.\n",
        "Начиная с числа 2, вычеркнуть все его кратные числа в списке. (т.е. числа 4, 6, 8, 10, и т.д.)\n",
        "Перейти к следующему невычеркнутому числу и повторить шаг 2. (т.е. число 3, вычеркнуть все его кратные числа, и т.д.)\n",
        "Продолжать шаг 3 до тех пор, пока не будет достигнут конец списка.\n",
        "В результате получится список всех простых чисел от 2 до N."
      ]
    },
    {
      "cell_type": "markdown",
      "metadata": {
        "id": "AHupFoTR1RDN"
      },
      "source": [
        "1.4.3 Найти евклидово расстояние между двумя одномерными тензорами одинаковой размерности, не используя готовые решения из библиотек."
      ]
    },
    {
      "cell_type": "code",
      "execution_count": null,
      "metadata": {},
      "outputs": [],
      "source": [
        "import torch\n",
        "\n",
        "# Определяем два одномерных тензора одинаковой размерности\n",
        "tensor1 = torch.tensor([1, 2, 3, 4, 5])\n",
        "tensor2 = torch.tensor([6, 7, 8, 9, 10])\n",
        "\n",
        "# Вычисляем квадраты разностей между соответствующими элементами тензоров\n",
        "squares = (tensor1 - tensor2) ** 2\n",
        "\n",
        "# Суммируем квадраты разностей\n",
        "sum_squares = squares.sum()\n",
        "\n",
        "# Вычисляем корень из суммы квадратов разностей\n",
        "distance = torch.sqrt(sum_squares)\n",
        "\n",
        "# Выводим результат\n",
        "print(distance.item())"
      ]
    },
    {
      "cell_type": "code",
      "execution_count": null,
      "metadata": {},
      "outputs": [],
      "source": [
        "import torch\n",
        "\n",
        "# Define the two tensors\n",
        "a = torch.tensor([1, 2, 3])\n",
        "b = torch.tensor([4, 5, 6])\n",
        "\n",
        "# Calculate the difference between the two tensors\n",
        "diff = a - b\n",
        "\n",
        "# Calculate the squared values of the difference\n",
        "squared_diff = torch.pow(diff, 2)\n",
        "\n",
        "# Sum the squared differences\n",
        "sum_squared_diff = torch.sum(squared_diff)\n",
        "\n",
        "# Take the square root of the sum to get the Euclidean distance\n",
        "euclidean_distance = torch.sqrt(sum_squared_diff)\n",
        "\n",
        "print(euclidean_distance.item())"
      ]
    },
    {
      "attachments": {},
      "cell_type": "markdown",
      "metadata": {},
      "source": [
        "В данном коде сначала определяются два одномерных тензора одинаковой размерности, затем вычисляются квадраты разностей между соответствующими элементами тензоров, суммируются квадраты разностей и вычисляется корень из суммы квадратов разностей - это и есть евклидово расстояние между двумя одномерными тензорами."
      ]
    },
    {
      "cell_type": "markdown",
      "metadata": {
        "id": "j-ZvjWDKDVMQ"
      },
      "source": [
        "1.4.4 Создать двумерный тензор 20 на 3, содержащий случайные целые числа от 0 до 100. \n",
        "Интерпретируя тензор как 20 векторов из 3х компонент, отсортировать его по длине векторов."
      ]
    },
    {
      "cell_type": "code",
      "execution_count": null,
      "metadata": {},
      "outputs": [],
      "source": [
        "# Create a 20x3 tensor of random integers between 0 and 100\n",
        "x = torch.randint(0, 101, (20, 3))\n",
        "\n",
        "# Calculate the length of each vector in the tensor using the Pythagorean theorem\n",
        "vector_lengths = torch.sqrt(torch.sum(torch.pow(x, 2), dim=1))\n",
        "\n",
        "# Sort the tensor by the length of the vectors using argsort\n",
        "sorted_indices = torch.argsort(vector_lengths)\n",
        "\n",
        "# Use the sorted indices to rearrange the rows of the original tensor\n",
        "sorted_tensor = x[sorted_indices]\n",
        "\n",
        "print(sorted_tensor)"
      ]
    },
    {
      "attachments": {},
      "cell_type": "markdown",
      "metadata": {
        "id": "IkBRFTKa1RDO"
      },
      "source": [
        "1.4.5 Найти \"локальные максимумы\" \n",
        "в одномерном тензоре (т.е. значения, большие предыдущего и последующего) `torch.tensor([1, 3, 7, 1, 2, 6, 0, 1])` и вывести их индексы."
      ]
    },
    {
      "cell_type": "code",
      "execution_count": null,
      "metadata": {},
      "outputs": [],
      "source": [
        "x = torch.tensor([1, 3, 7, 1, 2, 6, 0, 1])\n",
        "\n",
        "# Find the indices of the local maxima\n",
        "max_indices = []\n",
        "for i in range(1, len(x)-1):\n",
        "    if x[i] > x[i-1] and x[i] > x[i+1]:\n",
        "        max_indices.append(i)\n",
        "\n",
        "print(max_indices)"
      ]
    },
    {
      "cell_type": "markdown",
      "metadata": {
        "id": "VXD58rlc1RDP"
      },
      "source": [
        "1.4.6 Задан произвольный массив numpy (например массив из 100 случайных числе от 0 до 1). Необходимо найти в нем число наиболее близкое к заданному."
      ]
    },
    {
      "cell_type": "code",
      "execution_count": 8,
      "metadata": {},
      "outputs": [
        {
          "name": "stdout",
          "output_type": "stream",
          "text": [
            "Array: [0.56830624 0.37019218 0.4992063  0.64230257 0.75116825 0.03842153\n",
            " 0.51079784 0.94876888 0.76115189 0.3202846  0.40863506 0.3109417\n",
            " 0.55714664 0.44604728 0.28370274 0.83179266 0.00191874 0.22107915\n",
            " 0.53878988 0.86787911 0.9219211  0.21108147 0.28932754 0.01813622\n",
            " 0.82653119 0.43169048 0.28200167 0.2826358  0.808988   0.91483905\n",
            " 0.05353316 0.46954025 0.35540469 0.58831152 0.49505177 0.56815141\n",
            " 0.17746148 0.46774615 0.09669854 0.77615378 0.59137478 0.79007704\n",
            " 0.88357814 0.37426614 0.98334485 0.77354363 0.61214802 0.84217946\n",
            " 0.6527551  0.48366837 0.98854673 0.94749191 0.10855386 0.83671844\n",
            " 0.07621606 0.19784716 0.15244813 0.40884738 0.09982813 0.60751171\n",
            " 0.96358128 0.99286263 0.19629371 0.71059927 0.94345439 0.46543371\n",
            " 0.36945784 0.69169827 0.87591758 0.29337065 0.44573984 0.95410099\n",
            " 0.80816654 0.20853968 0.25834597 0.83126923 0.60403992 0.35430709\n",
            " 0.07499069 0.17022532 0.62810702 0.41825779 0.34089852 0.19343158\n",
            " 0.13108011 0.16378716 0.39621327 0.84640463 0.71081182 0.49707608\n",
            " 0.38131696 0.39144681 0.56451364 0.48953503 0.16608111 0.06171927\n",
            " 0.3907955  0.8660467  0.83474593 0.08739423]\n",
            "Given value: 1.75\n",
            "Closest value: 0.992862634258203\n"
          ]
        }
      ],
      "source": [
        "import numpy as np\n",
        "\n",
        "# Generate a random numpy array of 100 values between 0 and 1\n",
        "arr = np.random.rand(100)\n",
        "\n",
        "# Define the value to find the closest to\n",
        "given_value = 1.75\n",
        "\n",
        "# Find the index of the value in the array that is closest to the given value\n",
        "closest_index = np.abs(arr - given_value).argmin()\n",
        "\n",
        "# Get the actual value in the array that is closest to the given value\n",
        "closest_value = arr[closest_index]\n",
        "\n",
        "print(\"Array:\", arr)\n",
        "print(\"Given value:\", given_value)\n",
        "print(\"Closest value:\", closest_value)"
      ]
    },
    {
      "cell_type": "markdown",
      "metadata": {
        "id": "81F_B2ij1RDP"
      },
      "source": [
        "1.4.7 Решить матричное уравнение `A*X*B=-C` - найти матрицу X. Где `A = [[-1, 2, 4], [-3, 1, 2], [-3, 0, 1]]`, `B=[[3, -1], [2, 1]]`, `C=[[7, 21], [11, 8], [8, 4]]`."
      ]
    },
    {
      "cell_type": "code",
      "execution_count": null,
      "metadata": {},
      "outputs": [],
      "source": [
        "import numpy as np\n",
        "\n",
        "A = np.array([[-1, 2, 4], [-3, 1, 2], [-3, 0, 1]])\n",
        "B = np.array([[3, -1], [2, 1]])\n",
        "C = np.array([[7, 21], [11, 8], [8, 4]])\n",
        "\n",
        "X = -np.linalg.inv(A) @ C @ np.linalg.inv(B)\n",
        "\n",
        "print(X)"
      ]
    },
    {
      "cell_type": "markdown",
      "metadata": {
        "id": "1P7O19bj1RDP"
      },
      "source": [
        "1.4.8 Проверить, является ли система векторов a1 = (3; −3; 0; 7),\n",
        "a2 = (2; 2; 4; 7), a3 = (1; 2; 3; 4), a4 = (5; −4; 1; 3) линейно зависимой?"
      ]
    },
    {
      "cell_type": "code",
      "execution_count": null,
      "metadata": {},
      "outputs": [],
      "source": [
        "import numpy as np\n",
        "\n",
        "a1 = np.array([3, -3, 0, 7])\n",
        "a2 = np.array([2, 2, 4, 7])\n",
        "a3 = np.array([1, 2, 3, 4])\n",
        "a4 = np.array([5, -4, 1, 3])\n",
        "\n",
        "# Create a matrix from the vectors\n",
        "A = np.array([a1, a2, a3, a4])\n",
        "\n",
        "# Calculate the rank of the matrix\n",
        "rank = np.linalg.matrix_rank(A)\n",
        "\n",
        "# Check if the rank is less than the number of vectors\n",
        "if rank < len([a1, a2, a3, a4]):\n",
        "    print(\"The vector system is linearly dependent.\")\n",
        "else:\n",
        "    print(\"The vector system is linearly independent.\")"
      ]
    },
    {
      "cell_type": "markdown",
      "metadata": {
        "id": "Jg_bzMVS1RDQ"
      },
      "source": [
        "1.4.9 Сгенирировать тензор из 200 случайных целых чисел, нормально распрделенных cо стандартным отклонением $\\sigma = 10$ и матожиданием $\\mu = 0$. Построить тензор гистограммы с 20 бинами. "
      ]
    },
    {
      "cell_type": "code",
      "execution_count": null,
      "metadata": {
        "id": "hnI34avf7MBn"
      },
      "outputs": [],
      "source": [
        "import numpy as np\n",
        "import matplotlib.pyplot as plt\n",
        "\n",
        "# Генерируем тензор из 200 случайных чисел, нормально распределенных с заданными параметрами\n",
        "tensor = np.random.normal(loc=0, scale=10, size=(200,))\n",
        "\n",
        "# Строим гистограмму с 20 бинами\n",
        "plt.hist(tensor, bins=20)\n",
        "\n",
        "# Отображаем гистограмму\n",
        "plt.show()"
      ]
    },
    {
      "cell_type": "code",
      "execution_count": null,
      "metadata": {},
      "outputs": [],
      "source": []
    }
  ],
  "metadata": {
    "colab": {
      "provenance": []
    },
    "kernelspec": {
      "display_name": "Python 3",
      "language": "python",
      "name": "python3"
    },
    "language_info": {
      "codemirror_mode": {
        "name": "ipython",
        "version": 3
      },
      "file_extension": ".py",
      "mimetype": "text/x-python",
      "name": "python",
      "nbconvert_exporter": "python",
      "pygments_lexer": "ipython3",
      "version": "3.10.4"
    },
    "vscode": {
      "interpreter": {
        "hash": "3ad933181bd8a04b432d3370b9dc3b0662ad032c4dfaa4e4f1596c548f763858"
      }
    }
  },
  "nbformat": 4,
  "nbformat_minor": 0
}
