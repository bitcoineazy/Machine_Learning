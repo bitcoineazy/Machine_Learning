{
  "cells": [
    {
      "cell_type": "code",
      "execution_count": 1,
      "metadata": {
        "colab": {
          "base_uri": "https://localhost:8080/"
        },
        "id": "XtFQP3RNll3c",
        "outputId": "ef65051e-9af7-4f41-f52c-b769b9b1a036"
      },
      "outputs": [
        {
          "name": "stderr",
          "output_type": "stream",
          "text": [
            "[nltk_data] Downloading package punkt to /home/noble6/nltk_data...\n",
            "[nltk_data]   Package punkt is already up-to-date!\n"
          ]
        },
        {
          "data": {
            "text/plain": [
              "True"
            ]
          },
          "execution_count": 1,
          "metadata": {},
          "output_type": "execute_result"
        }
      ],
      "source": [
        "import re\n",
        "import nltk\n",
        "\n",
        "import torch\n",
        "from torch.utils.data import Dataset, DataLoader\n",
        "import torch.nn as nn\n",
        "import torch.optim as optim\n",
        "\n",
        "import pandas as pd\n",
        "from sklearn.model_selection import train_test_split\n",
        "from sklearn.metrics import accuracy_score\n",
        "from nltk.tokenize import word_tokenize\n",
        "from sklearn.preprocessing import LabelEncoder\n",
        "from torch.utils.data import Dataset, DataLoader\n",
        "\n",
        "nltk.download('punkt')"
      ]
    },
    {
      "cell_type": "code",
      "execution_count": null,
      "metadata": {
        "colab": {
          "base_uri": "https://localhost:8080/"
        },
        "id": "1aszp7KbOstY",
        "outputId": "1e90df04-a2cc-4d35-ce63-3642402dd709"
      },
      "outputs": [
        {
          "name": "stdout",
          "output_type": "stream",
          "text": [
            "Mounted at /content/drive/\n"
          ]
        }
      ],
      "source": [
        "from google.colab import drive\n",
        "drive.mount('/content/drive/')"
      ]
    },
    {
      "cell_type": "code",
      "execution_count": null,
      "metadata": {
        "colab": {
          "base_uri": "https://localhost:8080/"
        },
        "id": "9D6VU-qbO68-",
        "outputId": "c31c6541-5767-41ce-9ca4-8986480287cc"
      },
      "outputs": [
        {
          "name": "stdout",
          "output_type": "stream",
          "text": [
            "[Errno 2] No such file or directory: 'drive/MyDrive/datasets'\n",
            "/content\n"
          ]
        }
      ],
      "source": [
        "cd drive/MyDrive/datasets"
      ]
    },
    {
      "cell_type": "markdown",
      "metadata": {
        "id": "tx75RigN8xIJ"
      },
      "source": [
        "## 1. Представление и предобработка текстовых данных в виде последовательностей"
      ]
    },
    {
      "cell_type": "markdown",
      "metadata": {
        "id": "LScKIAey9dAM"
      },
      "source": [
        "1.1 Представьте первое предложение из строки `text` как последовательность из индексов слов, входящих в это предложение"
      ]
    },
    {
      "cell_type": "code",
      "execution_count": 4,
      "metadata": {
        "id": "phEw721T9SYW"
      },
      "outputs": [],
      "source": [
        "text = 'Select your preferences and run the install command. Stable represents the most currently tested and supported version of PyTorch. Note that LibTorch is only available for C++'"
      ]
    },
    {
      "cell_type": "code",
      "execution_count": 11,
      "metadata": {},
      "outputs": [
        {
          "name": "stdout",
          "output_type": "stream",
          "text": [
            "{'your': 0, 'and': 1, 'available': 2, '.': 3, 'stable': 4, 'select': 5, 'most': 6, 'version': 7, 'is': 8, 'note': 9, 'c++': 10, 'install': 11, 'pytorch': 12, 'that': 13, 'the': 14, 'run': 15, 'represents': 16, 'tested': 17, 'supported': 18, 'for': 19, 'libtorch': 20, 'currently': 21, 'only': 22, 'command': 23, 'of': 24, 'preferences': 25}\n",
            "[5, 0, 25, 1, 15, 14, 11, 23, 3]\n"
          ]
        }
      ],
      "source": [
        "from nltk.tokenize import word_tokenize, sent_tokenize\n",
        "\n",
        "words = word_tokenize(text.lower())\n",
        "unique_words = set(words)\n",
        "\n",
        "\n",
        "vocab = {word: i for i, word in enumerate(unique_words)}\n",
        "print(vocab)\n",
        "\n",
        "seq_1 = sent_tokenize(text.lower())[0]\n",
        "\n",
        "words = seq_1.split()\n",
        "# indexes = [i for i in range(len(words))]\n",
        "\n",
        "indexes = [vocab[word] for word in word_tokenize(seq_1)]\n",
        "print(indexes)"
      ]
    },
    {
      "cell_type": "markdown",
      "metadata": {
        "id": "pSFQCPtD9x5J"
      },
      "source": [
        "1.2 Представьте первое предложение из строки `text` как последовательность векторов, соответствующих индексам слов. Для представления индекса в виде вектора используйте унитарное кодирование. В результате должен получиться двумерный тензор размера `количество слов в предложении` x `количество уникальных слов`"
      ]
    },
    {
      "cell_type": "code",
      "execution_count": 3,
      "metadata": {
        "id": "RZS4XLV0-buf"
      },
      "outputs": [],
      "source": [
        "text = 'Select your preferences and run the install command. Stable represents the most currently tested and supported version of PyTorch. Note that LibTorch is only available for C++'"
      ]
    },
    {
      "cell_type": "code",
      "execution_count": 90,
      "metadata": {},
      "outputs": [
        {
          "data": {
            "text/plain": [
              "['select',\n",
              " 'your',\n",
              " 'preferences',\n",
              " 'and',\n",
              " 'run',\n",
              " 'the',\n",
              " 'install',\n",
              " 'command',\n",
              " '.']"
            ]
          },
          "execution_count": 90,
          "metadata": {},
          "output_type": "execute_result"
        }
      ],
      "source": [
        "word_tokenize(sent_tokenize(text)[0].lower())"
      ]
    },
    {
      "cell_type": "code",
      "execution_count": 95,
      "metadata": {},
      "outputs": [
        {
          "name": "stdout",
          "output_type": "stream",
          "text": [
            "['select', 'your', 'preferences', 'and', 'run', 'the', 'install', 'command', '.', 'stable', 'represents', 'the', 'most', 'currently', 'tested', 'and', 'supported', 'version', 'of', 'pytorch', '.', 'note', 'that', 'libtorch', 'is', 'only', 'available', 'for', 'c++']\n",
            "{'pytorch', 'for', 'c++', 'libtorch', 'run', 'the', 'preferences', 'only', 'currently', 'select', 'your', 'tested', 'and', 'install', 'stable', 'supported', 'note', 'most', 'command', 'of', 'represents', 'available', 'is', '.', 'that', 'version'}\n",
            "26\n",
            "torch.Size([9, 26])\n",
            "tensor([[0., 0., 0., 0., 0., 0., 0., 0., 0., 1., 0., 0., 0., 0., 0., 0., 0., 0.,\n",
            "         0., 0., 0., 0., 0., 0., 0., 0.],\n",
            "        [0., 0., 0., 0., 0., 0., 0., 0., 0., 0., 1., 0., 0., 0., 0., 0., 0., 0.,\n",
            "         0., 0., 0., 0., 0., 0., 0., 0.],\n",
            "        [0., 0., 0., 0., 0., 0., 1., 0., 0., 0., 0., 0., 0., 0., 0., 0., 0., 0.,\n",
            "         0., 0., 0., 0., 0., 0., 0., 0.],\n",
            "        [0., 0., 0., 0., 0., 0., 0., 0., 0., 0., 0., 0., 1., 0., 0., 0., 0., 0.,\n",
            "         0., 0., 0., 0., 0., 0., 0., 0.],\n",
            "        [0., 0., 0., 0., 1., 0., 0., 0., 0., 0., 0., 0., 0., 0., 0., 0., 0., 0.,\n",
            "         0., 0., 0., 0., 0., 0., 0., 0.],\n",
            "        [0., 0., 0., 0., 0., 1., 0., 0., 0., 0., 0., 0., 0., 0., 0., 0., 0., 0.,\n",
            "         0., 0., 0., 0., 0., 0., 0., 0.],\n",
            "        [0., 0., 0., 0., 0., 0., 0., 0., 0., 0., 0., 0., 0., 1., 0., 0., 0., 0.,\n",
            "         0., 0., 0., 0., 0., 0., 0., 0.],\n",
            "        [0., 0., 0., 0., 0., 0., 0., 0., 0., 0., 0., 0., 0., 0., 0., 0., 0., 0.,\n",
            "         1., 0., 0., 0., 0., 0., 0., 0.],\n",
            "        [0., 0., 0., 0., 0., 0., 0., 0., 0., 0., 0., 0., 0., 0., 0., 0., 0., 0.,\n",
            "         0., 0., 0., 0., 0., 1., 0., 0.]])\n"
          ]
        }
      ],
      "source": [
        "words = word_tokenize(text.lower())\n",
        "print(words)\n",
        "\n",
        "unique_words = set(words)\n",
        "print(unique_words)\n",
        "print(len(unique_words))\n",
        "\n",
        "\n",
        "vocab = {word: i for i, word in enumerate(unique_words)}\n",
        "\n",
        "\n",
        "one_hot = torch.eye(len(vocab))\n",
        "# print(one_hot)\n",
        "\n",
        "\n",
        "sentence_vectors = []\n",
        "for token in word_tokenize(sent_tokenize(text)[0].lower()):\n",
        "    index = vocab[token]\n",
        "    vector = one_hot[index]\n",
        "    sentence_vectors.append(vector)\n",
        "\n",
        "\n",
        "sentence_vectors = torch.stack(sentence_vectors)\n",
        "\n",
        "\n",
        "print(sentence_vectors.shape)\n",
        "print(sentence_vectors)"
      ]
    },
    {
      "cell_type": "code",
      "execution_count": 12,
      "metadata": {},
      "outputs": [
        {
          "data": {
            "text/plain": [
              "['Select', 'your', 'preferences', 'and', 'run', 'the', 'install', 'command']"
            ]
          },
          "execution_count": 12,
          "metadata": {},
          "output_type": "execute_result"
        }
      ],
      "source": [
        "[word_tokenize(word)[0] for word in sent_tokenize(text)[0].split()]"
      ]
    },
    {
      "cell_type": "markdown",
      "metadata": {
        "id": "9ZvQKHYA-mJN"
      },
      "source": [
        "1.3 Решите задачу 1.2, используя модуль `nn.Embedding`"
      ]
    },
    {
      "cell_type": "code",
      "execution_count": 73,
      "metadata": {},
      "outputs": [
        {
          "name": "stdout",
          "output_type": "stream",
          "text": [
            "26\n",
            "{'your', 'and', 'available', '.', 'stable', 'select', 'most', 'version', 'is', 'note', 'c++', 'install', 'pytorch', 'that', 'the', 'run', 'represents', 'tested', 'supported', 'for', 'libtorch', 'currently', 'only', 'command', 'of', 'preferences'}\n",
            "{'your': 0, 'and': 1, 'available': 2, '.': 3, 'stable': 4, 'select': 5, 'most': 6, 'version': 7, 'is': 8, 'note': 9, 'c++': 10, 'install': 11, 'pytorch': 12, 'that': 13, 'the': 14, 'run': 15, 'represents': 16, 'tested': 17, 'supported': 18, 'for': 19, 'libtorch': 20, 'currently': 21, 'only': 22, 'command': 23, 'of': 24, 'preferences': 25}\n",
            "9\n",
            "[5, 0, 25, 1, 15, 14, 11, 23, 3]\n",
            "torch.Size([9, 26])\n",
            "tensor([[ 1.0648,  0.1353, -1.0362, -0.3865,  2.3046,  0.0031, -0.8892, -0.4977,\n",
            "         -0.7643,  0.5279, -0.4276, -1.6377,  0.1731, -0.7164,  1.8232, -0.5074,\n",
            "          2.5577, -0.8898, -1.6276, -0.3785, -0.7020,  1.1315,  2.0073, -1.0435,\n",
            "         -0.6373,  0.0110],\n",
            "        [ 1.2139,  0.3473,  0.2868,  0.0765, -1.1176,  0.1702,  0.9629,  1.3340,\n",
            "          1.7516,  0.6573,  0.4139,  0.6369,  0.6139, -1.2766, -0.7186,  0.0307,\n",
            "         -0.7144,  0.0196,  0.1287,  0.7558, -0.0476, -1.7225, -1.5149, -1.0273,\n",
            "         -0.1656,  0.9871],\n",
            "        [ 0.3579,  0.3506, -0.5617, -1.3713, -1.4119,  0.4630, -1.3528, -0.4947,\n",
            "         -0.9487, -1.5965,  0.8221, -0.1278,  0.9949,  1.3460, -0.1342, -0.5564,\n",
            "          0.9674, -0.1453,  1.0506,  0.2842, -1.3977, -0.6300,  0.0257, -0.2063,\n",
            "         -0.9952, -1.6995],\n",
            "        [-0.6118,  0.3726, -1.4776,  0.6486, -1.1785, -1.0991, -0.8968, -1.3705,\n",
            "         -0.2333,  0.4574, -0.4780,  0.3996, -1.5840, -1.0104, -1.0490, -0.4129,\n",
            "          0.1419,  0.2417,  0.2709,  0.3441, -1.0092,  0.7806, -0.2341,  1.6415,\n",
            "         -0.5929,  0.3537],\n",
            "        [-0.6888,  0.6914, -0.5180, -1.1715,  0.5273, -0.5037,  0.6164,  0.4295,\n",
            "          0.1811, -0.7364, -1.1048,  1.7666, -0.9656, -1.3625,  0.4230,  1.7223,\n",
            "         -0.1446,  0.8880,  0.9048, -1.1959,  1.1146, -1.5120, -0.2807, -0.0172,\n",
            "          0.4684,  0.1792],\n",
            "        [ 0.1265, -1.7030, -0.4509,  1.2517, -0.9552,  0.7140, -0.0390,  0.4794,\n",
            "          0.3474,  0.0460, -0.2010,  1.0048, -0.0763, -1.5542, -2.1154,  1.1228,\n",
            "          0.6653, -0.5060,  0.5554, -0.3968,  1.3181, -1.8771,  1.9171, -1.1914,\n",
            "         -0.7460, -1.0321],\n",
            "        [ 0.5219, -1.8965,  0.4689,  1.3042, -1.3512, -1.4293, -0.4099, -0.1062,\n",
            "          0.1869, -0.4481,  1.0790, -2.5605, -0.8592,  1.3173, -0.8886, -0.7699,\n",
            "         -1.5840,  1.3251, -0.1695, -0.1878, -0.6243,  0.4167,  1.0607, -1.1968,\n",
            "         -1.5488, -1.8717],\n",
            "        [ 0.5848, -1.0782,  1.2280, -0.8221,  1.2445,  1.2805,  0.2873,  0.7579,\n",
            "         -1.5762, -0.0701, -0.2171,  0.1413, -0.9728,  0.3827, -2.0220, -0.2564,\n",
            "          1.0745,  1.5367,  0.2982, -0.4583, -1.1749,  1.7074, -0.0558,  0.1789,\n",
            "          0.7196, -1.7848],\n",
            "        [-1.1208,  0.7706,  0.3221, -0.7603, -0.2894,  1.6311, -0.4304, -0.8665,\n",
            "         -0.2108,  0.6837,  0.7138, -0.7927, -0.2198, -0.0689,  1.7023,  0.2923,\n",
            "          1.4925, -0.4550,  2.3534, -0.8637,  0.4446, -0.5793,  0.1304, -0.7912,\n",
            "          0.3822, -1.0773]], grad_fn=<EmbeddingBackward0>)\n"
          ]
        }
      ],
      "source": [
        "words = word_tokenize(text.lower())\n",
        "\n",
        "unique_words = set(words)\n",
        "print(len(unique_words))\n",
        "print(unique_words)\n",
        "\n",
        "vocab = {word: idx for idx, word in enumerate(unique_words)}\n",
        "print(vocab)\n",
        "\n",
        "# sentence_idxs = [vocab[word_tokenize(word)[0].lower()] for word in sent_tokenize(text)[0].split()]\n",
        "sentence_idxs = [vocab[word] for word in word_tokenize(seq_1)]\n",
        "print(len(sentence_idxs))\n",
        "print(sentence_idxs)\n",
        "\n",
        "embedding = nn.Embedding(26, len(unique_words))\n",
        "sentence_vectors = embedding(torch.tensor(sentence_idxs))\n",
        "\n",
        "print(sentence_vectors.shape)\n",
        "print(sentence_vectors)"
      ]
    },
    {
      "cell_type": "markdown",
      "metadata": {
        "id": "TXjM7qEUNFY_"
      },
      "source": [
        "## 2. Классификация фамилий по национальности (ConvNet)\n",
        "\n",
        "Датасет: https://disk.yandex.ru/d/owHew8hzPc7X9Q?w=1\n",
        "\n",
        "2.1 Считать файл `surnames/surnames.csv`. \n",
        "\n",
        "2.2 Закодировать национальности числами, начиная с 0.\n",
        "\n",
        "2.3 Разбить датасет на обучающую и тестовую выборку\n",
        "\n",
        "2.4 Реализовать класс `Vocab` (токен = __символ__)\n",
        "  * добавьте в словарь специальный токен `<PAD>` с индексом 0\n",
        "  * при создании словаря сохраните длину самой длинной последовательности из набора данных в виде атрибута `max_seq_len`\n",
        "\n",
        "2.5 Реализовать класс `SurnamesDataset`\n",
        "  * метод `__getitem__` возвращает пару: <последовательность индексов токенов (см. 1.1 ), номер класса> \n",
        "  * длина каждой такой последовательности должна быть одинаковой и равной `vocab.max_seq_len`. Чтобы добиться этого, дополните последовательность справа индексом токена `<PAD>` до нужной длины\n",
        "\n",
        "2.6. Обучить классификатор.\n",
        "  \n",
        "  * Для преобразования последовательности индексов в последовательность векторов используйте `nn.Embedding`. Рассмотрите два варианта: \n",
        "    - когда токен представляется в виде унитарного вектора и модуль `nn.Embedding` не обучается\n",
        "    - когда токен представляется в виде вектора небольшой размерности (меньше, чем размер словаря) и модуль `nn.Embedding` обучается\n",
        "\n",
        "  * Используйте одномерные свертки и пулинг (`nn.Conv1d`, `nn.MaxPool1d`)\n",
        "    - обратите внимание, что `nn.Conv1d` ожидает на вход трехмерный тензор размерности `(batch, embedding_dim, seq_len)`\n",
        "\n",
        "2.7 Измерить точность на тестовой выборке. Проверить работоспособность модели: прогнать несколько фамилий студентов группы через модели и проверить результат. Для каждой фамилии выводить 3 наиболее вероятных предсказания."
      ]
    },
    {
      "attachments": {},
      "cell_type": "markdown",
      "metadata": {},
      "source": [
        "### на 12 баллов сделать модель для фамилий с учетом кол-ва вхождений символа"
      ]
    },
    {
      "cell_type": "code",
      "execution_count": 24,
      "metadata": {},
      "outputs": [
        {
          "name": "stdout",
          "output_type": "stream",
          "text": [
            "        surname  nationality\n",
            "0      Woodford            0\n",
            "1          Coté            1\n",
            "2          Kore            0\n",
            "3         Koury            2\n",
            "4        Lebzak            3\n",
            "...         ...          ...\n",
            "10975  Quraishi            2\n",
            "10976   Innalls            0\n",
            "10977      Król           12\n",
            "10978    Purvis            0\n",
            "10979  Messerli            9\n",
            "\n",
            "[10980 rows x 2 columns]\n"
          ]
        }
      ],
      "source": [
        "import pandas as pd\n",
        "\n",
        "surnames = pd.read_csv(\"data/surnames.csv\")\n",
        "surnames['nationality'], _ = pd.factorize(surnames['nationality'])\n",
        "print(surnames)"
      ]
    },
    {
      "cell_type": "code",
      "execution_count": 25,
      "metadata": {},
      "outputs": [],
      "source": [
        "from sklearn.model_selection import train_test_split\n",
        "\n",
        "X = surnames['surname'].str.lower()\n",
        "y = surnames['nationality']\n",
        "n_classes = y.nunique()\n",
        "X_train, X_test, y_train, y_test = train_test_split(X, y, test_size=0.2, random_state=1)"
      ]
    },
    {
      "cell_type": "code",
      "execution_count": 26,
      "metadata": {
        "id": "ZGfJX2NP1sw4"
      },
      "outputs": [
        {
          "name": "stdout",
          "output_type": "stream",
          "text": [
            "56\n",
            "{0: '<PAD>', 1: 'u', 2: 'z', 3: 'ã', 4: 'õ', 5: 'ä', 6: '1', 7: 'm', 8: 'b', 9: 'ì', 10: 'v', 11: 'p', 12: 'ß', 13: 'ó', 14: 'ń', 15: \"'\", 16: 'ö', 17: 'n', 18: 'l', 19: 'ñ', 20: 'ą', 21: 'è', 22: 'r', 23: 'd', 24: 'á', 25: 'ú', 26: 'y', 27: 'à', 28: 't', 29: 'é', 30: 'q', 31: 'ś', 32: 'x', 33: '-', 34: 'k', 35: 's', 36: 'h', 37: 'c', 38: '/', 39: 'ò', 40: 'ù', 41: 'ü', 42: 'ł', 43: 'ê', 44: 'g', 45: 'w', 46: 'a', 47: ':', 48: 'f', 49: 'i', 50: 'ç', 51: 'ż', 52: 'í', 53: 'j', 54: 'o', 55: 'e'}\n",
            "17\n"
          ]
        }
      ],
      "source": [
        "class Vocab:\n",
        "  def __init__(self, data):\n",
        "    tokens = set()\n",
        "    max_seq_len = 0\n",
        "    for item in data:\n",
        "        max_seq_len = max(max_seq_len, len(item))\n",
        "        tokens.update(item)\n",
        "\n",
        "    self.idx_to_token = {0: '<PAD>'}\n",
        "    self.token_to_idx = {'<PAD>': 0}\n",
        "    for idx, token in enumerate(tokens, start=1):\n",
        "        self.idx_to_token[idx] = token\n",
        "        self.token_to_idx[token] = idx\n",
        "    self.vocab_len = len(self.idx_to_token)\n",
        "    self.max_seq_len = max_seq_len\n",
        "    \n",
        "vocab = Vocab(X)\n",
        "print(vocab.vocab_len)\n",
        "print(vocab.idx_to_token)\n",
        "print(vocab.max_seq_len)"
      ]
    },
    {
      "cell_type": "code",
      "execution_count": 27,
      "metadata": {
        "id": "GHjCRqQg1sw5"
      },
      "outputs": [],
      "source": [
        "class SurnamesDataset(Dataset):\n",
        "  def __init__(self, X, y, vocab: Vocab):\n",
        "    self.X = X\n",
        "    self.y = y\n",
        "    self.vocab = vocab\n",
        "\n",
        "  def vectorize(self, surname):\n",
        "    surname_t = torch.zeros(self.vocab.max_seq_len, dtype=torch.int64)\n",
        "    for i, token in enumerate(surname):\n",
        "        if i >= self.vocab.max_seq_len:\n",
        "            break\n",
        "        surname_t[i] = self.vocab.token_to_idx.get(token, 0)\n",
        "    return surname_t\n",
        "\n",
        "  def __len__(self):\n",
        "    return len(self.X)\n",
        "\n",
        "  def __getitem__(self, idx):\n",
        "    surname = self.X.iloc[idx]\n",
        "    label = self.y.iloc[idx]\n",
        "    surname_t = self.vectorize(surname)\n",
        "    return surname_t, label"
      ]
    },
    {
      "cell_type": "code",
      "execution_count": 28,
      "metadata": {},
      "outputs": [],
      "source": [
        "train_dataset = SurnamesDataset(X_train, y_train, vocab)\n",
        "test_dataset = SurnamesDataset(X_test, y_test, vocab)\n",
        "\n",
        "train_dataloader = DataLoader(train_dataset, batch_size=128, shuffle=True)\n",
        "test_dataloader = DataLoader(test_dataset, batch_size=128, shuffle=False)"
      ]
    },
    {
      "cell_type": "code",
      "execution_count": 29,
      "metadata": {},
      "outputs": [
        {
          "data": {
            "text/plain": [
              "tensor([22, 46, 45, 18, 49, 17, 44, 35,  0,  0,  0,  0,  0,  0,  0,  0,  0])"
            ]
          },
          "execution_count": 29,
          "metadata": {},
          "output_type": "execute_result"
        }
      ],
      "source": [
        "train_dataset[1][0]"
      ]
    },
    {
      "cell_type": "code",
      "execution_count": 30,
      "metadata": {},
      "outputs": [],
      "source": [
        "device = torch.device('cuda' if torch.cuda.is_available() else 'cpu')\n",
        "\n",
        "def train_model(model, train_dataloader, test_dataloader, criterion, optimizer, num_epochs):\n",
        "    model.to(device)\n",
        "    train_losses, test_losses = [], []\n",
        "    \n",
        "    for epoch in range(num_epochs):\n",
        "        model.train()\n",
        "        train_loss, test_loss = 0, 0\n",
        "        for inputs, labels in train_dataloader:\n",
        "            x = inputs.to(device)\n",
        "            y = labels.to(device)\n",
        "            \n",
        "            logits = model(x)\n",
        "            loss = criterion(logits, y)\n",
        "            loss.backward()\n",
        "            optimizer.step()\n",
        "            optimizer.zero_grad()\n",
        "\n",
        "            train_loss += loss.item()\n",
        "    \n",
        "        # Валидация на val_loader\n",
        "        model.eval()\n",
        "        with torch.no_grad():\n",
        "            for inputs, labels in test_dataloader:\n",
        "                inputs = inputs.to(device)\n",
        "                labels = labels.to(device)\n",
        "\n",
        "                outputs = model(inputs)\n",
        "                loss = criterion(outputs, labels)\n",
        "\n",
        "                test_loss += loss.item()\n",
        "        \n",
        "        train_losses.append(train_loss/len(train_dataloader))\n",
        "        test_losses.append(test_loss/len(test_dataloader))\n",
        "\n",
        "        print(f'Epoch {epoch+1}, Train Loss: {train_losses[-1]:.4f}, Test Loss: {test_losses[-1]:.4f}')\n",
        "\n",
        "def evaluate_model(model, dataloader):\n",
        "    model.to(device)\n",
        "    model.eval()\n",
        "    correct = 0\n",
        "    total = 0\n",
        "    with torch.no_grad():\n",
        "        for surnames, labels in dataloader:\n",
        "            x = surnames.to(device)\n",
        "            y = labels.to(device)\n",
        "\n",
        "            logits = model(x)\n",
        "            _, predicted = torch.max(logits, 1)\n",
        "            correct += (predicted == y).sum().item()\n",
        "            total += y.size(0)\n",
        "\n",
        "    accuracy = correct / total\n",
        "    print(f'Test Accuracy: {accuracy:.5f}')\n",
        "\n",
        "def predict(model, dataset, surname):\n",
        "    device = torch.device('cuda' if torch.cuda.is_available() else 'cpu')\n",
        "    model.to(device)\n",
        "\n",
        "    model.eval()\n",
        "    with torch.no_grad():\n",
        "        vectorized = dataset.vectorize(surname)\n",
        "        tensor = vectorized.unsqueeze(0).to(device)\n",
        "\n",
        "        logits = model(tensor)\n",
        "        \n",
        "        probs = torch.softmax(logits, dim=1).squeeze()\n",
        "        # print(f\"probs: {probs} size: {probs.shape}\")\n",
        "        top3_probs, top3_indices = torch.topk(probs, k=3)\n",
        "        print(top3_probs, top3_indices)\n",
        "\n",
        "        top3_nationalities = _[top3_indices.detach().cpu().numpy()]\n",
        "        print(f'{surname}: {top3_nationalities[0]} ({top3_probs[0]:.4f}), {top3_nationalities[1]} ({top3_probs[1]:.4f}), {top3_nationalities[2]} ({top3_probs[2]:.4f})')"
      ]
    },
    {
      "cell_type": "code",
      "execution_count": 63,
      "metadata": {},
      "outputs": [],
      "source": [
        "class SurnameClassifier(nn.Module):\n",
        "    def __init__(self, vocab_size, embedding_dim, output_dim, use_unit_vectors=False):\n",
        "        super().__init__()\n",
        "        # self.use_unit_vectors = use_unit_vectors\n",
        "        # if use_unit_vectors:\n",
        "        #     self.embedding = nn.Embedding(vocab_size, embedding_dim)\n",
        "        #     self.embedding.weight.data = torch.eye(vocab_size)\n",
        "        #     self.embedding.weight.requires_grad = False\n",
        "        # else:\n",
        "        self.embedding = nn.Embedding(vocab_size, embedding_dim)\n",
        "        self.conv1 = nn.Conv1d(embedding_dim if not use_unit_vectors else vocab_size, 32, kernel_size=3)\n",
        "        self.pool1 = nn.MaxPool1d(kernel_size=2)\n",
        "        self.conv2 = nn.Conv1d(32, 64, kernel_size=3)\n",
        "        self.pool2 = nn.MaxPool1d(kernel_size=2)\n",
        "        self.flatten = nn.Flatten()\n",
        "        self.fc = nn.Linear(128, output_dim)\n",
        "\n",
        "    def forward(self, x):\n",
        "        embedded = self.embedding(x)\n",
        "        print(f\"embedded shape {embedded.shape}\")\n",
        "        # if self.use_unit_vectors:\n",
        "        #     embedded = embedded.permute(0, 2, 1)\n",
        "        # print(self.conv1(embedded).shape)\n",
        "        conv1_out = self.pool1(torch.relu(self.conv1(embedded)))\n",
        "        print(f\"conv1 + maxpool shape {conv1_out.shape}\")\n",
        "        conv2_out = self.pool2(torch.relu(self.conv2(conv1_out)))\n",
        "        print(f\"conv2 + maxpool shape {conv2_out.shape}\")\n",
        "        flattened = self.flatten(conv2_out)\n",
        "        print(f\"flattened shape {flattened.shape}\")\n",
        "        logits = self.fc(flattened)\n",
        "        print(f\"fc shape: {logits.shape}\")\n",
        "        return logits"
      ]
    },
    {
      "cell_type": "code",
      "execution_count": 64,
      "metadata": {},
      "outputs": [
        {
          "data": {
            "text/plain": [
              "56"
            ]
          },
          "execution_count": 64,
          "metadata": {},
          "output_type": "execute_result"
        }
      ],
      "source": [
        "vocab.vocab_len"
      ]
    },
    {
      "cell_type": "code",
      "execution_count": 49,
      "metadata": {},
      "outputs": [],
      "source": [
        "model = SurnameClassifier(vocab_size=vocab.vocab_len,\n",
        "                           embedding_dim=vocab.max_seq_len,\n",
        "                           output_dim=len(set(y_train)),\n",
        "                           use_unit_vectors=False)\n",
        "\n",
        "criterion = nn.CrossEntropyLoss()\n",
        "optimizer = torch.optim.Adam(model.parameters())"
      ]
    },
    {
      "cell_type": "code",
      "execution_count": 50,
      "metadata": {},
      "outputs": [
        {
          "name": "stdout",
          "output_type": "stream",
          "text": [
            "Количество обучаемых параметров: 11146\n"
          ]
        }
      ],
      "source": [
        "total_params = sum(p.numel() for p in model.parameters() if p.requires_grad)\n",
        "print(f\"Количество обучаемых параметров: {total_params}\") "
      ]
    },
    {
      "cell_type": "code",
      "execution_count": 74,
      "metadata": {},
      "outputs": [
        {
          "name": "stdout",
          "output_type": "stream",
          "text": [
            "embedded shape torch.Size([1, 17, 17])\n",
            "conv1 shape torch.Size([1, 32, 7])\n",
            "conv2 shape torch.Size([1, 64, 2])\n",
            "flattened shape torch.Size([1, 128])\n",
            "fc shape: torch.Size([1, 18])\n"
          ]
        },
        {
          "data": {
            "text/plain": [
              "tensor([[ 1.5628, -0.9788,  0.4500,  2.8036,  0.8153, -0.9843,  0.7247, -0.0391,\n",
              "         -0.7686,  0.0865, -0.8290, -0.5450, -1.2702, -0.7551, -2.5267, -2.2920,\n",
              "         -2.5465, -1.7388]], device='cuda:0', grad_fn=<AddmmBackward0>)"
            ]
          },
          "execution_count": 74,
          "metadata": {},
          "output_type": "execute_result"
        }
      ],
      "source": [
        "model.forward(train_dataset.vectorize(\"tugolukov\").unsqueeze(0).to(device))"
      ]
    },
    {
      "cell_type": "code",
      "execution_count": 161,
      "metadata": {},
      "outputs": [
        {
          "name": "stdout",
          "output_type": "stream",
          "text": [
            "Epoch 1, Train Loss: 0.8597, Test Loss: 0.9468\n",
            "Epoch 2, Train Loss: 0.8409, Test Loss: 0.9334\n",
            "Epoch 3, Train Loss: 0.8208, Test Loss: 0.9271\n",
            "Epoch 4, Train Loss: 0.8006, Test Loss: 0.9142\n",
            "Epoch 5, Train Loss: 0.7848, Test Loss: 0.9056\n",
            "Epoch 6, Train Loss: 0.7711, Test Loss: 0.9014\n",
            "Epoch 7, Train Loss: 0.7531, Test Loss: 0.8887\n",
            "Epoch 8, Train Loss: 0.7394, Test Loss: 0.8825\n",
            "Epoch 9, Train Loss: 0.7327, Test Loss: 0.8862\n",
            "Epoch 10, Train Loss: 0.7167, Test Loss: 0.8760\n",
            "Epoch 11, Train Loss: 0.7047, Test Loss: 0.8653\n",
            "Epoch 12, Train Loss: 0.6958, Test Loss: 0.8582\n",
            "Epoch 13, Train Loss: 0.6811, Test Loss: 0.8590\n",
            "Epoch 14, Train Loss: 0.6731, Test Loss: 0.8610\n",
            "Epoch 15, Train Loss: 0.6620, Test Loss: 0.8538\n"
          ]
        }
      ],
      "source": [
        "train_model(model, train_dataloader, test_dataloader, criterion, optimizer, 15)"
      ]
    },
    {
      "cell_type": "code",
      "execution_count": 162,
      "metadata": {},
      "outputs": [
        {
          "name": "stdout",
          "output_type": "stream",
          "text": [
            "Test Accuracy: 0.75000\n"
          ]
        }
      ],
      "source": [
        "evaluate_model(model, test_dataloader)"
      ]
    },
    {
      "cell_type": "code",
      "execution_count": 163,
      "metadata": {},
      "outputs": [
        {
          "name": "stdout",
          "output_type": "stream",
          "text": [
            "              precision    recall  f1-score   support\n",
            "\n",
            "           0       0.68      0.91      0.78       567\n",
            "           1       0.00      0.00      0.00        36\n",
            "           2       0.92      1.00      0.96       346\n",
            "           3       0.88      0.82      0.85       482\n",
            "           4       0.88      0.86      0.87       161\n",
            "           5       0.43      0.81      0.56        36\n",
            "           6       0.66      0.68      0.67       108\n",
            "           7       0.38      0.21      0.27        81\n",
            "           8       0.67      0.05      0.09        41\n",
            "           9       0.54      0.39      0.45       118\n",
            "          10       0.73      0.75      0.74        32\n",
            "          11       0.55      0.54      0.55        57\n",
            "          12       0.65      0.44      0.52        25\n",
            "          13       0.67      0.24      0.36        49\n",
            "          14       0.00      0.00      0.00        15\n",
            "          15       0.40      0.13      0.20        15\n",
            "          16       0.00      0.00      0.00        14\n",
            "          17       0.00      0.00      0.00        13\n",
            "\n",
            "    accuracy                           0.75      2196\n",
            "   macro avg       0.50      0.44      0.44      2196\n",
            "weighted avg       0.72      0.75      0.72      2196\n",
            "\n"
          ]
        },
        {
          "name": "stderr",
          "output_type": "stream",
          "text": [
            "/usr/local/lib/python3.10/dist-packages/sklearn/metrics/_classification.py:1334: UndefinedMetricWarning: Precision and F-score are ill-defined and being set to 0.0 in labels with no predicted samples. Use `zero_division` parameter to control this behavior.\n",
            "  _warn_prf(average, modifier, msg_start, len(result))\n",
            "/usr/local/lib/python3.10/dist-packages/sklearn/metrics/_classification.py:1334: UndefinedMetricWarning: Precision and F-score are ill-defined and being set to 0.0 in labels with no predicted samples. Use `zero_division` parameter to control this behavior.\n",
            "  _warn_prf(average, modifier, msg_start, len(result))\n",
            "/usr/local/lib/python3.10/dist-packages/sklearn/metrics/_classification.py:1334: UndefinedMetricWarning: Precision and F-score are ill-defined and being set to 0.0 in labels with no predicted samples. Use `zero_division` parameter to control this behavior.\n",
            "  _warn_prf(average, modifier, msg_start, len(result))\n"
          ]
        }
      ],
      "source": [
        "from sklearn.metrics import confusion_matrix, classification_report, roc_auc_score\n",
        "\n",
        "test_loader = DataLoader(test_dataset, batch_size=len(test_dataset), shuffle=True)\n",
        "X_batch, y_batch = next(iter(test_loader))\n",
        "predictions = model(X_batch.to(device)).argmax(dim=1).cpu().detach()\n",
        "print(classification_report(y_batch, predictions))"
      ]
    },
    {
      "cell_type": "markdown",
      "metadata": {
        "id": "uo-hf5CQ0iWv"
      },
      "source": [
        "## 3. Классификация обзоров на фильмы (ConvNet)\n",
        "\n",
        "Датасет: https://disk.yandex.ru/d/tdinpb0nN_Dsrg\n",
        "\n",
        "2.1 Создайте набор данных на основе файлов polarity/positive_reviews.csv (положительные отзывы) и polarity/negative_reviews.csv (отрицательные отзывы). Разбейте на обучающую и тестовую выборку.\n",
        "  * токен = __слово__\n",
        "  * данные для обучения в датасете представляются в виде последовательности индексов токенов\n",
        "  * словарь создается на основе _только_ обучающей выборки. Для корректной обработки ситуаций, когда в тестовой выборке встретится токен, который не хранится в словаре, добавьте в словарь специальный токен `<UNK>`\n",
        "  * добавьте предобработку текста\n",
        "\n",
        "2.2. Обучите классификатор.\n",
        "  \n",
        "  * Для преобразования последовательности индексов в последовательность векторов используйте `nn.Embedding` \n",
        "    - подберите адекватную размерность вектора эмбеддинга: \n",
        "    - модуль `nn.Embedding` обучается\n",
        "\n",
        "  * Используйте одномерные свертки и пулинг (`nn.Conv1d`, `nn.MaxPool1d`)\n",
        "    - обратите внимание, что `nn.Conv1d` ожидает на вход трехмерный тензор размерности `(batch, embedding_dim, seq_len)`\n",
        "\n",
        "\n",
        "2.7 Измерить точность на тестовой выборке. Проверить работоспособность модели: придумать небольшой отзыв, прогнать его через модель и вывести номер предсказанного класса (сделать это для явно позитивного и явно негативного отзыва)\n",
        "* Целевое значение accuracy на валидации - 70+%"
      ]
    },
    {
      "cell_type": "code",
      "execution_count": 6,
      "metadata": {},
      "outputs": [],
      "source": [
        "with open(\"data/polarity/positive_reviews.txt\") as f:\n",
        "    positive_reviews = sent_tokenize(f.read())\n",
        "    \n",
        "with open(\"data/polarity/negative_reviews.txt\") as f:\n",
        "    negative_reviews = sent_tokenize(f.read())"
      ]
    },
    {
      "cell_type": "code",
      "execution_count": 7,
      "metadata": {},
      "outputs": [
        {
          "name": "stdout",
          "output_type": "stream",
          "text": [
            "6042 5835\n"
          ]
        }
      ],
      "source": [
        "print(len(positive_reviews), len(negative_reviews))"
      ]
    },
    {
      "cell_type": "code",
      "execution_count": 8,
      "metadata": {},
      "outputs": [
        {
          "data": {
            "text/html": [
              "<div>\n",
              "<style scoped>\n",
              "    .dataframe tbody tr th:only-of-type {\n",
              "        vertical-align: middle;\n",
              "    }\n",
              "\n",
              "    .dataframe tbody tr th {\n",
              "        vertical-align: top;\n",
              "    }\n",
              "\n",
              "    .dataframe thead th {\n",
              "        text-align: right;\n",
              "    }\n",
              "</style>\n",
              "<table border=\"1\" class=\"dataframe\">\n",
              "  <thead>\n",
              "    <tr style=\"text-align: right;\">\n",
              "      <th></th>\n",
              "      <th>text</th>\n",
              "      <th>category</th>\n",
              "    </tr>\n",
              "  </thead>\n",
              "  <tbody>\n",
              "    <tr>\n",
              "      <th>0</th>\n",
              "      <td>simplistic , silly and tedious .</td>\n",
              "      <td>1</td>\n",
              "    </tr>\n",
              "    <tr>\n",
              "      <th>1</th>\n",
              "      <td>it's so laddish and juvenile , only teenage bo...</td>\n",
              "      <td>1</td>\n",
              "    </tr>\n",
              "    <tr>\n",
              "      <th>2</th>\n",
              "      <td>exploitative and largely devoid of the depth o...</td>\n",
              "      <td>1</td>\n",
              "    </tr>\n",
              "    <tr>\n",
              "      <th>3</th>\n",
              "      <td>[garbus] discards the potential for pathologic...</td>\n",
              "      <td>1</td>\n",
              "    </tr>\n",
              "    <tr>\n",
              "      <th>4</th>\n",
              "      <td>a visually flashy but narratively opaque and e...</td>\n",
              "      <td>1</td>\n",
              "    </tr>\n",
              "    <tr>\n",
              "      <th>...</th>\n",
              "      <td>...</td>\n",
              "      <td>...</td>\n",
              "    </tr>\n",
              "    <tr>\n",
              "      <th>11872</th>\n",
              "      <td>may prove to be [tsai's] masterpiece .</td>\n",
              "      <td>0</td>\n",
              "    </tr>\n",
              "    <tr>\n",
              "      <th>11873</th>\n",
              "      <td>mazel tov to a film about a family's joyous li...</td>\n",
              "      <td>0</td>\n",
              "    </tr>\n",
              "    <tr>\n",
              "      <th>11874</th>\n",
              "      <td>standing in the shadows of motown is the best ...</td>\n",
              "      <td>0</td>\n",
              "    </tr>\n",
              "    <tr>\n",
              "      <th>11875</th>\n",
              "      <td>it's nice to see piscopo again after all these...</td>\n",
              "      <td>0</td>\n",
              "    </tr>\n",
              "    <tr>\n",
              "      <th>11876</th>\n",
              "      <td>provides a porthole into that noble , tremblin...</td>\n",
              "      <td>0</td>\n",
              "    </tr>\n",
              "  </tbody>\n",
              "</table>\n",
              "<p>11877 rows × 2 columns</p>\n",
              "</div>"
            ],
            "text/plain": [
              "                                                    text  category\n",
              "0                       simplistic , silly and tedious .         1\n",
              "1      it's so laddish and juvenile , only teenage bo...         1\n",
              "2      exploitative and largely devoid of the depth o...         1\n",
              "3      [garbus] discards the potential for pathologic...         1\n",
              "4      a visually flashy but narratively opaque and e...         1\n",
              "...                                                  ...       ...\n",
              "11872             may prove to be [tsai's] masterpiece .         0\n",
              "11873  mazel tov to a film about a family's joyous li...         0\n",
              "11874  standing in the shadows of motown is the best ...         0\n",
              "11875  it's nice to see piscopo again after all these...         0\n",
              "11876  provides a porthole into that noble , tremblin...         0\n",
              "\n",
              "[11877 rows x 2 columns]"
            ]
          },
          "execution_count": 8,
          "metadata": {},
          "output_type": "execute_result"
        }
      ],
      "source": [
        "reviews_df = pd.DataFrame()\n",
        "\n",
        "reviews_df[\"text\"] = positive_reviews + negative_reviews\n",
        "reviews_df[\"category\"] = [1 for i in range(len(positive_reviews))] + [0 for i in range(len(negative_reviews))]\n",
        "\n",
        "reviews_df"
      ]
    },
    {
      "cell_type": "code",
      "execution_count": 9,
      "metadata": {},
      "outputs": [
        {
          "data": {
            "text/html": [
              "<div>\n",
              "<style scoped>\n",
              "    .dataframe tbody tr th:only-of-type {\n",
              "        vertical-align: middle;\n",
              "    }\n",
              "\n",
              "    .dataframe tbody tr th {\n",
              "        vertical-align: top;\n",
              "    }\n",
              "\n",
              "    .dataframe thead th {\n",
              "        text-align: right;\n",
              "    }\n",
              "</style>\n",
              "<table border=\"1\" class=\"dataframe\">\n",
              "  <thead>\n",
              "    <tr style=\"text-align: right;\">\n",
              "      <th></th>\n",
              "      <th>text</th>\n",
              "      <th>category</th>\n",
              "    </tr>\n",
              "  </thead>\n",
              "  <tbody>\n",
              "    <tr>\n",
              "      <th>0</th>\n",
              "      <td>simplistic , silly and tedious .</td>\n",
              "      <td>1</td>\n",
              "    </tr>\n",
              "    <tr>\n",
              "      <th>1</th>\n",
              "      <td>it s so laddish and juvenile , only teenage bo...</td>\n",
              "      <td>1</td>\n",
              "    </tr>\n",
              "    <tr>\n",
              "      <th>2</th>\n",
              "      <td>exploitative and largely devoid of the depth o...</td>\n",
              "      <td>1</td>\n",
              "    </tr>\n",
              "    <tr>\n",
              "      <th>3</th>\n",
              "      <td>garbus discard the potential for pathological ...</td>\n",
              "      <td>1</td>\n",
              "    </tr>\n",
              "    <tr>\n",
              "      <th>4</th>\n",
              "      <td>a visually flashy but narratively opaque and e...</td>\n",
              "      <td>1</td>\n",
              "    </tr>\n",
              "    <tr>\n",
              "      <th>...</th>\n",
              "      <td>...</td>\n",
              "      <td>...</td>\n",
              "    </tr>\n",
              "    <tr>\n",
              "      <th>11872</th>\n",
              "      <td>may prove to be tsai s masterpiece .</td>\n",
              "      <td>0</td>\n",
              "    </tr>\n",
              "    <tr>\n",
              "      <th>11873</th>\n",
              "      <td>mazel tov to a film about a family s joyous li...</td>\n",
              "      <td>0</td>\n",
              "    </tr>\n",
              "    <tr>\n",
              "      <th>11874</th>\n",
              "      <td>standing in the shadow of motown is the best k...</td>\n",
              "      <td>0</td>\n",
              "    </tr>\n",
              "    <tr>\n",
              "      <th>11875</th>\n",
              "      <td>it s nice to see piscopo again after all these...</td>\n",
              "      <td>0</td>\n",
              "    </tr>\n",
              "    <tr>\n",
              "      <th>11876</th>\n",
              "      <td>provides a porthole into that noble , tremblin...</td>\n",
              "      <td>0</td>\n",
              "    </tr>\n",
              "  </tbody>\n",
              "</table>\n",
              "<p>11877 rows × 2 columns</p>\n",
              "</div>"
            ],
            "text/plain": [
              "                                                    text  category\n",
              "0                       simplistic , silly and tedious .         1\n",
              "1      it s so laddish and juvenile , only teenage bo...         1\n",
              "2      exploitative and largely devoid of the depth o...         1\n",
              "3      garbus discard the potential for pathological ...         1\n",
              "4      a visually flashy but narratively opaque and e...         1\n",
              "...                                                  ...       ...\n",
              "11872               may prove to be tsai s masterpiece .         0\n",
              "11873  mazel tov to a film about a family s joyous li...         0\n",
              "11874  standing in the shadow of motown is the best k...         0\n",
              "11875  it s nice to see piscopo again after all these...         0\n",
              "11876  provides a porthole into that noble , tremblin...         0\n",
              "\n",
              "[11877 rows x 2 columns]"
            ]
          },
          "execution_count": 9,
          "metadata": {},
          "output_type": "execute_result"
        }
      ],
      "source": [
        "from nltk.stem import WordNetLemmatizer\n",
        "\n",
        "def preprocess_text(text):\n",
        "    text = text.lower()\n",
        "    text = ''.join([' ' if not char.isalpha() and char not in ['.', ',', '!', '?'] else char for char in text])\n",
        "    \n",
        "    tokens = word_tokenize(text)\n",
        "    lemmatizer = WordNetLemmatizer()\n",
        "    lemmatized_tokens = [lemmatizer.lemmatize(token) for token in tokens]\n",
        "    \n",
        "    preprocessed_text = ' '.join(lemmatized_tokens)\n",
        "    \n",
        "    return preprocessed_text\n",
        "\n",
        "reviews_df[\"text\"] = reviews_df[\"text\"].apply(lambda x: preprocess_text(x))\n",
        "reviews_df"
      ]
    },
    {
      "cell_type": "code",
      "execution_count": 10,
      "metadata": {},
      "outputs": [
        {
          "data": {
            "text/plain": [
              "'if a horror movie s primary goal is to frighten and disturb , then they work spectacularly well .'"
            ]
          },
          "execution_count": 10,
          "metadata": {},
          "output_type": "execute_result"
        }
      ],
      "source": [
        "reviews_df.iloc[9153][\"text\"]"
      ]
    },
    {
      "cell_type": "code",
      "execution_count": 11,
      "metadata": {},
      "outputs": [],
      "source": [
        "from sklearn.model_selection import train_test_split\n",
        "\n",
        "X = reviews_df['text'].str.lower()\n",
        "y = reviews_df['category']\n",
        "n_classes = y.nunique()\n",
        "X_train, X_test, y_train, y_test = train_test_split(X, y, test_size=0.2, random_state=1)\n",
        "X_train = X_train.reset_index(drop=True)\n",
        "X_test = X_test.reset_index(drop=True)\n",
        "y_train = y_train.reset_index(drop=True)\n",
        "y_test = y_test.reset_index(drop=True)"
      ]
    },
    {
      "cell_type": "code",
      "execution_count": 12,
      "metadata": {},
      "outputs": [
        {
          "data": {
            "text/plain": [
              "9152    all comedy is subversive , but this unrelentin...\n",
              "9153    if a horror movie s primary goal is to frighte...\n",
              "9154        . . a shiver inducing , nerve rattling ride .\n",
              "Name: text, dtype: object"
            ]
          },
          "execution_count": 12,
          "metadata": {},
          "output_type": "execute_result"
        }
      ],
      "source": [
        "X[9152:9155]"
      ]
    },
    {
      "cell_type": "code",
      "execution_count": 13,
      "metadata": {},
      "outputs": [
        {
          "data": {
            "text/plain": [
              "'any one episode of the soprano would send this ill conceived folly to sleep with the fish .'"
            ]
          },
          "execution_count": 13,
          "metadata": {},
          "output_type": "execute_result"
        }
      ],
      "source": [
        "X_train[9153]"
      ]
    },
    {
      "cell_type": "code",
      "execution_count": 14,
      "metadata": {},
      "outputs": [
        {
          "data": {
            "text/plain": [
              "'any one episode of the soprano would send this ill conceived folly to sleep with the fish .'"
            ]
          },
          "execution_count": 14,
          "metadata": {},
          "output_type": "execute_result"
        }
      ],
      "source": [
        "X_train[9153]"
      ]
    },
    {
      "cell_type": "code",
      "execution_count": 15,
      "metadata": {},
      "outputs": [
        {
          "data": {
            "text/plain": [
              "16453"
            ]
          },
          "execution_count": 15,
          "metadata": {},
          "output_type": "execute_result"
        }
      ],
      "source": [
        "class Vocab:\n",
        "  def __init__(self, data):\n",
        "    self.idx_to_token = {}\n",
        "    self.token_to_idx = {}\n",
        "    self.vocab_len = 0\n",
        "\n",
        "    # Получаем список всех слов в данных\n",
        "    all_words = [word for sentence in data for word in word_tokenize(sentence)]\n",
        "    # print(all_words)\n",
        "\n",
        "    # Строим словарь\n",
        "    for word in all_words:\n",
        "        if word not in self.token_to_idx:\n",
        "            self.idx_to_token[self.vocab_len] = word\n",
        "            self.token_to_idx[word] = self.vocab_len\n",
        "            self.vocab_len += 1\n",
        "\n",
        "\n",
        "\n",
        "vocab = Vocab(X)\n",
        "vocab.vocab_len"
      ]
    },
    {
      "cell_type": "code",
      "execution_count": 16,
      "metadata": {},
      "outputs": [
        {
          "name": "stdout",
          "output_type": "stream",
          "text": [
            "504\n"
          ]
        },
        {
          "data": {
            "text/plain": [
              "14862"
            ]
          },
          "execution_count": 16,
          "metadata": {},
          "output_type": "execute_result"
        }
      ],
      "source": [
        "class Vocab:\n",
        "  def __init__(self, data):\n",
        "    self.idx_to_token = {}\n",
        "    self.token_to_idx = {}\n",
        "    self.vocab_len = 0\n",
        "    self.max_seq_len = 0\n",
        "    \n",
        "    for item in data:\n",
        "      self.max_seq_len = max(self.max_seq_len, len(item))\n",
        "      \n",
        "    self.idx_to_token = {0: '<UNK>'}\n",
        "    self.token_to_idx = {'<UNK>': 0}\n",
        "    self.vocab_len += 1\n",
        "    # Получаем список всех слов в данных\n",
        "    all_words = [word for sentence in data for word in word_tokenize(sentence)]\n",
        "    # print(all_words)\n",
        "\n",
        "    # Строим словарь\n",
        "    for word in all_words:\n",
        "        if word not in self.token_to_idx:\n",
        "            self.idx_to_token[self.vocab_len] = word\n",
        "            self.token_to_idx[word] = self.vocab_len\n",
        "            self.vocab_len += 1\n",
        "\n",
        "    # Добавляем токен для неизвестных слов\n",
        "    self.idx_to_token[self.vocab_len] = '<UNK>'\n",
        "    self.token_to_idx['<UNK>'] = self.vocab_len\n",
        "    self.vocab_len += 1\n",
        "\n",
        "    # Преобразуем данные в последовательности индексов токенов\n",
        "    self.data = []\n",
        "    for sentence in data:\n",
        "        tokens = [self.token_to_idx.get(word, self.token_to_idx['<UNK>']) for word in word_tokenize(sentence)]\n",
        "        self.data.append(tokens)\n",
        "        \n",
        "vocab = Vocab(X_train)\n",
        "vocab.vocab_len"
      ]
    },
    {
      "cell_type": "code",
      "execution_count": 19,
      "metadata": {},
      "outputs": [],
      "source": [
        "class ReviewDataset(Dataset):\n",
        "  def __init__(self, X, y, vocab: Vocab):\n",
        "    self.X = X\n",
        "    self.y = y\n",
        "    self.vocab = vocab\n",
        "\n",
        "  def vectorize(self, review):\n",
        "    '''Генерирует представление отзыва review при помощи бинарного кодирования (см. 1.2)'''\n",
        "    vec = torch.zeros(self.vocab.max_seq_len, dtype=torch.int64)\n",
        "    \n",
        "\n",
        "    for i, word in enumerate(word_tokenize(review)):\n",
        "\n",
        "      if i >= self.vocab.max_seq_len:\n",
        "        break\n",
        "\n",
        "      vec[i] = self.vocab.token_to_idx.get(word, 0)\n",
        "  \n",
        "    return vec\n",
        "    \n",
        "  def __len__(self):\n",
        "    return len(self.X)\n",
        "\n",
        "  def __getitem__(self, idx):\n",
        "    vec = self.vectorize(self.X[idx])\n",
        "    label = self.y[idx]\n",
        "    return vec, label\n",
        "  "
      ]
    },
    {
      "cell_type": "code",
      "execution_count": 20,
      "metadata": {},
      "outputs": [],
      "source": [
        "train_dataset = ReviewDataset(X_train, y_train, vocab)\n",
        "test_dataset = ReviewDataset(X_test, y_test, vocab)\n",
        "\n",
        "train_dataloader = DataLoader(train_dataset, batch_size=64, shuffle=True)\n",
        "test_dataloader = DataLoader(test_dataset, batch_size=64, shuffle=False)"
      ]
    },
    {
      "cell_type": "code",
      "execution_count": 60,
      "metadata": {},
      "outputs": [],
      "source": [
        "class ReviewClassifier(nn.Module):\n",
        "    def __init__(self, vocab_size, embedding_dim, output_dim):\n",
        "        super().__init__()\n",
        "        self.embedding = nn.Embedding(vocab_size, embedding_dim)\n",
        "        self.conv1 = nn.Conv1d(embedding_dim, 64, kernel_size=3)\n",
        "        \n",
        "        self.conv2 = nn.Conv1d(64, 128, kernel_size=3)\n",
        "        # self.pool2 = nn.MaxPool1d(kernel_size=2)\n",
        "        # self.conv3 = nn.Conv1d(16, 32, kernel_size=3)\n",
        "        # self.pool3 = nn.MaxPool1d(kernel_size=2)\n",
        "        self.pool = nn.MaxPool1d(kernel_size=2)\n",
        "        self.flatten = nn.Flatten()\n",
        "        self.fc = nn.Linear(124 * 128, output_dim)\n",
        "\n",
        "    def forward(self, x):\n",
        "        embedded = self.embedding(x)\n",
        "        # print(f\"embedded shape: {embedded.shape}\")\n",
        "        # print(self.conv1(embedded).shape)\n",
        "        conv1_out = self.pool(torch.relu(self.conv1(embedded)))\n",
        "        # print(conv1_out.shape)\n",
        "        conv2_out = self.pool(torch.relu(self.conv2(conv1_out)))\n",
        "        # conv3_out = self.pool(torch.relu(self.conv3(conv2_out)))\n",
        "        # print(conv2_out.shape)\n",
        "        flattened = self.flatten(conv2_out)\n",
        "        # print(flattened.shape)\n",
        "        # print(flattened.shape)\n",
        "        logits = self.fc(flattened)\n",
        "        return logits"
      ]
    },
    {
      "cell_type": "code",
      "execution_count": 61,
      "metadata": {},
      "outputs": [
        {
          "data": {
            "text/plain": [
              "504"
            ]
          },
          "execution_count": 61,
          "metadata": {},
          "output_type": "execute_result"
        }
      ],
      "source": [
        "vocab.max_seq_len"
      ]
    },
    {
      "cell_type": "code",
      "execution_count": 51,
      "metadata": {},
      "outputs": [],
      "source": [
        "model = ReviewClassifier(vocab_size=vocab.vocab_len,\n",
        "                           embedding_dim=vocab.max_seq_len,\n",
        "                           output_dim=len(set(y_train)))\n",
        "\n",
        "criterion = nn.CrossEntropyLoss()\n",
        "optimizer = torch.optim.Adam(model.parameters())"
      ]
    },
    {
      "cell_type": "code",
      "execution_count": 30,
      "metadata": {},
      "outputs": [
        {
          "name": "stdout",
          "output_type": "stream",
          "text": [
            "Количество обучаемых параметров: 7643730\n"
          ]
        }
      ],
      "source": [
        "total_params = sum(p.numel() for p in model.parameters() if p.requires_grad)\n",
        "print(f\"Количество обучаемых параметров: {total_params}\") "
      ]
    },
    {
      "cell_type": "code",
      "execution_count": 31,
      "metadata": {},
      "outputs": [
        {
          "name": "stdout",
          "output_type": "stream",
          "text": [
            "Epoch 1, Train Loss: 0.7471, Test Loss: 0.6932\n",
            "Epoch 2, Train Loss: 0.6929, Test Loss: 0.6923\n",
            "Epoch 3, Train Loss: 0.6910, Test Loss: 0.6898\n",
            "Epoch 4, Train Loss: 0.6750, Test Loss: 0.6505\n",
            "Epoch 5, Train Loss: 0.5657, Test Loss: 0.6046\n",
            "Epoch 6, Train Loss: 0.4153, Test Loss: 0.6034\n",
            "Epoch 7, Train Loss: 0.3083, Test Loss: 0.6163\n",
            "Epoch 8, Train Loss: 0.2137, Test Loss: 0.7052\n",
            "Epoch 9, Train Loss: 0.1466, Test Loss: 0.8002\n",
            "Epoch 10, Train Loss: 0.1061, Test Loss: 0.9012\n"
          ]
        }
      ],
      "source": [
        "train_model(model, train_dataloader, test_dataloader, criterion, optimizer, 10)"
      ]
    },
    {
      "cell_type": "code",
      "execution_count": 32,
      "metadata": {},
      "outputs": [
        {
          "name": "stdout",
          "output_type": "stream",
          "text": [
            "Test Accuracy: 0.71212\n"
          ]
        }
      ],
      "source": [
        "evaluate_model(model, test_dataloader)"
      ]
    },
    {
      "cell_type": "code",
      "execution_count": 33,
      "metadata": {},
      "outputs": [],
      "source": [
        "rating_labels = [\"Positive\", \"Negative\"]\n",
        "\n",
        "def predict(model, dataset, review):\n",
        "    device = torch.device('cuda' if torch.cuda.is_available() else 'cpu')\n",
        "    model.to(device)\n",
        "\n",
        "    model.eval()\n",
        "    with torch.no_grad():\n",
        "        vectorized = dataset.vectorize(review)\n",
        "        tensor = vectorized.unsqueeze(0).to(device)\n",
        "        logits = model(tensor)\n",
        "        probs = torch.softmax(logits, dim=1).squeeze()\n",
        "        print(probs)\n",
        "        print(f'{rating_labels[probs.argmax()]} ({probs.max():.4f}), {rating_labels[probs.argmin()]} ({probs.min():.4f}) \\n{review}')\n",
        "        "
      ]
    },
    {
      "cell_type": "code",
      "execution_count": 45,
      "metadata": {},
      "outputs": [
        {
          "name": "stdout",
          "output_type": "stream",
          "text": [
            "              precision    recall  f1-score   support\n",
            "\n",
            "           0       0.68      0.78      0.72      1157\n",
            "           1       0.75      0.65      0.70      1219\n",
            "\n",
            "    accuracy                           0.71      2376\n",
            "   macro avg       0.72      0.71      0.71      2376\n",
            "weighted avg       0.72      0.71      0.71      2376\n",
            "\n"
          ]
        }
      ],
      "source": [
        "from sklearn.metrics import confusion_matrix, classification_report, roc_auc_score\n",
        "\n",
        "model.to(\"cpu\")\n",
        "\n",
        "test_loader = DataLoader(test_dataset, batch_size=len(test_dataset), shuffle=True)\n",
        "X_batch, y_batch = next(iter(test_loader))\n",
        "predictions = model(X_batch).argmax(dim=1).cpu().detach()\n",
        "print(classification_report(y_batch, predictions))"
      ]
    },
    {
      "cell_type": "code",
      "execution_count": 34,
      "metadata": {},
      "outputs": [
        {
          "name": "stdout",
          "output_type": "stream",
          "text": [
            "tensor([0.9501, 0.0499], device='cuda:0')\n",
            "Positive (0.9501), Negative (0.0499) \n",
            "I had a terrible experience at this restaurant. The staff was rude and the food was overpriced for the quality.\n"
          ]
        }
      ],
      "source": [
        "predict(model, train_dataset, \"I had a terrible experience at this restaurant. The staff was rude and the food was overpriced for the quality.\")"
      ]
    },
    {
      "cell_type": "code",
      "execution_count": 35,
      "metadata": {},
      "outputs": [
        {
          "name": "stdout",
          "output_type": "stream",
          "text": [
            "tensor([9.9980e-01, 1.9507e-04], device='cuda:0')\n",
            "Positive (0.9998), Negative (0.0002) \n",
            "This restaurant is simply amazing! The food is delicious and the service is outstanding.\n"
          ]
        }
      ],
      "source": [
        "predict(model, train_dataset, \"This restaurant is simply amazing! The food is delicious and the service is outstanding.\")"
      ]
    },
    {
      "cell_type": "code",
      "execution_count": 36,
      "metadata": {},
      "outputs": [
        {
          "name": "stdout",
          "output_type": "stream",
          "text": [
            "tensor([0.0539, 0.9461], device='cuda:0')\n",
            "Negative (0.9461), Positive (0.0539) \n",
            "The menu at this restaurant is very limited and the food is nothing special. I wouldn't go back.\n"
          ]
        }
      ],
      "source": [
        "predict(model, train_dataset, \"The menu at this restaurant is very limited and the food is nothing special. I wouldn't go back.\")"
      ]
    },
    {
      "cell_type": "code",
      "execution_count": 37,
      "metadata": {},
      "outputs": [
        {
          "name": "stdout",
          "output_type": "stream",
          "text": [
            "tensor([0.9834, 0.0166], device='cuda:0')\n",
            "Positive (0.9834), Negative (0.0166) \n",
            "I can't say enough good things about this restaurant. It's the perfect place for a romantic dinner or a night out with friends.\n"
          ]
        }
      ],
      "source": [
        "predict(model, train_dataset, \"I can't say enough good things about this restaurant. It's the perfect place for a romantic dinner or a night out with friends.\")"
      ]
    },
    {
      "cell_type": "code",
      "execution_count": 38,
      "metadata": {},
      "outputs": [
        {
          "name": "stdout",
          "output_type": "stream",
          "text": [
            "tensor([0.9984, 0.0016], device='cuda:0')\n",
            "Positive (0.9984), Negative (0.0016) \n",
            "I had the best dining experience in this restaurant. The ambiance is perfect and the staff is very friendly.\n"
          ]
        }
      ],
      "source": [
        "predict(model, train_dataset, \"I had the best dining experience in this restaurant. The ambiance is perfect and the staff is very friendly.\")"
      ]
    },
    {
      "cell_type": "code",
      "execution_count": null,
      "metadata": {},
      "outputs": [],
      "source": []
    }
  ],
  "metadata": {
    "accelerator": "GPU",
    "colab": {
      "provenance": []
    },
    "kernelspec": {
      "display_name": "Python 3",
      "name": "python3"
    },
    "language_info": {
      "codemirror_mode": {
        "name": "ipython",
        "version": 3
      },
      "file_extension": ".py",
      "mimetype": "text/x-python",
      "name": "python",
      "nbconvert_exporter": "python",
      "pygments_lexer": "ipython3",
      "version": "3.10.6"
    }
  },
  "nbformat": 4,
  "nbformat_minor": 0
}
