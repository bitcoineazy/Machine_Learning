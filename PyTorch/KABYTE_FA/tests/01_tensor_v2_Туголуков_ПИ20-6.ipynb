{
 "cells": [
  {
   "cell_type": "markdown",
   "metadata": {
    "id": "_gE94V3G1RCx"
   },
   "source": [
    "# 1. Знакомство с `torch.Tensor`\n",
    "\n",
    "__Авторы__: \n",
    "* Сергей Вячеславович Макрушин (SVMakrushin@fa.ru) \n",
    "* Никита Владимирович Блохин (NVBlokhin@fa.ru)"
   ]
  },
  {
   "cell_type": "markdown",
   "metadata": {
    "id": "lZfJ1FRM1RC8"
   },
   "source": [
    "При решении данных задач не подразумевается использования циклов или генераторов Python, если в задании не сказано обратного. Решение должно опираться на использование функционала библиотеки `torch`.\n",
    "\n",
    "[PyTorch documentation](https://pytorch.org/docs/stable/#pytorch-documentation)"
   ]
  },
  {
   "cell_type": "code",
   "execution_count": 2,
   "metadata": {
    "id": "b3AW8rF-1RC9"
   },
   "outputs": [],
   "source": [
    "import torch"
   ]
  },
  {
   "cell_type": "markdown",
   "metadata": {
    "id": "vow49PuE1RC9"
   },
   "source": [
    "## 1. Создание тензоров и выполнение базовых операций над ними\n",
    "\n",
    "[Документация по функциям для создания тензоров](https://pytorch.org/docs/stable/torch.html#creation-ops)\n",
    "\n",
    "[Документация по функциям для работы с индексами](https://pytorch.org/docs/stable/torch.html#indexing-slicing-joining-mutating-ops)"
   ]
  },
  {
   "cell_type": "markdown",
   "metadata": {
    "id": "wBIwO1SB1RC-"
   },
   "source": [
    "1.1 Создайте двумерный тензор размера (8, 8). Используя как можно меньше операций, добейтесь расстановки кодов \"шахматных фигур\".\n",
    "\n",
    "Ожидаемый результат:\n",
    "\n",
    "```\n",
    "[[-4., -3., -2., -6., -5., -2., -3., -4.],\n",
    " [-1., -1., -1., -1., -1., -1., -1., -1.],\n",
    " [0., 0., 0., 0., 0., 0., 0., 0.],\n",
    " [0., 0., 0., 0., 0., 0., 0., 0.],\n",
    " [0., 0., 0., 0., 0., 0., 0., 0.],\n",
    " [0., 0., 0., 0., 0., 0., 0., 0.],\n",
    " [1., 1., 1., 1., 1., 1., 1., 1.],\n",
    " [4., 3., 2., 6., 5., 2., 3., 4.]]\n",
    "\n",
    "```"
   ]
  },
  {
   "cell_type": "code",
   "execution_count": 3,
   "metadata": {},
   "outputs": [
    {
     "data": {
      "text/plain": [
       "tensor([[-4., -3., -2., -6., -5., -2., -3., -4.],\n",
       "        [-1., -1., -1., -1., -1., -1., -1., -1.],\n",
       "        [ 0.,  0.,  0.,  0.,  0.,  0.,  0.,  0.],\n",
       "        [ 0.,  0.,  0.,  0.,  0.,  0.,  0.,  0.],\n",
       "        [ 0.,  0.,  0.,  0.,  0.,  0.,  0.,  0.],\n",
       "        [ 0.,  0.,  0.,  0.,  0.,  0.,  0.,  0.],\n",
       "        [ 1.,  1.,  1.,  1.,  1.,  1.,  1.,  1.],\n",
       "        [ 4.,  3.,  2.,  6.,  5.,  2.,  3.,  4.]])"
      ]
     },
     "execution_count": 3,
     "metadata": {},
     "output_type": "execute_result"
    }
   ],
   "source": [
    "t = torch.zeros(8, 8)\n",
    "t[0] = torch.tensor([-4., -3., -2., -6., -5., -2., -3., -4.])\n",
    "t[-1] = t[0] * -1\n",
    "t[1] = -1 * torch.ones(1, 8)\n",
    "t[-2] = t[1] * -1\n",
    "t"
   ]
  },
  {
   "cell_type": "markdown",
   "metadata": {
    "id": "20x5RE1V1RC_"
   },
   "source": [
    "1.2 Средствами `torch` рассчитать произведения четных чисел от 2 до 20 на ближайшие к ним бОльшие нечетные числа."
   ]
  },
  {
   "cell_type": "code",
   "execution_count": 4,
   "metadata": {},
   "outputs": [
    {
     "name": "stdout",
     "output_type": "stream",
     "text": [
      "tensor(-4249290049419214848)\n"
     ]
    }
   ],
   "source": [
    "result = 1\n",
    "for i in range(2, 21, 2):\n",
    "    result *= torch.tensor(i * (i + 1))\n",
    "\n",
    "print(result)"
   ]
  },
  {
   "cell_type": "code",
   "execution_count": 27,
   "metadata": {},
   "outputs": [
    {
     "name": "stdout",
     "output_type": "stream",
     "text": [
      "tensor([  6,  20,  42,  72, 110, 156, 210, 272, 342, 420])\n",
      "tensor(-4249290049419214848)\n"
     ]
    }
   ],
   "source": [
    "A = torch.arange(2, 22)\n",
    "print(A[::2] * A[1::2])\n",
    "\n",
    "print(A.prod())"
   ]
  },
  {
   "cell_type": "markdown",
   "metadata": {
    "id": "N_-t5GRM1RC_"
   },
   "source": [
    "1.3 Создать тензор размера 11x7 вида: [[1, 2, 3, ..., 7], [11, 12, 13, ..., 17], [21, 22, 23, ..., 27], ..., [101, 102, 103, ..., 107]]"
   ]
  },
  {
   "cell_type": "code",
   "execution_count": 42,
   "metadata": {},
   "outputs": [
    {
     "data": {
      "text/plain": [
       "tensor([[  1,   2,   3,   4,   5,   6,   7],\n",
       "        [ 11,  12,  13,  14,  15,  16,  17],\n",
       "        [ 21,  22,  23,  24,  25,  26,  27],\n",
       "        [ 31,  32,  33,  34,  35,  36,  37],\n",
       "        [ 41,  42,  43,  44,  45,  46,  47],\n",
       "        [ 51,  52,  53,  54,  55,  56,  57],\n",
       "        [ 61,  62,  63,  64,  65,  66,  67],\n",
       "        [ 71,  72,  73,  74,  75,  76,  77],\n",
       "        [ 81,  82,  83,  84,  85,  86,  87],\n",
       "        [ 91,  92,  93,  94,  95,  96,  97],\n",
       "        [101, 102, 103, 104, 105, 106, 107]])"
      ]
     },
     "execution_count": 42,
     "metadata": {},
     "output_type": "execute_result"
    }
   ],
   "source": [
    "torch.arange(1, 111).reshape(-1, 10)[::, :7:]"
   ]
  },
  {
   "cell_type": "code",
   "execution_count": 41,
   "metadata": {},
   "outputs": [
    {
     "data": {
      "text/plain": [
       "tensor([[  1,   2,   3,   4,   5,   6,   7],\n",
       "        [ 11,  12,  13,  14,  15,  16,  17],\n",
       "        [ 21,  22,  23,  24,  25,  26,  27],\n",
       "        [ 31,  32,  33,  34,  35,  36,  37],\n",
       "        [ 41,  42,  43,  44,  45,  46,  47],\n",
       "        [ 51,  52,  53,  54,  55,  56,  57],\n",
       "        [ 61,  62,  63,  64,  65,  66,  67],\n",
       "        [ 71,  72,  73,  74,  75,  76,  77],\n",
       "        [ 81,  82,  83,  84,  85,  86,  87],\n",
       "        [ 91,  92,  93,  94,  95,  96,  97],\n",
       "        [101, 102, 103, 104, 105, 106, 107]])"
      ]
     },
     "execution_count": 41,
     "metadata": {},
     "output_type": "execute_result"
    }
   ],
   "source": [
    "torch.arange(1, 111).view(-1, 10)[:, :7]"
   ]
  },
  {
   "cell_type": "markdown",
   "metadata": {
    "id": "WH9hxJse1RDA"
   },
   "source": [
    "1.5 Сгенерировать двумерный тензор `t` размерности (4, 7), состоящий из случайных действительных чисел, равномерно распределенных в дипазоне от 0 до 20. Нормализовать значения массива с помощью преобразования вида $ax+b$ так, что после нормализации максимальный элемент масива будет равен 1.0, минимальный 0.0"
   ]
  },
  {
   "cell_type": "code",
   "execution_count": 66,
   "metadata": {},
   "outputs": [
    {
     "name": "stdout",
     "output_type": "stream",
     "text": [
      "tensor([[0.2127, 0.6927, 0.0895, 0.0428, 1.0000, 0.8306, 0.7054],\n",
      "        [0.1209, 0.3315, 0.5235, 0.0943, 0.7133, 0.6673, 0.8955],\n",
      "        [0.7131, 0.6961, 0.5092, 0.4611, 0.5143, 0.6764, 0.0000],\n",
      "        [0.8694, 0.3530, 0.9724, 0.1622, 0.3219, 0.8830, 0.7245]])\n"
     ]
    }
   ],
   "source": [
    "t = torch.rand(4, 7) * 20\n",
    "\n",
    "m = t.min()\n",
    "M = t.max()\n",
    "\n",
    "a = 1 / (M - m)\n",
    "b = - a * m\n",
    "\n",
    "\n",
    "print(a * t + b)"
   ]
  },
  {
   "cell_type": "code",
   "execution_count": 67,
   "metadata": {},
   "outputs": [
    {
     "data": {
      "text/plain": [
       "tensor([[0.4459, 0.0620, 0.0000, 0.9341, 0.3709, 0.4306, 0.7665],\n",
       "        [0.9936, 0.8478, 0.9112, 0.9723, 0.2828, 0.9908, 0.1809],\n",
       "        [0.9409, 0.8781, 0.9884, 1.0000, 0.2060, 0.3483, 0.5826],\n",
       "        [0.0584, 0.1079, 0.9668, 0.2355, 0.7321, 0.1669, 0.8816]])"
      ]
     },
     "execution_count": 67,
     "metadata": {},
     "output_type": "execute_result"
    }
   ],
   "source": [
    "t = torch.distributions.Uniform(0, 20).sample((4, 7))\n",
    "(t - t.min()) / (t.max() - t.min())"
   ]
  },
  {
   "cell_type": "markdown",
   "metadata": {
    "id": "vPqIeewXB-mM"
   },
   "source": [
    "[Random Sampling](https://pytorch.org/docs/stable/torch.html#random-sampling)\n",
    "\n",
    "[Distributions](https://pytorch.org/docs/stable/distributions.html)"
   ]
  },
  {
   "cell_type": "markdown",
   "metadata": {
    "id": "K_R6cwq11RDE"
   },
   "source": [
    "1.6 Задать два двумерных тензора `ar1` и `ar2` размерности (4, 7), состоящих из случайных целых чисел в пределах от 0 до 10. Построить двумерный тензор размерности (4, 7), каждый элемент которого представляет собой максимум из двух значений, находящихся на аналогичной позиции в тензорах `ar1`, `ar2`.\n",
    "\n",
    "[Reductions ops](https://pytorch.org/docs/stable/torch.html#reduction-ops)"
   ]
  },
  {
   "cell_type": "code",
   "execution_count": 10,
   "metadata": {},
   "outputs": [
    {
     "name": "stdout",
     "output_type": "stream",
     "text": [
      "ar1: \n",
      "tensor([[ 8,  6,  5,  2,  0,  2,  6],\n",
      "        [ 3,  8,  6,  7, 10,  3,  9],\n",
      "        [10,  9, 10,  5,  5,  9,  9],\n",
      "        [ 9,  0,  6,  3,  3, 10,  3]])\n",
      "\n",
      "ar2: \n",
      "tensor([[ 0,  0,  9, 10,  6,  3,  7],\n",
      "        [ 1,  8,  8, 10, 10,  4,  9],\n",
      "        [ 8,  7,  7,  0,  5,  5,  8],\n",
      "        [ 6,  4,  4,  9,  5,  2,  6]])\n",
      "\n",
      "Максимальные значения: \n",
      "tensor([[ 8,  6,  9, 10,  6,  3,  7],\n",
      "        [ 3,  8,  8, 10, 10,  4,  9],\n",
      "        [10,  9, 10,  5,  5,  9,  9],\n",
      "        [ 9,  4,  6,  9,  5, 10,  6]])\n",
      "\n"
     ]
    }
   ],
   "source": [
    "# Создаем тензоры ar1 и ar2 размерности (4, 7) с случайными значениями\n",
    "ar1 = torch.randint(low=0, high=11, size=(4, 7))\n",
    "ar2 = torch.randint(low=0, high=11, size=(4, 7))\n",
    "\n",
    "# Получаем максимальные значения из ar1 и ar2\n",
    "max_values = torch.max(ar1, ar2)\n",
    "\n",
    "print(f'ar1: \\n{ar1}\\n')\n",
    "print(f'ar2: \\n{ar2}\\n')\n",
    "print(f'Максимальные значения: \\n{max_values}\\n')"
   ]
  },
  {
   "cell_type": "markdown",
   "metadata": {
    "id": "Xshsy8fD1RDE"
   },
   "source": [
    "## 2. Распространение"
   ]
  },
  {
   "cell_type": "markdown",
   "metadata": {
    "id": "jlP22HAJCo28"
   },
   "source": [
    "[Numpy broadcasting](https://numpy.org/devdocs/user/theory.broadcasting.html)\n",
    "\n",
    "[Torch broadcasting](https://pytorch.org/docs/stable/notes/broadcasting.html)"
   ]
  },
  {
   "cell_type": "markdown",
   "metadata": {
    "id": "uRD6-8Gd1RDF"
   },
   "source": [
    "2.1 Создать тензор 11x7 вида: `[[1, 2, 3, ..., 7], [11, 12, 13, ..., 17], [21, 22, 23, ..., 27], ..., [101, 102, 103, ..., 107]]`. При решении задачи применить технику распространения."
   ]
  },
  {
   "cell_type": "code",
   "execution_count": 107,
   "metadata": {},
   "outputs": [
    {
     "name": "stdout",
     "output_type": "stream",
     "text": [
      "tensor([[  1,   2,   3,   4,   5,   6,   7],\n",
      "        [ 11,  12,  13,  14,  15,  16,  17],\n",
      "        [ 21,  22,  23,  24,  25,  26,  27],\n",
      "        [ 31,  32,  33,  34,  35,  36,  37],\n",
      "        [ 41,  42,  43,  44,  45,  46,  47],\n",
      "        [ 51,  52,  53,  54,  55,  56,  57],\n",
      "        [ 61,  62,  63,  64,  65,  66,  67],\n",
      "        [ 71,  72,  73,  74,  75,  76,  77],\n",
      "        [ 81,  82,  83,  84,  85,  86,  87],\n",
      "        [ 91,  92,  93,  94,  95,  96,  97],\n",
      "        [101, 102, 103, 104, 105, 106, 107]])\n"
     ]
    }
   ],
   "source": [
    "base = torch.arange(1, 8)\n",
    "tensor = base + 10 * torch.arange(0, 11).view(-1, 1)\n",
    "print(tensor)"
   ]
  },
  {
   "cell_type": "code",
   "execution_count": 103,
   "metadata": {},
   "outputs": [
    {
     "name": "stdout",
     "output_type": "stream",
     "text": [
      "tensor([[ 0],\n",
      "        [ 1],\n",
      "        [ 2],\n",
      "        [ 3],\n",
      "        [ 4],\n",
      "        [ 5],\n",
      "        [ 6],\n",
      "        [ 7],\n",
      "        [ 8],\n",
      "        [ 9],\n",
      "        [10]])\n"
     ]
    }
   ],
   "source": [
    "print(torch.arange(0, 11).view(-1, 1))"
   ]
  },
  {
   "attachments": {},
   "cell_type": "markdown",
   "metadata": {},
   "source": [
    "Обратите внимание, что метод view(-1, 1) используется для преобразования одномерного тензора torch.arange(0, 11) в двумерный тензор формы (11, 1). Это позволяет нам использовать широковещательную передачу, чтобы добавить ее к базовому тензору, имеющему форму (7,).\n",
    "\n",
    "Это добавит 10 к каждому элементу в каждой строке тензора, эффективно создавая желаемый шаблон."
   ]
  },
  {
   "cell_type": "markdown",
   "metadata": {
    "id": "dFTvPsY91RDF"
   },
   "source": [
    "## 3. Индексы, маскирование и прихотливое индексирование\n",
    "\n",
    "[Документация по функциям для работы с индексами](https://pytorch.org/docs/stable/torch.html#indexing-slicing-joining-mutating-ops)"
   ]
  },
  {
   "cell_type": "markdown",
   "metadata": {
    "id": "McYtDYhH1RDG"
   },
   "source": [
    "3.1 Получить индексы, для которых элементы тензоров `a` и `b` совпадают.\n",
    "\n",
    "_Пример:_\n",
    "\n",
    "Для входа:\n",
    "```python\n",
    "a = torch.tensor([1,2,3,2,3,4,3,4,5,6])\n",
    "b = torch.tensor([7,2,10,2,7,4,9,4,9,8])\n",
    "```\n",
    "\n",
    "Ожидается резульат:\n",
    "\n",
    "```python\n",
    "tensor([1, 3, 5, 7])\n",
    "```"
   ]
  },
  {
   "cell_type": "code",
   "execution_count": 111,
   "metadata": {},
   "outputs": [
    {
     "data": {
      "text/plain": [
       "tensor([1, 3, 5, 7])"
      ]
     },
     "execution_count": 111,
     "metadata": {},
     "output_type": "execute_result"
    }
   ],
   "source": [
    "a = torch.tensor([1,2,3,2,3,4,3,4,5,6])\n",
    "b = torch.tensor([7,2,10,2,7,4,9,4,9,8])\n",
    "\n",
    "torch.nonzero(a == b).flatten()"
   ]
  },
  {
   "cell_type": "markdown",
   "metadata": {
    "id": "tANsLnOC1RDH"
   },
   "source": [
    "3.3 Из входного тензора a получить только элементы, находящиеся в диапазоне от 5 до 10.\n",
    "\n",
    "_Пример:_\n",
    "\n",
    "Для входа:\n",
    "```python\n",
    "a = torch.tensor([2, 6, 1, 9, 10, 3, 27])\n",
    "```\n",
    "\n",
    "Ожидается результат:\n",
    "\n",
    "```python\n",
    "tensor([6, 9, 10])\n",
    "```"
   ]
  },
  {
   "cell_type": "code",
   "execution_count": 113,
   "metadata": {},
   "outputs": [
    {
     "data": {
      "text/plain": [
       "tensor([ 6,  9, 10])"
      ]
     },
     "execution_count": 113,
     "metadata": {},
     "output_type": "execute_result"
    }
   ],
   "source": [
    "a = torch.tensor([2, 6, 1, 9, 10, 3, 27])\n",
    "\n",
    "a[(a >= 5) & (a <= 10)]"
   ]
  },
  {
   "cell_type": "markdown",
   "metadata": {
    "id": "3vlK0gV21RDH"
   },
   "source": [
    "3.4 Поменять местами столбец 1 и 2 тензора `torch.arange(9).reshape(3, 3)`"
   ]
  },
  {
   "cell_type": "code",
   "execution_count": 136,
   "metadata": {},
   "outputs": [
    {
     "name": "stdout",
     "output_type": "stream",
     "text": [
      "tensor([[0, 1, 2],\n",
      "        [3, 4, 5],\n",
      "        [6, 7, 8]])\n",
      "tensor([[0, 2, 2],\n",
      "        [3, 5, 5],\n",
      "        [6, 8, 8]])\n"
     ]
    }
   ],
   "source": [
    "# torch.arange(9).reshape(3, 3)\n",
    "a = torch.arange(9).reshape(3, 3)\n",
    "print(a)\n",
    "\n",
    "a[:, [0, 1]] = a[:, [0, 2]]\n",
    "\n",
    "print(a)"
   ]
  },
  {
   "cell_type": "code",
   "execution_count": 120,
   "metadata": {},
   "outputs": [
    {
     "data": {
      "text/plain": [
       "tensor([[1, 2, 0],\n",
       "        [4, 5, 3],\n",
       "        [7, 8, 6]])"
      ]
     },
     "execution_count": 120,
     "metadata": {},
     "output_type": "execute_result"
    }
   ],
   "source": [
    "a[:, [0, 2, 1]]\n"
   ]
  },
  {
   "cell_type": "markdown",
   "metadata": {
    "id": "cheFtWhU1RDH"
   },
   "source": [
    "3.5 Создать тензор 8 на 10 из случайных целых чисел из диапазона от 0 до 10 и найти в нем строку (ее индекс и вывести саму строку), в которой сумма значений минимальна."
   ]
  },
  {
   "cell_type": "code",
   "execution_count": 137,
   "metadata": {},
   "outputs": [
    {
     "data": {
      "text/plain": [
       "tensor([[5, 1, 4, 8, 7, 0, 3, 5, 4, 0],\n",
       "        [8, 5, 3, 4, 1, 9, 2, 2, 5, 9],\n",
       "        [7, 4, 1, 3, 6, 9, 3, 8, 6, 5],\n",
       "        [8, 4, 2, 6, 0, 2, 1, 5, 4, 1],\n",
       "        [7, 3, 2, 1, 6, 8, 9, 7, 0, 1],\n",
       "        [0, 4, 7, 0, 9, 2, 3, 4, 1, 5],\n",
       "        [9, 5, 9, 6, 5, 4, 0, 8, 1, 1],\n",
       "        [5, 3, 4, 0, 4, 1, 1, 3, 8, 5]])"
      ]
     },
     "execution_count": 137,
     "metadata": {},
     "output_type": "execute_result"
    }
   ],
   "source": [
    "A = torch.randint(0, 10, (8, 10))\n",
    "A"
   ]
  },
  {
   "cell_type": "code",
   "execution_count": 138,
   "metadata": {},
   "outputs": [
    {
     "data": {
      "text/plain": [
       "tensor([37, 48, 52, 33, 44, 35, 48, 34])"
      ]
     },
     "execution_count": 138,
     "metadata": {},
     "output_type": "execute_result"
    }
   ],
   "source": [
    "sums = A.sum(dim=1)\n",
    "sums"
   ]
  },
  {
   "cell_type": "code",
   "execution_count": 141,
   "metadata": {},
   "outputs": [
    {
     "data": {
      "text/plain": [
       "3"
      ]
     },
     "execution_count": 141,
     "metadata": {},
     "output_type": "execute_result"
    }
   ],
   "source": [
    "idx = torch.argmin(sums)\n",
    "\n",
    "idx.item()"
   ]
  },
  {
   "cell_type": "markdown",
   "metadata": {
    "id": "grOCNU4XFE2B"
   },
   "source": [
    "3.6 Cоздать тензор из 20 случайных целых чисел от 0 до 100. Обрезать значения тензора (заменить значения, выходящие за диапазон, на крайние значения) снизу по значению 30, сверху по значению 70."
   ]
  },
  {
   "cell_type": "code",
   "execution_count": 144,
   "metadata": {},
   "outputs": [
    {
     "name": "stdout",
     "output_type": "stream",
     "text": [
      "Tensor with trimmed values: tensor([70, 53, 30, 30, 41, 30, 30, 30, 30, 70, 42, 47, 30, 30, 70, 46, 30, 70,\n",
      "        51, 39])\n"
     ]
    }
   ],
   "source": [
    "# Create a tensor from 20 random integers from 0 to 100\n",
    "tensor = torch.randint(0, 101, (20,))\n",
    "\n",
    "# Trim values from below by value 30 and from above by value 70\n",
    "tensor = torch.clamp(tensor, 30, 70)\n",
    "\n",
    "print(\"Tensor with trimmed values:\", tensor)"
   ]
  },
  {
   "cell_type": "markdown",
   "metadata": {
    "id": "Qe2oVr4p1RDJ"
   },
   "source": [
    "3.10 Заданы три двухмерных тензора `ar1`, `ar2` и `ar3` размерности (4, 7), состоящие из случайных целых чисел в пределах от 0 до 10. Обнулить все элементы `ar1`, которые больше соответствующих (находящихся в соответствующих позициях) элементов `ar2` и меньше соответствующих элементов `ar3`."
   ]
  },
  {
   "cell_type": "code",
   "execution_count": 3,
   "metadata": {},
   "outputs": [
    {
     "data": {
      "text/plain": [
       "tensor([[ 1,  3,  0,  5,  0,  5,  5],\n",
       "        [ 8,  5,  0,  6,  4,  2,  2],\n",
       "        [ 5,  0,  2,  5,  6,  0, 10],\n",
       "        [ 1,  6,  0,  3,  4,  0,  2]])"
      ]
     },
     "execution_count": 3,
     "metadata": {},
     "output_type": "execute_result"
    }
   ],
   "source": [
    "ar1 = torch.randint(low=0, high=11, size=(4, 7))\n",
    "ar2 = torch.randint(low=0, high=11, size=(4, 7))\n",
    "ar3 = torch.randint(low=0, high=11, size=(4, 7))\n",
    "\n",
    "\n",
    "ar1[(ar1 > ar2) & (ar1 < ar3)] = 0\n",
    "\n",
    "ar1"
   ]
  },
  {
   "cell_type": "markdown",
   "metadata": {
    "id": "BTcRVeYh1RDK"
   },
   "source": [
    "3.11 Задан двумерный тензор `ar1` размерности (20, 5), состоящий из случайных целых чисел в пределах от 0 до 20. Определить, в каких столбцах не менее 5 раз встречается значение, максимальное по своей строке."
   ]
  },
  {
   "cell_type": "code",
   "execution_count": 5,
   "metadata": {},
   "outputs": [
    {
     "name": "stdout",
     "output_type": "stream",
     "text": [
      "tensor([[ 2,  1, 10,  2,  5],\n",
      "        [ 3,  5,  4, 12, 20],\n",
      "        [ 7, 16, 20, 15,  4],\n",
      "        [12,  1,  2,  2,  8],\n",
      "        [11, 20,  7,  7, 13],\n",
      "        [10,  5,  6, 19, 14],\n",
      "        [ 7, 20, 12,  1, 16],\n",
      "        [19,  9,  5, 14, 11],\n",
      "        [ 3, 11,  2, 13,  7],\n",
      "        [12, 18, 17, 14, 20],\n",
      "        [16, 16,  9,  8,  9],\n",
      "        [13,  0, 10,  8,  2],\n",
      "        [ 1,  5, 15, 20, 20],\n",
      "        [11, 19,  6,  5, 17],\n",
      "        [15, 11, 15, 18,  9],\n",
      "        [16,  6, 17,  1, 11],\n",
      "        [15,  2,  2, 12,  6],\n",
      "        [ 7,  5,  1,  0, 12],\n",
      "        [ 1,  9, 15,  7,  0],\n",
      "        [ 7, 10, 18,  1,  3]])\n",
      "10 10\n",
      "20 20\n",
      "20 20\n",
      "12 12\n",
      "20 20\n",
      "19 19\n",
      "20 20\n",
      "19 19\n",
      "13 13\n",
      "20 20\n",
      "16 16\n",
      "16 16\n",
      "13 13\n",
      "20 20\n",
      "20 20\n",
      "19 19\n",
      "18 18\n",
      "17 17\n",
      "15 15\n",
      "12 12\n",
      "15 15\n",
      "18 18\n",
      "tensor([5., 4., 5., 4., 4.])\n",
      "Столбцы с макс значением встреч. мин 5 раз: [0, 2]\n"
     ]
    }
   ],
   "source": [
    "ar1 = torch.randint(0, 21, (20, 5))\n",
    "column_counts = torch.zeros(5)\n",
    "print(ar1)\n",
    "\n",
    "for i in range(20):\n",
    "    row_max = ar1[i].max().item()\n",
    "    # print(row_max)\n",
    "    for j in range(5):\n",
    "        if ar1[i][j].item() == row_max:\n",
    "            print(ar1[i][j].item(), row_max)\n",
    "            column_counts[j] += 1\n",
    "            \n",
    "print(column_counts)\n",
    "result = []\n",
    "for i in range(5):\n",
    "    if column_counts[i] >= 5:\n",
    "        result.append(i)\n",
    "        \n",
    "print(\"Столбцы с макс значением встреч. мин 5 раз:\", result)"
   ]
  },
  {
   "cell_type": "markdown",
   "metadata": {
    "id": "pYxX90B11RDL"
   },
   "source": [
    "3.13 Построить \"one-hot encoding\" для одномерного тензора, содержащего целые числа (длина вектора заранее неизвестна, набор значений заранее неизвестен, при этом в итоговой матрице должны присутствовать столбцы для всех натуральных чисел вплоть до максимального встречающегося в исходном массиве).\n",
    "\n",
    "Пример:\n",
    "\n",
    "для тензора `torch.tensor([2, 3, 2, 2, 2, 1])`.\n",
    "\n",
    "Ожидается результат:\n",
    "\n",
    "```python\n",
    "tensor([[0., 1., 0.],\n",
    "        [0., 0., 1.],\n",
    "        [0., 1., 0.],\n",
    "        [0., 1., 0.],\n",
    "        [0., 1., 0.],\n",
    "        [1., 0., 0.]])\n",
    "```"
   ]
  },
  {
   "cell_type": "code",
   "execution_count": 7,
   "metadata": {},
   "outputs": [
    {
     "data": {
      "text/plain": [
       "tensor([[0., 1., 0.],\n",
       "        [0., 0., 1.],\n",
       "        [0., 1., 0.],\n",
       "        [0., 1., 0.],\n",
       "        [0., 1., 0.],\n",
       "        [1., 0., 0.]])"
      ]
     },
     "execution_count": 7,
     "metadata": {},
     "output_type": "execute_result"
    }
   ],
   "source": [
    "x = torch.tensor([2, 3, 2, 2, 2, 1])\n",
    "\n",
    "def one_hot_encode_tensor(x):\n",
    "    max_val = x.max()\n",
    "    one_hot = torch.zeros((len(x), max_val), dtype=torch.float32)\n",
    "\n",
    "    for i in range(len(x)):\n",
    "        one_hot[i, x[i]-1] = 1\n",
    "\n",
    "    return one_hot\n",
    "\n",
    "one_hot_encode_tensor(x)"
   ]
  },
  {
   "cell_type": "markdown",
   "metadata": {
    "id": "UenAEfEG1RDN"
   },
   "source": [
    "## 4. Математические задачи"
   ]
  },
  {
   "cell_type": "markdown",
   "metadata": {
    "id": "6weDrqJR1RDN"
   },
   "source": [
    "4.1 Приблизительно (с погрешностью порядка 1%) рассчитать на какой части интервала от 0 до 10 значение функции ``x * sin(x)`` больше 0.5."
   ]
  },
  {
   "cell_type": "code",
   "execution_count": 12,
   "metadata": {},
   "outputs": [
    {
     "data": {
      "image/png": "[encoded data removed]",
      "text/plain": [
       "<Figure size 640x480 with 1 Axes>"
      ]
     },
     "metadata": {},
     "output_type": "display_data"
    }
   ],
   "source": [
    "import numpy as np\n",
    "import matplotlib.pyplot as plt\n",
    "\n",
    "# Определяем функцию\n",
    "def f(x):\n",
    "    return x * np.sin(x)\n",
    "\n",
    "# Создаем массив значений x на интервале [0, 10]\n",
    "x = np.linspace(0, 10, 1000)\n",
    "\n",
    "# Вычисляем значение функции для каждого x\n",
    "y = f(x)\n",
    "\n",
    "# print(y)\n",
    "\n",
    "# Отбираем только те значения, которые больше 0.5\n",
    "mask = y > 0.5\n",
    "x_masked = x[mask]\n",
    "y_masked = y[mask]\n",
    "\n",
    "diff_mask = np.diff(mask.astype(int))\n",
    "starts = np.where(diff_mask == 1)[0] + 1\n",
    "ends = np.where(diff_mask == -1)[0] + 1\n",
    "\n",
    "# Визуализируем функцию\n",
    "plt.plot(x, y)\n",
    "# plt.plot(x_masked, y_masked, 'ro')\n",
    "for start, end in zip(starts, ends):\n",
    "    plt.text(x[start], y[start], f'({x[start]:.2f})', fontsize=15)\n",
    "    plt.text(x[end], y[end], f'({x[end]:.2f})', fontsize=15)\n",
    "    plt.plot(x[start:end], y[start:end], 'ro')\n",
    "\n",
    "\n",
    "plt.axhline(y=0.5, color='k', linestyle='--')\n",
    "plt.xlabel('x')\n",
    "plt.ylabel('f(x)')\n",
    "\n",
    "\n",
    "plt.show()\n"
   ]
  },
  {
   "cell_type": "markdown",
   "metadata": {
    "id": "AHupFoTR1RDN"
   },
   "source": [
    "4.3 Найти евклидово расстояние между двумя одномерными тензорами одинаковой размерности, не используя готовые решения из библиотек."
   ]
  },
  {
   "cell_type": "code",
   "execution_count": 30,
   "metadata": {},
   "outputs": [
    {
     "name": "stdout",
     "output_type": "stream",
     "text": [
      "11.180339813232422\n"
     ]
    }
   ],
   "source": [
    "tensor1 = torch.tensor([1, 2, 3, 4, 5])\n",
    "tensor2 = torch.tensor([6, 7, 8, 9, 10])\n",
    "\n",
    "# Вычисляем квадраты разностей между соответствующими элементами тензоров\n",
    "squares = (tensor1 - tensor2) ** 2\n",
    "\n",
    "# Суммируем квадраты разностей\n",
    "sum_squares = squares.sum()\n",
    "\n",
    "# Вычисляем корень из суммы квадратов разностей\n",
    "distance = torch.sqrt(sum_squares)\n",
    "\n",
    "# Выводим результат\n",
    "print(distance.item())"
   ]
  },
  {
   "cell_type": "markdown",
   "metadata": {
    "id": "IkBRFTKa1RDO"
   },
   "source": [
    "4.5 Найти \"локальные максимумы\" в одномерном тензоре (т.е. значения, большие предыдущего и последующего) `torch.tensor([1, 3, 7, 1, 2, 6, 0, 1])` и вывести их индексы."
   ]
  },
  {
   "cell_type": "markdown",
   "metadata": {
    "id": "81F_B2ij1RDP"
   },
   "source": [
    "4.7 Решить матричное уравнение `A*X*B=-C` - найти матрицу X. Где `A = [[-1, 2, 4], [-3, 1, 2], [-3, 0, 1]]`, `B=[[3, -1], [2, 1]]`, `C=[[7, 21], [11, 8], [8, 4]]`."
   ]
  },
  {
   "cell_type": "markdown",
   "metadata": {
    "id": "1P7O19bj1RDP"
   },
   "source": [
    "4.8 Проверить, является ли система векторов a1 = (3; −3; 0; 7),\n",
    "a2 = (2; 2; 4; 7), a3 = (1; 2; 3; 4), a4 = (5; −4; 1; 3) линейно зависимой?"
   ]
  },
  {
   "cell_type": "markdown",
   "metadata": {},
   "source": [
    "# Лабораторная (домашняя) работа 1.1"
   ]
  },
  {
   "cell_type": "markdown",
   "metadata": {
    "id": "oxVeUiHR1RC_"
   },
   "source": [
    "1.4 (**Lab1**) Написать функцию, которая для целых значений `n` и `m` будет возвращать тензор размера `n`x`m`, заполненный текстурой размера 2x2, состоящей из следующих значений:\n",
    "\n",
    "```\n",
    "0 1\n",
    "\n",
    "2 3\n",
    "\n",
    "```\n",
    "\n",
    "Пример для n = 4 и m = 5:\n",
    "\n",
    "```\n",
    "0 1 0 1 0\n",
    "\n",
    "2 3 2 3 2\n",
    "\n",
    "0 1 0 1 0\n",
    "\n",
    "2 3 2 3 2\n",
    "```"
   ]
  },
  {
   "cell_type": "code",
   "execution_count": 51,
   "metadata": {},
   "outputs": [
    {
     "data": {
      "text/plain": [
       "tensor([[0, 1, 0, 1, 0],\n",
       "        [2, 3, 2, 3, 2],\n",
       "        [0, 1, 0, 1, 0],\n",
       "        [2, 3, 2, 3, 2]])"
      ]
     },
     "execution_count": 51,
     "metadata": {},
     "output_type": "execute_result"
    }
   ],
   "source": [
    "def first_one(n, m):\n",
    "    \n",
    "\n",
    "    mask = torch.tensor([[0, 1], [2, 3]])\n",
    "    return mask.repeat(n, m)[:n, :m]\n",
    "\n",
    "    \n",
    "\n",
    "n, m = 4, 5\n",
    "\n",
    "first_one(4, 5)"
   ]
  },
  {
   "cell_type": "markdown",
   "metadata": {
    "id": "x6zmMhyKBPWQ"
   },
   "source": [
    "1.7 (**Lab1.1**) Создать тензор из 20 случайных целых чисел от 0 до 100. Получить второе сверху значение в тензоре. Определить индекс этого значения."
   ]
  },
  {
   "cell_type": "code",
   "execution_count": 76,
   "metadata": {},
   "outputs": [
    {
     "name": "stdout",
     "output_type": "stream",
     "text": [
      "tensor([35, 48, 33, 19, 41, 20, 60, 30, 11, 54, 56, 49, 77, 71,  0, 54, 27, 56,\n",
      "         8, 96])\n",
      "tensor(48)\n",
      "1\n"
     ]
    }
   ],
   "source": [
    "t = torch.randint(0, 101, (20, ))\n",
    "\n",
    "print(t)\n",
    "print(t[1])\n",
    "print(t.nonzero()[1].item())"
   ]
  },
  {
   "cell_type": "markdown",
   "metadata": {
    "id": "iSY9Iday1RDF"
   },
   "source": [
    "2.2 (**Lab1**) Вычесть одномерный тензор `b_1d` из двухмерного тензора `a_2d`, так, чтобы каждый элемент одномерного тензора вычитался из всех элементов соответствующих строк двумерного тензора.\n",
    "\n",
    "_Пример:_\n",
    "\n",
    "Для входа:\n",
    "```python\n",
    "a_2d = torch.tensor([[3,3,3],[4,4,4],[5,5,5]])\n",
    "b_1d = torch.tensor([1,2,3])\n",
    "```\n",
    "\n",
    "Ожидается резульат:\n",
    "\n",
    "```python\n",
    "[[2 2 2]\n",
    " [2 2 2]\n",
    " [2 2 2]]\n",
    "```"
   ]
  },
  {
   "cell_type": "code",
   "execution_count": 28,
   "metadata": {},
   "outputs": [
    {
     "name": "stdout",
     "output_type": "stream",
     "text": [
      "tensor([[2, 2, 2],\n",
      "        [2, 2, 2],\n",
      "        [2, 2, 2]])\n"
     ]
    }
   ],
   "source": [
    "a_2d = torch.tensor([[3,3,3],[4,4,4],[5,5,5]])\n",
    "b_1d = torch.tensor([1,2,3])\n",
    "\n",
    "result = a_2d - b_1d.view(-1, 1)\n",
    "print(result)"
   ]
  },
  {
   "cell_type": "markdown",
   "metadata": {
    "id": "MnBq3nfy1RDG"
   },
   "source": [
    "3.2 (**Lab1**) Инвертировать порядок элементов в двумерном тензоре `torch.arange(9).view(3, 3)`.\n",
    "\n",
    "Ожидаемый результат:\n",
    "\n",
    "\n",
    "```python\n",
    "tensor([[8, 7, 6],\n",
    "       [5, 4, 3],\n",
    "       [2, 1, 0]])\n",
    "```"
   ]
  },
  {
   "cell_type": "code",
   "execution_count": 27,
   "metadata": {},
   "outputs": [
    {
     "data": {
      "text/plain": [
       "tensor([[8, 7, 6],\n",
       "        [5, 4, 3],\n",
       "        [2, 1, 0]])"
      ]
     },
     "execution_count": 27,
     "metadata": {},
     "output_type": "execute_result"
    }
   ],
   "source": [
    "t = torch.arange(9).view(3, 3)\n",
    "\n",
    "t.flip(dims=(-2, 1))"
   ]
  },
  {
   "cell_type": "markdown",
   "metadata": {
    "id": "HNfQjY8P1RDI"
   },
   "source": [
    "3.7 (**Lab1**) Создать два тензора размера 30 на 3 из случайных целых чисел из диапазона от 0 до 10 и найти все значения первого тензора, которые больше соответсвующих (по расположению) значений второго тензора. Подсчитать сумму этих значений."
   ]
  },
  {
   "cell_type": "code",
   "execution_count": 26,
   "metadata": {},
   "outputs": [
    {
     "name": "stdout",
     "output_type": "stream",
     "text": [
      "tensor([ 8,  6,  9,  3,  7,  5,  8, 10,  5,  8,  7,  9,  9,  5,  7,  9,  6, 10,\n",
      "         4, 10,  8, 10,  5, 10, 10,  8, 10,  5,  8,  9,  4,  1, 10, 10,  9,  9,\n",
      "         5,  5])\n",
      "Сумма значений в tensor1 больше, чем соответствующие значения в tensor2:  tensor(281)\n"
     ]
    }
   ],
   "source": [
    "tensor1 = torch.randint(0, 11, (30, 3))\n",
    "tensor2 = torch.randint(0, 11, (30, 3))\n",
    "\n",
    "result = tensor1[tensor1 > tensor2]\n",
    "print(result)\n",
    "sum_result = result.sum()\n",
    "print(\"Сумма значений в tensor1 больше, чем соответствующие значения в tensor2: \", sum_result)"
   ]
  },
  {
   "cell_type": "markdown",
   "metadata": {
    "id": "doBCxYJA1RDI"
   },
   "source": [
    "3.8 (**Lab1**) При помощи прихотливого индексирования для двухмерного тензора размерности (20, 20), состоящего из случайных целых чисел в пределах от 0 до 10 получить тензор элементов находящихся на диагонали, проходящей над основной диагональю."
   ]
  },
  {
   "cell_type": "code",
   "execution_count": 23,
   "metadata": {},
   "outputs": [
    {
     "name": "stdout",
     "output_type": "stream",
     "text": [
      "tensor([ 1,  5,  9,  5,  9, 10,  2,  7,  2,  0,  4,  9,  2,  3,  4,  2,  3,  3,\n",
      "         2,  1,  9,  0,  3, 10,  4,  1,  8,  3,  6,  5,  0,  9,  2,  9,  7,  5,\n",
      "         4, 10,  9,  3,  3, 10,  9,  2,  8,  1,  1,  0,  9,  9, 10,  6,  3,  3,\n",
      "         8,  9,  0, 10,  7,  6,  0,  9,  6,  8,  6,  7,  7,  2,  0,  7,  1,  6,\n",
      "         2,  1,  3,  2,  9,  1,  6,  9,  5,  1, 10,  0, 10,  3,  6,  9,  9,  9,\n",
      "         2, 10,  4,  1,  5,  8,  7,  8,  6,  2,  8,  2,  2,  8,  3,  6,  0,  7,\n",
      "         0,  2,  6,  2,  1,  6,  3,  6,  2,  0,  4,  5,  2,  6,  4,  5,  0,  3,\n",
      "         2, 10,  1,  1,  0,  0,  0,  6,  0,  6,  2,  4,  4,  7, 10,  3,  5, 10,\n",
      "         8,  5,  3,  6,  0, 10,  5,  3,  5,  3,  0,  3, 10,  6,  5,  4,  7,  6,\n",
      "         5, 10,  0, 10,  9,  2,  8,  0,  6,  6, 10, 10,  9,  3,  6,  1,  1,  3,\n",
      "         5,  3,  9,  6,  6,  9,  0,  3,  8,  2])\n"
     ]
    }
   ],
   "source": [
    "a = torch.randint(0, 11, (20, 20))\n",
    "\n",
    "# Получаем индексы элементов над основной диагональю\n",
    "idx = torch.triu_indices(20, 20, 1)\n",
    "\n",
    "# Используем индексы чтобы получить элементы ниже основной диагонали\n",
    "result = a[idx[0], idx[1]]\n",
    "\n",
    "print(result)"
   ]
  },
  {
   "cell_type": "markdown",
   "metadata": {
    "id": "6M1lkfLp1RDJ"
   },
   "source": [
    "3.9 (**Lab1**) Задать два двухмерных тензора `ar1` и `ar2` размерности (5, 10), состоящих из случайных целых чисел в пределах от 0 до 10. Удвоить все значения `ar1`, которые совпадают со значениями `ar2`, расположенными на аналогичных позициях."
   ]
  },
  {
   "cell_type": "code",
   "execution_count": 95,
   "metadata": {},
   "outputs": [
    {
     "data": {
      "text/plain": [
       "tensor([[16,  4,  5,  8,  7,  1,  8,  1,  4,  6],\n",
       "        [ 9,  1,  9, 10, 10,  2,  1,  4, 10, 10],\n",
       "        [10,  6,  4,  0,  0,  0,  0,  2,  2,  1],\n",
       "        [10,  6,  2,  6,  2,  5,  9, 14,  6,  8],\n",
       "        [18,  8,  5,  8,  9,  6,  4,  0,  8,  4]])"
      ]
     },
     "execution_count": 95,
     "metadata": {},
     "output_type": "execute_result"
    }
   ],
   "source": [
    "ar1 = torch.randint(0, 11, (5, 10))\n",
    "ar2 = torch.randint(0, 11, (5, 10))\n",
    "\n",
    "\n",
    "same_indices = (ar1 == ar2)\n",
    "\n",
    "ar1[same_indices] *= 2\n",
    "\n",
    "ar1"
   ]
  },
  {
   "cell_type": "markdown",
   "metadata": {
    "id": "ZeYlNWNE1RDK"
   },
   "source": [
    "3.12 (**Lab1**) Задан двумерный тензор `ar1` размерности (4, 7), состоящий из случайных  чисел в пределах от 0 до 1. Обнулить все значения в массиве, расположенные строго правее и ниже максимального элемента массива. "
   ]
  },
  {
   "cell_type": "code",
   "execution_count": 108,
   "metadata": {},
   "outputs": [
    {
     "name": "stdout",
     "output_type": "stream",
     "text": [
      "tensor([[0.3182, 0.8894, 0.0584, 0.5469, 0.3913, 0.6665, 0.6341],\n",
      "        [0.5763, 0.7242, 0.3565, 0.8093, 0.6279, 0.7240, 0.0859],\n",
      "        [0.6749, 0.8712, 0.8928, 0.6372, 0.0439, 0.7105, 0.6800],\n",
      "        [0.7320, 0.2271, 0.8191, 0.9990, 0.8138, 0.1561, 0.7042]])\n",
      "tensor(24) tensor(3) tensor(3)\n",
      "tensor([[0.3182, 0.8894, 0.0584, 0.5469, 0.0000, 0.0000, 0.0000],\n",
      "        [0.5763, 0.7242, 0.3565, 0.8093, 0.0000, 0.0000, 0.0000],\n",
      "        [0.6749, 0.8712, 0.8928, 0.6372, 0.0000, 0.0000, 0.0000],\n",
      "        [0.7320, 0.2271, 0.8191, 0.9990, 0.0000, 0.0000, 0.0000]])\n"
     ]
    }
   ],
   "source": [
    "ar1 = torch.rand(4, 7)\n",
    "print(ar1)\n",
    "\n",
    "max_index = torch.argmax(ar1)\n",
    "max_row, max_col = max_index // 7, max_index % 7\n",
    "print(max_index, max_row, max_col)\n",
    "\n",
    "# ar1[max_row+1:, max_col] = 0\n",
    "# ar1[max_row:, max_col+1:] = 0 \n",
    "ar1[max_row+1:, :] = 0\n",
    "ar1[:, max_col+1:] = 0\n",
    "\n",
    "\n",
    "print(ar1)"
   ]
  },
  {
   "cell_type": "markdown",
   "metadata": {
    "id": "GYU8DmNTDLN8"
   },
   "source": [
    "3.14 (**Lab1**) Создать тензор `arr` из 20 случайных целых чисел от 0 до 100. Найти самое частое значение в тензоре. \n",
    "Найти индексы в тензоре, соответствующие самому частому значению. Проверить, как работет алгоритм при двух значениях, имеющих наибольшую встречаемость, предложить приемлемое поведение алгоритма для этого случая. "
   ]
  },
  {
   "cell_type": "code",
   "execution_count": 21,
   "metadata": {},
   "outputs": [
    {
     "name": "stdout",
     "output_type": "stream",
     "text": [
      "Наиболее частое значение:  7\n",
      "Количество вхождений:  8\n",
      "Индексы наиболее частого значения:  tensor([6, 8])\n"
     ]
    }
   ],
   "source": [
    "arr = torch.tensor([71, 83, 40, 27, 36, 13,  7, 72,  7, 49, 43, 36, 38, 90,  5, 61, 93, 35,\n",
    "        96, 23])\n",
    "\n",
    "value, count = torch.mode(arr)\n",
    "print(\"Наиболее частое значение: \", value.item())\n",
    "print(\"Количество вхождений: \", count.item())\n",
    "\n",
    "indices = torch.where(arr == value.item())[0]\n",
    "print(\"Индексы наиболее частого значения: \", indices)"
   ]
  },
  {
   "cell_type": "markdown",
   "metadata": {
    "id": "B9xAv8TR1RDN"
   },
   "source": [
    "4.2 (**Lab1**) Найти все простые числа в пределах ста. (Для решения предлагается использовать Решето Эратосфена) Использовать не более 1 цикла (желательно)."
   ]
  },
  {
   "cell_type": "code",
   "execution_count": 19,
   "metadata": {},
   "outputs": [
    {
     "name": "stdout",
     "output_type": "stream",
     "text": [
      "[2, 3, 5, 7, 11, 13, 17, 19, 23, 29, 31, 37, 41, 43, 47, 53, 59, 61, 67, 71, 73, 79, 83, 89, 97]\n"
     ]
    }
   ],
   "source": [
    "# Создаем список чисел от 2 до 100\n",
    "numbers = list(range(2, 101))\n",
    "\n",
    "# Проходим по списку чисел\n",
    "for i in numbers:\n",
    "    # Если число не вычеркнуто, то оно простое\n",
    "    if i:\n",
    "        # Вычеркиваем все кратные числа\n",
    "        for j in range(i * 2, 101, i):\n",
    "            numbers[j - 2] = None\n",
    "\n",
    "# Выводим все простые числа\n",
    "primes = [x for x in numbers if x]\n",
    "print(primes)"
   ]
  },
  {
   "cell_type": "markdown",
   "metadata": {
    "id": "j-ZvjWDKDVMQ"
   },
   "source": [
    "4.4 (**Lab1**) Создать двумерный тензор 20 на 3, содержащий случайные целые числа от 0 до 100. \n",
    "Интерпретируя тензор как 20 векторов из 3х компонент, отсортировать его по длине векторов."
   ]
  },
  {
   "cell_type": "code",
   "execution_count": 17,
   "metadata": {},
   "outputs": [
    {
     "name": "stdout",
     "output_type": "stream",
     "text": [
      "tensor([[ 2, 20, 14],\n",
      "        [41, 12, 24],\n",
      "        [11, 17, 52],\n",
      "        [44, 40,  8],\n",
      "        [ 7, 30, 61],\n",
      "        [35, 48, 43],\n",
      "        [66, 17, 41],\n",
      "        [16, 35, 75],\n",
      "        [64, 60, 20],\n",
      "        [ 9, 49, 77],\n",
      "        [ 0, 55, 83],\n",
      "        [29, 80, 59],\n",
      "        [61, 88, 16],\n",
      "        [53, 70, 70],\n",
      "        [60, 58, 83],\n",
      "        [77, 66, 61],\n",
      "        [ 0, 94, 80],\n",
      "        [95, 81, 10],\n",
      "        [79, 10, 99],\n",
      "        [80, 78, 61]])\n"
     ]
    }
   ],
   "source": [
    "x = torch.randint(0, 101, (20, 3))\n",
    "\n",
    "# Вычисляем длину каждого вектора в тензоре, используя теорему Пифагора\n",
    "vector_lengths = torch.sqrt(torch.sum(torch.pow(x, 2), dim=1))\n",
    "\n",
    "# Сортируем по длине векторов\n",
    "sorted_indices = torch.argsort(vector_lengths)\n",
    "\n",
    "sorted_tensor = x[sorted_indices]\n",
    "\n",
    "print(sorted_tensor)"
   ]
  },
  {
   "cell_type": "markdown",
   "metadata": {
    "id": "VXD58rlc1RDP"
   },
   "source": [
    "4.6 (**Lab1**) Задан произвольный тензор torch (например массив из 100 случайных числе от 0 до 1). Необходимо найти в нем число, наиболее близкое к заданному."
   ]
  },
  {
   "cell_type": "code",
   "execution_count": 15,
   "metadata": {},
   "outputs": [
    {
     "name": "stdout",
     "output_type": "stream",
     "text": [
      "Массив: [0.45475531 0.98320871 0.22767062 0.71549059 0.54873855 0.63854072\n",
      " 0.10284472 0.54920843 0.40216378 0.01127652 0.46881638 0.5201347\n",
      " 0.60051309 0.38255391 0.18675073 0.05273213 0.66162349 0.52342332\n",
      " 0.05836714 0.31161702 0.66398346 0.63389186 0.72153661 0.80700418\n",
      " 0.25785156 0.87343829 0.92156633 0.45704882 0.43283953 0.13576878\n",
      " 0.22024478 0.02423398 0.52432987 0.86587921 0.50056102 0.88641665\n",
      " 0.20717061 0.59877181 0.35072651 0.61889444 0.13103606 0.70534704\n",
      " 0.94316368 0.82399077 0.02048267 0.60313206 0.71821163 0.36718161\n",
      " 0.55518091 0.32777155 0.31728126 0.7113216  0.75916784 0.14779861\n",
      " 0.16343398 0.86779199 0.67871268 0.70904613 0.70132836 0.13431334\n",
      " 0.49494813 0.01160882 0.31049159 0.82981118 0.52462487 0.15267211\n",
      " 0.32182124 0.42969049 0.06542294 0.38170432 0.86876694 0.19092657\n",
      " 0.05064044 0.33727341 0.60759032 0.82484292 0.39177473 0.96684585\n",
      " 0.03848756 0.19051333 0.7198776  0.09145507 0.87271981 0.88891441\n",
      " 0.17670552 0.4671042  0.09607913 0.70099182 0.9086074  0.77490534\n",
      " 0.73031564 0.9642329  0.72017847 0.29721702 0.05512426 0.55869157\n",
      " 0.57707961 0.2473575  0.29836224 0.86093897]\n",
      "Значение: 0.5\n",
      "Ближайшее значение: 0.5005610226605921\n"
     ]
    }
   ],
   "source": [
    "import numpy as np\n",
    "\n",
    "value = 0.5\n",
    "arr = np.random.rand(100)\n",
    "\n",
    "\n",
    "closest_index = np.abs(arr - value).argmin()\n",
    "closest_value = arr[closest_index]\n",
    "\n",
    "print(\"Массив:\", arr)\n",
    "print(\"Значение:\", value)\n",
    "print(\"Ближайшее значение:\", closest_value)"
   ]
  },
  {
   "cell_type": "markdown",
   "metadata": {
    "id": "Jg_bzMVS1RDQ"
   },
   "source": [
    "4.9 (**Lab1**) Сгенирировать тензор из 200 случайных целых чисел, нормально распрделенных cо стандартным отклонением $\\sigma = 10$ и матожиданием $\\mu = 0$. Построить тензор гистограммы с 20 бинами. "
   ]
  },
  {
   "cell_type": "code",
   "execution_count": 13,
   "metadata": {},
   "outputs": [
    {
     "data": {
      "image/png": "[encoded data removed]",
      "text/plain": [
       "<Figure size 640x480 with 1 Axes>"
      ]
     },
     "metadata": {},
     "output_type": "display_data"
    }
   ],
   "source": [
    "import matplotlib.pyplot as plt\n",
    "\n",
    "# Генерируем тензор из 200 случайных чисел, нормально распределенных с заданными параметрами\n",
    "tensor = torch.normal(mean=0, std=10, size=(200,))\n",
    "\n",
    "# Строим гистограмму с 20 бинами\n",
    "plt.hist(tensor, bins=20)\n",
    "plt.show()"
   ]
  },
  {
   "cell_type": "code",
   "execution_count": null,
   "metadata": {},
   "outputs": [],
   "source": []
  }
 ],
 "metadata": {
  "colab": {
   "name": "01_tensor_v1_blank.ipynb",
   "provenance": [],
   "toc_visible": true
  },
  "kernelspec": {
   "display_name": "Python 3",
   "language": "python",
   "name": "python3"
  },
  "language_info": {
   "codemirror_mode": {
    "name": "ipython",
    "version": 3
   },
   "file_extension": ".py",
   "mimetype": "text/x-python",
   "name": "python",
   "nbconvert_exporter": "python",
   "pygments_lexer": "ipython3",
   "version": "3.10.4"
  },
  "vscode": {
   "interpreter": {
    "hash": "3ad933181bd8a04b432d3370b9dc3b0662ad032c4dfaa4e4f1596c548f763858"
   }
  }
 },
 "nbformat": 4,
 "nbformat_minor": 1
}
