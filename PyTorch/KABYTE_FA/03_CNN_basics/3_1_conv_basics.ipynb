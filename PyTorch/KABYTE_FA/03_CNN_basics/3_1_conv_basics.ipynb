{
  "cells": [
    {
      "cell_type": "code",
      "execution_count": 11,
      "metadata": {
        "id": "6h_4IhYEAagl"
      },
      "outputs": [],
      "source": [
        "import numpy as np\n",
        "import torch\n",
        "from torch import nn\n",
        "import seaborn as sns\n",
        "import matplotlib.pyplot as plt"
      ]
    },
    {
      "cell_type": "markdown",
      "metadata": {
        "id": "2iOdCvxAAagm"
      },
      "source": [
        "# Теория"
      ]
    },
    {
      "cell_type": "markdown",
      "metadata": {
        "id": "XPcpid2pAagn"
      },
      "source": [
        "## Сверточные нейронные сети"
      ]
    },
    {
      "cell_type": "markdown",
      "metadata": {
        "id": "jR8bDasAAagn"
      },
      "source": [
        "### Операция свертки"
      ]
    },
    {
      "cell_type": "markdown",
      "metadata": {
        "id": "0LBbx2mxAagn"
      },
      "source": [
        "![image.png](attachment:image.png)"
      ]
    },
    {
      "cell_type": "markdown",
      "metadata": {
        "id": "byxkQ5gcAago"
      },
      "source": [
        "Простейшая имплементация, с двухмерным ядром (взято из https://towardsdatascience.com/how-are-convolutions-actually-performed-under-the-hood-226523ce7fbf)"
      ]
    },
    {
      "cell_type": "code",
      "execution_count": null,
      "metadata": {
        "id": "umWmxAcxAago"
      },
      "outputs": [],
      "source": [
        "def custom_conv_2d_simplest_case(x, kernel, bias):\n",
        "    kernel_shape = kernel.shape[0]\n",
        "    \n",
        "    # Assuming Padding = 0, stride = 1\n",
        "    output_shape = x.shape[0] - kernel_shape + 1\n",
        "    result = np.zeros((output_shape, output_shape))\n",
        "    \n",
        "    for row in range(x.shape[0] - 1):\n",
        "        for col in range(x.shape[1] - 1):\n",
        "            window = x[row: row + kernel_shape, col: col + kernel_shape]\n",
        "            result[row, col] = (kernel * window).sum()\n",
        "            \n",
        "    return result + bias"
      ]
    },
    {
      "cell_type": "markdown",
      "metadata": {
        "id": "5Z1bbeypAago"
      },
      "source": [
        "Попробуем посмотреть на вариант с трехмерным ядром"
      ]
    },
    {
      "cell_type": "markdown",
      "metadata": {
        "id": "9Yl7J_NyAago"
      },
      "source": [
        "Использование готового слоя nn.Conv2d"
      ]
    },
    {
      "cell_type": "code",
      "execution_count": null,
      "metadata": {
        "id": "pQuJHSjFAagp",
        "outputId": "66c12c04-ea9c-4b0b-c584-82ce68f5fb68"
      },
      "outputs": [
        {
          "data": {
            "text/plain": [
              "tensor([[[[0.4085]],\n",
              "\n",
              "         [[0.1071]]]], grad_fn=<ConvolutionBackward0>)"
            ]
          },
          "execution_count": 5,
          "metadata": {},
          "output_type": "execute_result"
        }
      ],
      "source": [
        "torch.random.manual_seed(1)\n",
        "\n",
        "conv_layer = torch.nn.Conv2d(in_channels=1, out_channels=2, kernel_size=3, bias=True)\n",
        "kernel = conv_layer.weight\n",
        "bias = conv_layer.bias if conv_layer.bias is not None else 0\n",
        "\n",
        "X = torch.rand((1, 1, 3, 3), dtype=torch.float)\n",
        "conv_layer(X)"
      ]
    },
    {
      "cell_type": "code",
      "execution_count": null,
      "metadata": {
        "id": "M_ovaEQpAagp",
        "outputId": "9190ea83-7a97-4275-8f37-98a59b7b5e5f"
      },
      "outputs": [
        {
          "data": {
            "text/plain": [
              "(torch.Size([2, 1, 3, 3]), torch.Size([2]))"
            ]
          },
          "execution_count": 6,
          "metadata": {},
          "output_type": "execute_result"
        }
      ],
      "source": [
        "kernel.shape, bias.shape"
      ]
    },
    {
      "cell_type": "markdown",
      "metadata": {
        "id": "lFDul2b_Aagq"
      },
      "source": [
        "Простая реализация"
      ]
    },
    {
      "cell_type": "code",
      "execution_count": null,
      "metadata": {
        "id": "OqdjeP5UAagq",
        "outputId": "3b37aa61-c304-46a7-e85f-684ca0ade55e"
      },
      "outputs": [
        {
          "data": {
            "text/plain": [
              "tensor(0., grad_fn=<SumBackward0>)"
            ]
          },
          "execution_count": 7,
          "metadata": {},
          "output_type": "execute_result"
        }
      ],
      "source": [
        "def custom_conv_2d(\n",
        "        x: torch.Tensor,  # [batch_size, channels, height, width]\n",
        "        kernel: torch.Tensor,  # [kernel_channels, channels, kernel_size, kernel_size]\n",
        "        bias: torch.Tensor,  # [1]\n",
        "        ) -> torch.Tensor:  # [channels, height, width]\n",
        "    \n",
        "    # Assuming batch size 1\n",
        "    x = x[0]  # [channels, height, width]\n",
        "    # Assuming channels 1\n",
        "    x = x[0]  # [height, width]\n",
        "    kernel = kernel[:, 0]  # [kernel_channels, kernel_size, kernel_size]\n",
        "    \n",
        "    kernel_channels = kernel.shape[0]\n",
        "    kernel_shape = kernel.shape[1]\n",
        "    \n",
        "    # Assuming Padding = 0, stride = 1\n",
        "    output_shape = x.shape[1] - kernel_shape + 1\n",
        "    result = torch.zeros((kernel_channels, output_shape, output_shape))\n",
        "    \n",
        "    for row in range(output_shape):\n",
        "        for col in range(output_shape):\n",
        "            window = x[row: row + kernel_shape, col: col + kernel_shape]\n",
        "            \n",
        "            result[:, row, col] = (kernel * window).sum((1, 2))\n",
        "    \n",
        "    return result + bias[:, None, None]\n",
        "\n",
        "# Разница с оригинальной имплементацией\n",
        "(conv_layer(X) - custom_conv_2d(X, kernel, bias)).abs().sum()"
      ]
    },
    {
      "cell_type": "markdown",
      "metadata": {
        "id": "6GDiYmGZAagq"
      },
      "source": [
        "Для интересующихся - полная реализация на PyTorch (https://discuss.pytorch.org/t/how-was-conv2d-implemented-in-pytorch/35223)  \n",
        "(понимание torch.nn.functional.unfold: https://stackoverflow.com/a/75186655)"
      ]
    },
    {
      "cell_type": "code",
      "execution_count": null,
      "metadata": {
        "id": "8XfU0H6eAagr",
        "outputId": "6e1c3a60-11c7-4747-ffcf-7df2dee5e491"
      },
      "outputs": [
        {
          "data": {
            "text/plain": [
              "tensor(0., grad_fn=<SumBackward0>)"
            ]
          },
          "execution_count": 8,
          "metadata": {},
          "output_type": "execute_result"
        }
      ],
      "source": [
        "def custom_conv_2d_full(x, kernel, bias):\n",
        "    result = torch.nn.functional.unfold(x, 3)\n",
        "\n",
        "    kernel_to_multiply = kernel.view(kernel.shape[0], -1).t()\n",
        "\n",
        "    result = (result.transpose(1, 2) @ kernel_to_multiply).transpose(1, 2)\n",
        "    return result.view(1, 2, 1, 1) + bias[:, None, None]\n",
        "\n",
        "(conv_layer(X) - custom_conv_2d_full(X, kernel, bias)).abs().sum()"
      ]
    },
    {
      "cell_type": "markdown",
      "metadata": {
        "id": "Hou1P6i1Aagr"
      },
      "source": [
        "#### Задача: используйте torch.nn.Conv2d с кастомными ядрами и визуализируйте на фото из FashionMNIST, оцените визуально разницу\n",
        "\n",
        "Ядра, для которых надо сделать визуализацию:\n",
        "\n",
        "[[1, 0, 0],\n",
        "\n",
        " [0, 1, 0],\n",
        "\n",
        " [0, 0, 1]]\n",
        "\n",
        "[[0, 1, 0],\n",
        "\n",
        " [0, 1, 0],\n",
        "\n",
        " [0, 1, 0]]\n",
        "\n",
        "[[0, 0, 1],\n",
        "\n",
        " [0, 0, 1],\n",
        "\n",
        " [0, 0, 1]]"
      ]
    },
    {
      "cell_type": "code",
      "execution_count": null,
      "metadata": {
        "id": "uHHDERzPAagr"
      },
      "outputs": [],
      "source": [
        "# Загрузка датасета\n",
        "from matplotlib import pyplot as plt\n",
        "from torchvision import datasets, transforms\n",
        "\n",
        "data_path = './data/fmnist'\n",
        "# данные в виде картинок 28x28\n",
        "# ToTensor превратит в тензоры 1x28x28\n",
        "dataset = datasets.FashionMNIST(data_path, train=True, download=True, transform=transforms.ToTensor())"
      ]
    },
    {
      "cell_type": "code",
      "execution_count": null,
      "metadata": {
        "id": "fnFCwD_IAagr",
        "outputId": "1ecbd607-0904-4274-b027-8687b01381ae"
      },
      "outputs": [
        {
          "data": {
            "image/png": "[encoded data removed]",
            "text/plain": [
              "<Figure size 640x480 with 1 Axes>"
            ]
          },
          "metadata": {},
          "output_type": "display_data"
        }
      ],
      "source": [
        "# Пример визуализации фото\n",
        "image, label = dataset[0]\n",
        "\n",
        "plt.imshow(image[0]);"
      ]
    },
    {
      "cell_type": "code",
      "execution_count": null,
      "metadata": {
        "id": "bM-cYOhxAags",
        "outputId": "f934ac6e-32be-4716-e1ea-0cebeed913c3"
      },
      "outputs": [
        {
          "data": {
            "text/plain": [
              "torch.Size([1, 28, 28, 1])"
            ]
          },
          "execution_count": 31,
          "metadata": {},
          "output_type": "execute_result"
        }
      ],
      "source": [
        "# conv_layer = torch.nn.Conv2d(..., bias=False)\n",
        "# <YOUR CODE>\n",
        "# Требуется вставить кастомные веса\n",
        "\n",
        "conv_layer = torch.nn.Conv2d(in_channels=image.shape[0], out_channels=1, kernel_size=3, stride=10, bias=False)\n",
        "\n",
        "image.view(*image.shape, -1).shape\n"
      ]
    },
    {
      "cell_type": "code",
      "execution_count": null,
      "metadata": {
        "id": "wzufJASjAags",
        "outputId": "ccb664e8-2c3e-4326-f426-46585267e05d"
      },
      "outputs": [
        {
          "data": {
            "text/plain": [
              "<matplotlib.image.AxesImage at 0x1f57ac8ad70>"
            ]
          },
          "execution_count": 33,
          "metadata": {},
          "output_type": "execute_result"
        },
        {
          "data": {
            "image/png": "[encoded data removed]",
            "text/plain": [
              "<Figure size 640x480 with 1 Axes>"
            ]
          },
          "metadata": {},
          "output_type": "display_data"
        }
      ],
      "source": [
        "kernel = torch.tensor([\n",
        "    [1, 0, 0],\n",
        "    [0, 1, 0],\n",
        "    [0, 0, 1]])[None, None, ...]\n",
        "conv_layer.weight = torch.nn.Parameter(kernel.float())\n",
        "conv_image = conv_layer(image[None])[0, 0]\n",
        "\n",
        "# conv_layer(conv_image)\n",
        "\n",
        "plt.imshow(conv_image.detach())"
      ]
    },
    {
      "cell_type": "markdown",
      "metadata": {
        "id": "TnO4ryftAags"
      },
      "source": [
        "### Stride (шаг)\n",
        "На сколько мы перемещаемся при каждой свертке\n",
        "\n",
        "![image.png](attachment:image.png)"
      ]
    },
    {
      "cell_type": "markdown",
      "metadata": {
        "id": "gXyNolMFAags"
      },
      "source": [
        "Как свертка двигается при kernel=3, stride=1, входное фото 5x5:\n",
        "\n",
        "![image.png](attachment:image.png)\n",
        "\n",
        "Если сделаем stride=2:\n",
        "\n",
        "![image.png](attachment:image-2.png)"
      ]
    },
    {
      "cell_type": "markdown",
      "metadata": {
        "id": "66dxoxCPAagt"
      },
      "source": [
        "Проверим:"
      ]
    },
    {
      "cell_type": "code",
      "execution_count": null,
      "metadata": {
        "id": "PUQBpAjCAagt",
        "outputId": "cbc9602f-0192-4676-fb24-fe2bd05267b7"
      },
      "outputs": [
        {
          "data": {
            "text/plain": [
              "torch.Size([1, 1, 3, 3])"
            ]
          },
          "execution_count": 34,
          "metadata": {},
          "output_type": "execute_result"
        }
      ],
      "source": [
        "X = torch.rand((1, 1, 5, 5), dtype=torch.float)\n",
        "\n",
        "conv_layer_stride_1 = torch.nn.Conv2d(in_channels=1, out_channels=1, kernel_size=3)\n",
        "conv_layer_stride_1(X).shape"
      ]
    },
    {
      "cell_type": "code",
      "execution_count": null,
      "metadata": {
        "id": "merJ6rvcAagt",
        "outputId": "0a1195a9-58d7-4c39-d8d2-503daef773d6"
      },
      "outputs": [
        {
          "data": {
            "text/plain": [
              "torch.Size([1, 1, 2, 2])"
            ]
          },
          "execution_count": 35,
          "metadata": {},
          "output_type": "execute_result"
        }
      ],
      "source": [
        "conv_layer_stride_2 = torch.nn.Conv2d(in_channels=1, out_channels=1, kernel_size=3, stride=2)\n",
        "conv_layer_stride_2(X).shape"
      ]
    },
    {
      "cell_type": "markdown",
      "metadata": {
        "id": "lVpmSuk9Aagt"
      },
      "source": [
        "#### Задача: повторите процедуру из прошлой задачи с одним из ядер, но с разными stride"
      ]
    },
    {
      "cell_type": "code",
      "execution_count": null,
      "metadata": {
        "id": "AT-yuWbBAagt",
        "outputId": "ebc0dfdf-bc6f-43d8-b002-bc30b19b4b11"
      },
      "outputs": [
        {
          "data": {
            "text/plain": [
              "<matplotlib.image.AxesImage at 0x1f57c4701c0>"
            ]
          },
          "execution_count": 40,
          "metadata": {},
          "output_type": "execute_result"
        },
        {
          "data": {
            "image/png": "[encoded data removed]",
            "text/plain": [
              "<Figure size 640x480 with 1 Axes>"
            ]
          },
          "metadata": {},
          "output_type": "display_data"
        }
      ],
      "source": [
        "# <YOUR CODE>\n",
        "conv_layer = torch.nn.Conv2d(in_channels=image.shape[0], out_channels=1, kernel_size=3, stride=5, bias=False)\n",
        "\n",
        "kernel = torch.tensor([\n",
        "    [1, 0, 0],\n",
        "    [0, 1, 0],\n",
        "    [0, 0, 1]])[None, None, ...]\n",
        "conv_layer.weight = torch.nn.Parameter(kernel.float())\n",
        "conv_image = conv_layer(image[None])[0, 0]\n",
        "\n",
        "# conv_layer(conv_image)\n",
        "\n",
        "plt.imshow(conv_image.detach())"
      ]
    },
    {
      "cell_type": "markdown",
      "metadata": {
        "id": "zaVCJZnsAagu"
      },
      "source": [
        "### Padding\n",
        "Просто добавляем к входной матрице на границе пустых пикселей (при padding=1 входная и выходная матрицы имеют один размер)\n",
        "\n",
        "![image.png](attachment:image.png)"
      ]
    },
    {
      "cell_type": "code",
      "execution_count": null,
      "metadata": {
        "id": "Z2SKo2ffAagu",
        "outputId": "3e9a47cd-3647-4324-8a0a-7d7ee2017de2"
      },
      "outputs": [
        {
          "data": {
            "text/plain": [
              "(torch.Size([1, 1, 5, 5]), torch.Size([1, 1, 5, 5]))"
            ]
          },
          "execution_count": 41,
          "metadata": {},
          "output_type": "execute_result"
        }
      ],
      "source": [
        "conv_layer_padding = torch.nn.Conv2d(in_channels=1, out_channels=1, kernel_size=3, padding=1)\n",
        "X.shape, conv_layer_padding(X).shape"
      ]
    },
    {
      "cell_type": "markdown",
      "metadata": {
        "id": "b6K4P060Aagu"
      },
      "source": [
        "Набор хороших визуализаций всего описанного выше: https://github.com/vdumoulin/conv_arithmetic/blob/master/README.md"
      ]
    },
    {
      "cell_type": "markdown",
      "metadata": {
        "id": "wN-epFwKAagu"
      },
      "source": [
        "#### Задача: добавьте разные padding к прошлой задаче"
      ]
    },
    {
      "cell_type": "code",
      "execution_count": null,
      "metadata": {
        "id": "K4edE6BxAagu",
        "outputId": "7606920f-66cd-47b5-9025-9559d5aa87b0"
      },
      "outputs": [
        {
          "data": {
            "text/plain": [
              "<matplotlib.image.AxesImage at 0x1f57c906e00>"
            ]
          },
          "execution_count": 51,
          "metadata": {},
          "output_type": "execute_result"
        },
        {
          "data": {
            "image/png": "[encoded data removed]",
            "text/plain": [
              "<Figure size 640x480 with 1 Axes>"
            ]
          },
          "metadata": {},
          "output_type": "display_data"
        }
      ],
      "source": [
        "# <YOUR CODE>\n",
        "conv_layer = torch.nn.Conv2d(image.shape[0], 1, 3, bias=False, stride=2, padding=30)\n",
        "kernel = torch.tensor([\n",
        "    [0, 0, 1],\n",
        "    [0, 0, 1],\n",
        "    [0, 0, 1]])[None, None, ...]\n",
        "conv_layer.weight = torch.nn.Parameter(kernel.float())\n",
        "conv_image = conv_layer(image[None])[0, 0]\n",
        "plt.imshow(conv_image.detach())\n"
      ]
    },
    {
      "cell_type": "markdown",
      "metadata": {
        "id": "KPTdFTEtAagv"
      },
      "source": [
        "### Receptive field"
      ]
    },
    {
      "cell_type": "markdown",
      "metadata": {
        "id": "htz7_8W7Aagv"
      },
      "source": [
        "![image.png](attachment:image.png)"
      ]
    },
    {
      "cell_type": "markdown",
      "metadata": {
        "id": "1LS5wT9yAagv"
      },
      "source": [
        "## Transfer learning"
      ]
    },
    {
      "cell_type": "markdown",
      "metadata": {
        "id": "tFck-sL3Aagv"
      },
      "source": [
        "Для облегчения обучения нейронных сетей стандартной практикой является использование так называемого transfer learning: берется уже обученная нейронная сеть на какой-либо задаче (обычно это задача в той же области, что и задача, которую вы хотите решить), и последние слои переобучаются на новую задачу.\n",
        "\n",
        "![image.png](attachment:image.png)"
      ]
    },
    {
      "cell_type": "markdown",
      "metadata": {
        "id": "kBLcqpNFAagv"
      },
      "source": [
        "При дообучении есть проблема с первыми итерациями бэкпропа градиентов: так как сначала ошибка модели большая, то и градиенты будут большими, что может \"сбросить\" предобученные веса, если они не заморожены. \n",
        "\n",
        "Поэтому существует стандартная практика при дообучении: использование вармапа (warmup) в LRScheduler - на первых итерациях learning rate будет очень маленьким чтобы не сбить модель. "
      ]
    },
    {
      "cell_type": "markdown",
      "metadata": {
        "id": "Wkl2yTVWAagv"
      },
      "source": [
        "# Задачи"
      ]
    },
    {
      "cell_type": "markdown",
      "metadata": {
        "id": "KuqvYHEXAagw"
      },
      "source": [
        "### 1 Решить задачу классификации в датасете Fashion MNIST, используя сверточные слои. \n",
        "1. Предложить архитектуру модели для решения задачи\n",
        "2. Посчитать количество параметров модели.\n",
        "3. Обучить модель.\n",
        "4. Вывести график функции потерь по эпохам. \n",
        "5. Используя тестовое множество\n",
        "\n",
        "  * Продемонстрировать работу модели: вывести несколько изображений, указать над ними правильный класс и класс, предсказанный моделью. \n",
        "\n",
        "  * Вывести матрицу ошибок.\n",
        "\n",
        "  * Вывести значение accuracy и f1 на тестовом множестве (обе метрики >= 0.7).\n",
        "\n",
        "* Сохранить модель"
      ]
    },
    {
      "cell_type": "markdown",
      "metadata": {
        "id": "HcSdCTKQAagw"
      },
      "source": [
        "### Датасет"
      ]
    },
    {
      "cell_type": "code",
      "execution_count": null,
      "metadata": {
        "id": "ZB2Kt0p8Aagw",
        "outputId": "f8f47218-2fcf-4b32-c0d0-f6b8646160cf"
      },
      "outputs": [
        {
          "name": "stdout",
          "output_type": "stream",
          "text": [
            "The autoreload extension is already loaded. To reload it, use:\n",
            "  %reload_ext autoreload\n"
          ]
        }
      ],
      "source": [
        "from pathlib import Path\n",
        "import sys\n",
        "\n",
        "import numpy as np\n",
        "import torch\n",
        "from torch import nn\n",
        "import torch.nn.functional as F\n",
        "from torchvision import datasets, transforms\n",
        "from torch.utils.data import DataLoader, random_split\n",
        "\n",
        "from tqdm.notebook import tqdm\n",
        "\n",
        "# Автоматически перезагружает код из модулей, если он был изменен\n",
        "# очень удобно при разработке модулей и параллельном использовании юпитер ноутбуков\n",
        "%load_ext autoreload\n",
        "%autoreload 2\n",
        "\n",
        "# Добавим папку byte-deep-learning в PATH \n",
        "# чтобы можно было импортировать библиотеку src, которая находится в этой папке\n",
        "repo_dir = Path().resolve().parent\n",
        "sys.path.append(str(repo_dir))\n",
        "\n",
        "from byte_deep_learning.src import engine\n",
        "\n",
        "# Не удалось внедрить модель byte_deep_learning.src.engine тк выводит ошибку _six при загрузке датасета,\n",
        "# какая-то проблема в версиях pytorch.."
      ]
    },
    {
      "cell_type": "code",
      "execution_count": null,
      "metadata": {
        "id": "mu40Rk6oAagw"
      },
      "outputs": [],
      "source": [
        "from pathlib import Path\n",
        "import sys\n",
        "\n",
        "import numpy as np\n",
        "import torch\n",
        "from torch import nn\n",
        "import torch.nn.functional as F\n",
        "from torchvision import datasets, transforms\n",
        "from torch.utils.data import DataLoader, random_split"
      ]
    },
    {
      "cell_type": "code",
      "execution_count": 1,
      "metadata": {
        "colab": {
          "base_uri": "https://localhost:8080/",
          "height": 443,
          "referenced_widgets": [
            "ac866c294c144a389c7c5fd31f425b0c",
            "9d14cd521ddd4187821184c8039a0678",
            "bd1a4ce746344758a38340829ef3cd71",
            "1c66f2475a4f417f9cce75e87dd4332c",
            "da6986729ebe4f2a8eb30a2902af0a2c",
            "e92dc5829bdc40f2846d3ba427e62cfa",
            "b8d7428fda7f4be0b406a9a3c61fb250",
            "f90ce12be1e843a3a40105f9824e327d",
            "3882851f53a4444d860ffa316cb83b5b",
            "97579713f0ec4535b6870c86ccade704",
            "6f5b9929a9fb4d21b2f20b8dc6e864c8",
            "b1fe1dc2994d4183bb6098e644aedac0",
            "e03c1be1d81948faa88f99211f778602",
            "cee76ea67ce845ccaf85b6517a8c7404",
            "13f4ba7ba9fd44628f18100c2e0765ef",
            "75d77f62c0ce48828690d1fd575a9766",
            "275477988bc64ee09c4eda0a51bb5147",
            "4cd8f21c80fc4be09aca45ab4eb1861b",
            "237e7479b89a45da9a591eda944a9540",
            "71f762f31e4d44a2bf8512a342be86d0",
            "546269171d2b4992a8ecd08a25f4ee36",
            "8d73a52ea00e4032a77694e11b27f797",
            "ad2e5c02cb7745328bbfa0fb8120836d",
            "158a926de6a8454dbe4638ae0c105c9b",
            "d8de4240e841454b9968e6d4187343c8",
            "eaa7c0888f014174be19ae6c2e440308",
            "22b4b8ac21b64effac674355d3813965",
            "c083b0fd948c42edab06c463e0de033c",
            "23b3e7a99d9449f581f6cad8ceede315",
            "5598406dc4654ebe80258d34b3fddaa7",
            "8a0b1b10ed11452196e3306979f8fa34",
            "5eca6beb76c34c5ababa7af74fdb9445",
            "9795fc6fb05f44af914d4fcc020f62c7",
            "fce42fee7f8a4378b87efab093594b08",
            "bf4b946c705b455482caecbb7cda42ad",
            "e87227266911492e95d0e65fb5fc2767",
            "669434396ab640918ce06cab841b8f60",
            "67082a5b7e254b9c883d1b2cf07caeae",
            "ef0fe506b9f64b86afafbca4ac3bd757",
            "d5025bf29b224c2a99b9d43ab860a1d6",
            "8e7e9ad44d5545ebaae0d046d810168e",
            "1f61fc81db594f19a34f5c518b20a608",
            "843ab4c85fae4b87bb316a2dba01c965",
            "f579b3006239456e8b8604d3f2ffea46"
          ]
        },
        "id": "A4-sMStRAagx",
        "outputId": "292596a4-8370-41a0-97b4-879fc63caaa6"
      },
      "outputs": [
        {
          "name": "stdout",
          "output_type": "stream",
          "text": [
            "Downloading http://fashion-mnist.s3-website.eu-central-1.amazonaws.com/train-images-idx3-ubyte.gz\n",
            "Downloading http://fashion-mnist.s3-website.eu-central-1.amazonaws.com/train-images-idx3-ubyte.gz to ./data/fmnist/FashionMNIST/raw/train-images-idx3-ubyte.gz\n"
          ]
        },
        {
          "data": {
            "application/vnd.jupyter.widget-view+json": {
              "model_id": "ac866c294c144a389c7c5fd31f425b0c",
              "version_major": 2,
              "version_minor": 0
            },
            "text/plain": [
              "  0%|          | 0/26421880 [00:00<?, ?it/s]"
            ]
          },
          "metadata": {},
          "output_type": "display_data"
        },
        {
          "name": "stdout",
          "output_type": "stream",
          "text": [
            "Extracting ./data/fmnist/FashionMNIST/raw/train-images-idx3-ubyte.gz to ./data/fmnist/FashionMNIST/raw\n",
            "\n",
            "Downloading http://fashion-mnist.s3-website.eu-central-1.amazonaws.com/train-labels-idx1-ubyte.gz\n",
            "Downloading http://fashion-mnist.s3-website.eu-central-1.amazonaws.com/train-labels-idx1-ubyte.gz to ./data/fmnist/FashionMNIST/raw/train-labels-idx1-ubyte.gz\n"
          ]
        },
        {
          "data": {
            "application/vnd.jupyter.widget-view+json": {
              "model_id": "b1fe1dc2994d4183bb6098e644aedac0",
              "version_major": 2,
              "version_minor": 0
            },
            "text/plain": [
              "  0%|          | 0/29515 [00:00<?, ?it/s]"
            ]
          },
          "metadata": {},
          "output_type": "display_data"
        },
        {
          "name": "stdout",
          "output_type": "stream",
          "text": [
            "Extracting ./data/fmnist/FashionMNIST/raw/train-labels-idx1-ubyte.gz to ./data/fmnist/FashionMNIST/raw\n",
            "\n",
            "Downloading http://fashion-mnist.s3-website.eu-central-1.amazonaws.com/t10k-images-idx3-ubyte.gz\n",
            "Downloading http://fashion-mnist.s3-website.eu-central-1.amazonaws.com/t10k-images-idx3-ubyte.gz to ./data/fmnist/FashionMNIST/raw/t10k-images-idx3-ubyte.gz\n"
          ]
        },
        {
          "data": {
            "application/vnd.jupyter.widget-view+json": {
              "model_id": "ad2e5c02cb7745328bbfa0fb8120836d",
              "version_major": 2,
              "version_minor": 0
            },
            "text/plain": [
              "  0%|          | 0/4422102 [00:00<?, ?it/s]"
            ]
          },
          "metadata": {},
          "output_type": "display_data"
        },
        {
          "name": "stdout",
          "output_type": "stream",
          "text": [
            "Extracting ./data/fmnist/FashionMNIST/raw/t10k-images-idx3-ubyte.gz to ./data/fmnist/FashionMNIST/raw\n",
            "\n",
            "Downloading http://fashion-mnist.s3-website.eu-central-1.amazonaws.com/t10k-labels-idx1-ubyte.gz\n",
            "Downloading http://fashion-mnist.s3-website.eu-central-1.amazonaws.com/t10k-labels-idx1-ubyte.gz to ./data/fmnist/FashionMNIST/raw/t10k-labels-idx1-ubyte.gz\n"
          ]
        },
        {
          "data": {
            "application/vnd.jupyter.widget-view+json": {
              "model_id": "fce42fee7f8a4378b87efab093594b08",
              "version_major": 2,
              "version_minor": 0
            },
            "text/plain": [
              "  0%|          | 0/5148 [00:00<?, ?it/s]"
            ]
          },
          "metadata": {},
          "output_type": "display_data"
        },
        {
          "name": "stdout",
          "output_type": "stream",
          "text": [
            "Extracting ./data/fmnist/FashionMNIST/raw/t10k-labels-idx1-ubyte.gz to ./data/fmnist/FashionMNIST/raw\n",
            "\n"
          ]
        }
      ],
      "source": [
        "# Загрузка датасета\n",
        "from matplotlib import pyplot as plt\n",
        "from torchvision import datasets, transforms\n",
        "\n",
        "data_path = './data/fmnist'\n",
        "# данные в виде картинок 28x28\n",
        "# ToTensor превратит в тензоры 1x28x28\n",
        "dataset = datasets.FashionMNIST(data_path, train=True, download=True, transform=transforms.ToTensor())"
      ]
    },
    {
      "cell_type": "markdown",
      "metadata": {
        "id": "EwGQuBTWAagx"
      },
      "source": [
        "### 1.1 Модель"
      ]
    },
    {
      "cell_type": "code",
      "execution_count": null,
      "metadata": {
        "id": "HSOa8I2bAagy"
      },
      "outputs": [],
      "source": [
        "class CustomCNN(nn.Module):\n",
        "    \n",
        "    def __init__(self, num_classes):\n",
        "        super().__init__()\n",
        "        self.layer1 = nn.Sequential(\n",
        "            nn.Conv2d(in_channels=1, out_channels=32, kernel_size=3, padding=1),\n",
        "            nn.BatchNorm2d(32),\n",
        "            nn.ReLU(),\n",
        "            nn.MaxPool2d(kernel_size=2, stride=2)\n",
        "        )\n",
        "        \n",
        "        self.layer2 = nn.Sequential(\n",
        "            nn.Conv2d(in_channels=32, out_channels=64, kernel_size=3),\n",
        "            nn.BatchNorm2d(64),\n",
        "            nn.ReLU(),\n",
        "            nn.MaxPool2d(2)\n",
        "        )\n",
        "        \n",
        "        self.fc1 = nn.Linear(in_features=64*6*6, out_features=600)\n",
        "        self.drop = nn.Dropout2d(0.25)\n",
        "        self.fc2 = nn.Linear(in_features=600, out_features=120)\n",
        "        self.fc3 = nn.Linear(in_features=120, out_features=10)\n",
        "\n",
        "    def forward(self, x):\n",
        "        out = self.layer1(x)\n",
        "        out = self.layer2(out)\n",
        "        out = out.view(out.size(0), -1)\n",
        "        out = self.fc1(out)\n",
        "        out = self.drop(out)\n",
        "        out = self.fc2(out)\n",
        "        out = self.fc3(out)\n",
        "        \n",
        "        return out"
      ]
    },
    {
      "cell_type": "markdown",
      "metadata": {
        "id": "CEXBbGJW9m2g"
      },
      "source": [
        "Архитектура модели состоит из двух последовательных слоев, каждый из которых содержит следующие слои:\n",
        "\n",
        "1. Слой свертки с ядром размером 3 * 3, заполнением (padding) = 1 (zero_padding) в первом слое и padding = 0 во втором. Шаг (stride) 1 в обоих слоях.\n",
        "2. Слой нормализации (Batch Normalization).\n",
        "3. Функция активации: ReLU.\n",
        "4. Слой максимальной подвыборки (Max Pooling) с ядром размером 2 * 2 и шагом 2.\n",
        "5. Выравнивание выходных данных для слоя плотного слоя (fully connected layer).\n",
        "6. 3 слоя плотности (fully connected layer) с различными входными/выходными характеристиками.\n",
        "7. Слой Dropout layer с вероятностью класса = 0,25\n",
        "\n",
        "Вся функциональность дана в методе forward, который определяет проход вперед сверточной нейронной сети (CNN).\n",
        "\n",
        "Наш входной образ меняется следующим образом:\n",
        "- Первый слой свертки: вход: 28 * 28 * 3, выход: 28 * 28 * 32\n",
        "- Первый слой максимальной подвыборки: вход: 28 * 28 * 32, выход: 14 * 14 * 32\n",
        "- Второй слой свертки: вход: 14 * 14 * 32, выход: 12 * 12 * 64\n",
        "- Второй слой максимальной подвыборки: 12 * 12 * 64, выход: 6 * 6 * 64"
      ]
    },
    {
      "cell_type": "code",
      "execution_count": null,
      "metadata": {
        "id": "kiUBDfG88gZR"
      },
      "outputs": [],
      "source": [
        "import torch\n",
        "import torch.nn as nn\n",
        "import torch.optim as optim\n",
        "from torch.utils.data import DataLoader\n",
        "\n",
        "from matplotlib import pyplot as plt\n",
        "from torchvision import datasets, transforms\n",
        "from torch.utils.data import random_split\n",
        "\n",
        "data_path = './data/fmnist'\n",
        "# данные в виде картинок 28x28\n",
        "# ToTensor превратит в тензоры 1x28x28\n",
        "dataset = datasets.FashionMNIST(data_path, train=True, download=True, transform=transforms.ToTensor())\n",
        "\n",
        "val_ratio = 0.2\n",
        "\n",
        "train_dataset, val_dataset = random_split(\n",
        "    dataset=dataset, \n",
        "    lengths=[int(len(dataset)*(1-val_ratio)), int(len(dataset)*val_ratio)],\n",
        ")\n",
        "\n",
        "batch_size = 64\n",
        "\n",
        "train_loader = DataLoader(train_dataset, batch_size=batch_size, shuffle=True)\n",
        "val_loader = DataLoader(val_dataset, batch_size=batch_size, shuffle=True)\n",
        "\n",
        "device = torch.device('cuda:0' if torch.cuda.is_available() else 'cpu')\n",
        "\n",
        "\n",
        "\n",
        "model = CustomCNN(num_classes=10).to(device)"
      ]
    },
    {
      "cell_type": "markdown",
      "metadata": {
        "id": "YfZLXiV8Aagz"
      },
      "source": [
        "### 1.2 Количество параметров модели"
      ]
    },
    {
      "cell_type": "code",
      "execution_count": 15,
      "metadata": {
        "colab": {
          "base_uri": "https://localhost:8080/",
          "height": 511
        },
        "id": "YtAMvx6aAagy",
        "outputId": "ee8fada6-702a-41fc-f769-76ba7e71f37e"
      },
      "outputs": [
        {
          "name": "stderr",
          "output_type": "stream",
          "text": [
            "/usr/local/lib/python3.9/dist-packages/torch/nn/functional.py:1331: UserWarning: dropout2d: Received a 2-D input to dropout2d, which is deprecated and will result in an error in a future release. To retain the behavior and silence this warning, please use dropout instead. Note that dropout2d exists to provide channel-wise dropout on inputs with 2 spatial dimensions, a channel dimension, and an optional batch dimension (i.e. 3D or 4D inputs).\n",
            "  warnings.warn(warn_msg)\n"
          ]
        },
        {
          "name": "stdout",
          "output_type": "stream",
          "text": [
            "Epoch 1/10, Train Loss: 0.44305920883019767, Test Loss: 0.330801567934612\n",
            "Epoch 2/10, Train Loss: 0.301077905913194, Test Loss: 0.30821094289422035\n",
            "Epoch 3/10, Train Loss: 0.2611768084069093, Test Loss: 0.2702160715422732\n",
            "Epoch 4/10, Train Loss: 0.23896310979127883, Test Loss: 0.26254805272563975\n",
            "Epoch 5/10, Train Loss: 0.21457751075426737, Test Loss: 0.2916348403755655\n",
            "Epoch 6/10, Train Loss: 0.19706357767681282, Test Loss: 0.29476501225949603\n",
            "Epoch 7/10, Train Loss: 0.1839642740935087, Test Loss: 0.2438822272927203\n",
            "Epoch 8/10, Train Loss: 0.16691160959005355, Test Loss: 0.2650812403001684\n",
            "Epoch 9/10, Train Loss: 0.15886616074169677, Test Loss: 0.2726661383194175\n",
            "Epoch 10/10, Train Loss: 0.14559171680361033, Test Loss: 0.26416507434654746\n"
          ]
        },
        {
          "data": {
            "image/png": "[encoded data removed]",
            "text/plain": [
              "<Figure size 432x288 with 1 Axes>"
            ]
          },
          "metadata": {
            "needs_background": "light"
          },
          "output_type": "display_data"
        },
        {
          "data": {
            "text/plain": [
              "<All keys matched successfully>"
            ]
          },
          "execution_count": 15,
          "metadata": {},
          "output_type": "execute_result"
        }
      ],
      "source": [
        "criterion = nn.CrossEntropyLoss()\n",
        "optimizer = optim.Adam(model.parameters(), lr=0.001)\n",
        "\n",
        "num_epochs = 10\n",
        "\n",
        "train_losses = []\n",
        "val_losses = []\n",
        "\n",
        "for epoch in range(num_epochs):\n",
        "    train_loss = 0.0\n",
        "    val_loss = 0.0\n",
        "\n",
        "    # Обучение на train_loader\n",
        "    model.train()\n",
        "    for i, (images, labels) in enumerate(train_loader):\n",
        "        images = images.to(device)\n",
        "        labels = labels.to(device)\n",
        "\n",
        "        optimizer.zero_grad()\n",
        "\n",
        "        outputs = model(images)\n",
        "        loss = criterion(outputs, labels)\n",
        "        loss.backward()\n",
        "        optimizer.step()\n",
        "\n",
        "        train_loss += loss.item()\n",
        "\n",
        "    # Валидация на val_loader\n",
        "    model.eval()\n",
        "    with torch.no_grad():\n",
        "        for i, (images, labels) in enumerate(val_loader):\n",
        "            images = images.to(device)\n",
        "            labels = labels.to(device)\n",
        "\n",
        "            outputs = model(images)\n",
        "            loss = criterion(outputs, labels)\n",
        "\n",
        "            val_loss += loss.item()\n",
        "\n",
        "    train_losses.append(train_loss/len(train_loader))\n",
        "    val_losses.append(val_loss/len(val_loader))\n",
        "\n",
        "    print(f'Epoch {epoch+1}/{num_epochs}, Train Loss: {train_losses[-1]}, Test Loss: {val_losses[-1]}')\n",
        "\n",
        "\n",
        "# Сохранение модели\n",
        "torch.save(model.state_dict(), 'fashion_mnist_cnn.pth')\n",
        "\n",
        "\n",
        "plt.plot(train_losses, label='Train Loss')\n",
        "plt.plot(val_losses, label='Test Loss')\n",
        "plt.legend()\n",
        "plt.show()\n",
        "\n",
        "test_dataset = datasets.FashionMNIST(data_path, train=False, download=True, transform=transforms.ToTensor())\n",
        "test_loader = DataLoader(test_dataset, batch_size=batch_size, shuffle=True)\n",
        "\n",
        "model = CustomCNN(num_classes=10).to(device)\n",
        "model.load_state_dict(torch.load('fashion_mnist_cnn.pth'))"
      ]
    },
    {
      "cell_type": "code",
      "execution_count": 18,
      "metadata": {
        "colab": {
          "base_uri": "https://localhost:8080/"
        },
        "id": "nhC_cOHLFD2x",
        "outputId": "5c73fa4a-65cf-494c-f767-d33ddcfe0d0e"
      },
      "outputs": [
        {
          "name": "stderr",
          "output_type": "stream",
          "text": [
            "/usr/local/lib/python3.9/dist-packages/torch/nn/functional.py:1331: UserWarning: dropout2d: Received a 2-D input to dropout2d, which is deprecated and will result in an error in a future release. To retain the behavior and silence this warning, please use dropout instead. Note that dropout2d exists to provide channel-wise dropout on inputs with 2 spatial dimensions, a channel dimension, and an optional batch dimension (i.e. 3D or 4D inputs).\n",
            "  warnings.warn(warn_msg)\n"
          ]
        },
        {
          "name": "stdout",
          "output_type": "stream",
          "text": [
            "Test Accuracy: 0.9136\n",
            "Test F1 Score: 0.9125619466967854\n"
          ]
        }
      ],
      "source": [
        "from sklearn.metrics import f1_score\n",
        "\n",
        "# Проверка на тестовом множестве\n",
        "model.eval()\n",
        "with torch.no_grad():\n",
        "    correct = 0\n",
        "    total = 0\n",
        "    y_true = []\n",
        "    y_pred = []\n",
        "    for images, labels in test_loader:\n",
        "        images = images.to(device)\n",
        "        labels = labels.to(device)\n",
        "\n",
        "        outputs = model(images)\n",
        "        _, predicted = torch.max(outputs.data, 1)\n",
        "\n",
        "        total += labels.size(0)\n",
        "        correct += (predicted == labels).sum().item()\n",
        "\n",
        "        y_true += labels.cpu().tolist()\n",
        "        y_pred += predicted.cpu().tolist()\n",
        "\n",
        "    acc = correct / total\n",
        "    f1 = f1_score(y_true, y_pred, average=\"macro\")\n",
        "\n",
        "    print(f'Test Accuracy: {acc}')\n",
        "    print(f'Test F1 Score: {f1}')"
      ]
    },
    {
      "cell_type": "code",
      "execution_count": 10,
      "metadata": {},
      "outputs": [],
      "source": [
        "import torch\n",
        "\n",
        "output = torch.tensor(\n",
        "    [[-9.8478e+00, -5.3888e+00, -8.7833e+00, -1.6873e+01, -1.6183e+01,\n",
        "         -1.5338e+00, -1.0253e+01,  2.6952e+00, -1.0943e+01,  1.1962e+01],\n",
        "        [-7.5756e+00, -1.0848e+01,  3.0433e+00, -6.2345e+00,  8.9207e+00,\n",
        "         -1.2696e+01,  1.8784e+00, -1.8889e+01, -4.2715e+00, -2.1463e+01]],\n",
        ")\n",
        "\n",
        "\n",
        "_, predicted = torch.max(output, 1)"
      ]
    },
    {
      "cell_type": "code",
      "execution_count": 14,
      "metadata": {},
      "outputs": [
        {
          "name": "stdout",
          "output_type": "stream",
          "text": [
            "tensor([0.6000, 0.7000, 1.0000])\n",
            "tensor([1, 2, 0])\n"
          ]
        }
      ],
      "source": [
        "outputs = torch.tensor([[0.2, 0.6, 0.2], [0.1, 0.2, 0.7], [1.0, 0.2, 0.7]])\n",
        "max_values, max_indices = torch.max(outputs, 1)\n",
        "print(max_values)      # tensor([0.6, 0.7])\n",
        "print(max_indices)     # tensor([1, 2])"
      ]
    },
    {
      "cell_type": "code",
      "execution_count": 12,
      "metadata": {},
      "outputs": [
        {
          "data": {
            "text/plain": [
              "(tensor([11.9620,  8.9207]), tensor([9, 4]))"
            ]
          },
          "execution_count": 12,
          "metadata": {},
          "output_type": "execute_result"
        }
      ],
      "source": [
        "_, predicted"
      ]
    },
    {
      "cell_type": "code",
      "execution_count": 11,
      "metadata": {
        "colab": {
          "base_uri": "https://localhost:8080/",
          "height": 765
        },
        "id": "JO534mRhAagz",
        "outputId": "e60a2ccd-8046-406c-99ca-798e3375da51"
      },
      "outputs": [
        {
          "data": {
            "image/png": "[encoded data removed]",
            "text/plain": [
              "<Figure size 720x360 with 10 Axes>"
            ]
          },
          "metadata": {
            "needs_background": "light"
          },
          "output_type": "display_data"
        },
        {
          "data": {
            "image/png": "[encoded data removed]",
            "text/plain": [
              "<Figure size 720x504 with 2 Axes>"
            ]
          },
          "metadata": {
            "needs_background": "light"
          },
          "output_type": "display_data"
        }
      ],
      "source": [
        "import seaborn as sns\n",
        "from sklearn.metrics import confusion_matrix\n",
        "# Вывод нескольких изображений и их предсказаний\n",
        "images, labels = next(iter(test_loader))\n",
        "\n",
        "outputs = model(images.to(device))\n",
        "_, predicted = torch.max(outputs.data, 1)\n",
        "\n",
        "fig, axs = plt.subplots(2, 5, figsize=(10, 5))\n",
        "fig.subplots_adjust(hspace=0.4, wspace=0.4)\n",
        "\n",
        "for i in range(2):\n",
        "    for j in range(5):\n",
        "        axs[i,j].imshow(images[j+i*5][0], cmap='gray')\n",
        "        axs[i,j].set_title(f'True: {dataset.classes[labels[j+i*5]]}\\nPredicted: {dataset.classes[predicted[j+i*5]]}')\n",
        "        axs[i,j].axis('off')\n",
        "\n",
        "# Вывод матрицы ошибок\n",
        "cm = confusion_matrix(y_true, y_pred)\n",
        "plt.figure(figsize=(10, 7))\n",
        "sns.heatmap(cm, annot=True, fmt='g')\n",
        "plt.xticks(np.arange(10)+0.5, dataset.classes, rotation=45)\n",
        "plt.yticks(np.arange(10)+0.5, dataset.classes, rotation=0)\n",
        "plt.xlabel('Predicted Label')\n",
        "plt.ylabel('True Label')\n",
        "plt.show()"
      ]
    },
    {
      "cell_type": "markdown",
      "metadata": {
        "id": "9QwHaPyNAagz"
      },
      "source": [
        "### 1.3 Обучение модели"
      ]
    },
    {
      "cell_type": "markdown",
      "metadata": {
        "id": "x6X84-zoAagz"
      },
      "source": [
        "### 1.4 Вывод графика ошибки\n",
        "\n",
        "Если работает tensorboard, можно просто его посмотреть\n",
        "\n",
        "В VS Code при наличии расширения tensorboard можно нажать ctrl/cmd + shift + P для запуска, либо Launch TensorBoard Session в ячейке ниже, если отображается"
      ]
    },
    {
      "cell_type": "markdown",
      "metadata": {
        "id": "0PYdO_05Aagz"
      },
      "source": [
        "### 1.5 Тест"
      ]
    },
    {
      "cell_type": "markdown",
      "metadata": {
        "id": "lHrnUkPjAag0"
      },
      "source": [
        "### 2 Задание 1 с Transfer Learning\n",
        "1. В качестве базовой архитектуры используйте предобученную модель resnet18: замените последний линейный слой на новый с количеством классов FashionMNIST, заморозьте веса всех слоев кроме последнего.  \n",
        "2. Посчитать количество замороженных и незамороженных параметров модели.\n",
        "3. Обучить модель с двумя LR Scheduler: WarmUp и MultiStepLR \n",
        "\n",
        "    *Для инференса на предобученной модели нужно будет модифицировать transform в датасетах, чтобы входной тензор имел 3 канала*.\n",
        "    \n",
        "    *Код WarmupScheduler взят из https://github.com/hysts/pytorch_warmup-scheduler, для использования нескольких планировщиков можно использовать torch.optim.lr_scheduler.ChainedScheduler*\n",
        "    \n",
        "    *Обратите внимание на разницу между эпохами и шагами (steps), по которым в нашем Trainer работают планировщики*\n",
        "4. Вывести график функции потерь по эпохам. \n",
        "5. Используя тестовое множество\n",
        "\n",
        "  * Продемонстрировать работу модели: вывести несколько изображений, указать над ними правильный класс и класс, предсказанный моделью. \n",
        "\n",
        "  * Вывести матрицу ошибок.\n",
        "\n",
        "  * Вывести значение accuracy и f1 на тестовом множестве.\n",
        "\n",
        "6. Сравнить модели из первого и второй задачи. В чем может быть причина их разницы, как можно исправить проблемы, которые могли появиться?"
      ]
    },
    {
      "cell_type": "markdown",
      "metadata": {
        "id": "GtEeJr8ZAag0"
      },
      "source": [
        "### 2.1 Загрузка модели"
      ]
    },
    {
      "cell_type": "code",
      "execution_count": 19,
      "metadata": {
        "colab": {
          "base_uri": "https://localhost:8080/"
        },
        "id": "XzR4dupX83jH",
        "outputId": "759dd0dd-16dd-45d0-9976-e8687c61a921"
      },
      "outputs": [
        {
          "name": "stderr",
          "output_type": "stream",
          "text": [
            "/usr/local/lib/python3.9/dist-packages/torchvision/models/_utils.py:208: UserWarning: The parameter 'pretrained' is deprecated since 0.13 and may be removed in the future, please use 'weights' instead.\n",
            "  warnings.warn(\n",
            "/usr/local/lib/python3.9/dist-packages/torchvision/models/_utils.py:223: UserWarning: Arguments other than a weight enum or `None` for 'weights' are deprecated since 0.13 and may be removed in the future. The current behavior is equivalent to passing `weights=ResNet18_Weights.IMAGENET1K_V1`. You can also use `weights=ResNet18_Weights.DEFAULT` to get the most up-to-date weights.\n",
            "  warnings.warn(msg)\n"
          ]
        }
      ],
      "source": [
        "# Шаг 1: Загрузка данных и преобразования\n",
        "data_path = 'data/'\n",
        "rgb_transform = transforms.Compose([transforms.Grayscale(num_output_channels=3),\n",
        "                                    transforms.Resize((224, 224)),\n",
        "                                    transforms.ToTensor()])\n",
        "\n",
        "train_dataset = datasets.FashionMNIST(data_path, train=True, download=True, transform=rgb_transform)\n",
        "test_dataset = datasets.FashionMNIST(data_path, train=False, download=True, transform=rgb_transform)\n",
        "\n",
        "valid_ratio = 0.2\n",
        "train_dataset, valid_dataset = random_split(dataset=train_dataset, lengths=[int((1-valid_ratio)*len(train_dataset)), int(valid_ratio*len(train_dataset))])\n",
        "\n",
        "batch_size = 64\n",
        "train_loader = DataLoader(train_dataset, batch_size=batch_size, shuffle=True)\n",
        "valid_loader = DataLoader(valid_dataset, batch_size=batch_size, shuffle=True)\n",
        "test_loader = DataLoader(test_dataset, batch_size=batch_size, shuffle=True)\n",
        "\n",
        "# Шаг 2: Загрузка предобученной модели и изменение последнего слоя\n",
        "resnet18 = torchvision.models.resnet18(pretrained=True)\n",
        "num_classes = len(test_dataset.classes)\n",
        "in_features = resnet18.fc.in_features\n",
        "resnet18.fc = torch.nn.Linear(in_features, num_classes)\n",
        "\n",
        "# Заморозка всех слоев, кроме последнего\n",
        "for param in resnet18.parameters():\n",
        "    param.requires_grad = False\n",
        "resnet18.fc.requires_grad = True"
      ]
    },
    {
      "cell_type": "markdown",
      "metadata": {
        "id": "Jw4Lqd0cAag0"
      },
      "source": [
        "### 2.2 Количество параметров модели"
      ]
    },
    {
      "cell_type": "code",
      "execution_count": null,
      "metadata": {
        "id": "hlDSp1USAag0"
      },
      "outputs": [],
      "source": [
        "# <YOUR CODE>"
      ]
    },
    {
      "cell_type": "markdown",
      "metadata": {
        "id": "VkAOpDvBERRc"
      },
      "source": [
        "- Выравнивание выходных данных: 6 * 6 * 64, выход: 2304\n",
        "- Первый слой плотности: вход: 2304, выход: 512\n",
        "- Второй слой плотности: вход: 512, выход: 128\n",
        "- Третий слой плотности: вход: 128, выход: 10\n",
        "\n",
        "Общая архитектура модели - resnet18 - 4 последовательных слоя (layer1, layer2, layer3, layer4),\n",
        " каждый из которых содержит несколько блоков BasicBlock.\n",
        "  Каждый BasicBlock состоит из двух сверточных слоев с Batch Normalization и функцией активации ReLU.\n",
        "   Некоторые блоки имеют дополнительный слой свертки для изменения размерности.\n",
        "    После последнего блока применяется слой Adaptive Average Pooling для усреднения\n",
        "     характеристик по всему пространству исходного изображения, а затем - слой плотности для классификации на выходе."
      ]
    },
    {
      "cell_type": "code",
      "execution_count": 5,
      "metadata": {
        "colab": {
          "base_uri": "https://localhost:8080/"
        },
        "id": "O-UhbrO4GjHr",
        "outputId": "4866a19e-e333-408d-ba38-ff6c8a9d8df9"
      },
      "outputs": [
        {
          "name": "stdout",
          "output_type": "stream",
          "text": [
            "Looking in indexes: https://pypi.org/simple, https://us-python.pkg.dev/colab-wheels/public/simple/\n",
            "Collecting pytorch-warmup-scheduler\n",
            "  Downloading pytorch_warmup_scheduler-0.0.1-py3-none-any.whl (3.4 kB)\n",
            "Requirement already satisfied: torch>=1.4 in /usr/local/lib/python3.9/dist-packages (from pytorch-warmup-scheduler) (1.13.1+cu116)\n",
            "Requirement already satisfied: typing-extensions in /usr/local/lib/python3.9/dist-packages (from torch>=1.4->pytorch-warmup-scheduler) (4.5.0)\n",
            "Installing collected packages: pytorch-warmup-scheduler\n",
            "Successfully installed pytorch-warmup-scheduler-0.0.1\n"
          ]
        }
      ],
      "source": [
        "!pip install pytorch-warmup-scheduler"
      ]
    },
    {
      "cell_type": "markdown",
      "metadata": {
        "id": "mZTvGN6JAag1"
      },
      "source": [
        "### 2.3 Обучение модели"
      ]
    },
    {
      "cell_type": "code",
      "execution_count": 18,
      "metadata": {
        "colab": {
          "base_uri": "https://localhost:8080/"
        },
        "id": "C5pw6fMLDPL3",
        "outputId": "d73ac5d4-31ff-4d05-9933-923a42dd74e5"
      },
      "outputs": [
        {
          "data": {
            "text/plain": [
              "<bound method Module.parameters of ResNet(\n",
              "  (conv1): Conv2d(3, 64, kernel_size=(7, 7), stride=(2, 2), padding=(3, 3), bias=False)\n",
              "  (bn1): BatchNorm2d(64, eps=1e-05, momentum=0.1, affine=True, track_running_stats=True)\n",
              "  (relu): ReLU(inplace=True)\n",
              "  (maxpool): MaxPool2d(kernel_size=3, stride=2, padding=1, dilation=1, ceil_mode=False)\n",
              "  (layer1): Sequential(\n",
              "    (0): BasicBlock(\n",
              "      (conv1): Conv2d(64, 64, kernel_size=(3, 3), stride=(1, 1), padding=(1, 1), bias=False)\n",
              "      (bn1): BatchNorm2d(64, eps=1e-05, momentum=0.1, affine=True, track_running_stats=True)\n",
              "      (relu): ReLU(inplace=True)\n",
              "      (conv2): Conv2d(64, 64, kernel_size=(3, 3), stride=(1, 1), padding=(1, 1), bias=False)\n",
              "      (bn2): BatchNorm2d(64, eps=1e-05, momentum=0.1, affine=True, track_running_stats=True)\n",
              "    )\n",
              "    (1): BasicBlock(\n",
              "      (conv1): Conv2d(64, 64, kernel_size=(3, 3), stride=(1, 1), padding=(1, 1), bias=False)\n",
              "      (bn1): BatchNorm2d(64, eps=1e-05, momentum=0.1, affine=True, track_running_stats=True)\n",
              "      (relu): ReLU(inplace=True)\n",
              "      (conv2): Conv2d(64, 64, kernel_size=(3, 3), stride=(1, 1), padding=(1, 1), bias=False)\n",
              "      (bn2): BatchNorm2d(64, eps=1e-05, momentum=0.1, affine=True, track_running_stats=True)\n",
              "    )\n",
              "  )\n",
              "  (layer2): Sequential(\n",
              "    (0): BasicBlock(\n",
              "      (conv1): Conv2d(64, 128, kernel_size=(3, 3), stride=(2, 2), padding=(1, 1), bias=False)\n",
              "      (bn1): BatchNorm2d(128, eps=1e-05, momentum=0.1, affine=True, track_running_stats=True)\n",
              "      (relu): ReLU(inplace=True)\n",
              "      (conv2): Conv2d(128, 128, kernel_size=(3, 3), stride=(1, 1), padding=(1, 1), bias=False)\n",
              "      (bn2): BatchNorm2d(128, eps=1e-05, momentum=0.1, affine=True, track_running_stats=True)\n",
              "      (downsample): Sequential(\n",
              "        (0): Conv2d(64, 128, kernel_size=(1, 1), stride=(2, 2), bias=False)\n",
              "        (1): BatchNorm2d(128, eps=1e-05, momentum=0.1, affine=True, track_running_stats=True)\n",
              "      )\n",
              "    )\n",
              "    (1): BasicBlock(\n",
              "      (conv1): Conv2d(128, 128, kernel_size=(3, 3), stride=(1, 1), padding=(1, 1), bias=False)\n",
              "      (bn1): BatchNorm2d(128, eps=1e-05, momentum=0.1, affine=True, track_running_stats=True)\n",
              "      (relu): ReLU(inplace=True)\n",
              "      (conv2): Conv2d(128, 128, kernel_size=(3, 3), stride=(1, 1), padding=(1, 1), bias=False)\n",
              "      (bn2): BatchNorm2d(128, eps=1e-05, momentum=0.1, affine=True, track_running_stats=True)\n",
              "    )\n",
              "  )\n",
              "  (layer3): Sequential(\n",
              "    (0): BasicBlock(\n",
              "      (conv1): Conv2d(128, 256, kernel_size=(3, 3), stride=(2, 2), padding=(1, 1), bias=False)\n",
              "      (bn1): BatchNorm2d(256, eps=1e-05, momentum=0.1, affine=True, track_running_stats=True)\n",
              "      (relu): ReLU(inplace=True)\n",
              "      (conv2): Conv2d(256, 256, kernel_size=(3, 3), stride=(1, 1), padding=(1, 1), bias=False)\n",
              "      (bn2): BatchNorm2d(256, eps=1e-05, momentum=0.1, affine=True, track_running_stats=True)\n",
              "      (downsample): Sequential(\n",
              "        (0): Conv2d(128, 256, kernel_size=(1, 1), stride=(2, 2), bias=False)\n",
              "        (1): BatchNorm2d(256, eps=1e-05, momentum=0.1, affine=True, track_running_stats=True)\n",
              "      )\n",
              "    )\n",
              "    (1): BasicBlock(\n",
              "      (conv1): Conv2d(256, 256, kernel_size=(3, 3), stride=(1, 1), padding=(1, 1), bias=False)\n",
              "      (bn1): BatchNorm2d(256, eps=1e-05, momentum=0.1, affine=True, track_running_stats=True)\n",
              "      (relu): ReLU(inplace=True)\n",
              "      (conv2): Conv2d(256, 256, kernel_size=(3, 3), stride=(1, 1), padding=(1, 1), bias=False)\n",
              "      (bn2): BatchNorm2d(256, eps=1e-05, momentum=0.1, affine=True, track_running_stats=True)\n",
              "    )\n",
              "  )\n",
              "  (layer4): Sequential(\n",
              "    (0): BasicBlock(\n",
              "      (conv1): Conv2d(256, 512, kernel_size=(3, 3), stride=(2, 2), padding=(1, 1), bias=False)\n",
              "      (bn1): BatchNorm2d(512, eps=1e-05, momentum=0.1, affine=True, track_running_stats=True)\n",
              "      (relu): ReLU(inplace=True)\n",
              "      (conv2): Conv2d(512, 512, kernel_size=(3, 3), stride=(1, 1), padding=(1, 1), bias=False)\n",
              "      (bn2): BatchNorm2d(512, eps=1e-05, momentum=0.1, affine=True, track_running_stats=True)\n",
              "      (downsample): Sequential(\n",
              "        (0): Conv2d(256, 512, kernel_size=(1, 1), stride=(2, 2), bias=False)\n",
              "        (1): BatchNorm2d(512, eps=1e-05, momentum=0.1, affine=True, track_running_stats=True)\n",
              "      )\n",
              "    )\n",
              "    (1): BasicBlock(\n",
              "      (conv1): Conv2d(512, 512, kernel_size=(3, 3), stride=(1, 1), padding=(1, 1), bias=False)\n",
              "      (bn1): BatchNorm2d(512, eps=1e-05, momentum=0.1, affine=True, track_running_stats=True)\n",
              "      (relu): ReLU(inplace=True)\n",
              "      (conv2): Conv2d(512, 512, kernel_size=(3, 3), stride=(1, 1), padding=(1, 1), bias=False)\n",
              "      (bn2): BatchNorm2d(512, eps=1e-05, momentum=0.1, affine=True, track_running_stats=True)\n",
              "    )\n",
              "  )\n",
              "  (avgpool): AdaptiveAvgPool2d(output_size=(1, 1))\n",
              "  (fc): Linear(in_features=512, out_features=10, bias=True)\n",
              ")>"
            ]
          },
          "execution_count": 18,
          "metadata": {},
          "output_type": "execute_result"
        }
      ],
      "source": [
        "resnet18.parameters"
      ]
    },
    {
      "cell_type": "code",
      "execution_count": 8,
      "metadata": {
        "colab": {
          "base_uri": "https://localhost:8080/",
          "height": 432
        },
        "id": "SKb0FYR6GcHM",
        "outputId": "4db17717-f921-4146-eb5b-8a57e4a5fe28"
      },
      "outputs": [
        {
          "name": "stdout",
          "output_type": "stream",
          "text": [
            "Epoch 1/1, step 100/750, train loss: 2.3657\n",
            "Epoch 1/1, step 200/750, train loss: 2.3701\n",
            "Epoch 1/1, step 300/750, train loss: 2.3809\n"
          ]
        },
        {
          "ename": "KeyboardInterrupt",
          "evalue": "ignored",
          "output_type": "error",
          "traceback": [
            "\u001b[0;31m---------------------------------------------------------------------------\u001b[0m",
            "\u001b[0;31mKeyboardInterrupt\u001b[0m                         Traceback (most recent call last)",
            "\u001b[0;32m<ipython-input-8-e0c9b735a105>\u001b[0m in \u001b[0;36m<module>\u001b[0;34m\u001b[0m\n\u001b[1;32m     26\u001b[0m         \u001b[0minputs\u001b[0m\u001b[0;34m,\u001b[0m \u001b[0mlabels\u001b[0m \u001b[0;34m=\u001b[0m \u001b[0mdata\u001b[0m\u001b[0;34m\u001b[0m\u001b[0;34m\u001b[0m\u001b[0m\n\u001b[1;32m     27\u001b[0m         \u001b[0moptimizer\u001b[0m\u001b[0;34m.\u001b[0m\u001b[0mzero_grad\u001b[0m\u001b[0;34m(\u001b[0m\u001b[0;34m)\u001b[0m\u001b[0;34m\u001b[0m\u001b[0;34m\u001b[0m\u001b[0m\n\u001b[0;32m---> 28\u001b[0;31m         \u001b[0moutputs\u001b[0m \u001b[0;34m=\u001b[0m \u001b[0mresnet18\u001b[0m\u001b[0;34m(\u001b[0m\u001b[0minputs\u001b[0m\u001b[0;34m)\u001b[0m\u001b[0;34m\u001b[0m\u001b[0;34m\u001b[0m\u001b[0m\n\u001b[0m\u001b[1;32m     29\u001b[0m         \u001b[0mloss\u001b[0m \u001b[0;34m=\u001b[0m \u001b[0mcriterion\u001b[0m\u001b[0;34m(\u001b[0m\u001b[0moutputs\u001b[0m\u001b[0;34m,\u001b[0m \u001b[0mlabels\u001b[0m\u001b[0;34m)\u001b[0m\u001b[0;34m\u001b[0m\u001b[0;34m\u001b[0m\u001b[0m\n\u001b[1;32m     30\u001b[0m         \u001b[0;31m# loss.backward()\u001b[0m\u001b[0;34m\u001b[0m\u001b[0;34m\u001b[0m\u001b[0m\n",
            "\u001b[0;32m/usr/local/lib/python3.9/dist-packages/torch/nn/modules/module.py\u001b[0m in \u001b[0;36m_call_impl\u001b[0;34m(self, *input, **kwargs)\u001b[0m\n\u001b[1;32m   1192\u001b[0m         if not (self._backward_hooks or self._forward_hooks or self._forward_pre_hooks or _global_backward_hooks\n\u001b[1;32m   1193\u001b[0m                 or _global_forward_hooks or _global_forward_pre_hooks):\n\u001b[0;32m-> 1194\u001b[0;31m             \u001b[0;32mreturn\u001b[0m \u001b[0mforward_call\u001b[0m\u001b[0;34m(\u001b[0m\u001b[0;34m*\u001b[0m\u001b[0minput\u001b[0m\u001b[0;34m,\u001b[0m \u001b[0;34m**\u001b[0m\u001b[0mkwargs\u001b[0m\u001b[0;34m)\u001b[0m\u001b[0;34m\u001b[0m\u001b[0;34m\u001b[0m\u001b[0m\n\u001b[0m\u001b[1;32m   1195\u001b[0m         \u001b[0;31m# Do not call functions when jit is used\u001b[0m\u001b[0;34m\u001b[0m\u001b[0;34m\u001b[0m\u001b[0m\n\u001b[1;32m   1196\u001b[0m         \u001b[0mfull_backward_hooks\u001b[0m\u001b[0;34m,\u001b[0m \u001b[0mnon_full_backward_hooks\u001b[0m \u001b[0;34m=\u001b[0m \u001b[0;34m[\u001b[0m\u001b[0;34m]\u001b[0m\u001b[0;34m,\u001b[0m \u001b[0;34m[\u001b[0m\u001b[0;34m]\u001b[0m\u001b[0;34m\u001b[0m\u001b[0;34m\u001b[0m\u001b[0m\n",
            "\u001b[0;32m/usr/local/lib/python3.9/dist-packages/torchvision/models/resnet.py\u001b[0m in \u001b[0;36mforward\u001b[0;34m(self, x)\u001b[0m\n\u001b[1;32m    283\u001b[0m \u001b[0;34m\u001b[0m\u001b[0m\n\u001b[1;32m    284\u001b[0m     \u001b[0;32mdef\u001b[0m \u001b[0mforward\u001b[0m\u001b[0;34m(\u001b[0m\u001b[0mself\u001b[0m\u001b[0;34m,\u001b[0m \u001b[0mx\u001b[0m\u001b[0;34m:\u001b[0m \u001b[0mTensor\u001b[0m\u001b[0;34m)\u001b[0m \u001b[0;34m->\u001b[0m \u001b[0mTensor\u001b[0m\u001b[0;34m:\u001b[0m\u001b[0;34m\u001b[0m\u001b[0;34m\u001b[0m\u001b[0m\n\u001b[0;32m--> 285\u001b[0;31m         \u001b[0;32mreturn\u001b[0m \u001b[0mself\u001b[0m\u001b[0;34m.\u001b[0m\u001b[0m_forward_impl\u001b[0m\u001b[0;34m(\u001b[0m\u001b[0mx\u001b[0m\u001b[0;34m)\u001b[0m\u001b[0;34m\u001b[0m\u001b[0;34m\u001b[0m\u001b[0m\n\u001b[0m\u001b[1;32m    286\u001b[0m \u001b[0;34m\u001b[0m\u001b[0m\n\u001b[1;32m    287\u001b[0m \u001b[0;34m\u001b[0m\u001b[0m\n",
            "\u001b[0;32m/usr/local/lib/python3.9/dist-packages/torchvision/models/resnet.py\u001b[0m in \u001b[0;36m_forward_impl\u001b[0;34m(self, x)\u001b[0m\n\u001b[1;32m    274\u001b[0m         \u001b[0mx\u001b[0m \u001b[0;34m=\u001b[0m \u001b[0mself\u001b[0m\u001b[0;34m.\u001b[0m\u001b[0mlayer2\u001b[0m\u001b[0;34m(\u001b[0m\u001b[0mx\u001b[0m\u001b[0;34m)\u001b[0m\u001b[0;34m\u001b[0m\u001b[0;34m\u001b[0m\u001b[0m\n\u001b[1;32m    275\u001b[0m         \u001b[0mx\u001b[0m \u001b[0;34m=\u001b[0m \u001b[0mself\u001b[0m\u001b[0;34m.\u001b[0m\u001b[0mlayer3\u001b[0m\u001b[0;34m(\u001b[0m\u001b[0mx\u001b[0m\u001b[0;34m)\u001b[0m\u001b[0;34m\u001b[0m\u001b[0;34m\u001b[0m\u001b[0m\n\u001b[0;32m--> 276\u001b[0;31m         \u001b[0mx\u001b[0m \u001b[0;34m=\u001b[0m \u001b[0mself\u001b[0m\u001b[0;34m.\u001b[0m\u001b[0mlayer4\u001b[0m\u001b[0;34m(\u001b[0m\u001b[0mx\u001b[0m\u001b[0;34m)\u001b[0m\u001b[0;34m\u001b[0m\u001b[0;34m\u001b[0m\u001b[0m\n\u001b[0m\u001b[1;32m    277\u001b[0m \u001b[0;34m\u001b[0m\u001b[0m\n\u001b[1;32m    278\u001b[0m         \u001b[0mx\u001b[0m \u001b[0;34m=\u001b[0m \u001b[0mself\u001b[0m\u001b[0;34m.\u001b[0m\u001b[0mavgpool\u001b[0m\u001b[0;34m(\u001b[0m\u001b[0mx\u001b[0m\u001b[0;34m)\u001b[0m\u001b[0;34m\u001b[0m\u001b[0;34m\u001b[0m\u001b[0m\n",
            "\u001b[0;32m/usr/local/lib/python3.9/dist-packages/torch/nn/modules/module.py\u001b[0m in \u001b[0;36m_call_impl\u001b[0;34m(self, *input, **kwargs)\u001b[0m\n\u001b[1;32m   1192\u001b[0m         if not (self._backward_hooks or self._forward_hooks or self._forward_pre_hooks or _global_backward_hooks\n\u001b[1;32m   1193\u001b[0m                 or _global_forward_hooks or _global_forward_pre_hooks):\n\u001b[0;32m-> 1194\u001b[0;31m             \u001b[0;32mreturn\u001b[0m \u001b[0mforward_call\u001b[0m\u001b[0;34m(\u001b[0m\u001b[0;34m*\u001b[0m\u001b[0minput\u001b[0m\u001b[0;34m,\u001b[0m \u001b[0;34m**\u001b[0m\u001b[0mkwargs\u001b[0m\u001b[0;34m)\u001b[0m\u001b[0;34m\u001b[0m\u001b[0;34m\u001b[0m\u001b[0m\n\u001b[0m\u001b[1;32m   1195\u001b[0m         \u001b[0;31m# Do not call functions when jit is used\u001b[0m\u001b[0;34m\u001b[0m\u001b[0;34m\u001b[0m\u001b[0m\n\u001b[1;32m   1196\u001b[0m         \u001b[0mfull_backward_hooks\u001b[0m\u001b[0;34m,\u001b[0m \u001b[0mnon_full_backward_hooks\u001b[0m \u001b[0;34m=\u001b[0m \u001b[0;34m[\u001b[0m\u001b[0;34m]\u001b[0m\u001b[0;34m,\u001b[0m \u001b[0;34m[\u001b[0m\u001b[0;34m]\u001b[0m\u001b[0;34m\u001b[0m\u001b[0;34m\u001b[0m\u001b[0m\n",
            "\u001b[0;32m/usr/local/lib/python3.9/dist-packages/torch/nn/modules/container.py\u001b[0m in \u001b[0;36mforward\u001b[0;34m(self, input)\u001b[0m\n\u001b[1;32m    202\u001b[0m     \u001b[0;32mdef\u001b[0m \u001b[0mforward\u001b[0m\u001b[0;34m(\u001b[0m\u001b[0mself\u001b[0m\u001b[0;34m,\u001b[0m \u001b[0minput\u001b[0m\u001b[0;34m)\u001b[0m\u001b[0;34m:\u001b[0m\u001b[0;34m\u001b[0m\u001b[0;34m\u001b[0m\u001b[0m\n\u001b[1;32m    203\u001b[0m         \u001b[0;32mfor\u001b[0m \u001b[0mmodule\u001b[0m \u001b[0;32min\u001b[0m \u001b[0mself\u001b[0m\u001b[0;34m:\u001b[0m\u001b[0;34m\u001b[0m\u001b[0;34m\u001b[0m\u001b[0m\n\u001b[0;32m--> 204\u001b[0;31m             \u001b[0minput\u001b[0m \u001b[0;34m=\u001b[0m \u001b[0mmodule\u001b[0m\u001b[0;34m(\u001b[0m\u001b[0minput\u001b[0m\u001b[0;34m)\u001b[0m\u001b[0;34m\u001b[0m\u001b[0;34m\u001b[0m\u001b[0m\n\u001b[0m\u001b[1;32m    205\u001b[0m         \u001b[0;32mreturn\u001b[0m \u001b[0minput\u001b[0m\u001b[0;34m\u001b[0m\u001b[0;34m\u001b[0m\u001b[0m\n\u001b[1;32m    206\u001b[0m \u001b[0;34m\u001b[0m\u001b[0m\n",
            "\u001b[0;32m/usr/local/lib/python3.9/dist-packages/torch/nn/modules/module.py\u001b[0m in \u001b[0;36m_call_impl\u001b[0;34m(self, *input, **kwargs)\u001b[0m\n\u001b[1;32m   1192\u001b[0m         if not (self._backward_hooks or self._forward_hooks or self._forward_pre_hooks or _global_backward_hooks\n\u001b[1;32m   1193\u001b[0m                 or _global_forward_hooks or _global_forward_pre_hooks):\n\u001b[0;32m-> 1194\u001b[0;31m             \u001b[0;32mreturn\u001b[0m \u001b[0mforward_call\u001b[0m\u001b[0;34m(\u001b[0m\u001b[0;34m*\u001b[0m\u001b[0minput\u001b[0m\u001b[0;34m,\u001b[0m \u001b[0;34m**\u001b[0m\u001b[0mkwargs\u001b[0m\u001b[0;34m)\u001b[0m\u001b[0;34m\u001b[0m\u001b[0;34m\u001b[0m\u001b[0m\n\u001b[0m\u001b[1;32m   1195\u001b[0m         \u001b[0;31m# Do not call functions when jit is used\u001b[0m\u001b[0;34m\u001b[0m\u001b[0;34m\u001b[0m\u001b[0m\n\u001b[1;32m   1196\u001b[0m         \u001b[0mfull_backward_hooks\u001b[0m\u001b[0;34m,\u001b[0m \u001b[0mnon_full_backward_hooks\u001b[0m \u001b[0;34m=\u001b[0m \u001b[0;34m[\u001b[0m\u001b[0;34m]\u001b[0m\u001b[0;34m,\u001b[0m \u001b[0;34m[\u001b[0m\u001b[0;34m]\u001b[0m\u001b[0;34m\u001b[0m\u001b[0;34m\u001b[0m\u001b[0m\n",
            "\u001b[0;32m/usr/local/lib/python3.9/dist-packages/torchvision/models/resnet.py\u001b[0m in \u001b[0;36mforward\u001b[0;34m(self, x)\u001b[0m\n\u001b[1;32m     94\u001b[0m         \u001b[0mout\u001b[0m \u001b[0;34m=\u001b[0m \u001b[0mself\u001b[0m\u001b[0;34m.\u001b[0m\u001b[0mrelu\u001b[0m\u001b[0;34m(\u001b[0m\u001b[0mout\u001b[0m\u001b[0;34m)\u001b[0m\u001b[0;34m\u001b[0m\u001b[0;34m\u001b[0m\u001b[0m\n\u001b[1;32m     95\u001b[0m \u001b[0;34m\u001b[0m\u001b[0m\n\u001b[0;32m---> 96\u001b[0;31m         \u001b[0mout\u001b[0m \u001b[0;34m=\u001b[0m \u001b[0mself\u001b[0m\u001b[0;34m.\u001b[0m\u001b[0mconv2\u001b[0m\u001b[0;34m(\u001b[0m\u001b[0mout\u001b[0m\u001b[0;34m)\u001b[0m\u001b[0;34m\u001b[0m\u001b[0;34m\u001b[0m\u001b[0m\n\u001b[0m\u001b[1;32m     97\u001b[0m         \u001b[0mout\u001b[0m \u001b[0;34m=\u001b[0m \u001b[0mself\u001b[0m\u001b[0;34m.\u001b[0m\u001b[0mbn2\u001b[0m\u001b[0;34m(\u001b[0m\u001b[0mout\u001b[0m\u001b[0;34m)\u001b[0m\u001b[0;34m\u001b[0m\u001b[0;34m\u001b[0m\u001b[0m\n\u001b[1;32m     98\u001b[0m \u001b[0;34m\u001b[0m\u001b[0m\n",
            "\u001b[0;32m/usr/local/lib/python3.9/dist-packages/torch/nn/modules/module.py\u001b[0m in \u001b[0;36m_call_impl\u001b[0;34m(self, *input, **kwargs)\u001b[0m\n\u001b[1;32m   1192\u001b[0m         if not (self._backward_hooks or self._forward_hooks or self._forward_pre_hooks or _global_backward_hooks\n\u001b[1;32m   1193\u001b[0m                 or _global_forward_hooks or _global_forward_pre_hooks):\n\u001b[0;32m-> 1194\u001b[0;31m             \u001b[0;32mreturn\u001b[0m \u001b[0mforward_call\u001b[0m\u001b[0;34m(\u001b[0m\u001b[0;34m*\u001b[0m\u001b[0minput\u001b[0m\u001b[0;34m,\u001b[0m \u001b[0;34m**\u001b[0m\u001b[0mkwargs\u001b[0m\u001b[0;34m)\u001b[0m\u001b[0;34m\u001b[0m\u001b[0;34m\u001b[0m\u001b[0m\n\u001b[0m\u001b[1;32m   1195\u001b[0m         \u001b[0;31m# Do not call functions when jit is used\u001b[0m\u001b[0;34m\u001b[0m\u001b[0;34m\u001b[0m\u001b[0m\n\u001b[1;32m   1196\u001b[0m         \u001b[0mfull_backward_hooks\u001b[0m\u001b[0;34m,\u001b[0m \u001b[0mnon_full_backward_hooks\u001b[0m \u001b[0;34m=\u001b[0m \u001b[0;34m[\u001b[0m\u001b[0;34m]\u001b[0m\u001b[0;34m,\u001b[0m \u001b[0;34m[\u001b[0m\u001b[0;34m]\u001b[0m\u001b[0;34m\u001b[0m\u001b[0;34m\u001b[0m\u001b[0m\n",
            "\u001b[0;32m/usr/local/lib/python3.9/dist-packages/torch/nn/modules/conv.py\u001b[0m in \u001b[0;36mforward\u001b[0;34m(self, input)\u001b[0m\n\u001b[1;32m    461\u001b[0m \u001b[0;34m\u001b[0m\u001b[0m\n\u001b[1;32m    462\u001b[0m     \u001b[0;32mdef\u001b[0m \u001b[0mforward\u001b[0m\u001b[0;34m(\u001b[0m\u001b[0mself\u001b[0m\u001b[0;34m,\u001b[0m \u001b[0minput\u001b[0m\u001b[0;34m:\u001b[0m \u001b[0mTensor\u001b[0m\u001b[0;34m)\u001b[0m \u001b[0;34m->\u001b[0m \u001b[0mTensor\u001b[0m\u001b[0;34m:\u001b[0m\u001b[0;34m\u001b[0m\u001b[0;34m\u001b[0m\u001b[0m\n\u001b[0;32m--> 463\u001b[0;31m         \u001b[0;32mreturn\u001b[0m \u001b[0mself\u001b[0m\u001b[0;34m.\u001b[0m\u001b[0m_conv_forward\u001b[0m\u001b[0;34m(\u001b[0m\u001b[0minput\u001b[0m\u001b[0;34m,\u001b[0m \u001b[0mself\u001b[0m\u001b[0;34m.\u001b[0m\u001b[0mweight\u001b[0m\u001b[0;34m,\u001b[0m \u001b[0mself\u001b[0m\u001b[0;34m.\u001b[0m\u001b[0mbias\u001b[0m\u001b[0;34m)\u001b[0m\u001b[0;34m\u001b[0m\u001b[0;34m\u001b[0m\u001b[0m\n\u001b[0m\u001b[1;32m    464\u001b[0m \u001b[0;34m\u001b[0m\u001b[0m\n\u001b[1;32m    465\u001b[0m \u001b[0;32mclass\u001b[0m \u001b[0mConv3d\u001b[0m\u001b[0;34m(\u001b[0m\u001b[0m_ConvNd\u001b[0m\u001b[0;34m)\u001b[0m\u001b[0;34m:\u001b[0m\u001b[0;34m\u001b[0m\u001b[0;34m\u001b[0m\u001b[0m\n",
            "\u001b[0;32m/usr/local/lib/python3.9/dist-packages/torch/nn/modules/conv.py\u001b[0m in \u001b[0;36m_conv_forward\u001b[0;34m(self, input, weight, bias)\u001b[0m\n\u001b[1;32m    457\u001b[0m                             \u001b[0mweight\u001b[0m\u001b[0;34m,\u001b[0m \u001b[0mbias\u001b[0m\u001b[0;34m,\u001b[0m \u001b[0mself\u001b[0m\u001b[0;34m.\u001b[0m\u001b[0mstride\u001b[0m\u001b[0;34m,\u001b[0m\u001b[0;34m\u001b[0m\u001b[0;34m\u001b[0m\u001b[0m\n\u001b[1;32m    458\u001b[0m                             _pair(0), self.dilation, self.groups)\n\u001b[0;32m--> 459\u001b[0;31m         return F.conv2d(input, weight, bias, self.stride,\n\u001b[0m\u001b[1;32m    460\u001b[0m                         self.padding, self.dilation, self.groups)\n\u001b[1;32m    461\u001b[0m \u001b[0;34m\u001b[0m\u001b[0m\n",
            "\u001b[0;31mKeyboardInterrupt\u001b[0m: "
          ]
        }
      ],
      "source": [
        "import torch\n",
        "import torchvision\n",
        "from torch.utils.data import DataLoader, random_split\n",
        "from torchvision import datasets, transforms\n",
        "import matplotlib.pyplot as plt\n",
        "from sklearn.metrics import confusion_matrix, f1_score, accuracy_score\n",
        "import numpy as np\n",
        "from pytorch_warmup_scheduler import WarmupScheduler\n",
        "\n",
        "\n",
        "\n",
        "# Шаг 3: Обучение модели с двумя планировщиками\n",
        "\n",
        "# Параметры обучения\n",
        "epochs = 1\n",
        "criterion = torch.nn.CrossEntropyLoss()\n",
        "optimizer = torch.optim.Adam(resnet18.fc.parameters(), lr=0.001)\n",
        "scheduler_warmup = WarmupScheduler(optimizer, warmup_epoch=5)\n",
        "scheduler_multistep = torch.optim.lr_scheduler.MultiStepLR(optimizer, milestones=[3, 6, 9], gamma=0.1)\n",
        "\n",
        "train_losses, valid_losses = [], []\n",
        "for epoch in range(epochs):\n",
        "    running_loss = 0\n",
        "    resnet18.train()\n",
        "    for i, data in enumerate(train_loader):\n",
        "        inputs, labels = data\n",
        "        optimizer.zero_grad()\n",
        "        outputs = resnet18(inputs)\n",
        "        loss = criterion(outputs, labels)\n",
        "        loss.backward()\n",
        "        optimizer.step()\n",
        "        scheduler_warmup.step()\n",
        "        scheduler_multistep.step()\n",
        "\n",
        "        running_loss += loss.item()\n",
        "        if i % 100 == 99:\n",
        "            print(f\"Epoch {epoch+1}/{epochs}, step {i+1}/{len(train_loader)}, train loss: {running_loss/100:.4f}\")\n",
        "            running_loss = 0\n",
        "\n",
        "    # Подсчет функции потерь на валидационной выборке\n",
        "    resnet18.eval()\n",
        "    with torch.no_grad():\n",
        "        valid_loss = 0\n",
        "        for data in valid_loader:\n",
        "            inputs, labels = data\n",
        "            outputs = resnet18(inputs)\n",
        "            valid_loss += criterion(outputs, labels).item()\n",
        "        valid_losses.append(valid_loss/len(valid_loader))\n",
        "    train_losses.append(loss.item())\n",
        "\n"
      ]
    },
    {
      "cell_type": "markdown",
      "metadata": {
        "id": "rRwoCO0SAag1"
      },
      "source": [
        "### 2.5 Тест"
      ]
    },
    {
      "cell_type": "code",
      "execution_count": 9,
      "metadata": {
        "colab": {
          "base_uri": "https://localhost:8080/",
          "height": 521
        },
        "id": "vp1i_1IRAag1",
        "outputId": "9715278a-27dd-45bf-e1e6-88feed731cbd"
      },
      "outputs": [
        {
          "data": {
            "image/png": "[encoded data removed]",
            "text/plain": [
              "<Figure size 432x288 with 1 Axes>"
            ]
          },
          "metadata": {
            "needs_background": "light"
          },
          "output_type": "display_data"
        },
        {
          "name": "stdout",
          "output_type": "stream",
          "text": [
            "Confusion matrix:\n",
            " [[  8 588  46 205  33  78   9  17   5  11]\n",
            " [  4 250  35 390 269   5   0  40   2   5]\n",
            " [  9 266 279 280  33  21   6  45   3  58]\n",
            " [ 20 341  40 414  48  83  11  10   2  31]\n",
            " [ 38 358 179 216  36  61   5  33   3  71]\n",
            " [  0 311 491  25  44   8  60  60   1   0]\n",
            " [ 16 443 128 264  22  55   7  32   5  28]\n",
            " [  0 334 347  39 226   7  14  27   6   0]\n",
            " [  3 472 352 104  11  24   9  10   4  11]\n",
            " [  1 324 366 188  30  26  16  30   1  18]]\n",
            "Accuracy: 0.1051\n",
            "F1 score: 0.07006699726964101\n"
          ]
        }
      ],
      "source": [
        "# Шаг 4: Вывод графика функции потерь по эпохам\n",
        "plt.plot(train_losses, label=\"Train loss\")\n",
        "plt.plot(valid_losses, label=\"Valid loss\")\n",
        "plt.title(\"Training/Validation Loss\")\n",
        "plt.xlabel(\"Epoch\")\n",
        "plt.ylabel(\"Loss\")\n",
        "plt.legend()\n",
        "plt.show()\n",
        "\n",
        "# Шаг 5: Продемонстрировать работу модели на тестовом множестве\n",
        "resnet18.eval()\n",
        "with torch.no_grad():\n",
        "    y_true = []\n",
        "    y_pred = []\n",
        "    for data in test_loader:\n",
        "        inputs, labels = data\n",
        "        outputs = resnet18(inputs)\n",
        "        _, predicted = torch.max(outputs.data, 1)\n",
        "        y_true.extend(labels.numpy())\n",
        "        y_pred.extend(predicted.numpy())\n",
        "\n",
        "# Вывод матрицы ошибок\n",
        "conf_matrix = confusion_matrix(y_true, y_pred)\n",
        "print(\"Confusion matrix:\\n\", conf_matrix)\n",
        "\n",
        "# Вывод accuracy и f1 на тестовом множестве\n",
        "accuracy = accuracy_score(y_true, y_pred)\n",
        "f1 = f1_score(y_true, y_pred, average=\"weighted\")\n",
        "print(\"Accuracy:\", accuracy)\n",
        "print(\"F1 score:\", f1)"
      ]
    },
    {
      "cell_type": "code",
      "execution_count": 16,
      "metadata": {
        "colab": {
          "base_uri": "https://localhost:8080/",
          "height": 477
        },
        "id": "hkaVqRv8Co3Y",
        "outputId": "687c5f84-f0cb-4a37-9ad9-d0a1aa1123fe"
      },
      "outputs": [
        {
          "data": {
            "image/png": "[encoded data removed]",
            "text/plain": [
              "<Figure size 720x504 with 2 Axes>"
            ]
          },
          "metadata": {
            "needs_background": "light"
          },
          "output_type": "display_data"
        }
      ],
      "source": [
        "# Вывод матрицы ошибок\n",
        "cm = confusion_matrix(y_true, y_pred)\n",
        "plt.figure(figsize=(10, 7))\n",
        "sns.heatmap(cm, annot=True, fmt='g')\n",
        "plt.xticks(np.arange(10)+0.5, test_dataset.classes, rotation=45)\n",
        "plt.yticks(np.arange(10)+0.5, test_dataset.classes, rotation=0)\n",
        "plt.xlabel('Predicted Label')\n",
        "plt.ylabel('True Label')\n",
        "plt.show()"
      ]
    },
    {
      "cell_type": "markdown",
      "metadata": {
        "id": "B_TiRyzdCVln"
      },
      "source": [
        "Accuracy и f1 низкие, тк не удалось полностью обучить модель, колаб завершает сессию, а всё обучение может длиться более 6 часов.."
      ]
    },
    {
      "cell_type": "markdown",
      "metadata": {
        "id": "C_GrHbjjAag2"
      },
      "source": [
        "### 2.6 Размышления"
      ]
    },
    {
      "cell_type": "markdown",
      "metadata": {
        "id": "WcTp1b6B-2XE"
      },
      "source": [
        "В ходе обучения предобученной модели resnet18 на датасете fashionmnist используется трансформация данных, разделение выборки на обучающую и валидационную, загрузка предобученной модели и изменение последнего слоя. Затем модель обучается с помощью двух планировщиков: планировщика разогрева (warmup scheduler) и многократного шага (multi-step scheduler).\n",
        "\n",
        "Обучение нашей модели показало значение accuracy ~ 0.91, \n",
        "resnet18 на fashionmnist обучается до accuracy ~ 0.96\n",
        "\n",
        "Можно сказать, что данная модель очень эффективна для классификации изображений одежды на датасете FashionMNIST. Однако, обучение модели занимает очень много времени, так как используется предобученная модель. Используемые планировщики позволяют улучшить качество модели и снизить функцию потерь\n",
        "\n"
      ]
    },
    {
      "cell_type": "code",
      "execution_count": null,
      "metadata": {
        "id": "jPj8OPAXB35v"
      },
      "outputs": [],
      "source": []
    }
  ],
  "metadata": {
    "accelerator": "GPU",
    "colab": {
      "provenance": [],
      "toc_visible": true
    },
    "kernelspec": {
      "display_name": "Python 3",
      "name": "python3"
    },
    "language_info": {
      "codemirror_mode": {
        "name": "ipython",
        "version": 3
      },
      "file_extension": ".py",
      "mimetype": "text/x-python",
      "name": "python",
      "nbconvert_exporter": "python",
      "pygments_lexer": "ipython3",
      "version": "3.10.10"
    },
    "widgets": {
      "application/vnd.jupyter.widget-state+json": {
        "13f4ba7ba9fd44628f18100c2e0765ef": {
          "model_module": "@jupyter-widgets/controls",
          "model_module_version": "1.5.0",
          "model_name": "HTMLModel",
          "state": {
            "_dom_classes": [],
            "_model_module": "@jupyter-widgets/controls",
            "_model_module_version": "1.5.0",
            "_model_name": "HTMLModel",
            "_view_count": null,
            "_view_module": "@jupyter-widgets/controls",
            "_view_module_version": "1.5.0",
            "_view_name": "HTMLView",
            "description": "",
            "description_tooltip": null,
            "layout": "IPY_MODEL_546269171d2b4992a8ecd08a25f4ee36",
            "placeholder": "​",
            "style": "IPY_MODEL_8d73a52ea00e4032a77694e11b27f797",
            "value": " 29515/29515 [00:00&lt;00:00, 280212.69it/s]"
          }
        },
        "158a926de6a8454dbe4638ae0c105c9b": {
          "model_module": "@jupyter-widgets/controls",
          "model_module_version": "1.5.0",
          "model_name": "HTMLModel",
          "state": {
            "_dom_classes": [],
            "_model_module": "@jupyter-widgets/controls",
            "_model_module_version": "1.5.0",
            "_model_name": "HTMLModel",
            "_view_count": null,
            "_view_module": "@jupyter-widgets/controls",
            "_view_module_version": "1.5.0",
            "_view_name": "HTMLView",
            "description": "",
            "description_tooltip": null,
            "layout": "IPY_MODEL_c083b0fd948c42edab06c463e0de033c",
            "placeholder": "​",
            "style": "IPY_MODEL_23b3e7a99d9449f581f6cad8ceede315",
            "value": "100%"
          }
        },
        "1c66f2475a4f417f9cce75e87dd4332c": {
          "model_module": "@jupyter-widgets/controls",
          "model_module_version": "1.5.0",
          "model_name": "HTMLModel",
          "state": {
            "_dom_classes": [],
            "_model_module": "@jupyter-widgets/controls",
            "_model_module_version": "1.5.0",
            "_model_name": "HTMLModel",
            "_view_count": null,
            "_view_module": "@jupyter-widgets/controls",
            "_view_module_version": "1.5.0",
            "_view_name": "HTMLView",
            "description": "",
            "description_tooltip": null,
            "layout": "IPY_MODEL_97579713f0ec4535b6870c86ccade704",
            "placeholder": "​",
            "style": "IPY_MODEL_6f5b9929a9fb4d21b2f20b8dc6e864c8",
            "value": " 26421880/26421880 [00:01&lt;00:00, 25368753.30it/s]"
          }
        },
        "1f61fc81db594f19a34f5c518b20a608": {
          "model_module": "@jupyter-widgets/controls",
          "model_module_version": "1.5.0",
          "model_name": "ProgressStyleModel",
          "state": {
            "_model_module": "@jupyter-widgets/controls",
            "_model_module_version": "1.5.0",
            "_model_name": "ProgressStyleModel",
            "_view_count": null,
            "_view_module": "@jupyter-widgets/base",
            "_view_module_version": "1.2.0",
            "_view_name": "StyleView",
            "bar_color": null,
            "description_width": ""
          }
        },
        "22b4b8ac21b64effac674355d3813965": {
          "model_module": "@jupyter-widgets/base",
          "model_module_version": "1.2.0",
          "model_name": "LayoutModel",
          "state": {
            "_model_module": "@jupyter-widgets/base",
            "_model_module_version": "1.2.0",
            "_model_name": "LayoutModel",
            "_view_count": null,
            "_view_module": "@jupyter-widgets/base",
            "_view_module_version": "1.2.0",
            "_view_name": "LayoutView",
            "align_content": null,
            "align_items": null,
            "align_self": null,
            "border": null,
            "bottom": null,
            "display": null,
            "flex": null,
            "flex_flow": null,
            "grid_area": null,
            "grid_auto_columns": null,
            "grid_auto_flow": null,
            "grid_auto_rows": null,
            "grid_column": null,
            "grid_gap": null,
            "grid_row": null,
            "grid_template_areas": null,
            "grid_template_columns": null,
            "grid_template_rows": null,
            "height": null,
            "justify_content": null,
            "justify_items": null,
            "left": null,
            "margin": null,
            "max_height": null,
            "max_width": null,
            "min_height": null,
            "min_width": null,
            "object_fit": null,
            "object_position": null,
            "order": null,
            "overflow": null,
            "overflow_x": null,
            "overflow_y": null,
            "padding": null,
            "right": null,
            "top": null,
            "visibility": null,
            "width": null
          }
        },
        "237e7479b89a45da9a591eda944a9540": {
          "model_module": "@jupyter-widgets/base",
          "model_module_version": "1.2.0",
          "model_name": "LayoutModel",
          "state": {
            "_model_module": "@jupyter-widgets/base",
            "_model_module_version": "1.2.0",
            "_model_name": "LayoutModel",
            "_view_count": null,
            "_view_module": "@jupyter-widgets/base",
            "_view_module_version": "1.2.0",
            "_view_name": "LayoutView",
            "align_content": null,
            "align_items": null,
            "align_self": null,
            "border": null,
            "bottom": null,
            "display": null,
            "flex": null,
            "flex_flow": null,
            "grid_area": null,
            "grid_auto_columns": null,
            "grid_auto_flow": null,
            "grid_auto_rows": null,
            "grid_column": null,
            "grid_gap": null,
            "grid_row": null,
            "grid_template_areas": null,
            "grid_template_columns": null,
            "grid_template_rows": null,
            "height": null,
            "justify_content": null,
            "justify_items": null,
            "left": null,
            "margin": null,
            "max_height": null,
            "max_width": null,
            "min_height": null,
            "min_width": null,
            "object_fit": null,
            "object_position": null,
            "order": null,
            "overflow": null,
            "overflow_x": null,
            "overflow_y": null,
            "padding": null,
            "right": null,
            "top": null,
            "visibility": null,
            "width": null
          }
        },
        "23b3e7a99d9449f581f6cad8ceede315": {
          "model_module": "@jupyter-widgets/controls",
          "model_module_version": "1.5.0",
          "model_name": "DescriptionStyleModel",
          "state": {
            "_model_module": "@jupyter-widgets/controls",
            "_model_module_version": "1.5.0",
            "_model_name": "DescriptionStyleModel",
            "_view_count": null,
            "_view_module": "@jupyter-widgets/base",
            "_view_module_version": "1.2.0",
            "_view_name": "StyleView",
            "description_width": ""
          }
        },
        "275477988bc64ee09c4eda0a51bb5147": {
          "model_module": "@jupyter-widgets/base",
          "model_module_version": "1.2.0",
          "model_name": "LayoutModel",
          "state": {
            "_model_module": "@jupyter-widgets/base",
            "_model_module_version": "1.2.0",
            "_model_name": "LayoutModel",
            "_view_count": null,
            "_view_module": "@jupyter-widgets/base",
            "_view_module_version": "1.2.0",
            "_view_name": "LayoutView",
            "align_content": null,
            "align_items": null,
            "align_self": null,
            "border": null,
            "bottom": null,
            "display": null,
            "flex": null,
            "flex_flow": null,
            "grid_area": null,
            "grid_auto_columns": null,
            "grid_auto_flow": null,
            "grid_auto_rows": null,
            "grid_column": null,
            "grid_gap": null,
            "grid_row": null,
            "grid_template_areas": null,
            "grid_template_columns": null,
            "grid_template_rows": null,
            "height": null,
            "justify_content": null,
            "justify_items": null,
            "left": null,
            "margin": null,
            "max_height": null,
            "max_width": null,
            "min_height": null,
            "min_width": null,
            "object_fit": null,
            "object_position": null,
            "order": null,
            "overflow": null,
            "overflow_x": null,
            "overflow_y": null,
            "padding": null,
            "right": null,
            "top": null,
            "visibility": null,
            "width": null
          }
        },
        "3882851f53a4444d860ffa316cb83b5b": {
          "model_module": "@jupyter-widgets/controls",
          "model_module_version": "1.5.0",
          "model_name": "ProgressStyleModel",
          "state": {
            "_model_module": "@jupyter-widgets/controls",
            "_model_module_version": "1.5.0",
            "_model_name": "ProgressStyleModel",
            "_view_count": null,
            "_view_module": "@jupyter-widgets/base",
            "_view_module_version": "1.2.0",
            "_view_name": "StyleView",
            "bar_color": null,
            "description_width": ""
          }
        },
        "4cd8f21c80fc4be09aca45ab4eb1861b": {
          "model_module": "@jupyter-widgets/controls",
          "model_module_version": "1.5.0",
          "model_name": "DescriptionStyleModel",
          "state": {
            "_model_module": "@jupyter-widgets/controls",
            "_model_module_version": "1.5.0",
            "_model_name": "DescriptionStyleModel",
            "_view_count": null,
            "_view_module": "@jupyter-widgets/base",
            "_view_module_version": "1.2.0",
            "_view_name": "StyleView",
            "description_width": ""
          }
        },
        "546269171d2b4992a8ecd08a25f4ee36": {
          "model_module": "@jupyter-widgets/base",
          "model_module_version": "1.2.0",
          "model_name": "LayoutModel",
          "state": {
            "_model_module": "@jupyter-widgets/base",
            "_model_module_version": "1.2.0",
            "_model_name": "LayoutModel",
            "_view_count": null,
            "_view_module": "@jupyter-widgets/base",
            "_view_module_version": "1.2.0",
            "_view_name": "LayoutView",
            "align_content": null,
            "align_items": null,
            "align_self": null,
            "border": null,
            "bottom": null,
            "display": null,
            "flex": null,
            "flex_flow": null,
            "grid_area": null,
            "grid_auto_columns": null,
            "grid_auto_flow": null,
            "grid_auto_rows": null,
            "grid_column": null,
            "grid_gap": null,
            "grid_row": null,
            "grid_template_areas": null,
            "grid_template_columns": null,
            "grid_template_rows": null,
            "height": null,
            "justify_content": null,
            "justify_items": null,
            "left": null,
            "margin": null,
            "max_height": null,
            "max_width": null,
            "min_height": null,
            "min_width": null,
            "object_fit": null,
            "object_position": null,
            "order": null,
            "overflow": null,
            "overflow_x": null,
            "overflow_y": null,
            "padding": null,
            "right": null,
            "top": null,
            "visibility": null,
            "width": null
          }
        },
        "5598406dc4654ebe80258d34b3fddaa7": {
          "model_module": "@jupyter-widgets/base",
          "model_module_version": "1.2.0",
          "model_name": "LayoutModel",
          "state": {
            "_model_module": "@jupyter-widgets/base",
            "_model_module_version": "1.2.0",
            "_model_name": "LayoutModel",
            "_view_count": null,
            "_view_module": "@jupyter-widgets/base",
            "_view_module_version": "1.2.0",
            "_view_name": "LayoutView",
            "align_content": null,
            "align_items": null,
            "align_self": null,
            "border": null,
            "bottom": null,
            "display": null,
            "flex": null,
            "flex_flow": null,
            "grid_area": null,
            "grid_auto_columns": null,
            "grid_auto_flow": null,
            "grid_auto_rows": null,
            "grid_column": null,
            "grid_gap": null,
            "grid_row": null,
            "grid_template_areas": null,
            "grid_template_columns": null,
            "grid_template_rows": null,
            "height": null,
            "justify_content": null,
            "justify_items": null,
            "left": null,
            "margin": null,
            "max_height": null,
            "max_width": null,
            "min_height": null,
            "min_width": null,
            "object_fit": null,
            "object_position": null,
            "order": null,
            "overflow": null,
            "overflow_x": null,
            "overflow_y": null,
            "padding": null,
            "right": null,
            "top": null,
            "visibility": null,
            "width": null
          }
        },
        "5eca6beb76c34c5ababa7af74fdb9445": {
          "model_module": "@jupyter-widgets/base",
          "model_module_version": "1.2.0",
          "model_name": "LayoutModel",
          "state": {
            "_model_module": "@jupyter-widgets/base",
            "_model_module_version": "1.2.0",
            "_model_name": "LayoutModel",
            "_view_count": null,
            "_view_module": "@jupyter-widgets/base",
            "_view_module_version": "1.2.0",
            "_view_name": "LayoutView",
            "align_content": null,
            "align_items": null,
            "align_self": null,
            "border": null,
            "bottom": null,
            "display": null,
            "flex": null,
            "flex_flow": null,
            "grid_area": null,
            "grid_auto_columns": null,
            "grid_auto_flow": null,
            "grid_auto_rows": null,
            "grid_column": null,
            "grid_gap": null,
            "grid_row": null,
            "grid_template_areas": null,
            "grid_template_columns": null,
            "grid_template_rows": null,
            "height": null,
            "justify_content": null,
            "justify_items": null,
            "left": null,
            "margin": null,
            "max_height": null,
            "max_width": null,
            "min_height": null,
            "min_width": null,
            "object_fit": null,
            "object_position": null,
            "order": null,
            "overflow": null,
            "overflow_x": null,
            "overflow_y": null,
            "padding": null,
            "right": null,
            "top": null,
            "visibility": null,
            "width": null
          }
        },
        "669434396ab640918ce06cab841b8f60": {
          "model_module": "@jupyter-widgets/controls",
          "model_module_version": "1.5.0",
          "model_name": "HTMLModel",
          "state": {
            "_dom_classes": [],
            "_model_module": "@jupyter-widgets/controls",
            "_model_module_version": "1.5.0",
            "_model_name": "HTMLModel",
            "_view_count": null,
            "_view_module": "@jupyter-widgets/controls",
            "_view_module_version": "1.5.0",
            "_view_name": "HTMLView",
            "description": "",
            "description_tooltip": null,
            "layout": "IPY_MODEL_843ab4c85fae4b87bb316a2dba01c965",
            "placeholder": "​",
            "style": "IPY_MODEL_f579b3006239456e8b8604d3f2ffea46",
            "value": " 5148/5148 [00:00&lt;00:00, 99878.70it/s]"
          }
        },
        "67082a5b7e254b9c883d1b2cf07caeae": {
          "model_module": "@jupyter-widgets/base",
          "model_module_version": "1.2.0",
          "model_name": "LayoutModel",
          "state": {
            "_model_module": "@jupyter-widgets/base",
            "_model_module_version": "1.2.0",
            "_model_name": "LayoutModel",
            "_view_count": null,
            "_view_module": "@jupyter-widgets/base",
            "_view_module_version": "1.2.0",
            "_view_name": "LayoutView",
            "align_content": null,
            "align_items": null,
            "align_self": null,
            "border": null,
            "bottom": null,
            "display": null,
            "flex": null,
            "flex_flow": null,
            "grid_area": null,
            "grid_auto_columns": null,
            "grid_auto_flow": null,
            "grid_auto_rows": null,
            "grid_column": null,
            "grid_gap": null,
            "grid_row": null,
            "grid_template_areas": null,
            "grid_template_columns": null,
            "grid_template_rows": null,
            "height": null,
            "justify_content": null,
            "justify_items": null,
            "left": null,
            "margin": null,
            "max_height": null,
            "max_width": null,
            "min_height": null,
            "min_width": null,
            "object_fit": null,
            "object_position": null,
            "order": null,
            "overflow": null,
            "overflow_x": null,
            "overflow_y": null,
            "padding": null,
            "right": null,
            "top": null,
            "visibility": null,
            "width": null
          }
        },
        "6f5b9929a9fb4d21b2f20b8dc6e864c8": {
          "model_module": "@jupyter-widgets/controls",
          "model_module_version": "1.5.0",
          "model_name": "DescriptionStyleModel",
          "state": {
            "_model_module": "@jupyter-widgets/controls",
            "_model_module_version": "1.5.0",
            "_model_name": "DescriptionStyleModel",
            "_view_count": null,
            "_view_module": "@jupyter-widgets/base",
            "_view_module_version": "1.2.0",
            "_view_name": "StyleView",
            "description_width": ""
          }
        },
        "71f762f31e4d44a2bf8512a342be86d0": {
          "model_module": "@jupyter-widgets/controls",
          "model_module_version": "1.5.0",
          "model_name": "ProgressStyleModel",
          "state": {
            "_model_module": "@jupyter-widgets/controls",
            "_model_module_version": "1.5.0",
            "_model_name": "ProgressStyleModel",
            "_view_count": null,
            "_view_module": "@jupyter-widgets/base",
            "_view_module_version": "1.2.0",
            "_view_name": "StyleView",
            "bar_color": null,
            "description_width": ""
          }
        },
        "75d77f62c0ce48828690d1fd575a9766": {
          "model_module": "@jupyter-widgets/base",
          "model_module_version": "1.2.0",
          "model_name": "LayoutModel",
          "state": {
            "_model_module": "@jupyter-widgets/base",
            "_model_module_version": "1.2.0",
            "_model_name": "LayoutModel",
            "_view_count": null,
            "_view_module": "@jupyter-widgets/base",
            "_view_module_version": "1.2.0",
            "_view_name": "LayoutView",
            "align_content": null,
            "align_items": null,
            "align_self": null,
            "border": null,
            "bottom": null,
            "display": null,
            "flex": null,
            "flex_flow": null,
            "grid_area": null,
            "grid_auto_columns": null,
            "grid_auto_flow": null,
            "grid_auto_rows": null,
            "grid_column": null,
            "grid_gap": null,
            "grid_row": null,
            "grid_template_areas": null,
            "grid_template_columns": null,
            "grid_template_rows": null,
            "height": null,
            "justify_content": null,
            "justify_items": null,
            "left": null,
            "margin": null,
            "max_height": null,
            "max_width": null,
            "min_height": null,
            "min_width": null,
            "object_fit": null,
            "object_position": null,
            "order": null,
            "overflow": null,
            "overflow_x": null,
            "overflow_y": null,
            "padding": null,
            "right": null,
            "top": null,
            "visibility": null,
            "width": null
          }
        },
        "843ab4c85fae4b87bb316a2dba01c965": {
          "model_module": "@jupyter-widgets/base",
          "model_module_version": "1.2.0",
          "model_name": "LayoutModel",
          "state": {
            "_model_module": "@jupyter-widgets/base",
            "_model_module_version": "1.2.0",
            "_model_name": "LayoutModel",
            "_view_count": null,
            "_view_module": "@jupyter-widgets/base",
            "_view_module_version": "1.2.0",
            "_view_name": "LayoutView",
            "align_content": null,
            "align_items": null,
            "align_self": null,
            "border": null,
            "bottom": null,
            "display": null,
            "flex": null,
            "flex_flow": null,
            "grid_area": null,
            "grid_auto_columns": null,
            "grid_auto_flow": null,
            "grid_auto_rows": null,
            "grid_column": null,
            "grid_gap": null,
            "grid_row": null,
            "grid_template_areas": null,
            "grid_template_columns": null,
            "grid_template_rows": null,
            "height": null,
            "justify_content": null,
            "justify_items": null,
            "left": null,
            "margin": null,
            "max_height": null,
            "max_width": null,
            "min_height": null,
            "min_width": null,
            "object_fit": null,
            "object_position": null,
            "order": null,
            "overflow": null,
            "overflow_x": null,
            "overflow_y": null,
            "padding": null,
            "right": null,
            "top": null,
            "visibility": null,
            "width": null
          }
        },
        "8a0b1b10ed11452196e3306979f8fa34": {
          "model_module": "@jupyter-widgets/controls",
          "model_module_version": "1.5.0",
          "model_name": "ProgressStyleModel",
          "state": {
            "_model_module": "@jupyter-widgets/controls",
            "_model_module_version": "1.5.0",
            "_model_name": "ProgressStyleModel",
            "_view_count": null,
            "_view_module": "@jupyter-widgets/base",
            "_view_module_version": "1.2.0",
            "_view_name": "StyleView",
            "bar_color": null,
            "description_width": ""
          }
        },
        "8d73a52ea00e4032a77694e11b27f797": {
          "model_module": "@jupyter-widgets/controls",
          "model_module_version": "1.5.0",
          "model_name": "DescriptionStyleModel",
          "state": {
            "_model_module": "@jupyter-widgets/controls",
            "_model_module_version": "1.5.0",
            "_model_name": "DescriptionStyleModel",
            "_view_count": null,
            "_view_module": "@jupyter-widgets/base",
            "_view_module_version": "1.2.0",
            "_view_name": "StyleView",
            "description_width": ""
          }
        },
        "8e7e9ad44d5545ebaae0d046d810168e": {
          "model_module": "@jupyter-widgets/base",
          "model_module_version": "1.2.0",
          "model_name": "LayoutModel",
          "state": {
            "_model_module": "@jupyter-widgets/base",
            "_model_module_version": "1.2.0",
            "_model_name": "LayoutModel",
            "_view_count": null,
            "_view_module": "@jupyter-widgets/base",
            "_view_module_version": "1.2.0",
            "_view_name": "LayoutView",
            "align_content": null,
            "align_items": null,
            "align_self": null,
            "border": null,
            "bottom": null,
            "display": null,
            "flex": null,
            "flex_flow": null,
            "grid_area": null,
            "grid_auto_columns": null,
            "grid_auto_flow": null,
            "grid_auto_rows": null,
            "grid_column": null,
            "grid_gap": null,
            "grid_row": null,
            "grid_template_areas": null,
            "grid_template_columns": null,
            "grid_template_rows": null,
            "height": null,
            "justify_content": null,
            "justify_items": null,
            "left": null,
            "margin": null,
            "max_height": null,
            "max_width": null,
            "min_height": null,
            "min_width": null,
            "object_fit": null,
            "object_position": null,
            "order": null,
            "overflow": null,
            "overflow_x": null,
            "overflow_y": null,
            "padding": null,
            "right": null,
            "top": null,
            "visibility": null,
            "width": null
          }
        },
        "97579713f0ec4535b6870c86ccade704": {
          "model_module": "@jupyter-widgets/base",
          "model_module_version": "1.2.0",
          "model_name": "LayoutModel",
          "state": {
            "_model_module": "@jupyter-widgets/base",
            "_model_module_version": "1.2.0",
            "_model_name": "LayoutModel",
            "_view_count": null,
            "_view_module": "@jupyter-widgets/base",
            "_view_module_version": "1.2.0",
            "_view_name": "LayoutView",
            "align_content": null,
            "align_items": null,
            "align_self": null,
            "border": null,
            "bottom": null,
            "display": null,
            "flex": null,
            "flex_flow": null,
            "grid_area": null,
            "grid_auto_columns": null,
            "grid_auto_flow": null,
            "grid_auto_rows": null,
            "grid_column": null,
            "grid_gap": null,
            "grid_row": null,
            "grid_template_areas": null,
            "grid_template_columns": null,
            "grid_template_rows": null,
            "height": null,
            "justify_content": null,
            "justify_items": null,
            "left": null,
            "margin": null,
            "max_height": null,
            "max_width": null,
            "min_height": null,
            "min_width": null,
            "object_fit": null,
            "object_position": null,
            "order": null,
            "overflow": null,
            "overflow_x": null,
            "overflow_y": null,
            "padding": null,
            "right": null,
            "top": null,
            "visibility": null,
            "width": null
          }
        },
        "9795fc6fb05f44af914d4fcc020f62c7": {
          "model_module": "@jupyter-widgets/controls",
          "model_module_version": "1.5.0",
          "model_name": "DescriptionStyleModel",
          "state": {
            "_model_module": "@jupyter-widgets/controls",
            "_model_module_version": "1.5.0",
            "_model_name": "DescriptionStyleModel",
            "_view_count": null,
            "_view_module": "@jupyter-widgets/base",
            "_view_module_version": "1.2.0",
            "_view_name": "StyleView",
            "description_width": ""
          }
        },
        "9d14cd521ddd4187821184c8039a0678": {
          "model_module": "@jupyter-widgets/controls",
          "model_module_version": "1.5.0",
          "model_name": "HTMLModel",
          "state": {
            "_dom_classes": [],
            "_model_module": "@jupyter-widgets/controls",
            "_model_module_version": "1.5.0",
            "_model_name": "HTMLModel",
            "_view_count": null,
            "_view_module": "@jupyter-widgets/controls",
            "_view_module_version": "1.5.0",
            "_view_name": "HTMLView",
            "description": "",
            "description_tooltip": null,
            "layout": "IPY_MODEL_e92dc5829bdc40f2846d3ba427e62cfa",
            "placeholder": "​",
            "style": "IPY_MODEL_b8d7428fda7f4be0b406a9a3c61fb250",
            "value": "100%"
          }
        },
        "ac866c294c144a389c7c5fd31f425b0c": {
          "model_module": "@jupyter-widgets/controls",
          "model_module_version": "1.5.0",
          "model_name": "HBoxModel",
          "state": {
            "_dom_classes": [],
            "_model_module": "@jupyter-widgets/controls",
            "_model_module_version": "1.5.0",
            "_model_name": "HBoxModel",
            "_view_count": null,
            "_view_module": "@jupyter-widgets/controls",
            "_view_module_version": "1.5.0",
            "_view_name": "HBoxView",
            "box_style": "",
            "children": [
              "IPY_MODEL_9d14cd521ddd4187821184c8039a0678",
              "IPY_MODEL_bd1a4ce746344758a38340829ef3cd71",
              "IPY_MODEL_1c66f2475a4f417f9cce75e87dd4332c"
            ],
            "layout": "IPY_MODEL_da6986729ebe4f2a8eb30a2902af0a2c"
          }
        },
        "ad2e5c02cb7745328bbfa0fb8120836d": {
          "model_module": "@jupyter-widgets/controls",
          "model_module_version": "1.5.0",
          "model_name": "HBoxModel",
          "state": {
            "_dom_classes": [],
            "_model_module": "@jupyter-widgets/controls",
            "_model_module_version": "1.5.0",
            "_model_name": "HBoxModel",
            "_view_count": null,
            "_view_module": "@jupyter-widgets/controls",
            "_view_module_version": "1.5.0",
            "_view_name": "HBoxView",
            "box_style": "",
            "children": [
              "IPY_MODEL_158a926de6a8454dbe4638ae0c105c9b",
              "IPY_MODEL_d8de4240e841454b9968e6d4187343c8",
              "IPY_MODEL_eaa7c0888f014174be19ae6c2e440308"
            ],
            "layout": "IPY_MODEL_22b4b8ac21b64effac674355d3813965"
          }
        },
        "b1fe1dc2994d4183bb6098e644aedac0": {
          "model_module": "@jupyter-widgets/controls",
          "model_module_version": "1.5.0",
          "model_name": "HBoxModel",
          "state": {
            "_dom_classes": [],
            "_model_module": "@jupyter-widgets/controls",
            "_model_module_version": "1.5.0",
            "_model_name": "HBoxModel",
            "_view_count": null,
            "_view_module": "@jupyter-widgets/controls",
            "_view_module_version": "1.5.0",
            "_view_name": "HBoxView",
            "box_style": "",
            "children": [
              "IPY_MODEL_e03c1be1d81948faa88f99211f778602",
              "IPY_MODEL_cee76ea67ce845ccaf85b6517a8c7404",
              "IPY_MODEL_13f4ba7ba9fd44628f18100c2e0765ef"
            ],
            "layout": "IPY_MODEL_75d77f62c0ce48828690d1fd575a9766"
          }
        },
        "b8d7428fda7f4be0b406a9a3c61fb250": {
          "model_module": "@jupyter-widgets/controls",
          "model_module_version": "1.5.0",
          "model_name": "DescriptionStyleModel",
          "state": {
            "_model_module": "@jupyter-widgets/controls",
            "_model_module_version": "1.5.0",
            "_model_name": "DescriptionStyleModel",
            "_view_count": null,
            "_view_module": "@jupyter-widgets/base",
            "_view_module_version": "1.2.0",
            "_view_name": "StyleView",
            "description_width": ""
          }
        },
        "bd1a4ce746344758a38340829ef3cd71": {
          "model_module": "@jupyter-widgets/controls",
          "model_module_version": "1.5.0",
          "model_name": "FloatProgressModel",
          "state": {
            "_dom_classes": [],
            "_model_module": "@jupyter-widgets/controls",
            "_model_module_version": "1.5.0",
            "_model_name": "FloatProgressModel",
            "_view_count": null,
            "_view_module": "@jupyter-widgets/controls",
            "_view_module_version": "1.5.0",
            "_view_name": "ProgressView",
            "bar_style": "success",
            "description": "",
            "description_tooltip": null,
            "layout": "IPY_MODEL_f90ce12be1e843a3a40105f9824e327d",
            "max": 26421880,
            "min": 0,
            "orientation": "horizontal",
            "style": "IPY_MODEL_3882851f53a4444d860ffa316cb83b5b",
            "value": 26421880
          }
        },
        "bf4b946c705b455482caecbb7cda42ad": {
          "model_module": "@jupyter-widgets/controls",
          "model_module_version": "1.5.0",
          "model_name": "HTMLModel",
          "state": {
            "_dom_classes": [],
            "_model_module": "@jupyter-widgets/controls",
            "_model_module_version": "1.5.0",
            "_model_name": "HTMLModel",
            "_view_count": null,
            "_view_module": "@jupyter-widgets/controls",
            "_view_module_version": "1.5.0",
            "_view_name": "HTMLView",
            "description": "",
            "description_tooltip": null,
            "layout": "IPY_MODEL_ef0fe506b9f64b86afafbca4ac3bd757",
            "placeholder": "​",
            "style": "IPY_MODEL_d5025bf29b224c2a99b9d43ab860a1d6",
            "value": "100%"
          }
        },
        "c083b0fd948c42edab06c463e0de033c": {
          "model_module": "@jupyter-widgets/base",
          "model_module_version": "1.2.0",
          "model_name": "LayoutModel",
          "state": {
            "_model_module": "@jupyter-widgets/base",
            "_model_module_version": "1.2.0",
            "_model_name": "LayoutModel",
            "_view_count": null,
            "_view_module": "@jupyter-widgets/base",
            "_view_module_version": "1.2.0",
            "_view_name": "LayoutView",
            "align_content": null,
            "align_items": null,
            "align_self": null,
            "border": null,
            "bottom": null,
            "display": null,
            "flex": null,
            "flex_flow": null,
            "grid_area": null,
            "grid_auto_columns": null,
            "grid_auto_flow": null,
            "grid_auto_rows": null,
            "grid_column": null,
            "grid_gap": null,
            "grid_row": null,
            "grid_template_areas": null,
            "grid_template_columns": null,
            "grid_template_rows": null,
            "height": null,
            "justify_content": null,
            "justify_items": null,
            "left": null,
            "margin": null,
            "max_height": null,
            "max_width": null,
            "min_height": null,
            "min_width": null,
            "object_fit": null,
            "object_position": null,
            "order": null,
            "overflow": null,
            "overflow_x": null,
            "overflow_y": null,
            "padding": null,
            "right": null,
            "top": null,
            "visibility": null,
            "width": null
          }
        },
        "cee76ea67ce845ccaf85b6517a8c7404": {
          "model_module": "@jupyter-widgets/controls",
          "model_module_version": "1.5.0",
          "model_name": "FloatProgressModel",
          "state": {
            "_dom_classes": [],
            "_model_module": "@jupyter-widgets/controls",
            "_model_module_version": "1.5.0",
            "_model_name": "FloatProgressModel",
            "_view_count": null,
            "_view_module": "@jupyter-widgets/controls",
            "_view_module_version": "1.5.0",
            "_view_name": "ProgressView",
            "bar_style": "success",
            "description": "",
            "description_tooltip": null,
            "layout": "IPY_MODEL_237e7479b89a45da9a591eda944a9540",
            "max": 29515,
            "min": 0,
            "orientation": "horizontal",
            "style": "IPY_MODEL_71f762f31e4d44a2bf8512a342be86d0",
            "value": 29515
          }
        },
        "d5025bf29b224c2a99b9d43ab860a1d6": {
          "model_module": "@jupyter-widgets/controls",
          "model_module_version": "1.5.0",
          "model_name": "DescriptionStyleModel",
          "state": {
            "_model_module": "@jupyter-widgets/controls",
            "_model_module_version": "1.5.0",
            "_model_name": "DescriptionStyleModel",
            "_view_count": null,
            "_view_module": "@jupyter-widgets/base",
            "_view_module_version": "1.2.0",
            "_view_name": "StyleView",
            "description_width": ""
          }
        },
        "d8de4240e841454b9968e6d4187343c8": {
          "model_module": "@jupyter-widgets/controls",
          "model_module_version": "1.5.0",
          "model_name": "FloatProgressModel",
          "state": {
            "_dom_classes": [],
            "_model_module": "@jupyter-widgets/controls",
            "_model_module_version": "1.5.0",
            "_model_name": "FloatProgressModel",
            "_view_count": null,
            "_view_module": "@jupyter-widgets/controls",
            "_view_module_version": "1.5.0",
            "_view_name": "ProgressView",
            "bar_style": "success",
            "description": "",
            "description_tooltip": null,
            "layout": "IPY_MODEL_5598406dc4654ebe80258d34b3fddaa7",
            "max": 4422102,
            "min": 0,
            "orientation": "horizontal",
            "style": "IPY_MODEL_8a0b1b10ed11452196e3306979f8fa34",
            "value": 4422102
          }
        },
        "da6986729ebe4f2a8eb30a2902af0a2c": {
          "model_module": "@jupyter-widgets/base",
          "model_module_version": "1.2.0",
          "model_name": "LayoutModel",
          "state": {
            "_model_module": "@jupyter-widgets/base",
            "_model_module_version": "1.2.0",
            "_model_name": "LayoutModel",
            "_view_count": null,
            "_view_module": "@jupyter-widgets/base",
            "_view_module_version": "1.2.0",
            "_view_name": "LayoutView",
            "align_content": null,
            "align_items": null,
            "align_self": null,
            "border": null,
            "bottom": null,
            "display": null,
            "flex": null,
            "flex_flow": null,
            "grid_area": null,
            "grid_auto_columns": null,
            "grid_auto_flow": null,
            "grid_auto_rows": null,
            "grid_column": null,
            "grid_gap": null,
            "grid_row": null,
            "grid_template_areas": null,
            "grid_template_columns": null,
            "grid_template_rows": null,
            "height": null,
            "justify_content": null,
            "justify_items": null,
            "left": null,
            "margin": null,
            "max_height": null,
            "max_width": null,
            "min_height": null,
            "min_width": null,
            "object_fit": null,
            "object_position": null,
            "order": null,
            "overflow": null,
            "overflow_x": null,
            "overflow_y": null,
            "padding": null,
            "right": null,
            "top": null,
            "visibility": null,
            "width": null
          }
        },
        "e03c1be1d81948faa88f99211f778602": {
          "model_module": "@jupyter-widgets/controls",
          "model_module_version": "1.5.0",
          "model_name": "HTMLModel",
          "state": {
            "_dom_classes": [],
            "_model_module": "@jupyter-widgets/controls",
            "_model_module_version": "1.5.0",
            "_model_name": "HTMLModel",
            "_view_count": null,
            "_view_module": "@jupyter-widgets/controls",
            "_view_module_version": "1.5.0",
            "_view_name": "HTMLView",
            "description": "",
            "description_tooltip": null,
            "layout": "IPY_MODEL_275477988bc64ee09c4eda0a51bb5147",
            "placeholder": "​",
            "style": "IPY_MODEL_4cd8f21c80fc4be09aca45ab4eb1861b",
            "value": "100%"
          }
        },
        "e87227266911492e95d0e65fb5fc2767": {
          "model_module": "@jupyter-widgets/controls",
          "model_module_version": "1.5.0",
          "model_name": "FloatProgressModel",
          "state": {
            "_dom_classes": [],
            "_model_module": "@jupyter-widgets/controls",
            "_model_module_version": "1.5.0",
            "_model_name": "FloatProgressModel",
            "_view_count": null,
            "_view_module": "@jupyter-widgets/controls",
            "_view_module_version": "1.5.0",
            "_view_name": "ProgressView",
            "bar_style": "success",
            "description": "",
            "description_tooltip": null,
            "layout": "IPY_MODEL_8e7e9ad44d5545ebaae0d046d810168e",
            "max": 5148,
            "min": 0,
            "orientation": "horizontal",
            "style": "IPY_MODEL_1f61fc81db594f19a34f5c518b20a608",
            "value": 5148
          }
        },
        "e92dc5829bdc40f2846d3ba427e62cfa": {
          "model_module": "@jupyter-widgets/base",
          "model_module_version": "1.2.0",
          "model_name": "LayoutModel",
          "state": {
            "_model_module": "@jupyter-widgets/base",
            "_model_module_version": "1.2.0",
            "_model_name": "LayoutModel",
            "_view_count": null,
            "_view_module": "@jupyter-widgets/base",
            "_view_module_version": "1.2.0",
            "_view_name": "LayoutView",
            "align_content": null,
            "align_items": null,
            "align_self": null,
            "border": null,
            "bottom": null,
            "display": null,
            "flex": null,
            "flex_flow": null,
            "grid_area": null,
            "grid_auto_columns": null,
            "grid_auto_flow": null,
            "grid_auto_rows": null,
            "grid_column": null,
            "grid_gap": null,
            "grid_row": null,
            "grid_template_areas": null,
            "grid_template_columns": null,
            "grid_template_rows": null,
            "height": null,
            "justify_content": null,
            "justify_items": null,
            "left": null,
            "margin": null,
            "max_height": null,
            "max_width": null,
            "min_height": null,
            "min_width": null,
            "object_fit": null,
            "object_position": null,
            "order": null,
            "overflow": null,
            "overflow_x": null,
            "overflow_y": null,
            "padding": null,
            "right": null,
            "top": null,
            "visibility": null,
            "width": null
          }
        },
        "eaa7c0888f014174be19ae6c2e440308": {
          "model_module": "@jupyter-widgets/controls",
          "model_module_version": "1.5.0",
          "model_name": "HTMLModel",
          "state": {
            "_dom_classes": [],
            "_model_module": "@jupyter-widgets/controls",
            "_model_module_version": "1.5.0",
            "_model_name": "HTMLModel",
            "_view_count": null,
            "_view_module": "@jupyter-widgets/controls",
            "_view_module_version": "1.5.0",
            "_view_name": "HTMLView",
            "description": "",
            "description_tooltip": null,
            "layout": "IPY_MODEL_5eca6beb76c34c5ababa7af74fdb9445",
            "placeholder": "​",
            "style": "IPY_MODEL_9795fc6fb05f44af914d4fcc020f62c7",
            "value": " 4422102/4422102 [00:00&lt;00:00, 7678212.42it/s]"
          }
        },
        "ef0fe506b9f64b86afafbca4ac3bd757": {
          "model_module": "@jupyter-widgets/base",
          "model_module_version": "1.2.0",
          "model_name": "LayoutModel",
          "state": {
            "_model_module": "@jupyter-widgets/base",
            "_model_module_version": "1.2.0",
            "_model_name": "LayoutModel",
            "_view_count": null,
            "_view_module": "@jupyter-widgets/base",
            "_view_module_version": "1.2.0",
            "_view_name": "LayoutView",
            "align_content": null,
            "align_items": null,
            "align_self": null,
            "border": null,
            "bottom": null,
            "display": null,
            "flex": null,
            "flex_flow": null,
            "grid_area": null,
            "grid_auto_columns": null,
            "grid_auto_flow": null,
            "grid_auto_rows": null,
            "grid_column": null,
            "grid_gap": null,
            "grid_row": null,
            "grid_template_areas": null,
            "grid_template_columns": null,
            "grid_template_rows": null,
            "height": null,
            "justify_content": null,
            "justify_items": null,
            "left": null,
            "margin": null,
            "max_height": null,
            "max_width": null,
            "min_height": null,
            "min_width": null,
            "object_fit": null,
            "object_position": null,
            "order": null,
            "overflow": null,
            "overflow_x": null,
            "overflow_y": null,
            "padding": null,
            "right": null,
            "top": null,
            "visibility": null,
            "width": null
          }
        },
        "f579b3006239456e8b8604d3f2ffea46": {
          "model_module": "@jupyter-widgets/controls",
          "model_module_version": "1.5.0",
          "model_name": "DescriptionStyleModel",
          "state": {
            "_model_module": "@jupyter-widgets/controls",
            "_model_module_version": "1.5.0",
            "_model_name": "DescriptionStyleModel",
            "_view_count": null,
            "_view_module": "@jupyter-widgets/base",
            "_view_module_version": "1.2.0",
            "_view_name": "StyleView",
            "description_width": ""
          }
        },
        "f90ce12be1e843a3a40105f9824e327d": {
          "model_module": "@jupyter-widgets/base",
          "model_module_version": "1.2.0",
          "model_name": "LayoutModel",
          "state": {
            "_model_module": "@jupyter-widgets/base",
            "_model_module_version": "1.2.0",
            "_model_name": "LayoutModel",
            "_view_count": null,
            "_view_module": "@jupyter-widgets/base",
            "_view_module_version": "1.2.0",
            "_view_name": "LayoutView",
            "align_content": null,
            "align_items": null,
            "align_self": null,
            "border": null,
            "bottom": null,
            "display": null,
            "flex": null,
            "flex_flow": null,
            "grid_area": null,
            "grid_auto_columns": null,
            "grid_auto_flow": null,
            "grid_auto_rows": null,
            "grid_column": null,
            "grid_gap": null,
            "grid_row": null,
            "grid_template_areas": null,
            "grid_template_columns": null,
            "grid_template_rows": null,
            "height": null,
            "justify_content": null,
            "justify_items": null,
            "left": null,
            "margin": null,
            "max_height": null,
            "max_width": null,
            "min_height": null,
            "min_width": null,
            "object_fit": null,
            "object_position": null,
            "order": null,
            "overflow": null,
            "overflow_x": null,
            "overflow_y": null,
            "padding": null,
            "right": null,
            "top": null,
            "visibility": null,
            "width": null
          }
        },
        "fce42fee7f8a4378b87efab093594b08": {
          "model_module": "@jupyter-widgets/controls",
          "model_module_version": "1.5.0",
          "model_name": "HBoxModel",
          "state": {
            "_dom_classes": [],
            "_model_module": "@jupyter-widgets/controls",
            "_model_module_version": "1.5.0",
            "_model_name": "HBoxModel",
            "_view_count": null,
            "_view_module": "@jupyter-widgets/controls",
            "_view_module_version": "1.5.0",
            "_view_name": "HBoxView",
            "box_style": "",
            "children": [
              "IPY_MODEL_bf4b946c705b455482caecbb7cda42ad",
              "IPY_MODEL_e87227266911492e95d0e65fb5fc2767",
              "IPY_MODEL_669434396ab640918ce06cab841b8f60"
            ],
            "layout": "IPY_MODEL_67082a5b7e254b9c883d1b2cf07caeae"
          }
        }
      }
    }
  },
  "nbformat": 4,
  "nbformat_minor": 0
}
