{
 "cells": [
  {
   "cell_type": "code",
   "execution_count": 1,
   "metadata": {},
   "outputs": [],
   "source": [
    "from torch.utils.tensorboard import SummaryWriter\n",
    "import torch\n",
    "from torchvision import datasets, transforms\n",
    "import torch.nn as nn\n",
    "import torch.optim as optim\n",
    "from torch.utils.data import DataLoader, random_split\n",
    "import matplotlib.pyplot as plt\n",
    "\n",
    "DEVICE = torch.device(\"cuda:0\" if torch.cuda.is_available() else \"cpu\")\n",
    "\n",
    "data_path = './data/fmnist'\n",
    "# данные в виде картинок 28x28\n",
    "# ToTensor превратит в тензоры 1x28x28\n",
    "train_dataset = datasets.FashionMNIST(data_path, train=True, download=True, transform=transforms.ToTensor())\n",
    "test_dataset = datasets.FashionMNIST(data_path, train=False, download=True, transform=transforms.ToTensor())\n",
    "\n",
    "class NeuralNet(nn.Module):\n",
    "    def __init__(self, input_size, hidden_size, num_classes):\n",
    "        super(NeuralNet, self).__init__()\n",
    "        self.fc1 = nn.Linear(input_size, hidden_size) \n",
    "        self.relu = nn.ReLU()\n",
    "        # self.dropout = nn.Dropout() # dropout\n",
    "        self.normlayer = nn.BatchNorm1d(hidden_size) # Слой нормализации (дропаут либо нормализация)\n",
    "        self.fc2 = nn.Linear(hidden_size, num_classes)  \n",
    "    \n",
    "    def forward(self, x):\n",
    "        x = x.view(x.size()[0], -1)\n",
    "        out = self.fc1(x)\n",
    "        out = self.relu(out)\n",
    "        out = self.normlayer(out)\n",
    "        out = self.fc2(out)\n",
    "        return out\n",
    "    \n",
    "# выделим из тренировочного датасета 20% данных для валидации\n",
    "valid_ratio = 0.2\n",
    "num_valid =  int(valid_ratio * len(train_dataset))\n",
    "num_train = len(train_dataset) - num_valid\n",
    "\n",
    "train_dataset, valid_dataset = random_split(dataset=train_dataset, lengths=[num_train, num_valid])\n",
    "# Делим  датасет на батчи чтобы не предсказывать все 48000 \n",
    "\n",
    "batch_size = 64\n",
    "train_loader = DataLoader(train_dataset, batch_size=batch_size, shuffle=True)\n",
    "valid_loader = DataLoader(valid_dataset, batch_size=batch_size)\n",
    "test_loader = DataLoader(test_dataset, batch_size=batch_size)\n",
    "\n",
    "input_size = test_dataset.data[0, :].numel()\n",
    "hidden_size = 256\n",
    "num_classes = len(test_dataset.classes)\n",
    "model = NeuralNet(input_size, hidden_size, num_classes).to(DEVICE)\n",
    "\n",
    "\n",
    "\n",
    "tb = SummaryWriter()\n",
    "# print(model.parameters)\n",
    "\n",
    "tb.add_graph(model, next(iter(train_loader))[0].to(DEVICE))\n",
    "# tb.close()"
   ]
  },
  {
   "cell_type": "code",
   "execution_count": 4,
   "metadata": {},
   "outputs": [],
   "source": [
    "def train(model, loader, loss_function, optimizer):\n",
    "    model.train()\n",
    "\n",
    "    epoch_loss = 0\n",
    "\n",
    "    for inputs, labels in loader:\n",
    "        inputs, labels = inputs.to(DEVICE), labels.to(DEVICE)\n",
    "\n",
    "        outputs = model(inputs)\n",
    "\n",
    "        loss = loss_function(outputs, labels)\n",
    "\n",
    "        \n",
    "        optimizer.zero_grad()\n",
    "        loss.backward()\n",
    "        optimizer.step()\n",
    "        \n",
    "        epoch_loss += loss.item()\n",
    "    return epoch_loss / len(loader)"
   ]
  },
  {
   "cell_type": "code",
   "execution_count": 5,
   "metadata": {},
   "outputs": [],
   "source": [
    "def test(model, loader, loss_function):\n",
    "    with torch.no_grad():\n",
    "        model.eval()\n",
    "        N = 0\n",
    "        total_loss = 0.0\n",
    "        correct = 0.0\n",
    "        for i, (inputs, targets) in enumerate(loader):\n",
    "            inputs, targets = inputs.to(DEVICE), targets.to(DEVICE)\n",
    "            outputs = model(inputs)\n",
    "            N += inputs.shape[0]\n",
    "            loss = loss_function(outputs, targets)\n",
    "            total_loss += inputs.shape[0] * loss.item()\n",
    "            predicted_targets = outputs.argmax(dim=1)\n",
    "            correct += (predicted_targets == targets).sum().item()\n",
    "        return total_loss / N, correct / N"
   ]
  },
  {
   "cell_type": "code",
   "execution_count": 2,
   "metadata": {},
   "outputs": [
    {
     "data": {
      "text/plain": [
       "<torch.utils.tensorboard.writer.SummaryWriter at 0x7feff7550e80>"
      ]
     },
     "execution_count": 2,
     "metadata": {},
     "output_type": "execute_result"
    }
   ],
   "source": [
    "tb."
   ]
  },
  {
   "cell_type": "code",
   "execution_count": 8,
   "metadata": {},
   "outputs": [],
   "source": [
    "tb = SummaryWriter()\n",
    "\n",
    "layout = {\n",
    "    \"FashionMNIST\": {\n",
    "        \"Loss\": [\"Multiline\", [\"loss/train\", \"loss/valid\"]],\n",
    "        \"Accuracy\": [\"Multiline\", [\"accuracy/valid\", \"accuracy/test\"]],\n",
    "    }\n",
    "}\n",
    "\n",
    "tb.add_custom_scalars(layout)"
   ]
  },
  {
   "cell_type": "code",
   "execution_count": 6,
   "metadata": {},
   "outputs": [],
   "source": [
    "input_size = test_dataset.data[0, :].numel()\n",
    "hidden_size = 256\n",
    "num_classes = len(test_dataset.classes)\n",
    "model = NeuralNet(input_size, hidden_size, num_classes).to(DEVICE)\n",
    "\n",
    "criterion = nn.CrossEntropyLoss() # CCE для задач классификации\n",
    "optimizer = optim.Adam(model.parameters(), lr=.01)"
   ]
  },
  {
   "cell_type": "code",
   "execution_count": 10,
   "metadata": {},
   "outputs": [
    {
     "name": "stdout",
     "output_type": "stream",
     "text": [
      "Epoch 0\n",
      "Train Loss 0.278793 Val Loss 0.368799 Val Accuracy 0.868083\n",
      "---\n",
      "Epoch 1\n",
      "Train Loss 0.274911 Val Loss 0.346982 Val Accuracy 0.874667\n",
      "---\n",
      "Epoch 2\n",
      "Train Loss 0.267333 Val Loss 0.342328 Val Accuracy 0.878417\n",
      "---\n",
      "Epoch 3\n",
      "Train Loss 0.259974 Val Loss 0.331535 Val Accuracy 0.884167\n",
      "---\n",
      "Epoch 4\n",
      "Train Loss 0.259119 Val Loss 0.339794 Val Accuracy 0.877917\n",
      "---\n",
      "Test Loss 0.359531 Test Accuracy 0.873400\n"
     ]
    }
   ],
   "source": [
    "num_epochs = 5\n",
    "train_losses = []\n",
    "val_losses = []\n",
    "for epoch in range(num_epochs):\n",
    "    train_loss = train(model, loader=train_loader, loss_function=criterion, optimizer=optimizer)\n",
    "    val_loss, val_acc = test(model=model, loader=valid_loader, loss_function=criterion)\n",
    "    \n",
    "\n",
    "    train_losses.append(train_loss)\n",
    "    val_losses.append(val_loss)\n",
    "    print(f'Epoch {epoch}')\n",
    "    print(f'Train Loss {train_loss:.6f} Val Loss {val_loss:.6f} Val Accuracy {val_acc:.6f}')\n",
    "    print('---')\n",
    "    tb.add_scalar(\"loss/train\", train_loss, epoch)\n",
    "    tb.add_scalar(\"loss/valid\", val_loss, epoch)\n",
    "    tb.add_scalar(\"accuracy/valid\", val_acc, epoch)\n",
    "    tb.add_scalar(\"lr\", torch.tensor(optimizer.param_groups[0][\"lr\"], dtype=torch.float32))\n",
    "\n",
    "test_loss, test_acc = test(model=model, loader=test_loader, loss_function=criterion)\n",
    "tb.add_scalar(\"accuracy/test\", test_acc, epoch)\n",
    "print(f'Test Loss {test_loss:.6f} Test Accuracy {test_acc:.6f}')"
   ]
  },
  {
   "cell_type": "code",
   "execution_count": null,
   "metadata": {},
   "outputs": [],
   "source": [
    "tb = SummaryWriter()\n",
    "\n",
    "layout = {\n",
    "    \"FashionMNIST\": {\n",
    "        \"Loss\": [\"Multiline\", [\"loss/train\", \"loss/valid\"]],\n",
    "        \"Accuracy\": [\"Multiline\", [\"accuracy/valid\", \"accuracy/test\"]],\n",
    "        \"Learning_rate\": [\"Multiline\", [\"lr\"]]\n",
    "    }\n",
    "}\n",
    "\n",
    "tb.add_custom_scalars(layout)"
   ]
  },
  {
   "cell_type": "code",
   "execution_count": null,
   "metadata": {},
   "outputs": [],
   "source": []
  }
 ],
 "metadata": {
  "kernelspec": {
   "display_name": "Python 3",
   "language": "python",
   "name": "python3"
  },
  "language_info": {
   "codemirror_mode": {
    "name": "ipython",
    "version": 3
   },
   "file_extension": ".py",
   "mimetype": "text/x-python",
   "name": "python",
   "nbconvert_exporter": "python",
   "pygments_lexer": "ipython3",
   "version": "3.10.4"
  },
  "orig_nbformat": 4
 },
 "nbformat": 4,
 "nbformat_minor": 2
}
