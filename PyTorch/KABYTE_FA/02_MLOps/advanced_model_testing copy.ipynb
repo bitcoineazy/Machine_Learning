{
 "cells": [
  {
   "cell_type": "code",
   "execution_count": 1,
   "metadata": {},
   "outputs": [
    {
     "name": "stderr",
     "output_type": "stream",
     "text": [
      "/usr/local/lib/python3.10/dist-packages/pkg_resources/__init__.py:123: PkgResourcesDeprecationWarning: 1.1build1 is an invalid version and will not be supported in a future release\n",
      "  warnings.warn(\n",
      "/usr/local/lib/python3.10/dist-packages/pkg_resources/__init__.py:123: PkgResourcesDeprecationWarning: 0.1.43ubuntu1 is an invalid version and will not be supported in a future release\n",
      "  warnings.warn(\n"
     ]
    }
   ],
   "source": [
    "import torch\n",
    "import torch.nn as nn\n",
    "import torch.optim as optim\n",
    "import pytorch_lightning as pl\n",
    "import torch.nn.functional as F\n",
    "import pandas as pd\n",
    "\n",
    "DEVICE = torch.device(\"cuda:0\" if torch.cuda.is_available() else \"cpu\")"
   ]
  },
  {
   "cell_type": "code",
   "execution_count": 2,
   "metadata": {},
   "outputs": [],
   "source": [
    "from torch.utils.data import Dataset, DataLoader\n",
    "\n",
    "train_data = pd.read_csv(\"data/train.csv\")\n",
    "test_data = pd.read_csv(\"data/test.csv\")\n",
    "\n",
    "class LoadData(Dataset):\n",
    "    def __init__(self, data):\n",
    "        self.data = data.values\n",
    "\n",
    "    def __len__(self):\n",
    "        return len(self.data)\n",
    "\n",
    "    def __getitem__(self, index):\n",
    "        inputs = self.data[index][1:]\n",
    "        target = self.data[index][0]\n",
    "        return torch.tensor(inputs, dtype=torch.float32), torch.tensor(target, dtype=torch.float32)\n",
    "    \n",
    "train_loader = DataLoader(LoadData(train_data), batch_size=32, shuffle=True, drop_last=True)\n",
    "test_loader = DataLoader(LoadData(test_data), batch_size=32, shuffle=False, drop_last=True)"
   ]
  },
  {
   "cell_type": "code",
   "execution_count": 12,
   "metadata": {},
   "outputs": [],
   "source": [
    "\n",
    "\n",
    "class RegressionModel(nn.Module):\n",
    "    def __init__(self, input_size, output_size):\n",
    "        super(RegressionModel, self).__init__()\n",
    "        self.fc1 = nn.Linear(input_size, 128)\n",
    "        self.fc2 = nn.Linear(128, 64)\n",
    "        self.fc3 = nn.Linear(64, output_size)\n",
    "        self.relu = nn.ReLU()\n",
    "    \n",
    "    def forward(self, x):\n",
    "        x = self.fc1(x)\n",
    "        x = self.relu(x)\n",
    "        x = self.fc2(x)\n",
    "        x = self.relu(x)\n",
    "        x = self.fc3(x)\n",
    "        return x\n",
    "\n",
    "model = RegressionModel(90, 1)\n",
    "\n",
    "device = torch.device(\"cuda\" if torch.cuda.is_available() else \"cpu\")\n",
    "model.to(device)\n",
    "criterion = nn.MSELoss()\n",
    "optimizer = optim.Adam(model.parameters(), lr=0.01)"
   ]
  },
  {
   "cell_type": "code",
   "execution_count": 22,
   "metadata": {},
   "outputs": [
    {
     "name": "stderr",
     "output_type": "stream",
     "text": [
      "/home/noble6/.local/lib/python3.10/site-packages/torch/nn/modules/loss.py:536: UserWarning: Using a target size (torch.Size([32])) that is different to the input size (torch.Size([32, 1])). This will likely lead to incorrect results due to broadcasting. Please ensure they have the same size.\n",
      "  return F.mse_loss(input, target, reduction=self.reduction)\n"
     ]
    },
    {
     "name": "stdout",
     "output_type": "stream",
     "text": [
      "Epoch 0, Loss: 11595.281039385729\n",
      "MSE на тестовых данных: 11009.164330115686\n",
      "Epoch 1, Loss: 11365.67304256112\n",
      "MSE на тестовых данных: 8379.402155753894\n",
      "Epoch 2, Loss: 11099.929851380566\n",
      "MSE на тестовых данных: 8856.680216862605\n",
      "Epoch 3, Loss: 10081.444152597582\n",
      "MSE на тестовых данных: 10709.680728032039\n",
      "Epoch 4, Loss: 9559.390051691542\n",
      "MSE на тестовых данных: 7130.720383961995\n",
      "Epoch 5, Loss: 8304.333707333222\n",
      "MSE на тестовых данных: 6651.491065587753\n",
      "Epoch 6, Loss: 6187.386672094445\n",
      "MSE на тестовых данных: 5479.540368593656\n",
      "Epoch 7, Loss: 3813.6533338324516\n",
      "MSE на тестовых данных: 2249.836397097661\n",
      "Epoch 8, Loss: 1457.0564546621715\n",
      "MSE на тестовых данных: 707.8919444940029\n",
      "Epoch 9, Loss: 423.9170335752558\n",
      "MSE на тестовых данных: 443.5507587691148\n",
      "Epoch 10, Loss: 162.52648906854296\n",
      "MSE на тестовых данных: 452.35918355140933\n",
      "Epoch 11, Loss: 153.95243315324282\n",
      "MSE на тестовых данных: 449.44514170632914\n",
      "Epoch 12, Loss: 155.0870006258448\n",
      "MSE на тестовых данных: 395.84110866295987\n",
      "Epoch 13, Loss: 201.95985469683794\n",
      "MSE на тестовых данных: 1979.039963521923\n",
      "Epoch 14, Loss: 435.5199667323719\n",
      "MSE на тестовых данных: 285.2214334581334\n",
      "Epoch 15, Loss: 125.9426929917134\n",
      "MSE на тестовых данных: 283.9225630423962\n",
      "Epoch 16, Loss: 119.89006663834087\n",
      "MSE на тестовых данных: 285.93170484059897\n",
      "Epoch 17, Loss: 119.7398174850034\n",
      "MSE на тестовых данных: 292.9166215491983\n",
      "Epoch 18, Loss: 119.7904909002033\n",
      "MSE на тестовых данных: 282.5561068333112\n",
      "Epoch 19, Loss: 119.96052814598426\n",
      "MSE на тестовых данных: 282.5701895726797\n",
      "Epoch 20, Loss: 119.86215952386013\n",
      "MSE на тестовых данных: 283.29994182479686\n",
      "Epoch 21, Loss: 119.77356177560804\n",
      "MSE на тестовых данных: 287.85743627066796\n",
      "Epoch 22, Loss: 119.80395183245749\n",
      "MSE на тестовых данных: 283.9199525454105\n",
      "Epoch 23, Loss: 119.86204806057958\n",
      "MSE на тестовых данных: 282.5022538359731\n",
      "Epoch 24, Loss: 120.01205879228522\n",
      "MSE на тестовых данных: 282.499281832423\n"
     ]
    }
   ],
   "source": [
    "# Обучение модели\n",
    "n_epochs = 25\n",
    "losses = []\n",
    "for epoch in range(n_epochs):\n",
    "    running_loss = 0.0\n",
    "    model.train()\n",
    "    for inputs, target in train_loader:\n",
    "        inputs = inputs.to(device)\n",
    "        target = target.to(device)\n",
    "        optimizer.zero_grad() # обнуляем градиенты\n",
    "        outputs = model(inputs) # прогноз модели\n",
    "        loss = criterion(outputs, target) # вычисляем функцию потерь\n",
    "        loss.backward() # вычисляем градиенты\n",
    "        optimizer.step() # обновляем веса\n",
    "        running_loss += loss.item()\n",
    "    epoch_loss = running_loss/len(train_loader)\n",
    "    losses.append(epoch_loss)\n",
    "    print(f\"Epoch {epoch}, Loss: {epoch_loss}\")\n",
    "\n",
    "    # Оценка модели на тестовых данных\n",
    "    model.eval()\n",
    "    test_loss = 0.0\n",
    "    predictions = []\n",
    "    with torch.no_grad():\n",
    "        for inputs, target in test_loader:\n",
    "            inputs = inputs.to(device)\n",
    "            target = target.to(device)\n",
    "            outputs = model(inputs)\n",
    "            loss = criterion(outputs, target)\n",
    "            test_loss += loss.item()\n",
    "            predictions.extend(outputs.detach().cpu().numpy())\n",
    "    test_loss /= len(test_loader)\n",
    "    print(f\"MSE на тестовых данных: {test_loss}\")"
   ]
  },
  {
   "cell_type": "code",
   "execution_count": 23,
   "metadata": {},
   "outputs": [
    {
     "name": "stdout",
     "output_type": "stream",
     "text": [
      "Финальное значение MSE для Model_1 ~50 эпох: 282.499281832423\n",
      "<bound method Module.parameters of RegressionModel(\n",
      "  (fc1): Linear(in_features=90, out_features=32, bias=True)\n",
      "  (fc2): Linear(in_features=32, out_features=16, bias=True)\n",
      "  (fc3): Linear(in_features=16, out_features=1, bias=True)\n",
      "  (relu): ReLU()\n",
      ")>\n"
     ]
    }
   ],
   "source": [
    "print(f\"Финальное значение MSE для Model_1 ~50 эпох: {test_loss}\")\n",
    "print(model.parameters)"
   ]
  },
  {
   "cell_type": "code",
   "execution_count": 3,
   "metadata": {},
   "outputs": [
    {
     "ename": "NameError",
     "evalue": "name 'criterion' is not defined",
     "output_type": "error",
     "traceback": [
      "\u001b[0;31m---------------------------------------------------------------------------\u001b[0m",
      "\u001b[0;31mNameError\u001b[0m                                 Traceback (most recent call last)",
      "\u001b[1;32m/home/noble6/DEV/Machine_Learning/PyTorch/KABYTE_FA/02_MLOps/advanced_model_testing.ipynb Cell 6\u001b[0m in \u001b[0;36m6\n\u001b[1;32m     <a href='vscode-notebook-cell:/home/noble6/DEV/Machine_Learning/PyTorch/KABYTE_FA/02_MLOps/advanced_model_testing.ipynb#X14sZmlsZQ%3D%3D?line=58'>59</a>\u001b[0m test_loader \u001b[39m=\u001b[39m DataLoader(LoadData(test_data), batch_size\u001b[39m=\u001b[39m\u001b[39m32\u001b[39m, shuffle\u001b[39m=\u001b[39m\u001b[39mFalse\u001b[39;00m, drop_last\u001b[39m=\u001b[39m\u001b[39mTrue\u001b[39;00m)\n\u001b[1;32m     <a href='vscode-notebook-cell:/home/noble6/DEV/Machine_Learning/PyTorch/KABYTE_FA/02_MLOps/advanced_model_testing.ipynb#X14sZmlsZQ%3D%3D?line=60'>61</a>\u001b[0m \u001b[39mfor\u001b[39;00m epoch \u001b[39min\u001b[39;00m \u001b[39mrange\u001b[39m(n_epochs):\n\u001b[0;32m---> <a href='vscode-notebook-cell:/home/noble6/DEV/Machine_Learning/PyTorch/KABYTE_FA/02_MLOps/advanced_model_testing.ipynb#X14sZmlsZQ%3D%3D?line=61'>62</a>\u001b[0m     train(model_2, train_loader, criterion, optimizer)\n\u001b[1;32m     <a href='vscode-notebook-cell:/home/noble6/DEV/Machine_Learning/PyTorch/KABYTE_FA/02_MLOps/advanced_model_testing.ipynb#X14sZmlsZQ%3D%3D?line=62'>63</a>\u001b[0m     test(model_2, train_loader, criterion, optimizer)\n",
      "\u001b[0;31mNameError\u001b[0m: name 'criterion' is not defined"
     ]
    }
   ],
   "source": [
    "class RegressionModel2(nn.Module):\n",
    "    def __init__(self, input_size, output_size):\n",
    "        super(RegressionModel2, self).__init__()\n",
    "        self.fc1 = nn.Linear(input_size, 128)\n",
    "        self.fc2 = nn.Linear(128, 64)\n",
    "        self.fc3 = nn.Linear(64, output_size)\n",
    "        self.relu = nn.ReLU()\n",
    "        # self.dropout = nn.Dropout(p=0.5)\n",
    "    \n",
    "    def forward(self, x):\n",
    "        x = self.fc1(x)\n",
    "        x = self.relu(x)\n",
    "        # x = self.dropout(x)\n",
    "        x = self.fc2(x)\n",
    "        x = self.relu(x)\n",
    "        # x = self.dropout(x)\n",
    "        x = self.fc3(x)\n",
    "        return x\n",
    "    \n",
    "def train(model, train_loader, criterion, optimizer):\n",
    "    running_loss = 0.0\n",
    "    model.train()\n",
    "    for inputs, target in train_loader:\n",
    "        inputs = inputs.to(device)\n",
    "        target = target.to(device)\n",
    "        optimizer.zero_grad() # обнуляем градиенты\n",
    "        outputs = model(inputs) # прогноз модели\n",
    "        loss = criterion(outputs, target) # вычисляем функцию потерь\n",
    "        loss.backward() # вычисляем градиенты\n",
    "        optimizer.step() # обновляем веса\n",
    "        running_loss += loss.item()\n",
    "    epoch_loss = running_loss/len(train_loader)\n",
    "    # losses.append(epoch_loss)\n",
    "    print(f\"Epoch {epoch}, Loss: {epoch_loss}\")\n",
    "\n",
    "def test(model, test_loader, criterion, optimizer):\n",
    "    # Оценка модели на тестовых данных\n",
    "    model.eval()\n",
    "    test_loss = 0.0\n",
    "    # predictions = []\n",
    "    with torch.no_grad():\n",
    "        for inputs, target in test_loader:\n",
    "            inputs = inputs.to(device)\n",
    "            target = target.to(device)\n",
    "            outputs = model(inputs)\n",
    "            loss = criterion(outputs, target)\n",
    "            test_loss += loss.item()\n",
    "            # predictions.extend(outputs.detach().cpu().numpy())\n",
    "    test_loss /= len(test_loader)\n",
    "    print(f\"MSE на тестовых данных: {test_loss}\")\n",
    "\n",
    "model_2 = RegressionModel2(90, 1)\n",
    "\n",
    "model_2.to(DEVICE)\n",
    "\n",
    "n_epochs = 25\n",
    "\n",
    "train_loader = DataLoader(LoadData(train_data), batch_size=32, shuffle=True, drop_last=True)\n",
    "test_loader = DataLoader(LoadData(test_data), batch_size=32, shuffle=False, drop_last=True)\n",
    "\n",
    "for epoch in range(n_epochs):\n",
    "    train(model_2, train_loader, criterion, optimizer)\n",
    "    test(model_2, train_loader, criterion, optimizer)"
   ]
  },
  {
   "cell_type": "code",
   "execution_count": 21,
   "metadata": {},
   "outputs": [
    {
     "name": "stdout",
     "output_type": "stream",
     "text": [
      "| ID | GPU | MEM |\n",
      "------------------\n",
      "|  0 |  3% | 55% |\n"
     ]
    }
   ],
   "source": []
  },
  {
   "cell_type": "code",
   "execution_count": 4,
   "metadata": {},
   "outputs": [
    {
     "name": "stderr",
     "output_type": "stream",
     "text": [
      "GPU available: True (cuda), used: True\n",
      "TPU available: False, using: 0 TPU cores\n",
      "IPU available: False, using: 0 IPUs\n",
      "HPU available: False, using: 0 HPUs\n",
      "LOCAL_RANK: 0 - CUDA_VISIBLE_DEVICES: [0]\n",
      "\n",
      "  | Name | Type   | Params\n",
      "--------------------------------\n",
      "0 | fc1  | Linear | 2.9 K \n",
      "1 | fc2  | Linear | 528   \n",
      "2 | fc3  | Linear | 17    \n",
      "3 | relu | ReLU   | 0     \n",
      "--------------------------------\n",
      "3.5 K     Trainable params\n",
      "0         Non-trainable params\n",
      "3.5 K     Total params\n",
      "0.014     Total estimated model params size (MB)\n"
     ]
    },
    {
     "name": "stdout",
     "output_type": "stream",
     "text": [
      "<bound method Module.parameters of RegressionModel(\n",
      "  (fc1): Linear(in_features=90, out_features=32, bias=True)\n",
      "  (fc2): Linear(in_features=32, out_features=16, bias=True)\n",
      "  (fc3): Linear(in_features=16, out_features=1, bias=True)\n",
      "  (relu): ReLU()\n",
      ")>\n",
      "<bound method Module.parameters of RegressionModel(\n",
      "  (fc1): Linear(in_features=90, out_features=32, bias=True)\n",
      "  (fc2): Linear(in_features=32, out_features=16, bias=True)\n",
      "  (fc3): Linear(in_features=16, out_features=1, bias=True)\n",
      "  (relu): ReLU()\n",
      ")>\n"
     ]
    },
    {
     "data": {
      "application/vnd.jupyter.widget-view+json": {
       "model_id": "3fdb9e65ea8147afb83463bc01d0444d",
       "version_major": 2,
       "version_minor": 0
      },
      "text/plain": [
       "Sanity Checking: 0it [00:00, ?it/s]"
      ]
     },
     "metadata": {},
     "output_type": "display_data"
    },
    {
     "name": "stderr",
     "output_type": "stream",
     "text": [
      "/home/noble6/.local/lib/python3.10/site-packages/pytorch_lightning/trainer/connectors/data_connector.py:224: PossibleUserWarning: The dataloader, val_dataloader 0, does not have many workers which may be a bottleneck. Consider increasing the value of the `num_workers` argument` (try 8 which is the number of cpus on this machine) in the `DataLoader` init to improve performance.\n",
      "  rank_zero_warn(\n",
      "/tmp/ipykernel_117162/1676088828.py:27: UserWarning: Using a target size (torch.Size([32])) that is different to the input size (torch.Size([32, 1])). This will likely lead to incorrect results due to broadcasting. Please ensure they have the same size.\n",
      "  loss = F.mse_loss(outputs, targets)\n",
      "/home/noble6/.local/lib/python3.10/site-packages/pytorch_lightning/trainer/connectors/data_connector.py:224: PossibleUserWarning: The dataloader, train_dataloader, does not have many workers which may be a bottleneck. Consider increasing the value of the `num_workers` argument` (try 8 which is the number of cpus on this machine) in the `DataLoader` init to improve performance.\n",
      "  rank_zero_warn(\n"
     ]
    },
    {
     "data": {
      "application/vnd.jupyter.widget-view+json": {
       "model_id": "9797da38dccd4d5c873289c9055c87e0",
       "version_major": 2,
       "version_minor": 0
      },
      "text/plain": [
       "Training: 0it [00:00, ?it/s]"
      ]
     },
     "metadata": {},
     "output_type": "display_data"
    },
    {
     "name": "stderr",
     "output_type": "stream",
     "text": [
      "/tmp/ipykernel_117162/1676088828.py:20: UserWarning: Using a target size (torch.Size([32])) that is different to the input size (torch.Size([32, 1])). This will likely lead to incorrect results due to broadcasting. Please ensure they have the same size.\n",
      "  loss = F.mse_loss(outputs, targets)\n"
     ]
    },
    {
     "data": {
      "application/vnd.jupyter.widget-view+json": {
       "model_id": "82d3846396914ceeba0231e5a3188e69",
       "version_major": 2,
       "version_minor": 0
      },
      "text/plain": [
       "Validation: 0it [00:00, ?it/s]"
      ]
     },
     "metadata": {},
     "output_type": "display_data"
    },
    {
     "data": {
      "application/vnd.jupyter.widget-view+json": {
       "model_id": "1d72dcd580eb42b5830223c5f651fff3",
       "version_major": 2,
       "version_minor": 0
      },
      "text/plain": [
       "Validation: 0it [00:00, ?it/s]"
      ]
     },
     "metadata": {},
     "output_type": "display_data"
    },
    {
     "data": {
      "application/vnd.jupyter.widget-view+json": {
       "model_id": "083bade51b864679ae290e17538af0e6",
       "version_major": 2,
       "version_minor": 0
      },
      "text/plain": [
       "Validation: 0it [00:00, ?it/s]"
      ]
     },
     "metadata": {},
     "output_type": "display_data"
    },
    {
     "name": "stderr",
     "output_type": "stream",
     "text": [
      "`Trainer.fit` stopped: `max_epochs=3` reached.\n"
     ]
    }
   ],
   "source": [
    "n_epochs = 3\n",
    "\n",
    "early_stop_callback = pl.callbacks.early_stopping.EarlyStopping(\n",
    "monitor='val_loss', # метрика для отслеживания\n",
    "min_delta=0.00, # минимальное изменение метрики, чтобы считаться улучшением\n",
    "patience=3, # количество эпох, в течение которых метрика не улучшалась, прежде чем обучение прервется\n",
    "verbose=False, # печатать ли сообщения о прерывании обучения\n",
    "mode='min' # определяет, какая метрика является \"лучшей\": \"min\" или \"max\"\n",
    ")\n",
    "\n",
    "trainer = pl.Trainer(\n",
    "max_epochs=n_epochs,\n",
    "callbacks=[early_stop_callback],\n",
    "accelerator=\"gpu\",\n",
    "devices=1\n",
    ")\n",
    "\n",
    "model = RegressionModel().to(DEVICE)\n",
    "print(model.parameters)\n",
    "# model.train()\n",
    "trainer.fit(model, train_loader, test_loader)\n"
   ]
  },
  {
   "cell_type": "markdown",
   "metadata": {},
   "source": []
  },
  {
   "cell_type": "code",
   "execution_count": 10,
   "metadata": {},
   "outputs": [
    {
     "data": {
      "text/plain": [
       "{'train_loss': tensor(15205.3066), 'val_loss': tensor(20474.4883)}"
      ]
     },
     "execution_count": 10,
     "metadata": {},
     "output_type": "execute_result"
    }
   ],
   "source": [
    "trainer.logged_metrics"
   ]
  },
  {
   "cell_type": "markdown",
   "metadata": {},
   "source": []
  }
 ],
 "metadata": {
  "kernelspec": {
   "display_name": "Python 3",
   "language": "python",
   "name": "python3"
  },
  "language_info": {
   "codemirror_mode": {
    "name": "ipython",
    "version": 3
   },
   "file_extension": ".py",
   "mimetype": "text/x-python",
   "name": "python",
   "nbconvert_exporter": "python",
   "pygments_lexer": "ipython3",
   "version": "3.10.6"
  },
  "orig_nbformat": 4
 },
 "nbformat": 4,
 "nbformat_minor": 2
}
