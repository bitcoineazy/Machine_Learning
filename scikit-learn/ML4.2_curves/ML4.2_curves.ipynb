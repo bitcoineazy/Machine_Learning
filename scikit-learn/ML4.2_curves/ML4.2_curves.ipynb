{
 "cells": [
  {
   "attachments": {},
   "cell_type": "markdown",
   "id": "2db4e7a1",
   "metadata": {},
   "source": [
    "<b>ML4.1 Диагностика и кривые обучения<br>"
   ]
  },
  {
   "cell_type": "code",
   "execution_count": 2,
   "id": "24c7687a",
   "metadata": {},
   "outputs": [],
   "source": [
    "import numpy as np\n",
    "import matplotlib.pyplot as plt\n",
    "\n",
    "from sklearn.datasets import load_breast_cancer\n",
    "from sklearn.model_selection import train_test_split\n",
    "from sklearn.svm import SVC"
   ]
  },
  {
   "cell_type": "code",
   "execution_count": 3,
   "id": "d0b2a6f3",
   "metadata": {},
   "outputs": [],
   "source": [
    "breast_cancer = load_breast_cancer()\n",
    "X = breast_cancer.data\n",
    "y = breast_cancer.target"
   ]
  },
  {
   "cell_type": "code",
   "execution_count": 4,
   "id": "2d61eaa5",
   "metadata": {},
   "outputs": [
    {
     "data": {
      "text/plain": [
       "(569, 30)"
      ]
     },
     "execution_count": 4,
     "metadata": {},
     "output_type": "execute_result"
    }
   ],
   "source": [
    "X.shape"
   ]
  },
  {
   "cell_type": "code",
   "execution_count": 5,
   "id": "00fac0b0",
   "metadata": {},
   "outputs": [
    {
     "data": {
      "text/plain": [
       "(569,)"
      ]
     },
     "execution_count": 5,
     "metadata": {},
     "output_type": "execute_result"
    }
   ],
   "source": [
    "y.shape"
   ]
  },
  {
   "cell_type": "markdown",
   "id": "25a68724",
   "metadata": {},
   "source": [
    "2.\tВыберите два первых признака. Таким образом мы уменьшим размерность задачи. У нас была задача множественной классификации, а стала - бинарная."
   ]
  },
  {
   "cell_type": "code",
   "execution_count": 6,
   "id": "76a3bd21",
   "metadata": {},
   "outputs": [
    {
     "data": {
      "text/plain": [
       "(569, 2)"
      ]
     },
     "execution_count": 6,
     "metadata": {},
     "output_type": "execute_result"
    }
   ],
   "source": [
    "X_2d = X[:, :2]\n",
    "X_2d.shape"
   ]
  },
  {
   "cell_type": "code",
   "execution_count": 7,
   "id": "1764885a",
   "metadata": {},
   "outputs": [
    {
     "data": {
      "text/plain": [
       "(569,)"
      ]
     },
     "execution_count": 7,
     "metadata": {},
     "output_type": "execute_result"
    }
   ],
   "source": [
    "y.shape"
   ]
  },
  {
   "cell_type": "markdown",
   "id": "6adf57a0",
   "metadata": {},
   "source": [
    "3.\tРазделите датасет на обучающую и тестовую выборки в пропорции 80-20."
   ]
  },
  {
   "cell_type": "code",
   "execution_count": 8,
   "id": "de8abc24",
   "metadata": {},
   "outputs": [],
   "source": [
    "X_train, X_test, y_train, y_test = train_test_split(X_2d, y, test_size=0.2, random_state=0)"
   ]
  },
  {
   "cell_type": "markdown",
   "id": "7fea96a2",
   "metadata": {},
   "source": [
    "4.\tПостройте классификатор на опорных векторах с гауссовым ядром с параметром регуляризации C=0.01. Выведите на экран значение точности на тестовой и обучающей выборке. Сделайте предварительный вывод о степени обученности модели."
   ]
  },
  {
   "cell_type": "code",
   "execution_count": 9,
   "id": "8168b5e3",
   "metadata": {},
   "outputs": [
    {
     "name": "stdout",
     "output_type": "stream",
     "text": [
      "Score (train): 0.6923076923076923\n",
      "Score (test): 0.6666666666666666\n"
     ]
    }
   ],
   "source": [
    "clf = SVC(C=0.01, kernel=\"rbf\")\n",
    "clf.fit(X_train, y_train)\n",
    "\n",
    "print(f\"Score (train): {clf.score(X_train, y_train)}\")\n",
    "print(f\"Score (test): {clf.score(X_test, y_test)}\")"
   ]
  },
  {
   "cell_type": "markdown",
   "id": "9865eda4",
   "metadata": {},
   "source": [
    "5. Постройте графически зависимость тестовой и обучающей точности от размера обучающей выборки. Прокомментируйте получившийся результат. Сделайте вывод о том, недообучается или переобучается модель? В зависимости от этого выберите варианты, которые могут привести к увеличению точности модели (обычно подходит больше одного варианта):\n",
    "<br>\n",
    "<br>\n",
    "a.\tсобрать больше объектов наблюдения<br>\n",
    "b.\tпровести обучение на меньшем объеме данных<br>\n",
    "c.\tисключить часть признаков из модели<br>\n",
    "d.\tдобавить новые признаки в модель<br>\n",
    "e.\tдобавить полиномиальные признаки<br>\n",
    "f.\tпопробовать более сложные модели<br>\n",
    "g.\tпопробовать более простые модели<br>\n",
    "h.\tувеличить регуляризацию модели<br>\n",
    "i.\tуменьшить регуляризацию модели<br>"
   ]
  },
  {
   "cell_type": "code",
   "execution_count": 10,
   "id": "239df6f4",
   "metadata": {},
   "outputs": [
    {
     "data": {
      "image/png": "[encoded data removed]",
      "text/plain": [
       "<Figure size 640x480 with 1 Axes>"
      ]
     },
     "metadata": {},
     "output_type": "display_data"
    }
   ],
   "source": [
    "data = np.linspace(len(X_train) // 100 + 10, len(X_train), 100, dtype=int)\n",
    "test_scores = []\n",
    "train_scores = []\n",
    "\n",
    "for i in data:\n",
    "    clf = SVC(C=0.01, kernel='rbf')\n",
    "\n",
    "    x_ = X_train[:i]\n",
    "    y_ = y_train[:i]\n",
    "\n",
    "    clf.fit(x_, y_)\n",
    "\n",
    "    test_scores.append(clf.score(X_test, y_test))\n",
    "    train_scores.append(clf.score(x_, y_))\n",
    "\n",
    "ax = plt.axes()\n",
    "ax.plot(data, test_scores, label=\"test\")\n",
    "ax.plot(data, train_scores, label=\"train\")\n",
    "ax.set_xlabel('size')\n",
    "ax.set_ylabel('score')\n",
    "_ = ax.legend()"
   ]
  },
  {
   "cell_type": "markdown",
   "id": "de8b41d4",
   "metadata": {},
   "source": [
    "Модель недообучается 100%<br>\n",
    "Точность модели маленькая + метрики train_score и test_score с ростом объема выборки увеличиваются.<br>\n",
    "\n",
    "Что можно сделать:\n",
    "1. увеличить выборку каким-либо способом\n",
    "2. увеличить регуляризацию модели\n",
    "3. попробовать другие, более сложные модели"
   ]
  },
  {
   "cell_type": "markdown",
   "id": "595f40f7",
   "metadata": {},
   "source": [
    "6.\tПроверьте выдвинутую гипотезу и попробуйте улучшить модель в соответствии с выбранными рекомендациями. Проверьте, увеличивается ли тестовая точность. Сделайте вывод."
   ]
  },
  {
   "cell_type": "code",
   "execution_count": 11,
   "id": "3db7a68b",
   "metadata": {},
   "outputs": [
    {
     "name": "stdout",
     "output_type": "stream",
     "text": [
      "Score (test): 0.6666666666666666\n",
      "Score (train): 0.6923076923076923\n"
     ]
    }
   ],
   "source": [
    "clf = SVC(C=0.01, kernel=\"rbf\")\n",
    "clf.fit(X_train, y_train)\n",
    "\n",
    "print(f\"Score (test): {clf.score(X_test, y_test)}\")\n",
    "print(f\"Score (train): {clf.score(X_train, y_train)}\")"
   ]
  },
  {
   "cell_type": "markdown",
   "id": "721ee3f3",
   "metadata": {},
   "source": [
    "#### Увеличение регуляризации"
   ]
  },
  {
   "cell_type": "markdown",
   "id": "b939e768",
   "metadata": {},
   "source": [
    "Стивим С=100 "
   ]
  },
  {
   "cell_type": "code",
   "execution_count": 12,
   "id": "25799089",
   "metadata": {},
   "outputs": [
    {
     "name": "stdout",
     "output_type": "stream",
     "text": [
      "Score (test): 0.868421052631579\n",
      "Score (train): 0.9142857142857143\n"
     ]
    }
   ],
   "source": [
    "clf = SVC(kernel='rbf', C=100)\n",
    "clf.fit(X_train, y_train)\n",
    "print(f\"Score (test): {clf.score(X_test, y_test)}\")\n",
    "print(f\"Score (train): {clf.score(X_train, y_train)}\")"
   ]
  },
  {
   "cell_type": "markdown",
   "id": "50a568fc",
   "metadata": {},
   "source": [
    "Увеличение регуляризации даёт увеличение точности модели, можно использовать"
   ]
  },
  {
   "cell_type": "markdown",
   "id": "7b5e4993",
   "metadata": {},
   "source": [
    "<b>Использование классификатора k-ближайших соседей</b>"
   ]
  },
  {
   "cell_type": "code",
   "execution_count": 13,
   "id": "609d3c62",
   "metadata": {},
   "outputs": [
    {
     "name": "stdout",
     "output_type": "stream",
     "text": [
      "Score (test): 0.8947368421052632\n",
      "Score (train): 0.8879120879120879\n"
     ]
    }
   ],
   "source": [
    "import sklearn.neighbors as neigh\n",
    "\n",
    "kn = neigh.KNeighborsClassifier(n_neighbors=90, n_jobs=6).fit(X_train,y_train)\n",
    "print(f\"Score (test): {kn.score(X_test, y_test)}\")\n",
    "print(f\"Score (train): {kn.score(X_train, y_train)}\")"
   ]
  },
  {
   "cell_type": "markdown",
   "id": "f19d57eb",
   "metadata": {},
   "source": [
    "Результаты по алгоритму k-ближайших соседей действительно выше, чем при SVC(C=0.01, kernel=\"rbf\")"
   ]
  },
  {
   "cell_type": "markdown",
   "id": "1a5b353c",
   "metadata": {},
   "source": [
    "<b>Использование логистической регресси</b>"
   ]
  },
  {
   "cell_type": "code",
   "execution_count": 14,
   "id": "54e2d692",
   "metadata": {},
   "outputs": [
    {
     "name": "stdout",
     "output_type": "stream",
     "text": [
      "Score (test): 0.8947368421052632\n",
      "Score (train): 0.8989010989010989\n"
     ]
    }
   ],
   "source": [
    "from sklearn.linear_model import LogisticRegression\n",
    "\n",
    "logr = LogisticRegression(max_iter=5000, n_jobs=6).fit(X_train, y_train)\n",
    "print(f\"Score (test): {logr.score(X_test, y_test)}\")\n",
    "print(f\"Score (train): {logr.score(X_train, y_train)}\")"
   ]
  },
  {
   "cell_type": "markdown",
   "id": "c66bbb5d",
   "metadata": {},
   "source": [
    "Результаты по логистической регрессии также выше, чем при SVC(C=0.01, kernel=\"rbf\")"
   ]
  },
  {
   "cell_type": "markdown",
   "id": "046c8e68",
   "metadata": {},
   "source": [
    "7.\tПовторите предыдущий пункт для различных значений C в диапазоне от 0,0001 до 1 000 000. Обратите внимание на шкалу по вертикальной оси. Для каких значений тестовая точность оптимальна? Какие значения дают недообучение? Какие - переобучение?"
   ]
  },
  {
   "cell_type": "code",
   "execution_count": 24,
   "id": "69de0e99",
   "metadata": {},
   "outputs": [
    {
     "data": {
      "text/plain": [
       "0.8771929824561403"
      ]
     },
     "execution_count": 24,
     "metadata": {},
     "output_type": "execute_result"
    },
    {
     "data": {
      "image/png": "[encoded data removed]",
      "text/plain": [
       "<Figure size 640x480 with 1 Axes>"
      ]
     },
     "metadata": {},
     "output_type": "display_data"
    }
   ],
   "source": [
    "\n",
    "# from tqdm import tqdm\n",
    "\n",
    "data = np.linspace(1, 100000, 50)\n",
    "\n",
    "test_scores = []\n",
    "train_scores = []\n",
    "\n",
    "for i in data:\n",
    "    clf = SVC(C=i, kernel=\"rbf\")\n",
    "\n",
    "    clf.fit(X_train, y_train)\n",
    "\n",
    "    test_scores.append(clf.score(X_test, y_test))\n",
    "    train_scores.append(clf.score(X_train, y_train))\n",
    "\n",
    "ax = plt.axes()\n",
    "ax.plot(data, test_scores, label=\"test\")\n",
    "ax.plot(data, train_scores, label=\"train\")\n",
    "ax.set_xlabel('С')\n",
    "ax.set_ylabel('score')\n",
    "ax.set_ylim([0.75, 1])\n",
    "ax.legend()\n",
    "\n",
    "max(test_scores)"
   ]
  },
  {
   "cell_type": "markdown",
   "id": "b52366d7",
   "metadata": {},
   "source": [
    "8.\tПостройте график зависимости тестовой и обучающей точности от значения регуляризационного параметра. Сделайте вывод о зависимости степени регуляризации на точность модели."
   ]
  },
  {
   "cell_type": "code",
   "execution_count": 25,
   "id": "fc18533e",
   "metadata": {},
   "outputs": [
    {
     "data": {
      "text/plain": [
       "0.8771929824561403"
      ]
     },
     "execution_count": 25,
     "metadata": {},
     "output_type": "execute_result"
    },
    {
     "data": {
      "image/png": "[encoded data removed]",
      "text/plain": [
       "<Figure size 640x480 with 1 Axes>"
      ]
     },
     "metadata": {},
     "output_type": "display_data"
    }
   ],
   "source": [
    "data = np.linspace(0.0001, 1, 500)\n",
    "\n",
    "test_scores = []\n",
    "train_scores = []\n",
    "\n",
    "for i in data:\n",
    "    clf = SVC(C=i, kernel=\"rbf\")\n",
    "\n",
    "    clf.fit(X_train, y_train)\n",
    "\n",
    "    test_scores.append(clf.score(X_test, y_test))\n",
    "    train_scores.append(clf.score(X_train, y_train))\n",
    "\n",
    "ax = plt.axes()\n",
    "ax.plot(data, test_scores, label=\"test\")\n",
    "ax.plot(data, train_scores, label=\"train\")\n",
    "ax.set_xlabel('С')\n",
    "ax.set_ylabel('score')\n",
    "ax.set_ylim([0.75, 1])\n",
    "ax.legend()\n",
    "\n",
    "max(test_scores)"
   ]
  },
  {
   "cell_type": "markdown",
   "id": "e73f440b",
   "metadata": {},
   "source": [
    "С большим значением C модель переобучается<br>\n",
    "C малым - недообучается.<br>\n",
    "<br>\n",
    "С увеличением аргумента C точность модели на тренируемых данных увеличивается, а на тестовых - уменьшается."
   ]
  },
  {
   "cell_type": "markdown",
   "id": "e08a7d1d",
   "metadata": {},
   "source": [
    "9.\tНайдите методом подбора оптимальное значение параметра регуляризации (примерное)."
   ]
  },
  {
   "cell_type": "code",
   "execution_count": 26,
   "id": "1782ee3e",
   "metadata": {},
   "outputs": [
    {
     "name": "stdout",
     "output_type": "stream",
     "text": [
      "test accuracy: 0.8771929824561403\n",
      "train accuracy: 0.9164835164835164\n"
     ]
    }
   ],
   "source": [
    "clf = SVC(kernel='rbf', C=51.1)\n",
    "clf.fit(X_train, y_train)\n",
    "print(f'test accuracy: {clf.score(X_test, y_test)}')\n",
    "print(f'train accuracy: {clf.score(X_train, y_train)}')"
   ]
  },
  {
   "cell_type": "code",
   "execution_count": 27,
   "id": "e21396d4",
   "metadata": {},
   "outputs": [
    {
     "name": "stdout",
     "output_type": "stream",
     "text": [
      "(51.1, 0.8771929824561403, 0.9164835164835164)\n"
     ]
    }
   ],
   "source": [
    "results = []\n",
    "for i in range(1,1000):\n",
    "    value = i * 0.1\n",
    "    clf = SVC(kernel='rbf', C=value)\n",
    "    clf.fit(X_train, y_train)\n",
    "    test_acc = clf.score(X_test, y_test)\n",
    "    train_acc = clf.score(X_train, y_train)\n",
    "    results.append((value, test_acc, train_acc))\n",
    "    \n",
    "results.sort(key=lambda x: x[1])\n",
    "print(results[-1])"
   ]
  },
  {
   "cell_type": "markdown",
   "id": "15a9cf34",
   "metadata": {},
   "source": [
    "При C = 5 получаем 87% на тестовой выборке и 90% на тренировочной, что очень хорошо<br>\n",
    "Если перебрать, то<br>\n",
    "При С = 51.1 получаем 87.7% и 91.6%<br>"
   ]
  },
  {
   "cell_type": "markdown",
   "id": "175c361e",
   "metadata": {},
   "source": [
    "10.\tПовторите два предыдущих пункта для метода опорных векторов с линейным ядром. Сравните получившиеся результаты. Сделайте вывод о сравнительной эффективности двух этих моделей."
   ]
  },
  {
   "cell_type": "markdown",
   "id": "40c8cb05",
   "metadata": {},
   "source": [
    "График зависимости тестовой и обучающей точности от значения регуляризационного параметра."
   ]
  },
  {
   "cell_type": "code",
   "execution_count": 28,
   "id": "be7573c1",
   "metadata": {},
   "outputs": [
    {
     "data": {
      "text/plain": [
       "0.8947368421052632"
      ]
     },
     "execution_count": 28,
     "metadata": {},
     "output_type": "execute_result"
    },
    {
     "data": {
      "image/png": "[encoded data removed]",
      "text/plain": [
       "<Figure size 640x480 with 1 Axes>"
      ]
     },
     "metadata": {},
     "output_type": "display_data"
    }
   ],
   "source": [
    "data = np.linspace(1, 100000, 50)\n",
    "\n",
    "test_scores = []\n",
    "train_scores = []\n",
    "\n",
    "for i in data:\n",
    "    clf = SVC(C=i, kernel=\"linear\")\n",
    "\n",
    "    clf.fit(X_train, y_train)\n",
    "\n",
    "    test_scores.append(clf.score(X_test, y_test))\n",
    "    train_scores.append(clf.score(X_train, y_train))\n",
    "\n",
    "ax = plt.axes()\n",
    "ax.plot(data, test_scores, label=\"test\")\n",
    "ax.plot(data, train_scores, label=\"train\")\n",
    "ax.set_xlabel('С')\n",
    "ax.set_ylabel('score')\n",
    "ax.set_ylim([0.75, 1])\n",
    "ax.legend()\n",
    "\n",
    "max(test_scores)"
   ]
  },
  {
   "cell_type": "markdown",
   "id": "75296bf9",
   "metadata": {},
   "source": [
    "Найти методом подбора оптимальное значение параметра регуляризации"
   ]
  },
  {
   "cell_type": "code",
   "execution_count": 29,
   "id": "28e459df",
   "metadata": {},
   "outputs": [
    {
     "name": "stdout",
     "output_type": "stream",
     "text": [
      "test accuracy: 0.8947368421052632\n",
      "train accuracy: 0.8879120879120879\n"
     ]
    }
   ],
   "source": [
    "clf = SVC(kernel='linear', C=9.9)\n",
    "clf.fit(X_train, y_train)\n",
    "print(f'test accuracy: {clf.score(X_test, y_test)}')\n",
    "print(f'train accuracy: {clf.score(X_train, y_train)}')"
   ]
  },
  {
   "cell_type": "code",
   "execution_count": 30,
   "id": "5178c7a6",
   "metadata": {},
   "outputs": [
    {
     "name": "stdout",
     "output_type": "stream",
     "text": [
      "(9.9, 0.8947368421052632, 0.8879120879120879)\n"
     ]
    }
   ],
   "source": [
    "results = []\n",
    "for i in range(1,100):\n",
    "    value = i * 0.1\n",
    "    clf = SVC(kernel='linear', C=value)\n",
    "    clf.fit(X_train, y_train)\n",
    "    test_acc = clf.score(X_test, y_test)\n",
    "    train_acc = clf.score(X_train, y_train)\n",
    "    results.append((value, test_acc, train_acc))\n",
    "    \n",
    "results.sort(key=lambda x: x[2])\n",
    "print(results[-1])"
   ]
  },
  {
   "cell_type": "markdown",
   "id": "c4aa94e6",
   "metadata": {},
   "source": [
    "### Вывод\n",
    "Модели примерно одинаковые, каких-либо супер особенностей для выбора конкретной мной не выявлено"
   ]
  },
  {
   "cell_type": "code",
   "execution_count": null,
   "metadata": {
    "collapsed": false
   },
   "outputs": [],
   "source": []
  }
 ],
 "metadata": {
  "kernelspec": {
   "display_name": "Python 3",
   "language": "python",
   "name": "python3"
  },
  "language_info": {
   "codemirror_mode": {
    "name": "ipython",
    "version": 3
   },
   "file_extension": ".py",
   "mimetype": "text/x-python",
   "name": "python",
   "nbconvert_exporter": "python",
   "pygments_lexer": "ipython3",
   "version": "3.10.4"
  },
  "vscode": {
   "interpreter": {
    "hash": "3ad933181bd8a04b432d3370b9dc3b0662ad032c4dfaa4e4f1596c548f763858"
   }
  }
 },
 "nbformat": 4,
 "nbformat_minor": 5
}
