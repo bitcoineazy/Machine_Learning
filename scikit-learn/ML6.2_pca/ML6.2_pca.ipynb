{
 "cells": [
  {
   "cell_type": "markdown",
   "source": [
    "## Лабораторная работа № 15. Понижение размерности.\n",
    "### (Валяев Георгий, ПИ20-6)"
   ],
   "metadata": {
    "collapsed": false,
    "pycharm": {
     "name": "#%% md\n"
    }
   }
  },
  {
   "cell_type": "code",
   "execution_count": 56,
   "outputs": [],
   "source": [
    "import pandas as pd\n",
    "import seaborn as sns\n",
    "import matplotlib.pyplot as plt\n",
    "from sklearn.model_selection import train_test_split\n",
    "from sklearn.ensemble import RandomForestClassifier\n",
    "import sklearn.metrics as metrics\n",
    "from sklearn.cluster import KMeans\n",
    "from sklearn.decomposition import PCA\n",
    "from sklearn.preprocessing import normalize"
   ],
   "metadata": {
    "collapsed": false,
    "pycharm": {
     "name": "#%%\n"
    }
   }
  },
  {
   "cell_type": "markdown",
   "source": [
    "### Задания для выполнения"
   ],
   "metadata": {
    "collapsed": false,
    "pycharm": {
     "name": "#%% md\n"
    }
   }
  },
  {
   "cell_type": "markdown",
   "source": [
    "##### 1. Загрузите прилагающийся датасет credit_data.\n",
    "##### 2. Проверьте датасет на наличие текстовых атрибутов. Замените текстовые атрибуты на числовые без потери качества данных."
   ],
   "metadata": {
    "collapsed": false,
    "pycharm": {
     "name": "#%% md\n"
    }
   }
  },
  {
   "cell_type": "code",
   "execution_count": 83,
   "outputs": [
    {
     "data": {
      "text/plain": "     Unnamed: 0  Age     Sex  Job Housing Saving accounts Checking account  \\\n0             0   67    male    2     own             NaN           little   \n1             1   22  female    2     own          little         moderate   \n2             2   49    male    1     own          little              NaN   \n3             3   45    male    2    free          little           little   \n4             4   53    male    2    free          little           little   \n..          ...  ...     ...  ...     ...             ...              ...   \n995         995   31  female    1     own          little              NaN   \n996         996   40    male    3     own          little           little   \n997         997   38    male    2     own          little              NaN   \n998         998   23    male    2    free          little           little   \n999         999   27    male    2     own        moderate         moderate   \n\n     Credit amount  Duration              Purpose  Risk  \n0             1169         6             radio/TV  good  \n1             5951        48             radio/TV   bad  \n2             2096        12            education  good  \n3             7882        42  furniture/equipment  good  \n4             4870        24                  car   bad  \n..             ...       ...                  ...   ...  \n995           1736        12  furniture/equipment  good  \n996           3857        30                  car  good  \n997            804        12             radio/TV  good  \n998           1845        45             radio/TV   bad  \n999           4576        45                  car  good  \n\n[1000 rows x 11 columns]",
      "text/html": "<div>\n<style scoped>\n    .dataframe tbody tr th:only-of-type {\n        vertical-align: middle;\n    }\n\n    .dataframe tbody tr th {\n        vertical-align: top;\n    }\n\n    .dataframe thead th {\n        text-align: right;\n    }\n</style>\n<table border=\"1\" class=\"dataframe\">\n  <thead>\n    <tr style=\"text-align: right;\">\n      <th></th>\n      <th>Unnamed: 0</th>\n      <th>Age</th>\n      <th>Sex</th>\n      <th>Job</th>\n      <th>Housing</th>\n      <th>Saving accounts</th>\n      <th>Checking account</th>\n      <th>Credit amount</th>\n      <th>Duration</th>\n      <th>Purpose</th>\n      <th>Risk</th>\n    </tr>\n  </thead>\n  <tbody>\n    <tr>\n      <th>0</th>\n      <td>0</td>\n      <td>67</td>\n      <td>male</td>\n      <td>2</td>\n      <td>own</td>\n      <td>NaN</td>\n      <td>little</td>\n      <td>1169</td>\n      <td>6</td>\n      <td>radio/TV</td>\n      <td>good</td>\n    </tr>\n    <tr>\n      <th>1</th>\n      <td>1</td>\n      <td>22</td>\n      <td>female</td>\n      <td>2</td>\n      <td>own</td>\n      <td>little</td>\n      <td>moderate</td>\n      <td>5951</td>\n      <td>48</td>\n      <td>radio/TV</td>\n      <td>bad</td>\n    </tr>\n    <tr>\n      <th>2</th>\n      <td>2</td>\n      <td>49</td>\n      <td>male</td>\n      <td>1</td>\n      <td>own</td>\n      <td>little</td>\n      <td>NaN</td>\n      <td>2096</td>\n      <td>12</td>\n      <td>education</td>\n      <td>good</td>\n    </tr>\n    <tr>\n      <th>3</th>\n      <td>3</td>\n      <td>45</td>\n      <td>male</td>\n      <td>2</td>\n      <td>free</td>\n      <td>little</td>\n      <td>little</td>\n      <td>7882</td>\n      <td>42</td>\n      <td>furniture/equipment</td>\n      <td>good</td>\n    </tr>\n    <tr>\n      <th>4</th>\n      <td>4</td>\n      <td>53</td>\n      <td>male</td>\n      <td>2</td>\n      <td>free</td>\n      <td>little</td>\n      <td>little</td>\n      <td>4870</td>\n      <td>24</td>\n      <td>car</td>\n      <td>bad</td>\n    </tr>\n    <tr>\n      <th>...</th>\n      <td>...</td>\n      <td>...</td>\n      <td>...</td>\n      <td>...</td>\n      <td>...</td>\n      <td>...</td>\n      <td>...</td>\n      <td>...</td>\n      <td>...</td>\n      <td>...</td>\n      <td>...</td>\n    </tr>\n    <tr>\n      <th>995</th>\n      <td>995</td>\n      <td>31</td>\n      <td>female</td>\n      <td>1</td>\n      <td>own</td>\n      <td>little</td>\n      <td>NaN</td>\n      <td>1736</td>\n      <td>12</td>\n      <td>furniture/equipment</td>\n      <td>good</td>\n    </tr>\n    <tr>\n      <th>996</th>\n      <td>996</td>\n      <td>40</td>\n      <td>male</td>\n      <td>3</td>\n      <td>own</td>\n      <td>little</td>\n      <td>little</td>\n      <td>3857</td>\n      <td>30</td>\n      <td>car</td>\n      <td>good</td>\n    </tr>\n    <tr>\n      <th>997</th>\n      <td>997</td>\n      <td>38</td>\n      <td>male</td>\n      <td>2</td>\n      <td>own</td>\n      <td>little</td>\n      <td>NaN</td>\n      <td>804</td>\n      <td>12</td>\n      <td>radio/TV</td>\n      <td>good</td>\n    </tr>\n    <tr>\n      <th>998</th>\n      <td>998</td>\n      <td>23</td>\n      <td>male</td>\n      <td>2</td>\n      <td>free</td>\n      <td>little</td>\n      <td>little</td>\n      <td>1845</td>\n      <td>45</td>\n      <td>radio/TV</td>\n      <td>bad</td>\n    </tr>\n    <tr>\n      <th>999</th>\n      <td>999</td>\n      <td>27</td>\n      <td>male</td>\n      <td>2</td>\n      <td>own</td>\n      <td>moderate</td>\n      <td>moderate</td>\n      <td>4576</td>\n      <td>45</td>\n      <td>car</td>\n      <td>good</td>\n    </tr>\n  </tbody>\n</table>\n<p>1000 rows × 11 columns</p>\n</div>"
     },
     "execution_count": 83,
     "metadata": {},
     "output_type": "execute_result"
    }
   ],
   "source": [
    "dataframe = pd.read_csv('data/credit_data.csv', delimiter=',')\n",
    "dataframe"
   ],
   "metadata": {
    "collapsed": false,
    "pycharm": {
     "name": "#%%\n"
    }
   }
  },
  {
   "cell_type": "markdown",
   "source": [
    "###### Отследим столбцы с пустыми значениями"
   ],
   "metadata": {
    "collapsed": false,
    "pycharm": {
     "name": "#%% md\n"
    }
   }
  },
  {
   "cell_type": "code",
   "execution_count": 84,
   "outputs": [
    {
     "data": {
      "text/plain": "Unnamed: 0            0\nAge                   0\nSex                   0\nJob                   0\nHousing               0\nSaving accounts     183\nChecking account    394\nCredit amount         0\nDuration              0\nPurpose               0\nRisk                  0\ndtype: int64"
     },
     "execution_count": 84,
     "metadata": {},
     "output_type": "execute_result"
    }
   ],
   "source": [
    "dataframe.isna().sum()"
   ],
   "metadata": {
    "collapsed": false,
    "pycharm": {
     "name": "#%%\n"
    }
   }
  },
  {
   "cell_type": "markdown",
   "source": [
    "###### Удалим столбцы не несущие какой-либо полезной информации, а также вынесем метки строк в отдельный массив target:"
   ],
   "metadata": {
    "collapsed": false,
    "pycharm": {
     "name": "#%% md\n"
    }
   }
  },
  {
   "cell_type": "code",
   "execution_count": 85,
   "outputs": [
    {
     "data": {
      "text/plain": "     Age     Sex  Job Housing Saving accounts Checking account  Credit amount  \\\n0     67    male    2     own             NaN           little           1169   \n1     22  female    2     own          little         moderate           5951   \n2     49    male    1     own          little              NaN           2096   \n3     45    male    2    free          little           little           7882   \n4     53    male    2    free          little           little           4870   \n..   ...     ...  ...     ...             ...              ...            ...   \n995   31  female    1     own          little              NaN           1736   \n996   40    male    3     own          little           little           3857   \n997   38    male    2     own          little              NaN            804   \n998   23    male    2    free          little           little           1845   \n999   27    male    2     own        moderate         moderate           4576   \n\n     Duration  \n0           6  \n1          48  \n2          12  \n3          42  \n4          24  \n..        ...  \n995        12  \n996        30  \n997        12  \n998        45  \n999        45  \n\n[1000 rows x 8 columns]",
      "text/html": "<div>\n<style scoped>\n    .dataframe tbody tr th:only-of-type {\n        vertical-align: middle;\n    }\n\n    .dataframe tbody tr th {\n        vertical-align: top;\n    }\n\n    .dataframe thead th {\n        text-align: right;\n    }\n</style>\n<table border=\"1\" class=\"dataframe\">\n  <thead>\n    <tr style=\"text-align: right;\">\n      <th></th>\n      <th>Age</th>\n      <th>Sex</th>\n      <th>Job</th>\n      <th>Housing</th>\n      <th>Saving accounts</th>\n      <th>Checking account</th>\n      <th>Credit amount</th>\n      <th>Duration</th>\n    </tr>\n  </thead>\n  <tbody>\n    <tr>\n      <th>0</th>\n      <td>67</td>\n      <td>male</td>\n      <td>2</td>\n      <td>own</td>\n      <td>NaN</td>\n      <td>little</td>\n      <td>1169</td>\n      <td>6</td>\n    </tr>\n    <tr>\n      <th>1</th>\n      <td>22</td>\n      <td>female</td>\n      <td>2</td>\n      <td>own</td>\n      <td>little</td>\n      <td>moderate</td>\n      <td>5951</td>\n      <td>48</td>\n    </tr>\n    <tr>\n      <th>2</th>\n      <td>49</td>\n      <td>male</td>\n      <td>1</td>\n      <td>own</td>\n      <td>little</td>\n      <td>NaN</td>\n      <td>2096</td>\n      <td>12</td>\n    </tr>\n    <tr>\n      <th>3</th>\n      <td>45</td>\n      <td>male</td>\n      <td>2</td>\n      <td>free</td>\n      <td>little</td>\n      <td>little</td>\n      <td>7882</td>\n      <td>42</td>\n    </tr>\n    <tr>\n      <th>4</th>\n      <td>53</td>\n      <td>male</td>\n      <td>2</td>\n      <td>free</td>\n      <td>little</td>\n      <td>little</td>\n      <td>4870</td>\n      <td>24</td>\n    </tr>\n    <tr>\n      <th>...</th>\n      <td>...</td>\n      <td>...</td>\n      <td>...</td>\n      <td>...</td>\n      <td>...</td>\n      <td>...</td>\n      <td>...</td>\n      <td>...</td>\n    </tr>\n    <tr>\n      <th>995</th>\n      <td>31</td>\n      <td>female</td>\n      <td>1</td>\n      <td>own</td>\n      <td>little</td>\n      <td>NaN</td>\n      <td>1736</td>\n      <td>12</td>\n    </tr>\n    <tr>\n      <th>996</th>\n      <td>40</td>\n      <td>male</td>\n      <td>3</td>\n      <td>own</td>\n      <td>little</td>\n      <td>little</td>\n      <td>3857</td>\n      <td>30</td>\n    </tr>\n    <tr>\n      <th>997</th>\n      <td>38</td>\n      <td>male</td>\n      <td>2</td>\n      <td>own</td>\n      <td>little</td>\n      <td>NaN</td>\n      <td>804</td>\n      <td>12</td>\n    </tr>\n    <tr>\n      <th>998</th>\n      <td>23</td>\n      <td>male</td>\n      <td>2</td>\n      <td>free</td>\n      <td>little</td>\n      <td>little</td>\n      <td>1845</td>\n      <td>45</td>\n    </tr>\n    <tr>\n      <th>999</th>\n      <td>27</td>\n      <td>male</td>\n      <td>2</td>\n      <td>own</td>\n      <td>moderate</td>\n      <td>moderate</td>\n      <td>4576</td>\n      <td>45</td>\n    </tr>\n  </tbody>\n</table>\n<p>1000 rows × 8 columns</p>\n</div>"
     },
     "execution_count": 85,
     "metadata": {},
     "output_type": "execute_result"
    }
   ],
   "source": [
    "data = dataframe.drop(['Risk', 'Unnamed: 0', 'Purpose'], axis=1)\n",
    "target = dataframe['Risk']\n",
    "data"
   ],
   "metadata": {
    "collapsed": false,
    "pycharm": {
     "name": "#%%\n"
    }
   }
  },
  {
   "cell_type": "markdown",
   "source": [
    "###### Заменим текстовые категориальные признаки на числовые с помощью функции map. Пустые значения в столбцах заменим на 0."
   ],
   "metadata": {
    "collapsed": false,
    "pycharm": {
     "name": "#%% md\n"
    }
   }
  },
  {
   "cell_type": "code",
   "execution_count": 74,
   "outputs": [],
   "source": [
    "data['Saving accounts'] = data['Saving accounts'].map({\"little\": 1, \"moderate\": 2, \"quite rich\": 3, \"rich\": 4})\n",
    "data['Checking account'] = data['Checking account'].map({\"little\": 1, \"moderate\": 2, \"rich\": 3})\n",
    "target = target.map({\"good\": 1, \"bad\": 0})\n",
    "data['Saving accounts'] = data['Saving accounts'].fillna(0)\n",
    "data['Checking account'] = data['Checking account'].fillna(0)"
   ],
   "metadata": {
    "collapsed": false,
    "pycharm": {
     "name": "#%%\n"
    }
   }
  },
  {
   "cell_type": "code",
   "execution_count": 75,
   "outputs": [
    {
     "data": {
      "text/plain": "array(['own', 'free', 'rent'], dtype=object)"
     },
     "execution_count": 75,
     "metadata": {},
     "output_type": "execute_result"
    }
   ],
   "source": [
    "data['Housing'].unique()"
   ],
   "metadata": {
    "collapsed": false,
    "pycharm": {
     "name": "#%%\n"
    }
   }
  },
  {
   "cell_type": "code",
   "execution_count": 76,
   "outputs": [
    {
     "data": {
      "text/plain": "     Age     Sex  Job Housing  Saving accounts  Checking account  \\\n0     67    male    2     own              0.0               1.0   \n1     22  female    2     own              1.0               2.0   \n2     49    male    1     own              1.0               0.0   \n3     45    male    2    free              1.0               1.0   \n4     53    male    2    free              1.0               1.0   \n..   ...     ...  ...     ...              ...               ...   \n995   31  female    1     own              1.0               0.0   \n996   40    male    3     own              1.0               1.0   \n997   38    male    2     own              1.0               0.0   \n998   23    male    2    free              1.0               1.0   \n999   27    male    2     own              2.0               2.0   \n\n     Credit amount  Duration  \n0             1169         6  \n1             5951        48  \n2             2096        12  \n3             7882        42  \n4             4870        24  \n..             ...       ...  \n995           1736        12  \n996           3857        30  \n997            804        12  \n998           1845        45  \n999           4576        45  \n\n[1000 rows x 8 columns]",
      "text/html": "<div>\n<style scoped>\n    .dataframe tbody tr th:only-of-type {\n        vertical-align: middle;\n    }\n\n    .dataframe tbody tr th {\n        vertical-align: top;\n    }\n\n    .dataframe thead th {\n        text-align: right;\n    }\n</style>\n<table border=\"1\" class=\"dataframe\">\n  <thead>\n    <tr style=\"text-align: right;\">\n      <th></th>\n      <th>Age</th>\n      <th>Sex</th>\n      <th>Job</th>\n      <th>Housing</th>\n      <th>Saving accounts</th>\n      <th>Checking account</th>\n      <th>Credit amount</th>\n      <th>Duration</th>\n    </tr>\n  </thead>\n  <tbody>\n    <tr>\n      <th>0</th>\n      <td>67</td>\n      <td>male</td>\n      <td>2</td>\n      <td>own</td>\n      <td>0.0</td>\n      <td>1.0</td>\n      <td>1169</td>\n      <td>6</td>\n    </tr>\n    <tr>\n      <th>1</th>\n      <td>22</td>\n      <td>female</td>\n      <td>2</td>\n      <td>own</td>\n      <td>1.0</td>\n      <td>2.0</td>\n      <td>5951</td>\n      <td>48</td>\n    </tr>\n    <tr>\n      <th>2</th>\n      <td>49</td>\n      <td>male</td>\n      <td>1</td>\n      <td>own</td>\n      <td>1.0</td>\n      <td>0.0</td>\n      <td>2096</td>\n      <td>12</td>\n    </tr>\n    <tr>\n      <th>3</th>\n      <td>45</td>\n      <td>male</td>\n      <td>2</td>\n      <td>free</td>\n      <td>1.0</td>\n      <td>1.0</td>\n      <td>7882</td>\n      <td>42</td>\n    </tr>\n    <tr>\n      <th>4</th>\n      <td>53</td>\n      <td>male</td>\n      <td>2</td>\n      <td>free</td>\n      <td>1.0</td>\n      <td>1.0</td>\n      <td>4870</td>\n      <td>24</td>\n    </tr>\n    <tr>\n      <th>...</th>\n      <td>...</td>\n      <td>...</td>\n      <td>...</td>\n      <td>...</td>\n      <td>...</td>\n      <td>...</td>\n      <td>...</td>\n      <td>...</td>\n    </tr>\n    <tr>\n      <th>995</th>\n      <td>31</td>\n      <td>female</td>\n      <td>1</td>\n      <td>own</td>\n      <td>1.0</td>\n      <td>0.0</td>\n      <td>1736</td>\n      <td>12</td>\n    </tr>\n    <tr>\n      <th>996</th>\n      <td>40</td>\n      <td>male</td>\n      <td>3</td>\n      <td>own</td>\n      <td>1.0</td>\n      <td>1.0</td>\n      <td>3857</td>\n      <td>30</td>\n    </tr>\n    <tr>\n      <th>997</th>\n      <td>38</td>\n      <td>male</td>\n      <td>2</td>\n      <td>own</td>\n      <td>1.0</td>\n      <td>0.0</td>\n      <td>804</td>\n      <td>12</td>\n    </tr>\n    <tr>\n      <th>998</th>\n      <td>23</td>\n      <td>male</td>\n      <td>2</td>\n      <td>free</td>\n      <td>1.0</td>\n      <td>1.0</td>\n      <td>1845</td>\n      <td>45</td>\n    </tr>\n    <tr>\n      <th>999</th>\n      <td>27</td>\n      <td>male</td>\n      <td>2</td>\n      <td>own</td>\n      <td>2.0</td>\n      <td>2.0</td>\n      <td>4576</td>\n      <td>45</td>\n    </tr>\n  </tbody>\n</table>\n<p>1000 rows × 8 columns</p>\n</div>"
     },
     "execution_count": 76,
     "metadata": {},
     "output_type": "execute_result"
    }
   ],
   "source": [
    "data"
   ],
   "metadata": {
    "collapsed": false,
    "pycharm": {
     "name": "#%%\n"
    }
   }
  },
  {
   "cell_type": "markdown",
   "source": [
    "##### 3. Выведите информацию о количественных параметрах датасета;"
   ],
   "metadata": {
    "collapsed": false,
    "pycharm": {
     "name": "#%% md\n"
    }
   }
  },
  {
   "cell_type": "code",
   "execution_count": 86,
   "outputs": [
    {
     "data": {
      "text/plain": "     Age  Job  Credit amount  Duration  Sex_female  Sex_male  Housing_free  \\\n0     67    2           1169         6           0         1             0   \n1     22    2           5951        48           1         0             0   \n2     49    1           2096        12           0         1             0   \n3     45    2           7882        42           0         1             1   \n4     53    2           4870        24           0         1             1   \n..   ...  ...            ...       ...         ...       ...           ...   \n995   31    1           1736        12           1         0             0   \n996   40    3           3857        30           0         1             0   \n997   38    2            804        12           0         1             0   \n998   23    2           1845        45           0         1             1   \n999   27    2           4576        45           0         1             0   \n\n     Housing_own  Housing_rent  Saving accounts_little  \\\n0              1             0                       0   \n1              1             0                       1   \n2              1             0                       1   \n3              0             0                       1   \n4              0             0                       1   \n..           ...           ...                     ...   \n995            1             0                       1   \n996            1             0                       1   \n997            1             0                       1   \n998            0             0                       1   \n999            1             0                       0   \n\n     Saving accounts_moderate  Saving accounts_quite rich  \\\n0                           0                           0   \n1                           0                           0   \n2                           0                           0   \n3                           0                           0   \n4                           0                           0   \n..                        ...                         ...   \n995                         0                           0   \n996                         0                           0   \n997                         0                           0   \n998                         0                           0   \n999                         1                           0   \n\n     Saving accounts_rich  Checking account_little  Checking account_moderate  \\\n0                       0                        1                          0   \n1                       0                        0                          1   \n2                       0                        0                          0   \n3                       0                        1                          0   \n4                       0                        1                          0   \n..                    ...                      ...                        ...   \n995                     0                        0                          0   \n996                     0                        1                          0   \n997                     0                        0                          0   \n998                     0                        1                          0   \n999                     0                        0                          1   \n\n     Checking account_rich  \n0                        0  \n1                        0  \n2                        0  \n3                        0  \n4                        0  \n..                     ...  \n995                      0  \n996                      0  \n997                      0  \n998                      0  \n999                      0  \n\n[1000 rows x 16 columns]",
      "text/html": "<div>\n<style scoped>\n    .dataframe tbody tr th:only-of-type {\n        vertical-align: middle;\n    }\n\n    .dataframe tbody tr th {\n        vertical-align: top;\n    }\n\n    .dataframe thead th {\n        text-align: right;\n    }\n</style>\n<table border=\"1\" class=\"dataframe\">\n  <thead>\n    <tr style=\"text-align: right;\">\n      <th></th>\n      <th>Age</th>\n      <th>Job</th>\n      <th>Credit amount</th>\n      <th>Duration</th>\n      <th>Sex_female</th>\n      <th>Sex_male</th>\n      <th>Housing_free</th>\n      <th>Housing_own</th>\n      <th>Housing_rent</th>\n      <th>Saving accounts_little</th>\n      <th>Saving accounts_moderate</th>\n      <th>Saving accounts_quite rich</th>\n      <th>Saving accounts_rich</th>\n      <th>Checking account_little</th>\n      <th>Checking account_moderate</th>\n      <th>Checking account_rich</th>\n    </tr>\n  </thead>\n  <tbody>\n    <tr>\n      <th>0</th>\n      <td>67</td>\n      <td>2</td>\n      <td>1169</td>\n      <td>6</td>\n      <td>0</td>\n      <td>1</td>\n      <td>0</td>\n      <td>1</td>\n      <td>0</td>\n      <td>0</td>\n      <td>0</td>\n      <td>0</td>\n      <td>0</td>\n      <td>1</td>\n      <td>0</td>\n      <td>0</td>\n    </tr>\n    <tr>\n      <th>1</th>\n      <td>22</td>\n      <td>2</td>\n      <td>5951</td>\n      <td>48</td>\n      <td>1</td>\n      <td>0</td>\n      <td>0</td>\n      <td>1</td>\n      <td>0</td>\n      <td>1</td>\n      <td>0</td>\n      <td>0</td>\n      <td>0</td>\n      <td>0</td>\n      <td>1</td>\n      <td>0</td>\n    </tr>\n    <tr>\n      <th>2</th>\n      <td>49</td>\n      <td>1</td>\n      <td>2096</td>\n      <td>12</td>\n      <td>0</td>\n      <td>1</td>\n      <td>0</td>\n      <td>1</td>\n      <td>0</td>\n      <td>1</td>\n      <td>0</td>\n      <td>0</td>\n      <td>0</td>\n      <td>0</td>\n      <td>0</td>\n      <td>0</td>\n    </tr>\n    <tr>\n      <th>3</th>\n      <td>45</td>\n      <td>2</td>\n      <td>7882</td>\n      <td>42</td>\n      <td>0</td>\n      <td>1</td>\n      <td>1</td>\n      <td>0</td>\n      <td>0</td>\n      <td>1</td>\n      <td>0</td>\n      <td>0</td>\n      <td>0</td>\n      <td>1</td>\n      <td>0</td>\n      <td>0</td>\n    </tr>\n    <tr>\n      <th>4</th>\n      <td>53</td>\n      <td>2</td>\n      <td>4870</td>\n      <td>24</td>\n      <td>0</td>\n      <td>1</td>\n      <td>1</td>\n      <td>0</td>\n      <td>0</td>\n      <td>1</td>\n      <td>0</td>\n      <td>0</td>\n      <td>0</td>\n      <td>1</td>\n      <td>0</td>\n      <td>0</td>\n    </tr>\n    <tr>\n      <th>...</th>\n      <td>...</td>\n      <td>...</td>\n      <td>...</td>\n      <td>...</td>\n      <td>...</td>\n      <td>...</td>\n      <td>...</td>\n      <td>...</td>\n      <td>...</td>\n      <td>...</td>\n      <td>...</td>\n      <td>...</td>\n      <td>...</td>\n      <td>...</td>\n      <td>...</td>\n      <td>...</td>\n    </tr>\n    <tr>\n      <th>995</th>\n      <td>31</td>\n      <td>1</td>\n      <td>1736</td>\n      <td>12</td>\n      <td>1</td>\n      <td>0</td>\n      <td>0</td>\n      <td>1</td>\n      <td>0</td>\n      <td>1</td>\n      <td>0</td>\n      <td>0</td>\n      <td>0</td>\n      <td>0</td>\n      <td>0</td>\n      <td>0</td>\n    </tr>\n    <tr>\n      <th>996</th>\n      <td>40</td>\n      <td>3</td>\n      <td>3857</td>\n      <td>30</td>\n      <td>0</td>\n      <td>1</td>\n      <td>0</td>\n      <td>1</td>\n      <td>0</td>\n      <td>1</td>\n      <td>0</td>\n      <td>0</td>\n      <td>0</td>\n      <td>1</td>\n      <td>0</td>\n      <td>0</td>\n    </tr>\n    <tr>\n      <th>997</th>\n      <td>38</td>\n      <td>2</td>\n      <td>804</td>\n      <td>12</td>\n      <td>0</td>\n      <td>1</td>\n      <td>0</td>\n      <td>1</td>\n      <td>0</td>\n      <td>1</td>\n      <td>0</td>\n      <td>0</td>\n      <td>0</td>\n      <td>0</td>\n      <td>0</td>\n      <td>0</td>\n    </tr>\n    <tr>\n      <th>998</th>\n      <td>23</td>\n      <td>2</td>\n      <td>1845</td>\n      <td>45</td>\n      <td>0</td>\n      <td>1</td>\n      <td>1</td>\n      <td>0</td>\n      <td>0</td>\n      <td>1</td>\n      <td>0</td>\n      <td>0</td>\n      <td>0</td>\n      <td>1</td>\n      <td>0</td>\n      <td>0</td>\n    </tr>\n    <tr>\n      <th>999</th>\n      <td>27</td>\n      <td>2</td>\n      <td>4576</td>\n      <td>45</td>\n      <td>0</td>\n      <td>1</td>\n      <td>0</td>\n      <td>1</td>\n      <td>0</td>\n      <td>0</td>\n      <td>1</td>\n      <td>0</td>\n      <td>0</td>\n      <td>0</td>\n      <td>1</td>\n      <td>0</td>\n    </tr>\n  </tbody>\n</table>\n<p>1000 rows × 16 columns</p>\n</div>"
     },
     "execution_count": 86,
     "metadata": {},
     "output_type": "execute_result"
    }
   ],
   "source": [
    "new_data = pd.get_dummies(data)\n",
    "new_data"
   ],
   "metadata": {
    "collapsed": false,
    "pycharm": {
     "name": "#%%\n"
    }
   }
  },
  {
   "cell_type": "markdown",
   "source": [
    "##### 4. Разделите эти данные на тестовую и обучающую выборки;"
   ],
   "metadata": {
    "collapsed": false,
    "pycharm": {
     "name": "#%% md\n"
    }
   }
  },
  {
   "cell_type": "code",
   "execution_count": 87,
   "outputs": [],
   "source": [
    "x_train, x_test, y_train, y_test = train_test_split(new_data, target, test_size=0.2)"
   ],
   "metadata": {
    "collapsed": false,
    "pycharm": {
     "name": "#%%\n"
    }
   }
  },
  {
   "cell_type": "markdown",
   "source": [
    "##### 5. Обучите модель случайных лесов на обучающей выборке. Проверьте точность предсказаний."
   ],
   "metadata": {
    "collapsed": false,
    "pycharm": {
     "name": "#%% md\n"
    }
   }
  },
  {
   "cell_type": "code",
   "execution_count": 88,
   "outputs": [],
   "source": [
    "clf = RandomForestClassifier(max_depth=5)\n",
    "clf.fit(x_train, y_train)\n",
    "y_pred = clf.predict(x_test)"
   ],
   "metadata": {
    "collapsed": false,
    "pycharm": {
     "name": "#%%\n"
    }
   }
  },
  {
   "cell_type": "markdown",
   "source": [
    "##### 6. Оцените полученную модель с помощью метрик."
   ],
   "metadata": {
    "collapsed": false,
    "pycharm": {
     "name": "#%% md\n"
    }
   }
  },
  {
   "cell_type": "code",
   "execution_count": 89,
   "outputs": [
    {
     "name": "stdout",
     "output_type": "stream",
     "text": [
      "score model = 0.78\n",
      "accuracy = 0.78\n",
      "precision = 0.8343558282208589\n",
      "recall = 0.8888888888888888\n",
      "f1 = 0.860759493670886\n"
     ]
    }
   ],
   "source": [
    "print(f'score model = {clf.score(x_test, y_test)}')\n",
    "print(f'accuracy = {metrics.accuracy_score(y_test, y_pred)}')\n",
    "print(f'precision = {metrics.precision_score(y_test, y_pred, pos_label=\"good\")}')\n",
    "print(f'recall = {metrics.recall_score(y_test, y_pred, pos_label=\"good\")}')\n",
    "print(f'f1 = {metrics.f1_score(y_test, y_pred, pos_label=\"good\")}')"
   ],
   "metadata": {
    "collapsed": false,
    "pycharm": {
     "name": "#%%\n"
    }
   }
  },
  {
   "cell_type": "markdown",
   "source": [
    "##### 7. Понизьте размерность данных с помощью метода главных компонент."
   ],
   "metadata": {
    "collapsed": false,
    "pycharm": {
     "name": "#%% md\n"
    }
   }
  },
  {
   "cell_type": "code",
   "execution_count": 90,
   "outputs": [
    {
     "name": "stdout",
     "output_type": "stream",
     "text": [
      "(1000, 2)\n"
     ]
    }
   ],
   "source": [
    "y = KMeans().fit_predict(new_data)\n",
    "X = normalize(new_data)\n",
    "x_PCA = PCA(n_components=2).fit_transform(X, 2)\n",
    "print(x_PCA.shape)"
   ],
   "metadata": {
    "collapsed": false,
    "pycharm": {
     "name": "#%%\n"
    }
   }
  },
  {
   "cell_type": "markdown",
   "source": [
    "##### 8. Обучите заново модель случайных лесов и оцените ее эффективность с помощью метрик."
   ],
   "metadata": {
    "collapsed": false,
    "pycharm": {
     "name": "#%% md\n"
    }
   }
  },
  {
   "cell_type": "code",
   "execution_count": 101,
   "outputs": [
    {
     "name": "stdout",
     "output_type": "stream",
     "text": [
      "score model = 0.75\n",
      "accuracy = 0.75\n",
      "precision = 0.7487179487179487\n",
      "recall = 0.9931972789115646\n",
      "f1 = 0.8538011695906432\n"
     ]
    }
   ],
   "source": [
    "x_train1, x_test1, y_train1, y_test1 = train_test_split(x_PCA, target, test_size=0.2)\n",
    "clf = RandomForestClassifier(max_depth=5)\n",
    "clf.fit(x_train1, y_train1)\n",
    "y_pred1 = clf.predict(x_test1)\n",
    "print(f'score model = {clf.score(x_test1, y_test1)}')\n",
    "print(f'accuracy = {metrics.accuracy_score(y_test1, y_pred1)}')\n",
    "print(f'precision = {metrics.precision_score(y_test1, y_pred1, pos_label=\"good\")}')\n",
    "print(f'recall = {metrics.recall_score(y_test1, y_pred1, pos_label=\"good\")}')\n",
    "print(f'f1 = {metrics.f1_score(y_test1, y_pred1, pos_label=\"good\")}')"
   ],
   "metadata": {
    "collapsed": false,
    "pycharm": {
     "name": "#%%\n"
    }
   }
  },
  {
   "cell_type": "markdown",
   "source": [
    "##### 9. Постройте график зависимости точности модели от размерности данных."
   ],
   "metadata": {
    "collapsed": false,
    "pycharm": {
     "name": "#%% md\n"
    }
   }
  },
  {
   "cell_type": "code",
   "execution_count": 67,
   "outputs": [
    {
     "data": {
      "text/plain": "<Figure size 432x288 with 1 Axes>",
      "image/png": "[encoded data removed]"
     },
     "metadata": {
      "needs_background": "light"
     },
     "output_type": "display_data"
    }
   ],
   "source": [
    "sns.scatterplot(x=x_PCA[:, 0], y=x_PCA[:, 1])\n",
    "plt.show()"
   ],
   "metadata": {
    "collapsed": false,
    "pycharm": {
     "name": "#%%\n"
    }
   }
  },
  {
   "cell_type": "markdown",
   "source": [
    "##### 10. Сделайте вывод о применимости модели."
   ],
   "metadata": {
    "collapsed": false,
    "pycharm": {
     "name": "#%% md\n"
    }
   }
  },
  {
   "cell_type": "markdown",
   "source": [
    "###### Модель можно применять, т.к. после понижения размерности до 2 ключевых категорий и повторного обучения через модель классификации случайных лесов получаются хорошие потенциальные результаты по метрикам эффективности (precision, score, recall, f1-score — все эти показатели значительно расположены в районе 75%, что уже считается благоприятным результатом для дальнейшей практичности этой модели на реальных данных"
   ],
   "metadata": {
    "collapsed": false,
    "pycharm": {
     "name": "#%% md\n"
    }
   }
  },
  {
   "cell_type": "code",
   "execution_count": null,
   "outputs": [],
   "source": [],
   "metadata": {
    "collapsed": false,
    "pycharm": {
     "name": "#%%\n"
    }
   }
  }
 ],
 "metadata": {
  "kernelspec": {
   "display_name": "Python 3",
   "language": "python",
   "name": "python3"
  },
  "language_info": {
   "codemirror_mode": {
    "name": "ipython",
    "version": 2
   },
   "file_extension": ".py",
   "mimetype": "text/x-python",
   "name": "python",
   "nbconvert_exporter": "python",
   "pygments_lexer": "ipython2",
   "version": "2.7.6"
  }
 },
 "nbformat": 4,
 "nbformat_minor": 0
}