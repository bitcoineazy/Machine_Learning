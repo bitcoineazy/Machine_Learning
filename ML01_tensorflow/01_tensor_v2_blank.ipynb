{
  "cells": [
    {
      "cell_type": "markdown",
      "metadata": {
        "id": "_gE94V3G1RCx"
      },
      "source": [
        "# 01. Знакомство с `torch.Tensor`\n",
        "\n",
        "V 0.1 04.02.2021"
      ]
    },
    {
      "cell_type": "markdown",
      "metadata": {
        "id": "TlWOXn0f1RC7"
      },
      "source": [
        "---"
      ]
    },
    {
      "cell_type": "markdown",
      "metadata": {
        "id": "lZfJ1FRM1RC8"
      },
      "source": [
        "При решении данных задач не подразумевается использования циклов или генераторов Python, если в задании не сказано обратного. Решение должно опираться на использование функционала библиотеки `torch`.\n",
        "\n",
        "[PyTorch documentation](https://pytorch.org/docs/stable/#pytorch-documentation)"
      ]
    },
    {
      "cell_type": "code",
      "execution_count": 1,
      "metadata": {
        "id": "b3AW8rF-1RC9"
      },
      "outputs": [],
      "source": [
        "import torch"
      ]
    },
    {
      "cell_type": "markdown",
      "metadata": {
        "id": "vow49PuE1RC9"
      },
      "source": [
        "## 1.1 Создание тензоров и выполнение базовых операций над ними\n",
        "\n",
        "[Документация по функциям для создания тензоров](https://pytorch.org/docs/stable/torch.html#creation-ops)\n",
        "\n",
        "[Документация по функциям для работы с индексами](https://pytorch.org/docs/stable/torch.html#indexing-slicing-joining-mutating-ops)"
      ]
    },
    {
      "cell_type": "code",
      "execution_count": 4,
      "metadata": {
        "colab": {
          "base_uri": "https://localhost:8080/"
        },
        "id": "LYE4wR8TbCS8",
        "outputId": "ebeab5ab-44db-428a-9619-315d259acc5a"
      },
      "outputs": [
        {
          "name": "stdout",
          "output_type": "stream",
          "text": [
            "tensor([[1, 2],\n",
            "        [3, 4],\n",
            "        [5, 6]])\n",
            "torch.Size([3, 2])\n"
          ]
        }
      ],
      "source": [
        "t = torch.tensor([[1, 2] , [3, 4], [5, 6]])\n",
        "\n",
        "print(t)\n",
        "\n",
        "# додеалть чтоб было три измерения\n",
        "\n",
        "print(t.shape)"
      ]
    },
    {
      "cell_type": "code",
      "execution_count": 5,
      "metadata": {
        "colab": {
          "base_uri": "https://localhost:8080/"
        },
        "id": "BpbDRAkcbldD",
        "outputId": "0ae9a2a5-3aa5-4692-a3e5-0b66f6b24dd2"
      },
      "outputs": [
        {
          "data": {
            "text/plain": [
              "tensor([[0., 0., 0., 0.],\n",
              "        [0., 0., 0., 0.],\n",
              "        [0., 0., 0., 0.]])"
            ]
          },
          "execution_count": 5,
          "metadata": {},
          "output_type": "execute_result"
        }
      ],
      "source": [
        "torch.zeros(3, 4)"
      ]
    },
    {
      "cell_type": "code",
      "execution_count": 6,
      "metadata": {
        "colab": {
          "base_uri": "https://localhost:8080/"
        },
        "id": "4KClsYOxbrmV",
        "outputId": "d24c191d-171d-43a3-e19a-f403fd5ae60b"
      },
      "outputs": [
        {
          "data": {
            "text/plain": [
              "tensor([[1., 1.],\n",
              "        [1., 1.],\n",
              "        [1., 1.]])"
            ]
          },
          "execution_count": 6,
          "metadata": {},
          "output_type": "execute_result"
        }
      ],
      "source": [
        "torch.ones(3, 2)"
      ]
    },
    {
      "cell_type": "code",
      "execution_count": 7,
      "metadata": {
        "colab": {
          "base_uri": "https://localhost:8080/"
        },
        "id": "FT4disRcbvlD",
        "outputId": "33b83309-2dea-4f52-c53d-5fabd0d6bacd"
      },
      "outputs": [
        {
          "data": {
            "text/plain": [
              "tensor([[4., 0., 0., 0.],\n",
              "        [0., 4., 0., 0.],\n",
              "        [0., 0., 4., 0.],\n",
              "        [0., 0., 0., 4.]])"
            ]
          },
          "execution_count": 7,
          "metadata": {},
          "output_type": "execute_result"
        }
      ],
      "source": [
        "4 * torch.eye(4)"
      ]
    },
    {
      "cell_type": "code",
      "execution_count": 8,
      "metadata": {
        "colab": {
          "base_uri": "https://localhost:8080/"
        },
        "id": "yOGsBzT_bzsM",
        "outputId": "98602bb0-6f4c-483e-9769-6742c771b03b"
      },
      "outputs": [
        {
          "data": {
            "text/plain": [
              "tensor([[  2.,   3.,   4.,   5.,   6.,   7.,   8.,   9.,  10.,  11.],\n",
              "        [ 12.,  13.,  14.,  15.,  16.,  17.,  18.,  19.,  20.,  21.],\n",
              "        [ 22.,  23.,  24.,  25.,  26.,  27.,  28.,  29.,  30.,  31.],\n",
              "        [ 32.,  33.,  34.,  35.,  36.,  37.,  38.,  39.,  40.,  41.],\n",
              "        [ 42.,  43.,  44.,  45.,  46.,  47.,  48.,  49.,  50.,  51.],\n",
              "        [ 52.,  53.,  54.,  55.,  56.,  57.,  58.,  59.,  60.,  61.],\n",
              "        [ 62.,  63.,  64.,  65.,  66.,  67.,  68.,  69.,  70.,  71.],\n",
              "        [ 72.,  73.,  74.,  75.,  76.,  77.,  78.,  79.,  80.,  81.],\n",
              "        [ 82.,  83.,  84.,  85.,  86.,  87.,  88.,  89.,  90.,  91.],\n",
              "        [ 92.,  93.,  94.,  95.,  96.,  97.,  98.,  99., 100., 101.]])"
            ]
          },
          "execution_count": 8,
          "metadata": {},
          "output_type": "execute_result"
        }
      ],
      "source": [
        "torch.arange(100).reshape(10, 10) + torch.ones(1, 10) * 2 "
      ]
    },
    {
      "cell_type": "code",
      "execution_count": 9,
      "metadata": {
        "colab": {
          "base_uri": "https://localhost:8080/"
        },
        "id": "y0fVpnjec2Y5",
        "outputId": "910db869-3e10-4118-9d3f-d2ea2cdd1687"
      },
      "outputs": [
        {
          "name": "stdout",
          "output_type": "stream",
          "text": [
            "tensor([[ 0,  1,  2,  3,  4,  5,  6,  7,  8,  9],\n",
            "        [10, 11, 12, 13, 14, 15, 16, 17, 18, 19],\n",
            "        [20, 21, 22, 23, 24, 25, 26, 27, 28, 29],\n",
            "        [30, 31, 32, 33, 34, 35, 36, 37, 38, 39],\n",
            "        [40, 41, 42, 43, 44, 45, 46, 47, 48, 49],\n",
            "        [50, 51, 52, 53, 54, 55, 56, 57, 58, 59],\n",
            "        [60, 61, 62, 63, 64, 65, 66, 67, 68, 69],\n",
            "        [70, 71, 72, 73, 74, 75, 76, 77, 78, 79],\n",
            "        [80, 81, 82, 83, 84, 85, 86, 87, 88, 89],\n",
            "        [90, 91, 92, 93, 94, 95, 96, 97, 98, 99]])\n",
            "------------------------\n"
          ]
        },
        {
          "data": {
            "text/plain": [
              "tensor([[20, 22, 24, 26, 28],\n",
              "        [30, 32, 34, 36, 38],\n",
              "        [40, 42, 44, 46, 48]])"
            ]
          },
          "execution_count": 9,
          "metadata": {},
          "output_type": "execute_result"
        }
      ],
      "source": [
        "t = torch.arange(100).reshape(10, 10)\n",
        "print(t)\n",
        "print(\"------------------------\")\n",
        "\n",
        "t[2:5:, ::2]"
      ]
    },
    {
      "cell_type": "markdown",
      "metadata": {
        "id": "wBIwO1SB1RC-"
      },
      "source": [
        "1.1.1 Создайте двумерный тензор размера (8, 8). Используя как можно меньше операций, добейтесь расстановки кодов \"шахматных фигур\".\n",
        "\n",
        "Ожидаемый результат:\n",
        "\n",
        "```\n",
        "[[-4., -3., -2., -6., -5., -2., -3., -4.],\n",
        " [-1., -1., -1., -1., -1., -1., -1., -1.],\n",
        " [0., 0., 0., 0., 0., 0., 0., 0.],\n",
        " [0., 0., 0., 0., 0., 0., 0., 0.],\n",
        " [0., 0., 0., 0., 0., 0., 0., 0.],\n",
        " [0., 0., 0., 0., 0., 0., 0., 0.],\n",
        " [1., 1., 1., 1., 1., 1., 1., 1.],\n",
        " [4., 3., 2., 6., 5., 2., 3., 4.]]\n",
        "\n",
        "```"
      ]
    },
    {
      "cell_type": "code",
      "execution_count": 10,
      "metadata": {
        "colab": {
          "base_uri": "https://localhost:8080/"
        },
        "id": "SsAk2G-FjF5S",
        "outputId": "78f47e87-2e3f-4ba5-dd04-fcb1335870b4"
      },
      "outputs": [
        {
          "data": {
            "text/plain": [
              "tensor([[-4., -3., -2., -6., -5., -2., -3., -4.],\n",
              "        [-1., -1., -1., -1., -1., -1., -1., -1.],\n",
              "        [ 0.,  0.,  0.,  0.,  0.,  0.,  0.,  0.],\n",
              "        [ 0.,  0.,  0.,  0.,  0.,  0.,  0.,  0.],\n",
              "        [ 0.,  0.,  0.,  0.,  0.,  0.,  0.,  0.],\n",
              "        [ 0.,  0.,  0.,  0.,  0.,  0.,  0.,  0.],\n",
              "        [ 1.,  1.,  1.,  1.,  1.,  1.,  1.,  1.],\n",
              "        [ 4.,  3.,  2.,  6.,  5.,  2.,  3.,  4.]])"
            ]
          },
          "execution_count": 10,
          "metadata": {},
          "output_type": "execute_result"
        }
      ],
      "source": [
        "t = torch.zeros(8, 8)\n",
        "t[0] = torch.tensor([-4., -3., -2., -6., -5., -2., -3., -4.])\n",
        "t[-1] = t[0] * -1\n",
        "t[1] = -1 * torch.ones(1, 8)\n",
        "t[-2] = t[1] * -1\n",
        "t"
      ]
    },
    {
      "cell_type": "markdown",
      "metadata": {
        "id": "20x5RE1V1RC_"
      },
      "source": [
        "1.1.2 Средствами `torch` рассчитать произведения четных чисел от 2 до 20 на ближайшие к ним бОльшие нечетные числа."
      ]
    },
    {
      "cell_type": "code",
      "execution_count": 11,
      "metadata": {},
      "outputs": [
        {
          "name": "stdout",
          "output_type": "stream",
          "text": [
            "tensor(-4249290049419214848)\n"
          ]
        }
      ],
      "source": [
        "result = 1\n",
        "for i in range(2, 21, 2):\n",
        "    result *= torch.tensor(i * (i + 1))\n",
        "\n",
        "print(result)"
      ]
    },
    {
      "attachments": {},
      "cell_type": "markdown",
      "metadata": {},
      "source": [
        "This code iterates over the even numbers from 2 to 20 (incrementing by 2 each time), and calculates the product of each even number with the nearest larger odd number (which is simply i + 1 in this case). The result of the calculation is then converted to a PyTorch tensor using the torch.tensor function, and the final result is printed."
      ]
    },
    {
      "cell_type": "code",
      "execution_count": 12,
      "metadata": {},
      "outputs": [
        {
          "name": "stdout",
          "output_type": "stream",
          "text": [
            "tensor(-4249290049419214848)\n"
          ]
        }
      ],
      "source": [
        "even_numbers = torch.tensor([2, 4, 6, 8, 10, 12, 14, 16, 18, 20])\n",
        "odd_numbers = even_numbers + 1\n",
        "products = even_numbers * odd_numbers\n",
        "result = products.prod()\n",
        "\n",
        "print(result)"
      ]
    },
    {
      "attachments": {},
      "cell_type": "markdown",
      "metadata": {},
      "source": [
        "In this code, the even numbers from 2 to 20 are first created as a PyTorch tensor even_numbers. The nearest larger odd numbers are then calculated as odd_numbers by adding 1 to even_numbers. The product of each even and odd number is then calculated as products, and the final result is obtained using the prod() method which computes the product of all elements in a tensor. The final result is then printed."
      ]
    },
    {
      "cell_type": "markdown",
      "metadata": {
        "id": "N_-t5GRM1RC_"
      },
      "source": [
        "1.1.3 Создать тензор размера 11x7 вида: [[1, 2, 3, ..., 7], [11, 12, 13, ..., 17], [21, 22, 23, ..., 27], ..., [101, 102, 103, ..., 107]]"
      ]
    },
    {
      "cell_type": "code",
      "execution_count": null,
      "metadata": {
        "colab": {
          "base_uri": "https://localhost:8080/"
        },
        "id": "S7PCzW7zjvPL",
        "outputId": "11df2354-d8ad-4ed2-b579-25fe31321ac6"
      },
      "outputs": [
        {
          "data": {
            "text/plain": [
              "tensor([[  1,   2,   3,   4,   5,   6,   7],\n",
              "        [ 11,  12,  13,  14,  15,  16,  17],\n",
              "        [ 21,  22,  23,  24,  25,  26,  27],\n",
              "        [ 31,  32,  33,  34,  35,  36,  37],\n",
              "        [ 41,  42,  43,  44,  45,  46,  47],\n",
              "        [ 51,  52,  53,  54,  55,  56,  57],\n",
              "        [ 61,  62,  63,  64,  65,  66,  67],\n",
              "        [ 71,  72,  73,  74,  75,  76,  77],\n",
              "        [ 81,  82,  83,  84,  85,  86,  87],\n",
              "        [ 91,  92,  93,  94,  95,  96,  97],\n",
              "        [101, 102, 103, 104, 105, 106, 107]])"
            ]
          },
          "execution_count": 89,
          "metadata": {},
          "output_type": "execute_result"
        }
      ],
      "source": [
        "torch.arange(1, 111).reshape(11, 10)[::, :7:]"
      ]
    },
    {
      "cell_type": "code",
      "execution_count": 13,
      "metadata": {},
      "outputs": [
        {
          "name": "stdout",
          "output_type": "stream",
          "text": [
            "tensor([[  1,   2,   3,   4,   5,   6,   7],\n",
            "        [ 11,  12,  13,  14,  15,  16,  17],\n",
            "        [ 21,  22,  23,  24,  25,  26,  27],\n",
            "        [ 31,  32,  33,  34,  35,  36,  37],\n",
            "        [ 41,  42,  43,  44,  45,  46,  47],\n",
            "        [ 51,  52,  53,  54,  55,  56,  57],\n",
            "        [ 61,  62,  63,  64,  65,  66,  67],\n",
            "        [ 71,  72,  73,  74,  75,  76,  77],\n",
            "        [ 81,  82,  83,  84,  85,  86,  87],\n",
            "        [ 91,  92,  93,  94,  95,  96,  97],\n",
            "        [101, 102, 103, 104, 105, 106, 107]])\n"
          ]
        }
      ],
      "source": [
        "import torch\n",
        "\n",
        "row = torch.arange(1, 8)\n",
        "rows = torch.stack([row + 10 * i for i in range(11)])\n",
        "result = rows\n",
        "\n",
        "print(result)"
      ]
    },
    {
      "attachments": {},
      "cell_type": "markdown",
      "metadata": {},
      "source": [
        "In this code, the first row [1, 2, 3, ..., 7] is created as a PyTorch tensor row using the arange function. This row is then duplicated and shifted by multiples of 10 to obtain all the other rows. The final result is a 11x7 tensor rows obtained by stacking all the rows together using the stack function. The final result is then assigned to result and printed."
      ]
    },
    {
      "cell_type": "markdown",
      "metadata": {
        "id": "oxVeUiHR1RC_"
      },
      "source": [
        "1.1.4 Написать функцию, которая для целых значений `n` и `m` будет возвращать тензор размера `n`x`m`, заполненный текстурой размера 2x2, состоящей из следующих значений:\n",
        "\n",
        "```\n",
        "0 1\n",
        "\n",
        "2 3\n",
        "\n",
        "```\n",
        "\n",
        "Пример для n = 4 и m = 5:\n",
        "\n",
        "```\n",
        "0 1 0 1 0\n",
        "\n",
        "2 3 2 3 2\n",
        "\n",
        "0 1 0 1 0\n",
        "\n",
        "2 3 2 3 2\n",
        "```"
      ]
    },
    {
      "cell_type": "code",
      "execution_count": 15,
      "metadata": {
        "colab": {
          "base_uri": "https://localhost:8080/"
        },
        "id": "dhq6h_7wH4cp",
        "outputId": "4802c6c6-2848-4e3b-bced-ad4349e7e6cc"
      },
      "outputs": [
        {
          "data": {
            "text/plain": [
              "tensor([[0, 1, 0, 1, 0],\n",
              "        [2, 3, 2, 3, 2],\n",
              "        [0, 1, 0, 1, 0],\n",
              "        [2, 3, 2, 3, 2]])"
            ]
          },
          "execution_count": 15,
          "metadata": {},
          "output_type": "execute_result"
        }
      ],
      "source": [
        "# repeat\n",
        "\n",
        "n, m = 4, 5\n",
        "\n",
        "mask = torch.tensor([[0, 1], [2, 3]])\n",
        "mask.repeat(n, m)[:n:, :m:]"
      ]
    },
    {
      "cell_type": "markdown",
      "metadata": {
        "id": "WH9hxJse1RDA"
      },
      "source": [
        "1.1.5 Сгенерировать двумерный тензор `t` размерности (4, 7), состоящий из случайных действительных чисел, равномерно распределенных в дипазоне от 0 до 20. Нормализовать значения массива с помощью преобразования вида $ax+b$ так, что после нормализации максимальный элемент масива будет равен 1.0, минимальный 0.0"
      ]
    },
    {
      "cell_type": "code",
      "execution_count": 16,
      "metadata": {
        "colab": {
          "base_uri": "https://localhost:8080/"
        },
        "id": "E59_SnoMlHtz",
        "outputId": "0067f994-d925-4665-9b91-5ba0d1393329"
      },
      "outputs": [
        {
          "data": {
            "text/plain": [
              "tensor([[ 2.6004, 17.8714,  5.2814, 13.1778,  0.0863, 10.7123, 15.6352],\n",
              "        [14.5975,  7.9949, 19.0173, 16.6113, 14.7790,  9.6055,  5.4613],\n",
              "        [ 7.0817, 14.1338, 19.3629, 18.5898,  0.1182,  5.8272, 14.3032],\n",
              "        [ 8.3938, 12.0178,  7.2631,  3.1794, 17.8672,  7.4463,  3.7385]])"
            ]
          },
          "execution_count": 16,
          "metadata": {},
          "output_type": "execute_result"
        }
      ],
      "source": [
        "torch.rand(4, 7) * 20"
      ]
    },
    {
      "cell_type": "code",
      "execution_count": 17,
      "metadata": {
        "colab": {
          "base_uri": "https://localhost:8080/"
        },
        "id": "TU6qee0UMZH2",
        "outputId": "c2c86884-9d8e-4dd8-f42c-1d875965ae4f"
      },
      "outputs": [
        {
          "name": "stdout",
          "output_type": "stream",
          "text": [
            "tensor([[ 5.8110,  5.4652,  3.7018, 13.3905, 15.4007, 17.6152, 19.1630],\n",
            "        [ 6.1315, 12.4170,  4.6050,  9.6391, 14.4015, 19.4954,  2.7333],\n",
            "        [ 4.7953, 18.8907,  1.3069, 19.8483, 13.5290,  2.9319,  5.2205],\n",
            "        [10.2639,  9.9273, 14.9006,  2.2942, 11.5458, 11.6736, 17.0557]])\n",
            "--------------------\n"
          ]
        },
        {
          "data": {
            "text/plain": [
              "tensor([[0.2429, 0.2243, 0.1292, 0.6517, 0.7601, 0.8796, 0.9630],\n",
              "        [0.2602, 0.5992, 0.1779, 0.4494, 0.7062, 0.9810, 0.0769],\n",
              "        [0.1881, 0.9484, 0.0000, 1.0000, 0.6592, 0.0876, 0.2111],\n",
              "        [0.4831, 0.4649, 0.7332, 0.0532, 0.5522, 0.5591, 0.8494]])"
            ]
          },
          "execution_count": 17,
          "metadata": {},
          "output_type": "execute_result"
        }
      ],
      "source": [
        "t = torch.rand(4, 7) * 20\n",
        "# минимальный элемент\n",
        "m = t.min()\n",
        "# максимальный элемент\n",
        "M = t.max()\n",
        "\n",
        "a = 1 / (M - m)\n",
        "b = - a * m\n",
        "\n",
        "print(t)\n",
        "\n",
        "print(\"--------------------\")\n",
        "\n",
        "\n",
        "a * t + b"
      ]
    },
    {
      "cell_type": "markdown",
      "metadata": {
        "id": "vPqIeewXB-mM"
      },
      "source": [
        "[Random Sampling](https://pytorch.org/docs/stable/torch.html#random-sampling)\n",
        "\n",
        "[Distributions](https://pytorch.org/docs/stable/distributions.html)"
      ]
    },
    {
      "cell_type": "markdown",
      "metadata": {
        "id": "K_R6cwq11RDE"
      },
      "source": [
        "1.1.6 Задать два двумерных тензора `ar1` и `ar2` размерности (4, 7), состоящих из случайных целых чисел в пределах от 0 до 10. Построить двумерный тензор размерности (4, 7), каждый элемент которого представляет собой максимум из двух значений, находящихся на аналогичной позиции в тензорах `ar1`, `ar2`.\n",
        "\n",
        "[Reductions ops](https://pytorch.org/docs/stable/torch.html#reduction-ops)"
      ]
    },
    {
      "cell_type": "code",
      "execution_count": 18,
      "metadata": {
        "colab": {
          "base_uri": "https://localhost:8080/"
        },
        "id": "ONIwA6MRlt8z",
        "outputId": "53f4e179-368d-4ca8-f4a2-2e074ef37394"
      },
      "outputs": [
        {
          "data": {
            "text/plain": [
              "tensor([[ 1,  3, 10,  8,  5, 10,  5],\n",
              "        [ 1,  2,  8,  3,  7,  3,  1],\n",
              "        [ 5,  0,  6,  3,  4,  8,  3],\n",
              "        [ 1,  4,  5,  0, 10,  5, 10]])"
            ]
          },
          "execution_count": 18,
          "metadata": {},
          "output_type": "execute_result"
        }
      ],
      "source": [
        "torch.randint(0, 11, (4, 7))"
      ]
    },
    {
      "cell_type": "code",
      "execution_count": 19,
      "metadata": {
        "colab": {
          "base_uri": "https://localhost:8080/"
        },
        "id": "cRMwi0wONjsC",
        "outputId": "cb8dac2d-7581-456b-8793-9e2ebddd16f1"
      },
      "outputs": [
        {
          "name": "stdout",
          "output_type": "stream",
          "text": [
            "tensor([[ 9,  2, 10,  4,  0,  4,  8],\n",
            "        [ 7,  3,  9,  8,  8,  9,  3],\n",
            "        [ 1,  5,  5, 10,  2,  1, 10],\n",
            "        [ 0,  1,  3,  4,  6,  8,  1]])\n",
            "---------------\n",
            "tensor([[ 2,  6,  5,  2,  0,  0,  0],\n",
            "        [ 7,  3,  3,  3,  4,  4,  7],\n",
            "        [ 6,  6,  6,  3,  5,  3,  7],\n",
            "        [ 6,  7,  9,  8,  6,  8, 10]])\n"
          ]
        }
      ],
      "source": [
        "ar1 = torch.randint(0, 11, (4, 7))\n",
        "ar2 = torch.randint(0, 11, (4, 7))\n",
        "\n",
        "print(ar1)\n",
        "print(\"---------------\")\n",
        "print(ar2)\n",
        "\n"
      ]
    },
    {
      "cell_type": "code",
      "execution_count": 20,
      "metadata": {
        "colab": {
          "base_uri": "https://localhost:8080/"
        },
        "id": "EihEeplimYXS",
        "outputId": "7028f039-b8e4-444c-98da-cdb3043fd452"
      },
      "outputs": [
        {
          "data": {
            "text/plain": [
              "tensor([[ 0,  6,  0,  0,  0,  0,  0],\n",
              "        [ 0,  0,  0,  0,  0,  0,  7],\n",
              "        [ 6,  6,  6,  0,  5,  3,  0],\n",
              "        [ 6,  7,  9,  8,  0,  0, 10]])"
            ]
          },
          "execution_count": 20,
          "metadata": {},
          "output_type": "execute_result"
        }
      ],
      "source": [
        "ar2 * (ar1 < ar2)"
      ]
    },
    {
      "cell_type": "code",
      "execution_count": 21,
      "metadata": {
        "colab": {
          "base_uri": "https://localhost:8080/"
        },
        "id": "1qWlN4wImhtb",
        "outputId": "9b36ce6f-2a21-447a-f5c2-7810cceb120d"
      },
      "outputs": [
        {
          "data": {
            "text/plain": [
              "tensor([[ 9,  6, 10,  4,  0,  4,  8],\n",
              "        [ 7,  3,  9,  8,  8,  9,  7],\n",
              "        [ 6,  6,  6, 10,  5,  3, 10],\n",
              "        [ 6,  7,  9,  8,  6,  8, 10]])"
            ]
          },
          "execution_count": 21,
          "metadata": {},
          "output_type": "execute_result"
        }
      ],
      "source": [
        "ar2 * (ar1 < ar2) + ar1 * (ar1 >= ar2)"
      ]
    },
    {
      "cell_type": "code",
      "execution_count": 22,
      "metadata": {
        "colab": {
          "base_uri": "https://localhost:8080/"
        },
        "id": "wZU4Fpabl6Dz",
        "outputId": "215de2d6-6369-4795-9011-92eede6dddf4"
      },
      "outputs": [
        {
          "data": {
            "text/plain": [
              "tensor([[ 9,  0, 10,  4,  0,  4,  8],\n",
              "        [ 7,  3,  9,  8,  8,  9,  0],\n",
              "        [ 0,  0,  0, 10,  0,  0, 10],\n",
              "        [ 0,  0,  0,  0,  6,  8,  0]])"
            ]
          },
          "execution_count": 22,
          "metadata": {},
          "output_type": "execute_result"
        }
      ],
      "source": [
        "ar1 * (ar1 >= ar2)"
      ]
    },
    {
      "cell_type": "markdown",
      "metadata": {
        "id": "x6zmMhyKBPWQ"
      },
      "source": [
        "1.1.7 Создать тензор из 20 случайных целых чисел от 0 до 100. Получить второе сверху значение в тензоре. Определить индекс этого значения."
      ]
    },
    {
      "cell_type": "code",
      "execution_count": 25,
      "metadata": {},
      "outputs": [
        {
          "name": "stdout",
          "output_type": "stream",
          "text": [
            "tensor([75, 96, 25, 54, 50, 24,  4,  9, 12, 43, 93, 47, 53, 41, 27, 28, 55, 28,\n",
            "        14, 37])\n",
            "tensor(96)\n",
            "1\n"
          ]
        }
      ],
      "source": [
        "tensor = torch.randint(0, 100, (20,))\n",
        "print(tensor)\n",
        "\n",
        "second_value = tensor[1]\n",
        "print(second_value)\n",
        "\n",
        "index = tensor.nonzero()[1].item()\n",
        "print(index)"
      ]
    },
    {
      "attachments": {},
      "cell_type": "markdown",
      "metadata": {},
      "source": [
        "Note that the nonzero() method returns a tensor of shape (1, n) where n is the number of non-zero values, so to get the index we need to access the first (and only) item in the second dimension using the [1].item() operator."
      ]
    },
    {
      "cell_type": "code",
      "execution_count": 26,
      "metadata": {},
      "outputs": [
        {
          "name": "stdout",
          "output_type": "stream",
          "text": [
            "1\n"
          ]
        }
      ],
      "source": [
        "index = torch.where(tensor == second_value)[0][0].item()\n",
        "print(index)"
      ]
    },
    {
      "attachments": {},
      "cell_type": "markdown",
      "metadata": {},
      "source": [
        "Note that the torch.where() function returns a tensor of shape (n, 1) where n is the number of values that meet the condition, so to get the index we need to access the first (and only) item in the first dimension using the [0][0].item() operator."
      ]
    },
    {
      "cell_type": "code",
      "execution_count": null,
      "metadata": {},
      "outputs": [],
      "source": []
    },
    {
      "cell_type": "code",
      "execution_count": null,
      "metadata": {
        "id": "ZLalxFB6mlnj"
      },
      "outputs": [],
      "source": [
        "# sort"
      ]
    },
    {
      "cell_type": "markdown",
      "metadata": {
        "id": "Xshsy8fD1RDE"
      },
      "source": [
        "## 1.2 Распространение"
      ]
    },
    {
      "cell_type": "markdown",
      "metadata": {
        "id": "jlP22HAJCo28"
      },
      "source": [
        "[Numpy broadcasting](https://numpy.org/devdocs/user/theory.broadcasting.html)\n",
        "\n",
        "[Torch broadcasting](https://pytorch.org/docs/stable/notes/broadcasting.html)"
      ]
    },
    {
      "cell_type": "markdown",
      "metadata": {
        "id": "uRD6-8Gd1RDF"
      },
      "source": [
        "1.2.1 Создать тензор 11x7 вида: `[[1, 2, 3, ..., 7], [11, 12, 13, ..., 17], [21, 22, 23, ..., 27], ..., [101, 102, 103, ..., 107]]`. При решении задачи применить технику распространения."
      ]
    },
    {
      "cell_type": "code",
      "execution_count": 29,
      "metadata": {},
      "outputs": [
        {
          "name": "stdout",
          "output_type": "stream",
          "text": [
            "tensor([[  1,   2,   3,   4,   5,   6,   7],\n",
            "        [ 11,  12,  13,  14,  15,  16,  17],\n",
            "        [ 21,  22,  23,  24,  25,  26,  27],\n",
            "        [ 31,  32,  33,  34,  35,  36,  37],\n",
            "        [ 41,  42,  43,  44,  45,  46,  47],\n",
            "        [ 51,  52,  53,  54,  55,  56,  57],\n",
            "        [ 61,  62,  63,  64,  65,  66,  67],\n",
            "        [ 71,  72,  73,  74,  75,  76,  77],\n",
            "        [ 81,  82,  83,  84,  85,  86,  87],\n",
            "        [ 91,  92,  93,  94,  95,  96,  97],\n",
            "        [101, 102, 103, 104, 105, 106, 107]])\n"
          ]
        }
      ],
      "source": [
        "base = torch.arange(1, 8)\n",
        "tensor = base + 10 * torch.arange(0, 11).view(-1, 1)\n",
        "print(tensor)"
      ]
    },
    {
      "attachments": {},
      "cell_type": "markdown",
      "metadata": {},
      "source": [
        "Note that the view(-1, 1) method is used to reshape the 1-dimensional tensor torch.arange(0, 11) into a 2-dimensional tensor of shape (11, 1). This allows us to use broadcasting to add it to the base tensor, which has shape (7,).\n",
        "\n",
        "This will add 10 to each element in each row of the tensor, effectively creating the desired pattern."
      ]
    },
    {
      "cell_type": "markdown",
      "metadata": {
        "id": "iSY9Iday1RDF"
      },
      "source": [
        "1.2.2 Вычесть одномерный тензор `b_1d` из двухмерного тензора `a_2d`, так, чтобы каждый элемент одномерного тензора вычитался из всех элементов соответствующих строк двумерного тензора.\n",
        "\n",
        "_Пример:_\n",
        "\n",
        "Для входа:\n",
        "```python\n",
        "a_2d = torch.tensor([[3,3,3],[4,4,4],[5,5,5]])\n",
        "b_1d = torch.tensor([1,2,3])\n",
        "```\n",
        "\n",
        "Ожидается резульат:\n",
        "\n",
        "```python\n",
        "[[2 2 2]\n",
        " [2 2 2]\n",
        " [2 2 2]]\n",
        "```"
      ]
    },
    {
      "cell_type": "code",
      "execution_count": 30,
      "metadata": {},
      "outputs": [
        {
          "name": "stdout",
          "output_type": "stream",
          "text": [
            "tensor([[2, 2, 2],\n",
            "        [2, 2, 2],\n",
            "        [2, 2, 2]])\n"
          ]
        }
      ],
      "source": [
        "a_2d = torch.tensor([[3,3,3],[4,4,4],[5,5,5]])\n",
        "b_1d = torch.tensor([1,2,3])\n",
        "\n",
        "result = a_2d - b_1d.view(-1, 1)\n",
        "print(result)"
      ]
    },
    {
      "attachments": {},
      "cell_type": "markdown",
      "metadata": {},
      "source": [
        "Note that the view(-1, 1) method is used to reshape the 1-dimensional tensor b_1d into a 2-dimensional tensor of shape (3, 1), allowing us to perform broadcasting subtraction with the 2-dimensional tensor a_2d. This will subtract each element of b_1d from all elements of the corresponding rows of a_2d."
      ]
    },
    {
      "cell_type": "markdown",
      "metadata": {
        "id": "dFTvPsY91RDF"
      },
      "source": [
        "## 1.3 Индексы, маскирование и прихотливое индексирование\n",
        "\n",
        "[Документация по функциям для работы с индексами](https://pytorch.org/docs/stable/torch.html#indexing-slicing-joining-mutating-ops)"
      ]
    },
    {
      "cell_type": "markdown",
      "metadata": {
        "id": "McYtDYhH1RDG"
      },
      "source": [
        "1.3.1 Получить индексы, для которых элементы тензоров `a` и `b` совпадают.\n",
        "\n",
        "_Пример:_\n",
        "\n",
        "Для входа:\n",
        "```python\n",
        "a = torch.tensor([1,2,3,2,3,4,3,4,5,6])\n",
        "b = torch.tensor([7,2,10,2,7,4,9,4,9,8])\n",
        "```\n",
        "\n",
        "Ожидается резульат:\n",
        "\n",
        "```python\n",
        "tensor([1, 3, 5, 7])\n",
        "```"
      ]
    },
    {
      "cell_type": "code",
      "execution_count": 31,
      "metadata": {},
      "outputs": [
        {
          "name": "stdout",
          "output_type": "stream",
          "text": [
            "tensor([1, 3, 5, 7])\n"
          ]
        }
      ],
      "source": [
        "a = torch.tensor([1,2,3,2,3,4,3,4,5,6])\n",
        "b = torch.tensor([7,2,10,2,7,4,9,4,9,8])\n",
        "\n",
        "matching_indexes = (a == b).nonzero().squeeze()\n",
        "print(matching_indexes)"
      ]
    },
    {
      "attachments": {},
      "cell_type": "markdown",
      "metadata": {},
      "source": [
        "The nonzero() method is used to get the indices where the elements of a and b match. The squeeze() method is used to remove any singleton dimensions from the resulting tensor. This will give us the indexes for which elements of a and b match, in this case [1, 3, 5, 7]."
      ]
    },
    {
      "cell_type": "markdown",
      "metadata": {
        "id": "MnBq3nfy1RDG"
      },
      "source": [
        "1.3.2 Инвертировать порядок элементов в двумерном тензоре `torch.arange(9).view(3,3)`.\n",
        "\n",
        "Ожидаемый результат:\n",
        "\n",
        "\n",
        "```python\n",
        "tensor([[8, 7, 6],\n",
        "       [5, 4, 3],\n",
        "       [2, 1, 0]])\n",
        "```"
      ]
    },
    {
      "cell_type": "code",
      "execution_count": 55,
      "metadata": {},
      "outputs": [
        {
          "name": "stdout",
          "output_type": "stream",
          "text": [
            "tensor([[8, 7, 6],\n",
            "        [5, 4, 3],\n",
            "        [2, 1, 0]])\n"
          ]
        }
      ],
      "source": [
        "tensor = torch.arange(9).view(3, 3)\n",
        "inverted_tensor = tensor.flip(dims=(-2,1))\n",
        "print(inverted_tensor)"
      ]
    },
    {
      "cell_type": "markdown",
      "metadata": {
        "id": "tANsLnOC1RDH"
      },
      "source": [
        "1.3.3 Из входного тензора a получить только элементы, находящиеся в диапазоне от 5 до 10.\n",
        "\n",
        "_Пример:_\n",
        "\n",
        "Для входа:\n",
        "```python\n",
        "a = torch.tensor([2, 6, 1, 9, 10, 3, 27])\n",
        "```\n",
        "\n",
        "Ожидается результат:\n",
        "\n",
        "```python\n",
        "tensor([6, 9, 10])\n",
        "```"
      ]
    },
    {
      "cell_type": "code",
      "execution_count": 56,
      "metadata": {},
      "outputs": [
        {
          "name": "stdout",
          "output_type": "stream",
          "text": [
            "tensor([ 6,  9, 10])\n"
          ]
        }
      ],
      "source": [
        "a = torch.tensor([2, 6, 1, 9, 10, 3, 27])\n",
        "mask = (a >= 5) & (a <= 10)\n",
        "result = a[mask]\n",
        "print(result)"
      ]
    },
    {
      "attachments": {},
      "cell_type": "markdown",
      "metadata": {},
      "source": [
        "You can use the boolean masking technique to achieve this. Boolean masking involves creating a boolean tensor with the same shape as the input tensor, where each element is True if the corresponding element in the input tensor meets a certain condition, and False otherwise. You can then use the boolean tensor to index into the input tensor and extract only the elements that meet the condition."
      ]
    },
    {
      "cell_type": "markdown",
      "metadata": {
        "id": "3vlK0gV21RDH"
      },
      "source": [
        "1.3.4 Поменять местами столбец 1 и 2 тензора `torch.arange(9).reshape(3,3)`"
      ]
    },
    {
      "cell_type": "code",
      "execution_count": 61,
      "metadata": {},
      "outputs": [
        {
          "name": "stdout",
          "output_type": "stream",
          "text": [
            "Original tensor:\n",
            "tensor([[0, 1, 2],\n",
            "        [3, 4, 5],\n",
            "        [6, 7, 8]])\n",
            "\n",
            "Tensor with columns 0 and 1 swapped:\n",
            "tensor([[1, 0, 2],\n",
            "        [4, 3, 5],\n",
            "        [7, 6, 8]])\n"
          ]
        }
      ],
      "source": [
        "a = torch.arange(9).reshape(3, 3)\n",
        "print(\"Original tensor:\")\n",
        "print(a)\n",
        "\n",
        "a[:, [0, 1]] = a[:, [1, 0]]\n",
        "print(\"\\nTensor with columns 0 and 1 swapped:\")\n",
        "print(a)"
      ]
    },
    {
      "cell_type": "markdown",
      "metadata": {
        "id": "cheFtWhU1RDH"
      },
      "source": [
        "1.3.5 Создать тензор 8 на 10 из случайных целых чисел из диапазона от 0 до 10 и найти в ней строку (ее индекс и вывести саму строку), в которой сумма значений минимальна."
      ]
    },
    {
      "cell_type": "code",
      "execution_count": 62,
      "metadata": {},
      "outputs": [
        {
          "name": "stdout",
          "output_type": "stream",
          "text": [
            "The tensor:\n",
            " tensor([[ 2,  7,  8,  7,  3, 10,  9,  5,  0,  2],\n",
            "        [ 6,  7,  9,  1,  4,  3,  0,  6,  5,  6],\n",
            "        [ 5,  8,  7,  2,  3,  4, 10,  4,  4,  4],\n",
            "        [ 5,  9,  8, 10,  9, 10,  8,  2,  2, 10],\n",
            "        [ 4,  1,  0,  7,  0,  9,  1,  7,  9,  3],\n",
            "        [ 7,  1,  4,  4,  7,  4,  5,  6,  0,  6],\n",
            "        [ 6,  4,  7,  6,  8,  5,  8,  4,  8,  3],\n",
            "        [ 1,  3,  8,  9,  5,  9,  0,  8,  8,  6]])\n",
            "\n",
            "The row with the minimum sum: tensor([4, 1, 0, 7, 0, 9, 1, 7, 9, 3])\n",
            "Index of the row with the minimum sum: tensor(4)\n"
          ]
        }
      ],
      "source": [
        "tensor = torch.randint(0, 11, (8, 10))\n",
        "\n",
        "# Find the row with the minimum sum\n",
        "min_sum, min_index = tensor.sum(dim=1).min(dim=0)\n",
        "min_row = tensor[min_index]\n",
        "\n",
        "print(\"The tensor:\\n\", tensor)\n",
        "print(\"\\nThe row with the minimum sum:\", min_row)\n",
        "print(\"Index of the row with the minimum sum:\", min_index)"
      ]
    },
    {
      "cell_type": "markdown",
      "metadata": {
        "id": "grOCNU4XFE2B"
      },
      "source": [
        "1.3.6 Cоздать тензор из 20 случайных целых чисел от 0 до 100. Обрезать значения тензора (заменить значения, выходящие за диапазон, на крайние значения) снизу по значению 30, сверху по значению 70."
      ]
    },
    {
      "cell_type": "code",
      "execution_count": 63,
      "metadata": {},
      "outputs": [
        {
          "name": "stdout",
          "output_type": "stream",
          "text": [
            "Tensor with trimmed values: tensor([53, 30, 30, 70, 70, 30, 70, 30, 70, 32, 63, 70, 70, 43, 49, 59, 70, 68,\n",
            "        30, 62])\n"
          ]
        }
      ],
      "source": [
        "# Create a tensor from 20 random integers from 0 to 100\n",
        "tensor = torch.randint(0, 101, (20,))\n",
        "\n",
        "# Trim values from below by value 30 and from above by value 70\n",
        "tensor = torch.clamp(tensor, 30, 70)\n",
        "\n",
        "print(\"Tensor with trimmed values:\", tensor)"
      ]
    },
    {
      "cell_type": "markdown",
      "metadata": {
        "id": "HNfQjY8P1RDI"
      },
      "source": [
        "1.3.7 Создать два тензора размера 30 на 3 из случайных целых чисел из диапазона от 0 до 10 и найти все значения первого тензора, которые больше соответсвующих (по расположению) значений второго тензора. Подсчитать сумму этих значений."
      ]
    },
    {
      "cell_type": "code",
      "execution_count": 64,
      "metadata": {},
      "outputs": [
        {
          "name": "stdout",
          "output_type": "stream",
          "text": [
            "Sum of values in tensor1 greater than corresponding values in tensor2:  tensor(282)\n"
          ]
        }
      ],
      "source": [
        "tensor1 = torch.randint(0, 11, (30, 3))\n",
        "tensor2 = torch.randint(0, 11, (30, 3))\n",
        "\n",
        "result = tensor1[tensor1 > tensor2]\n",
        "\n",
        "sum_result = result.sum()\n",
        "print(\"Sum of values in tensor1 greater than corresponding values in tensor2: \", sum_result)"
      ]
    },
    {
      "attachments": {},
      "cell_type": "markdown",
      "metadata": {},
      "source": [
        "In this example, tensor1 and tensor2 are created from random integers from 0 to 10. The comparison tensor1 > tensor2 creates a boolean tensor indicating which elements of tensor1 are greater than the corresponding elements of tensor2. Finally, we select these elements from tensor1 using boolean indexing and calculate their sum."
      ]
    },
    {
      "cell_type": "markdown",
      "metadata": {
        "id": "doBCxYJA1RDI"
      },
      "source": [
        "1.3.8 При помощи прихотливого индексирования для двухмерного массива размерности (20, 20), состоящего из случайных целых чисел в пределах от 0 до 10 получить массив элементов находящихся на диагонали, проходящей над основной диагональю."
      ]
    },
    {
      "cell_type": "code",
      "execution_count": 81,
      "metadata": {},
      "outputs": [
        {
          "name": "stdout",
          "output_type": "stream",
          "text": [
            "tensor([10,  0,  6,  4,  9,  9,  2,  7,  2,  7,  7, 10,  8,  2,  5,  1, 10, 10,\n",
            "         6,  8,  7,  3,  0,  1,  3,  0,  4,  1,  7, 10,  2,  3,  2,  5,  6,  3,\n",
            "         8,  7,  0,  2, 10,  1,  7,  5,  0,  5,  0,  6, 10,  4,  6,  7,  9,  8,\n",
            "         3,  6,  2,  3, 10,  1, 10,  4,  0,  2,  8,  5,  7,  7,  4,  9,  0,  2,\n",
            "         2,  5,  5, 10,  9, 10,  1,  1,  4,  9,  1,  2,  9,  8,  5,  5,  3,  0,\n",
            "        10,  4,  9,  0,  5,  2,  9,  4,  6,  7,  8,  3, 10,  1,  9,  9,  2,  3,\n",
            "         9,  8,  2,  5,  7,  6,  7,  4,  9, 10,  1,  4,  3,  3,  3,  1, 10, 10,\n",
            "         0, 10,  5, 10,  5,  3,  7,  4,  3,  8,  7,  8,  4,  1,  4,  3,  8,  5,\n",
            "         5,  4,  2,  5,  6,  5,  5,  1,  5,  6,  4,  9,  2, 10, 10,  8, 10,  3,\n",
            "         4,  6,  7,  6,  2,  8,  2,  1,  4,  9, 10,  0,  3,  5,  3,  8,  7,  4,\n",
            "         8,  7,  1,  9,  7,  0,  0,  5,  8,  0])\n"
          ]
        }
      ],
      "source": [
        "a = torch.randint(0, 11, (20, 20))\n",
        "\n",
        "# Get the indices of elements above the main diagonal\n",
        "idx = torch.triu_indices(20, 20, 1)\n",
        "\n",
        "# Use the indices to extract the elements above the main diagonal\n",
        "result = a[idx[0], idx[1]]\n",
        "\n",
        "print(result)"
      ]
    },
    {
      "attachments": {},
      "cell_type": "markdown",
      "metadata": {},
      "source": [
        "In this example, the torch.triu_indices function is used to get the indices of the elements above the main diagonal, and then those indices are used to extract the corresponding elements from a."
      ]
    },
    {
      "cell_type": "markdown",
      "metadata": {
        "id": "6M1lkfLp1RDJ"
      },
      "source": [
        "1.3.9 Задать два двухмерных тензора `ar1` и `ar2` размерности (5, 10), состоящих из случайных целых чисел в пределах от 0 до 10. Удвоить все значения `ar1`, которые совпадают со значениями `ar2`, расположенными на аналогичных позициях."
      ]
    },
    {
      "cell_type": "code",
      "execution_count": 88,
      "metadata": {},
      "outputs": [
        {
          "data": {
            "text/plain": [
              "tensor([[ 3,  2,  9, 10,  6,  7,  1,  9, 10,  3],\n",
              "        [ 7,  0, 10,  7,  8,  7,  9,  2,  9,  5],\n",
              "        [ 4,  1,  6,  0, 10,  8,  7,  4,  9, 10],\n",
              "        [10,  1, 10,  2,  5,  7,  6,  9,  6,  1],\n",
              "        [ 1,  7,  8,  2, 16,  4,  9,  9,  4,  3]])"
            ]
          },
          "execution_count": 88,
          "metadata": {},
          "output_type": "execute_result"
        }
      ],
      "source": [
        "ar1 = torch.randint(0, 11, (5, 10))\n",
        "ar2 = torch.randint(0, 11, (5, 10))\n",
        "\n",
        "indices = (ar1 == ar2)\n",
        "ar1[indices] *= 2\n",
        "\n",
        "ar1"
      ]
    },
    {
      "attachments": {},
      "cell_type": "markdown",
      "metadata": {},
      "source": [
        "In this example, indices is a tensor of size (5, 10) that contains True values at positions where the elements of ar1 and ar2 are equal. The line ar1[indices] *= 2 doubles all values in ar1 at positions where the corresponding values in indices are True."
      ]
    },
    {
      "cell_type": "markdown",
      "metadata": {
        "id": "Qe2oVr4p1RDJ"
      },
      "source": [
        "1.3.10 Заданы три двухмерных тензора `ar1`, `ar2` и `ar3` размерности (4, 7), состоящие из случайных целых чисел в пределах от 0 до 10. Обнулить все элементы `ar1`, которые больше соответствующих (находящихся в соответствующих позициях) элементов `ar2` и меньше соответствующих элементов `ar3`."
      ]
    },
    {
      "cell_type": "code",
      "execution_count": 90,
      "metadata": {},
      "outputs": [
        {
          "data": {
            "text/plain": [
              "tensor([[ 8,  3,  4,  8,  8, 10,  6],\n",
              "        [ 0,  2,  0,  0, 10, 10, 10],\n",
              "        [ 5,  3,  9,  2,  8, 10,  5],\n",
              "        [ 9, 10,  2,  5,  9, 10,  9]])"
            ]
          },
          "execution_count": 90,
          "metadata": {},
          "output_type": "execute_result"
        }
      ],
      "source": [
        "# Generating three tensors with random integers\n",
        "ar1 = torch.randint(low=0, high=11, size=(4, 7))\n",
        "ar2 = torch.randint(low=0, high=11, size=(4, 7))\n",
        "ar3 = torch.randint(low=0, high=11, size=(4, 7))\n",
        "\n",
        "# Zeroing out elements of ar1 that are greater than ar2 and fewer than ar3\n",
        "ar1[(ar1 > ar2) & (ar1 < ar3)] = 0\n",
        "\n",
        "ar1"
      ]
    },
    {
      "attachments": {},
      "cell_type": "markdown",
      "metadata": {},
      "source": [
        "After this code, ar1 will be a tensor with zeros in place of the elements that were greater than corresponding ar2 elements and fewer than corresponding ar3 elements."
      ]
    },
    {
      "cell_type": "markdown",
      "metadata": {
        "id": "BTcRVeYh1RDK"
      },
      "source": [
        "1.3.11 Задан двумерный тензор `ar1` размерности (20, 5), состоящий из случайных целых чисел в пределах от 0 до 20. Определить, в каких столбцах не менее 5 раз встречается значение, максимальное по своей строке."
      ]
    },
    {
      "cell_type": "code",
      "execution_count": 119,
      "metadata": {},
      "outputs": [
        {
          "name": "stdout",
          "output_type": "stream",
          "text": [
            "tensor([[18, 15, 10,  1,  9],\n",
            "        [ 6,  0, 14, 17,  9],\n",
            "        [ 8,  9,  5, 11, 12],\n",
            "        [14,  7,  0, 10, 12],\n",
            "        [ 1, 16, 16, 20,  9],\n",
            "        [ 0,  7,  6, 10, 16],\n",
            "        [17,  6, 17,  6, 18],\n",
            "        [19, 12, 18,  6,  9],\n",
            "        [ 7,  4, 17, 11,  3],\n",
            "        [10, 10,  2, 10,  4],\n",
            "        [20, 18,  8, 20, 12],\n",
            "        [19, 14,  9, 19,  3],\n",
            "        [ 7, 13,  6,  7, 18],\n",
            "        [18,  8, 15, 17,  1],\n",
            "        [19,  0,  5,  5, 20],\n",
            "        [11, 19, 17, 17, 20],\n",
            "        [ 6,  9,  6,  8, 19],\n",
            "        [19, 10, 16,  9,  7],\n",
            "        [20,  9,  5, 15,  3],\n",
            "        [17, 15, 20,  5, 12]])\n",
            "18 18\n",
            "17 17\n",
            "12 12\n",
            "14 14\n",
            "20 20\n",
            "16 16\n",
            "18 18\n",
            "19 19\n",
            "17 17\n",
            "10 10\n",
            "10 10\n",
            "10 10\n",
            "20 20\n",
            "20 20\n",
            "19 19\n",
            "19 19\n",
            "18 18\n",
            "18 18\n",
            "20 20\n",
            "20 20\n",
            "19 19\n",
            "19 19\n",
            "20 20\n",
            "20 20\n",
            "tensor([9., 1., 2., 5., 7.])\n",
            "Columns with the maximum value occurring at least 5 times: [0, 3, 4]\n"
          ]
        }
      ],
      "source": [
        "ar1 = torch.randint(0, 21, (20, 5))\n",
        "column_counts = torch.zeros(5)\n",
        "print(ar1)\n",
        "\n",
        "for i in range(20):\n",
        "    row_max = ar1[i].max().item()\n",
        "    # print(row_max)\n",
        "    for j in range(5):\n",
        "        if ar1[i][j].item() == row_max:\n",
        "            print(ar1[i][j].item(), row_max)\n",
        "            column_counts[j] += 1\n",
        "            \n",
        "print(column_counts)\n",
        "result = []\n",
        "for i in range(5):\n",
        "    if column_counts[i] >= 5:\n",
        "        result.append(i)\n",
        "        \n",
        "print(\"Columns with the maximum value occurring at least 5 times:\", result)"
      ]
    },
    {
      "attachments": {},
      "cell_type": "markdown",
      "metadata": {},
      "source": [
        "This code first creates a tensor ar1 of random integers from 0 to 20, and then creates an all-zero tensor column_counts to store the count of the maximum value in each column.\n",
        "\n",
        "Next, it loops through the rows of ar1 and finds the maximum value in each row. For each column where the maximum value occurs, it increments the corresponding count in column_counts.\n",
        "\n",
        "Finally, it loops through column_counts and finds the columns where the count is greater than or equal to 5, and appends the column indices to a list result.\n",
        "\n",
        "The final result is the list of columns where the maximum value occurs at least 5 times."
      ]
    },
    {
      "cell_type": "code",
      "execution_count": 183,
      "metadata": {},
      "outputs": [
        {
          "name": "stdout",
          "output_type": "stream",
          "text": [
            "tensor([[ 3, 19, 19, 18, 18],\n",
            "        [15,  0, 16, 16,  8],\n",
            "        [ 7,  8, 11,  5,  3],\n",
            "        [16,  7, 18,  6, 20],\n",
            "        [13, 20, 10,  2, 16],\n",
            "        [16, 20, 15,  5,  5],\n",
            "        [10, 15, 18, 19, 17],\n",
            "        [20, 11, 20, 13, 13],\n",
            "        [ 8, 12, 14, 10, 18],\n",
            "        [14, 10,  7, 11,  6],\n",
            "        [ 4, 17, 17,  1, 10],\n",
            "        [20,  8, 19,  0, 10],\n",
            "        [19,  6,  6, 14, 13],\n",
            "        [20,  3, 17, 10, 12],\n",
            "        [17, 16, 14,  2,  0],\n",
            "        [20,  7, 10,  4, 18],\n",
            "        [ 1, 12, 11,  4,  0],\n",
            "        [ 1, 12, 17, 14, 16],\n",
            "        [20, 10,  9, 20,  5],\n",
            "        [14, 11, 10, 15,  8]])\n",
            "[0]\n"
          ]
        }
      ],
      "source": [
        "columns = []\n",
        "\n",
        "while len(columns) == 0:\n",
        "    ar1 = torch.randint(0, 21, (20, 5))\n",
        "    for j in range(5):\n",
        "        column = ar1[:, j]\n",
        "        count = (column == column.max()).sum().item()\n",
        "        if count >= 5:\n",
        "            columns.append(j)\n",
        "    # print(ar1)\n",
        "print(ar1)\n",
        "print(columns)"
      ]
    },
    {
      "cell_type": "markdown",
      "metadata": {
        "id": "ZeYlNWNE1RDK"
      },
      "source": [
        "1.3.12 Задан двумерный тензор `ar1` размерности (4, 7), состоящий из случайных  чисел в пределах от 0 до 1. Обнулить все значения в массиве, расположенные строго правее и ниже максимального элемента массива. "
      ]
    },
    {
      "cell_type": "code",
      "execution_count": 278,
      "metadata": {},
      "outputs": [
        {
          "name": "stdout",
          "output_type": "stream",
          "text": [
            "tensor([[0.3817, 0.4456, 0.0995, 0.9099, 0.3797, 0.7550, 0.3889],\n",
            "        [0.5984, 0.5159, 0.9316, 0.1749, 0.3579, 0.5192, 0.4774],\n",
            "        [0.0694, 0.1671, 0.7544, 0.8224, 0.4871, 0.5400, 0.8227],\n",
            "        [0.6426, 0.8876, 0.8393, 0.4926, 0.5668, 0.2524, 0.8824]])\n",
            "tensor(9) tensor(1) tensor(2)\n",
            "tensor([[0.3817, 0.4456, 0.0995, 0.0000, 0.0000, 0.0000, 0.0000],\n",
            "        [0.5984, 0.5159, 0.9316, 0.0000, 0.0000, 0.0000, 0.0000],\n",
            "        [0.0000, 0.0000, 0.0000, 0.0000, 0.0000, 0.0000, 0.0000],\n",
            "        [0.0000, 0.0000, 0.0000, 0.0000, 0.0000, 0.0000, 0.0000]])\n"
          ]
        }
      ],
      "source": [
        "# Create the tensor with random values from 0 to 1\n",
        "ar1 = torch.rand(4, 7)\n",
        "print(ar1)\n",
        "\n",
        "# Find the indices of the maximum element in the tensor\n",
        "max_index = torch.argmax(ar1)\n",
        "max_row, max_col = max_index // 7, max_index % 7\n",
        "print(max_index, max_row, max_col)\n",
        "# Zero out all values below and to the right of the maximum value\n",
        "# ar1[max_row+1:, max_col] = 0\n",
        "# ar1[max_row:, max_col+1:] = 0 \n",
        "ar1[max_row+1:, :] = 0\n",
        "ar1[:, max_col+1:] = 0\n",
        "\n",
        "\n",
        "print(ar1)"
      ]
    },
    {
      "attachments": {},
      "cell_type": "markdown",
      "metadata": {},
      "source": [
        "This code creates a two-dimensional tensor ar1 of shape (4, 7) with random values ranging from 0 to 1. The maximum value in the tensor is found using the torch.argmax() function, which returns the index of the maximum value in the tensor. The max_row and max_col variables store the row and column of the maximum value, respectively.\n",
        "\n",
        "Finally, we set all values in the tensor that are located below and to the right of the maximum value to zero using slicing and assignment. The resulting tensor is printed to verify that the values have been set to zero as expected."
      ]
    },
    {
      "cell_type": "markdown",
      "metadata": {
        "id": "pYxX90B11RDL"
      },
      "source": [
        "1.3.13 Построить \"one-hot encoding\" для одномерного тензора, содержащего целые числа (длина вектора заранее неизвестна, набор значений заранее неизвестен, при этом в итоговой матрице должны присутствовать столбцы для всех натуральных чисел вплоть до максимального встречающегося в исходном массиве).\n",
        "\n",
        "Пример:\n",
        "\n",
        "для тензора `torch.tensor([2, 3, 2, 2, 2, 1])`.\n",
        "\n",
        "Ожидается результат:\n",
        "\n",
        "```python\n",
        "tensor([[0., 1., 0.],\n",
        "        [0., 0., 1.],\n",
        "        [0., 1., 0.],\n",
        "        [0., 1., 0.],\n",
        "        [0., 1., 0.],\n",
        "        [1., 0., 0.]])\n",
        "```"
      ]
    },
    {
      "cell_type": "code",
      "execution_count": 304,
      "metadata": {},
      "outputs": [
        {
          "data": {
            "text/plain": [
              "tensor([[0., 1., 0.],\n",
              "        [0., 0., 1.],\n",
              "        [0., 1., 0.],\n",
              "        [0., 1., 0.],\n",
              "        [0., 1., 0.],\n",
              "        [1., 0., 0.]])"
            ]
          },
          "execution_count": 304,
          "metadata": {},
          "output_type": "execute_result"
        }
      ],
      "source": [
        "# Input tensor\n",
        "x = torch.tensor([2, 3, 2, 2, 2, 1])\n",
        "\n",
        "def one_hot_encode_tensor(x):\n",
        "    # Determine the maximum value\n",
        "    max_val = x.max()\n",
        "\n",
        "    # Create a tensor with shape [len(x), max_val] filled with zeros\n",
        "    one_hot = torch.zeros((len(x), max_val), dtype=torch.float32)\n",
        "\n",
        "    # Use indexing to set the appropriate values to 1\n",
        "    for i in range(len(x)):\n",
        "        one_hot[i, x[i]-1] = 1\n",
        "\n",
        "    # Return the one-hot encoded tensor\n",
        "    return one_hot\n",
        "\n",
        "one_hot_encode_tensor(x)"
      ]
    },
    {
      "cell_type": "markdown",
      "metadata": {
        "id": "GYU8DmNTDLN8"
      },
      "source": [
        "1.3.14 Создать тензор `arr` из 20 случайных целых чисел от 0 до 100. Найти самое частое значение в тензоре. \n",
        "Найти индексы в тензоре, соответствующие самому частому значению. Проверить, как работет алгоритм при двух значениях, имеющих наибольшую встречаемость, предложить приемлемое поведение алгоритма для этого случая. "
      ]
    },
    {
      "cell_type": "code",
      "execution_count": 319,
      "metadata": {},
      "outputs": [
        {
          "name": "stdout",
          "output_type": "stream",
          "text": [
            "Tensor:  tensor([71, 83, 40, 27, 36, 13,  7, 72,  7, 49, 43, 36, 38, 90,  5, 61, 93, 35,\n",
            "        96, 23])\n",
            "Most frequent value:  7\n",
            "Number of occurrences:  8\n",
            "Indices of the most frequent value:  tensor([6, 8])\n"
          ]
        }
      ],
      "source": [
        "\n",
        "# Create the tensor with random integers from 0 to 100\n",
        "arr = torch.tensor([71, 83, 40, 27, 36, 13,  7, 72,  7, 49, 43, 36, 38, 90,  5, 61, 93, 35,\n",
        "        96, 23])\n",
        "print(\"Tensor: \", arr)\n",
        "\n",
        "# Find the most frequent value in the tensor\n",
        "value, count = torch.mode(arr)\n",
        "print(\"Most frequent value: \", value.item())\n",
        "print(\"Number of occurrences: \", count.item())\n",
        "\n",
        "# Find the indices corresponding to the most frequent value\n",
        "indices = torch.where(arr == value.item())[0]\n",
        "print(\"Indices of the most frequent value: \", indices)\n",
        "\n",
        "# In case of tie for the two values with highest occurrences,\n",
        "# the algorithm will return the first one found in the tensor.\n",
        "# If a different behavior is desired, it can be implemented by\n",
        "# sorting the tensor and counting the occurrences of each unique value,\n",
        "# then finding the two values with the highest count and using both of them in the one-hot encoding"
      ]
    },
    {
      "cell_type": "code",
      "execution_count": 316,
      "metadata": {},
      "outputs": [
        {
          "name": "stdout",
          "output_type": "stream",
          "text": [
            "tensor([71, 83, 40, 27, 37, 13,  7, 72,  7, 49,  5, 36, 38, 90,  5, 61, 93, 35,\n",
            "        96, 23])\n",
            "tensor([ 5,  7, 13, 23, 27, 35, 36, 37, 38, 40, 49, 61, 71, 72, 83, 90, 93, 96]) tensor([2, 2, 1, 1, 1, 1, 1, 1, 1, 1, 1, 1, 1, 1, 1, 1, 1, 1])\n",
            "Most frequent value:  tensor(5)\n",
            "Indices:  tensor([10, 14])\n"
          ]
        }
      ],
      "source": [
        "# arr = torch.randint(0, 101, (20,))\n",
        "arr = torch.tensor([71, 83, 40, 27, 37, 13,  7, 72,  7, 49, 5, 36, 38, 90,  5, 61, 93, 35,\n",
        "        96, 23])\n",
        "print(arr)\n",
        "\n",
        "# Find the most frequent value in the tensor\n",
        "values, counts = torch.unique(arr, return_counts=True)\n",
        "print(values, counts)\n",
        "most_frequent_value = values[counts.argmax()]\n",
        "print(\"Most frequent value: \", most_frequent_value)\n",
        "\n",
        "# Find the indices in the tensor corresponding to the most frequent value\n",
        "indices = torch.where(arr == most_frequent_value)[0]\n",
        "print(\"Indices: \", indices)"
      ]
    },
    {
      "attachments": {},
      "cell_type": "markdown",
      "metadata": {},
      "source": [
        "This code generates a 1D tensor arr containing 20 random integers from 0 to 100. It then uses the torch.unique function to find the unique values in the tensor and their count of occurrences. The most frequent value is determined by finding the maximum count and its corresponding value. Finally, the indices corresponding to the most frequent value are found using torch.where function.\n",
        "\n",
        "In the case where there are two values with the highest occurrence, the code will return the indices of one of the values. The acceptable behavior of the algorithm would be to return the indices of both values, as both of them are equally frequent in the tensor."
      ]
    },
    {
      "cell_type": "code",
      "execution_count": 331,
      "metadata": {},
      "outputs": [
        {
          "name": "stdout",
          "output_type": "stream",
          "text": [
            "Tensor:  tensor([79, 88, 37,  7, 83, 88, 69, 43, 75, 93, 23, 47, 83, 53, 37, 23, 95, 47,\n",
            "         1, 41])\n",
            "First max:  tensor(23) Count:  tensor(2)\n",
            "Second max:  tensor(37) Count:  tensor(2)\n",
            "One-hot encoding for first max:  tensor([0., 0., 0., 0., 0., 0., 0., 0., 0., 0., 1., 0., 0., 0., 0., 1., 0., 0.,\n",
            "        0., 0.])\n",
            "Indexes: tensor([10, 15])\n",
            "One-hot encoding for second max:  tensor([0., 0., 1., 0., 0., 0., 0., 0., 0., 0., 0., 0., 0., 0., 1., 0., 0., 0.,\n",
            "        0., 0.])\n",
            "Indexes: tensor([ 2, 14])\n"
          ]
        }
      ],
      "source": [
        "# Create a tensor with 20 random integers from 0 to 100\n",
        "arr = torch.randint(0, 101, (20,))\n",
        "print(\"Tensor: \", arr)\n",
        "\n",
        "# Find the unique values in the tensor and their counts\n",
        "unique_vals, counts = torch.unique(arr, return_counts=True)\n",
        "\n",
        "# Sort the count tensor in descending order and find the two values with the highest counts\n",
        "sorted_counts, indices = torch.sort(counts, descending=True)\n",
        "first_max = unique_vals[indices[0]]\n",
        "second_max = unique_vals[indices[1]] if sorted_counts[0] == sorted_counts[1] else None\n",
        "print(\"First max: \", first_max, \"Count: \", sorted_counts[0])\n",
        "print(\"Second max: \", second_max, \"Count: \", sorted_counts[1])\n",
        "\n",
        "# Create a tensor to store the one-hot encoded values for the first max value\n",
        "one_hot_1 = (arr == first_max).float()\n",
        "print(\"One-hot encoding for first max: \", one_hot_1)\n",
        "print(f\"Indexes: {torch.where(one_hot_1 == one_hot_1.max())[0]}\")\n",
        "\n",
        "# Create a tensor to store the one-hot encoded values for the second max value, if it exists\n",
        "if second_max is not None:\n",
        "    one_hot_2 = (arr == second_max).float()\n",
        "    print(\"One-hot encoding for second max: \", one_hot_2)\n",
        "    print(f\"Indexes: {torch.where(one_hot_2 == one_hot_2.max())[0]}\")"
      ]
    },
    {
      "cell_type": "code",
      "execution_count": 335,
      "metadata": {},
      "outputs": [
        {
          "name": "stdout",
          "output_type": "stream",
          "text": [
            "Tensor: tensor([16, 56, 87, 70, 28, 62,  0, 23, 44, 69, 95,  5, 36,  6,  7, 87, 33,  0,\n",
            "        40, 42])\n",
            "Most frequent value: tensor(0)\n",
            "Count of most frequent value: tensor(6)\n",
            "Indices of most frequent value: tensor([[ 6],\n",
            "        [17]])\n"
          ]
        }
      ],
      "source": [
        "# Create a tensor with 20 random integers from 0 to 100\n",
        "arr = torch.randint(0, 100, (20,))\n",
        "\n",
        "# Find the most frequent value\n",
        "value, count = torch.mode(arr)\n",
        "\n",
        "# Get the indices of the most frequent value\n",
        "indices = (arr == value).nonzero()\n",
        "\n",
        "print(\"Tensor:\", arr)\n",
        "print(\"Most frequent value:\", value)\n",
        "print(\"Count of most frequent value:\", count)\n",
        "print(\"Indices of most frequent value:\", indices)"
      ]
    },
    {
      "attachments": {},
      "cell_type": "markdown",
      "metadata": {},
      "source": [
        "This code first finds the unique values and their counts in the arr tensor using the torch.unique function. It then sorts the count tensor in descending order and finds the two values with the highest counts. If the two values have the same count, it stores the second max value in the second_max variable, otherwise it sets second_max to None. Finally, it creates two separate one-hot encoded tensors, one_hot_1 for the first max value and one_hot_2 for the second max value (if it exists), by using the equality operator == and casting the result to a float tensor."
      ]
    },
    {
      "cell_type": "markdown",
      "metadata": {
        "id": "UenAEfEG1RDN"
      },
      "source": [
        "## 1.4 Математические задачи"
      ]
    },
    {
      "cell_type": "markdown",
      "metadata": {
        "id": "6weDrqJR1RDN"
      },
      "source": [
        "1.4.1 Приблизительно (с погрешностью порядка 1%) рассчитать на какой части интервала от 0 до 10 значение функции x * sin(x) больше 0.5."
      ]
    },
    {
      "cell_type": "code",
      "execution_count": 344,
      "metadata": {},
      "outputs": [
        {
          "name": "stdout",
          "output_type": "stream",
          "text": [
            "The solution is approximately x = 6.3671875\n"
          ]
        }
      ],
      "source": [
        "import numpy as np\n",
        "\n",
        "def func(x):\n",
        "    return x * np.sin(x)\n",
        "\n",
        "def bisect(a, b):\n",
        "    eps = 0.01 * (b - a)\n",
        "    mid = (a + b) / 2\n",
        "    while abs(func(mid) - 0.5) >= eps:\n",
        "        if func(mid) > 0.5:\n",
        "            b = mid\n",
        "        else:\n",
        "            a = mid\n",
        "        mid = (a + b) / 2\n",
        "    return mid\n",
        "\n",
        "a, b = 0, 10\n",
        "x = bisect(a, b)\n",
        "print(\"The solution is approximately x =\", x)"
      ]
    },
    {
      "attachments": {},
      "cell_type": "markdown",
      "metadata": {},
      "source": [
        "The bisection method is an iterative method that works by repeatedly dividing the interval in half until the solution is found. In each iteration, the midpoint of the interval is calculated and compared to the target value (0.5 in this case). The interval is then updated to exclude the half of the interval where the solution is not likely to be found. This continues until the error is less than 1% of the interval width."
      ]
    },
    {
      "cell_type": "code",
      "execution_count": 357,
      "metadata": {},
      "outputs": [
        {
          "name": "stdout",
          "output_type": "stream",
          "text": [
            "     fun: -5.314469889712029\n",
            " message: 'Solution found.'\n",
            "    nfev: 11\n",
            "     nit: 11\n",
            "  status: 0\n",
            " success: True\n",
            "       x: 4.913180742808922\n",
            "The value of x where x * sin(x) is approximately equal to 0.5 is: 4.913180742808922\n"
          ]
        }
      ],
      "source": [
        "import numpy as np\n",
        "from scipy.optimize import minimize_scalar\n",
        "\n",
        "def func(x):\n",
        "    return x * np.sin(x) - 0.5\n",
        "\n",
        "result = minimize_scalar(func, bounds=(0, 10), method='bounded')\n",
        "print(result)\n",
        "x_opt = result.x\n",
        "\n",
        "print(\"The value of x where x * sin(x) is approximately equal to 0.5 is:\", x_opt)"
      ]
    },
    {
      "cell_type": "markdown",
      "metadata": {
        "id": "B9xAv8TR1RDN"
      },
      "source": [
        "1.4.2 Найти все простые числа в пределах ста. (Для решения предлагается использовать Решето Эратосфена) Использовать не более 1 цикла (желательно)."
      ]
    },
    {
      "cell_type": "markdown",
      "metadata": {
        "id": "AHupFoTR1RDN"
      },
      "source": [
        "1.4.3 Найти евклидово расстояние между двумя одномерными тензорами одинаковой размерности, не используя готовые решения из библиотек."
      ]
    },
    {
      "cell_type": "markdown",
      "metadata": {
        "id": "j-ZvjWDKDVMQ"
      },
      "source": [
        "1.4.4 Создать двумерный тензор 20 на 3, содержащий случайные целые числа от 0 до 100. \n",
        "Интерпретируя тензор как 20 векторов из 3х компонент, отсортировать его по длине векторов."
      ]
    },
    {
      "cell_type": "markdown",
      "metadata": {
        "id": "IkBRFTKa1RDO"
      },
      "source": [
        "1.4.5 Найти \"локальные максимумы\" в одномерном тензоре (т.е. значения, большие предыдущего и последующего) `torch.tensor([1, 3, 7, 1, 2, 6, 0, 1])` и вывести их индексы."
      ]
    },
    {
      "cell_type": "markdown",
      "metadata": {
        "id": "VXD58rlc1RDP"
      },
      "source": [
        "1.4.6 Задан произвольный массив numpy (например массив из 100 случайных числе от 0 до 1). Необходимо найти в нем число наиболее близкое к заданному."
      ]
    },
    {
      "cell_type": "markdown",
      "metadata": {
        "id": "81F_B2ij1RDP"
      },
      "source": [
        "1.4.7 Решить матричное уравнение `A*X*B=-C` - найти матрицу X. Где `A = [[-1, 2, 4], [-3, 1, 2], [-3, 0, 1]]`, `B=[[3, -1], [2, 1]]`, `C=[[7, 21], [11, 8], [8, 4]]`."
      ]
    },
    {
      "cell_type": "markdown",
      "metadata": {
        "id": "1P7O19bj1RDP"
      },
      "source": [
        "1.4.8 Проверить, является ли система векторов a1 = (3; −3; 0; 7),\n",
        "a2 = (2; 2; 4; 7), a3 = (1; 2; 3; 4), a4 = (5; −4; 1; 3) линейно зависимой?"
      ]
    },
    {
      "cell_type": "markdown",
      "metadata": {
        "id": "Jg_bzMVS1RDQ"
      },
      "source": [
        "1.4.9 Сгенирировать тензор из 200 случайных целых чисел, нормально распрделенных cо стандартным отклонением $\\sigma = 10$ и матожиданием $\\mu = 0$. Построить тензор гистограммы с 20 бинами. "
      ]
    },
    {
      "cell_type": "code",
      "execution_count": null,
      "metadata": {
        "id": "hnI34avf7MBn"
      },
      "outputs": [],
      "source": []
    }
  ],
  "metadata": {
    "colab": {
      "provenance": []
    },
    "kernelspec": {
      "display_name": "Python 3",
      "language": "python",
      "name": "python3"
    },
    "language_info": {
      "codemirror_mode": {
        "name": "ipython",
        "version": 3
      },
      "file_extension": ".py",
      "mimetype": "text/x-python",
      "name": "python",
      "nbconvert_exporter": "python",
      "pygments_lexer": "ipython3",
      "version": "3.10.6"
    },
    "vscode": {
      "interpreter": {
        "hash": "916dbcbb3f70747c44a77c7bcd40155683ae19c65e1c03b4aa3499c5328201f1"
      }
    }
  },
  "nbformat": 4,
  "nbformat_minor": 0
}
