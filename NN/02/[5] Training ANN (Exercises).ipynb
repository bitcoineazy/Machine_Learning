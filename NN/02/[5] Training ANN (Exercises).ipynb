{
 "cells": [
  {
   "cell_type": "markdown",
   "id": "a47a5e2b",
   "metadata": {},
   "source": [
    "## Задание. Создать нейронную сеть со следующей структурой\n",
    "\n",
    "\n",
    "Network( <br/> \n",
    "    (hidden): Linear(in_features=784, out_features=256, bias=True) <br/>\n",
    "    (output): Linear(in_features=256, out_features=10, bias=True) <br/>\n",
    "    (sigmoid): Sigmoid() <br/>\n",
    "    (softmax): Softmax(dim=1) <br/>\n",
    ")\n"
   ]
  },
  {
   "cell_type": "markdown",
   "id": "cfb13e52",
   "metadata": {},
   "source": [
    "Подключить необходимые библиотеки: torch, numpy и matplotlib.pyplot:"
   ]
  },
  {
   "cell_type": "code",
   "execution_count": 1,
   "id": "1fe880cb",
   "metadata": {},
   "outputs": [],
   "source": [
    "import torch.nn as nn\n",
    "import numpy as np\n",
    "import matplotlib.pyplot as plt\n",
    "\n",
    "from torchvision import datasets\n",
    "from torchvision.transforms import ToTensor"
   ]
  },
  {
   "cell_type": "code",
   "execution_count": 5,
   "id": "c0d94a42",
   "metadata": {},
   "outputs": [
    {
     "name": "stdout",
     "output_type": "stream",
     "text": [
      "Network(\n",
      "  (hidden): Linear(in_features=784, out_features=256, bias=True)\n",
      "  (output): Linear(in_features=256, out_features=10, bias=True)\n",
      "  (sigmoid): Sigmoid()\n",
      "  (softmax): Softmax(dim=1)\n",
      ")\n"
     ]
    }
   ],
   "source": [
    "class Network(nn.Module):\n",
    "    def __init__(self):\n",
    "        super(Network, self).__init__()\n",
    "        self.hidden = nn.Linear(784, 256)\n",
    "        self.output = nn.Linear(256, 10)\n",
    "        self.sigmoid = nn.Sigmoid()\n",
    "        self.softmax = nn.Softmax(dim=1)\n",
    "\n",
    "    def forward(self, x):\n",
    "        x = self.hidden(x)  \n",
    "        x = self.sigmoid(x) \n",
    "        x = self.output(x)  \n",
    "        x = self.softmax(x)  \n",
    "        return x\n",
    "\n",
    "model = Network()\n",
    "\n",
    "print(model)"
   ]
  },
  {
   "cell_type": "markdown",
   "id": "08071e94",
   "metadata": {},
   "source": [
    "Создадим экземпляр класса и выведем его на печать, чтобы проверить, что наша архитектура совпадает с заданной:"
   ]
  },
  {
   "cell_type": "code",
   "execution_count": 6,
   "id": "cb72407a",
   "metadata": {},
   "outputs": [
    {
     "name": "stdout",
     "output_type": "stream",
     "text": [
      "Network(\n",
      "  (hidden): Linear(in_features=784, out_features=256, bias=True)\n",
      "  (output): Linear(in_features=256, out_features=10, bias=True)\n",
      "  (sigmoid): Sigmoid()\n",
      "  (softmax): Softmax(dim=1)\n",
      ")\n"
     ]
    }
   ],
   "source": [
    "print(model)"
   ]
  },
  {
   "cell_type": "markdown",
   "id": "1257b2ec",
   "metadata": {},
   "source": [
    "Будем использовать набор данных MNIST. Применим трансформации перевода в тензор и нормализации с параметрами (0.5):"
   ]
  },
  {
   "cell_type": "code",
   "execution_count": 2,
   "id": "45e51e57",
   "metadata": {},
   "outputs": [],
   "source": [
    "from torchvision import datasets, transforms\n",
    "import torch\n",
    "\n",
    "# Define a transform to normalize the data\n",
    "transform = transforms.Compose([transforms.ToTensor(), transforms.Normalize(0.5, 0.5)])\n",
    "    \n",
    "# Download and load the training data\n",
    "trainset = datasets.MNIST('./MNIST/', download=True, train=True, transform=transform)\n",
    "trainloader = torch.utils.data.DataLoader(trainset, batch_size=64, shuffle=True)"
   ]
  },
  {
   "cell_type": "markdown",
   "id": "b872779d",
   "metadata": {},
   "source": [
    "Зададим функцию view_classify для более удобного вывода результатов на экран:"
   ]
  },
  {
   "cell_type": "code",
   "execution_count": 9,
   "id": "1deb1275",
   "metadata": {},
   "outputs": [],
   "source": [
    "def view_classify(img, ps, version=\"MNIST\"):\n",
    "    ''' \n",
    "    Function for viewing an image and it's predicted classes.\n",
    "    '''\n",
    "    ps = ps.data.numpy().squeeze()\n",
    "\n",
    "    fig, (ax1, ax2) = plt.subplots(figsize=(6,9), ncols=2)\n",
    "    ax1.imshow(img.resize_(1, 28, 28).numpy().squeeze())\n",
    "    ax1.axis('off')\n",
    "    ax2.barh(np.arange(10), ps)\n",
    "    ax2.set_aspect(0.1)\n",
    "    ax2.set_yticks(np.arange(10))\n",
    "    ax2.set_yticklabels(np.arange(10))\n",
    "    ax2.set_title('Class Probability')\n",
    "    ax2.set_xlim(0, 1.1)\n",
    "\n",
    "    plt.tight_layout()"
   ]
  },
  {
   "cell_type": "markdown",
   "id": "077160df",
   "metadata": {},
   "source": [
    "Будем итерироваться по тренировочному множеству и выведем результат работы нейронной сети на экран:"
   ]
  },
  {
   "cell_type": "code",
   "execution_count": 13,
   "id": "58c4ab17",
   "metadata": {},
   "outputs": [
    {
     "data": {
      "image/png": "[encoded data removed]",
      "text/plain": [
       "<Figure size 600x900 with 2 Axes>"
      ]
     },
     "metadata": {},
     "output_type": "display_data"
    }
   ],
   "source": [
    "# Grab some data\n",
    "## WRITE YOUR CODE HERE\n",
    "images, labels = next(iter(trainloader))\n",
    "\n",
    "# Resize images into a 1D vector, new shape is (batch size, color channels, image pixels)\n",
    "images.resize_(64, 1, 784)\n",
    "# or images.resize_(images.shape[0], 1, 784) to automatically get batch size\n",
    "\n",
    "# Forward pass through the network\n",
    "img_idx = 0\n",
    "ps = model.forward(images[img_idx,:])\n",
    "\n",
    "img = images[img_idx]\n",
    "view_classify(img.view(1, 28, 28), ps)"
   ]
  },
  {
   "cell_type": "markdown",
   "id": "d1e3bed5",
   "metadata": {},
   "source": [
    "Вопрос: почему получилось такое распределение вероятностей предсказаний классов?\n",
    "\n",
    "Ответ: веса в этой нейронной сети задавались случайным образом, то есть сеть никак не обучалась."
   ]
  },
  {
   "cell_type": "markdown",
   "id": "77c8b9d1",
   "metadata": {},
   "source": [
    "## Обучение нейронной сети"
   ]
  },
  {
   "cell_type": "markdown",
   "id": "f793060f",
   "metadata": {},
   "source": [
    "Суть обучения нейронной сети заключается в подборе (посредством постепенного изменения) весов и bias-векторов (параметров сети) таким образом, чтобы разница между выходом нейронной сети и целевым значением была минимальна.\n",
    "\n",
    "Для этого строится **функция потерь (Loss function)** - функция, которая оценивает <<расстояние>> между значением, которое получилось на выходе нейронной сети (Prediction), и заранее заданным значением (Labels).\n",
    "\n",
    "Чтобы минимизировать функцию потерь, используется метод обратного распространения ошибки (Backpropagation), суть которого заключается в нахождении минимума функции потерь через вычисление её градиента, который в свою очередь зависит только от входных данных (поэтому обратное распространение). \n",
    "\n",
    "Метод обратного распространения ошибки включает в себя следующие шаги:\n",
    "* Forward Pass (FP) — прямое распространение сигнала от входа к выходам (без которого не получить вычисленные значения в графе);\n",
    "* Backward Pass (BP) — расчёт величины градиента от выхода ко входам;\n",
    "* обновление весов в зависимости от величины градиента (скорость обучения или learning rate).\n",
    "\n",
    "<img src=\"assets/forward_backward_pass.png\" width='800'>\n",
    "\n",
    "Существует несколько реализаций метода обратного распространения ошибки:\n",
    "- стохастического градиентного спуска (Stochastic Gradient Descent, SGD);\n",
    "- пакетного градиентного спуска (Mini-Bath Gradient Descent, MBGD)."
   ]
  },
  {
   "cell_type": "markdown",
   "id": "5ca4d40c",
   "metadata": {},
   "source": [
    "Итого, один цикл обучения включает:\n",
    "- загрузку данных (Features);\n",
    "- один проход данных сквозь нейронную сеть (Neural Network);\n",
    "- получение предсказаний нейронной сети (Prediction);\n",
    "- выгрузка значений, которые соответствуют данным (Labels);\n",
    "- построение функции потерь (Loss) от двух параметров Prediction и Loss;\n",
    "- применение метода обратного распространения ошибки (Backpropagation).\n",
    "\n",
    "<img src=\"assets/Training_cycle.png\" width= \"800\">"
   ]
  },
  {
   "cell_type": "markdown",
   "id": "29e83149",
   "metadata": {},
   "source": [
    "Например, внутри одной эпохи обучения двухслойной неронной сети необходимо выполнять следующие действия:\n",
    "- предобработать данные;\n",
    "- умножить их на веса;\n",
    "- применить функцию активации;\n",
    "- снова умножить на веса;\n",
    "- вычислить значение функции потерь;\n",
    "- вычислить градиент функции потерь по весам;\n",
    "- обновить веса;\n",
    "- оценить точность."
   ]
  },
  {
   "cell_type": "markdown",
   "id": "a174b2ab",
   "metadata": {},
   "source": [
    "Нейронная сеть в процессе **обучения** последовательно обрабатывает все объекты из обучающей выборки.\n",
    "Предъявление нейронной сети всех объектов обучающей выборки по одному разу называется **эпохой обучения**.\n",
    "\n",
    "Обучающую выборку разделяют на две части: непосредственно использующуюся для обучения (train data) и тестовую (test data) или валидационную (validation data). На тестовых данных каждую эпоху происходит оценка качества обучения. Стратегия разделения на train и test/validation подвыборки может быть произвольной, но при разделении следует заботиться о том, чтобы эти подвыборки были \"похожи\"."
   ]
  },
  {
   "cell_type": "markdown",
   "id": "8af3a29c",
   "metadata": {},
   "source": [
    "Обучение модели — итеративный процесс. На каждой итерции модель получает входные данные, дает предсказание на выходе, вычисляет значение функции потерь (loss), вычисляет производные функции потерь по параметрам и подстраивает параметры, используя градиентный спуск. Для более детального рассмотрения этого процесса рекомендуем посмотреть [видео об обратном распространении ошибки от 3Blue1Brown](https://www.youtube.com/watch?v=tIeHLnjs5U8).\n",
    "\n",
    "[Плейлист с видео о нейронных сетях от 3Blue1Brown с озвучкой на русском](https://www.youtube.com/playlist?list=PLfdZ2TeaMzfzlpZ60rbaYU_epH5XPNbWU)."
   ]
  },
  {
   "cell_type": "markdown",
   "id": "6ff49c86",
   "metadata": {},
   "source": [
    "## Гиперпараметры\n",
    "\n",
    "Гиперпараметры — это задаваемые разработчиком параметры, которые позволяют управлять процессом обучения. Различные значения гиперпараметров могут влиять на обучение модели и скорость сходимости ([здесь](https://pytorch.org/tutorials/beginner/hyperparameter_tuning_tutorial.html) можно почитать подробнее про подбор гиперпараметров).\n",
    "\n",
    "Определим следующие гиперпараметры процедуры обучения:\n",
    "* **количество эпох** (`num_epochs`) — количество итераций обучения по всему набору данных;\n",
    "* **размер батча** (`batch_size`) — количество образцов, передаваемых в сеть для обновления параметров;\n",
    "* **скорость обучения** (`learning_rate`) — коэффициент, определяющий, насколько сильно нужно обновлять параметры модели на каждом батче. Малые значения приводят к долгому обучению, в то время как большие значения могут приводить к непредсказуемому поведению во время обучения."
   ]
  },
  {
   "cell_type": "code",
   "execution_count": 14,
   "id": "9b556161",
   "metadata": {},
   "outputs": [],
   "source": [
    "num_epochs = 10\n",
    "batch_size = 64\n",
    "learning_rate = 1e-3"
   ]
  },
  {
   "cell_type": "markdown",
   "id": "5f660b8f",
   "metadata": {},
   "source": [
    "## Функция потерь (Loss function)\n",
    "\n",
    "При получении некоторых обучающих данных наша необученная сеть, скорее всего, не даст правильного ответа. Функция потерь измеряет степень различия между значениями на выходе сети и целевыми значениями. Именно функцию потерь мы и хотим минимизировать во время обучения. Для вычисления функции потерь нужно получить предсказание модели, передав ей на вход пример из данных, и сравнить его с истинным значением целевой переменной.\n",
    "\n",
    "Наиболее часто применяемыми функциями потерь являются [`nn.MSELoss`](https://pytorch.org/docs/stable/generated/torch.nn.MSELoss.html#torch.nn.MSELoss) (Mean Square Error) для задач регрессии и [`nn.CrossEntropyLoss`](https://pytorch.org/docs/stable/generated/torch.nn.CrossEntropyLoss.html#torch.nn.CrossEntropyLoss) для задач класиификации.\n",
    "\n",
    "\n",
    "Мы будем передавать выходы модели (логиты) в `nn.CrossEntropyLoss`, которая будет их нормализовывать и вычислять ошибку предсказания."
   ]
  },
  {
   "cell_type": "code",
   "execution_count": 15,
   "id": "503bde7f",
   "metadata": {},
   "outputs": [],
   "source": [
    "criterion = nn.CrossEntropyLoss()"
   ]
  },
  {
   "cell_type": "markdown",
   "id": "b9b54dd6",
   "metadata": {},
   "source": [
    "## Оптимизатор (Optimizer)\n",
    "\n",
    "Оптимизация — это процесс подстройки параметров модели для уменьшения ошибки на каждом шаге обучения. От **алгоритма оптимизации** зависит то, как этот процесс будет выполняться. Здесь мы будем использовать стохастический градиентный спуск (Stochastic Gradient Descent, SGD). Однако в PyTorch реализовано еще [множество других алгоритмов оптимизации](https://pytorch.org/docs/stable/optim.html#algorithms), таких как Adam и RMSProp, и они могут работать лучше или хуже для разных видов моделей и данных.\n",
    "\n",
    "Вся логика оптимизации заключена в объекте `optimizer`. Мы инициализируем оптимизатор, передавая ему параметры модели, которые требуется обучать (`model.parameters()`), а также гиперпараметр скорости обучения (`learning_rate`)."
   ]
  },
  {
   "cell_type": "code",
   "execution_count": 16,
   "id": "edaf2599",
   "metadata": {},
   "outputs": [],
   "source": [
    "optimizer = torch.optim.SGD(model.parameters(), lr=learning_rate)"
   ]
  },
  {
   "cell_type": "markdown",
   "id": "e863843a",
   "metadata": {},
   "source": [
    "## Цикл обучения\n",
    "\n",
    "Внутри цикла обучения, оптимизация производится за три шага:\n",
    "1. Вызов `optimizer.zero_grad()`, чтобы сбросить градиенты параметров модели. По умолчанию градиенты суммируются, и во избежание повторного вычисления их необходимо явно обнулять на каждой итерации;\n",
    "2. Обратное распространение ошибки предсказания с помощью вызова `loss.backward()`. PyTorch вычислит градиенты функции потерь относительно каждого обучаемого параметра;\n",
    "3. Когда у нас есть градиенты, мы вызываем `optimizer.step()`, чтобы подстроить обучаемые параметры с учетом градиентов, посчитанных при обратном распространении, согласно алгоритму оптимизации.\n",
    "\n",
    "Итого, в цикле обучения в следующем порядке должны идти строчки:  <br>\n",
    "optimizer.zero_grad() <br>\n",
    "loss.backward()  <br>\n",
    "optimizer.step()  <br>"
   ]
  },
  {
   "cell_type": "markdown",
   "id": "1496ad93",
   "metadata": {},
   "source": [
    "Наиболее просто полный процесс обучения нейронной сети может быть представлен следующим кодом:"
   ]
  },
  {
   "cell_type": "code",
   "execution_count": 17,
   "id": "62544b17",
   "metadata": {},
   "outputs": [
    {
     "name": "stdout",
     "output_type": "stream",
     "text": [
      "Training loss: 1.9521370701698353\n",
      "Training loss: 0.8917966132987537\n",
      "Training loss: 0.5364835292482173\n",
      "Training loss: 0.4399409221052361\n",
      "Training loss: 0.3947407068696612\n"
     ]
    }
   ],
   "source": [
    "from torch import optim\n",
    "\n",
    "model = nn.Sequential(nn.Linear(784, 128),\n",
    "                      nn.ReLU(),\n",
    "                      nn.Linear(128, 64),\n",
    "                      nn.ReLU(),\n",
    "                      nn.Linear(64, 10),\n",
    "                      nn.LogSoftmax(dim=1))\n",
    "\n",
    "\n",
    "num_epochs = 5\n",
    "learning_rate = 0.003\n",
    "\n",
    "criterion = nn.NLLLoss()\n",
    "\n",
    "optimizer = optim.SGD(model.parameters(), lr=learning_rate)\n",
    "\n",
    "for e in range(num_epochs):\n",
    "    running_loss = 0\n",
    "    for images, labels in trainloader:\n",
    "        # Flatten MNIST images into a 784 long vector\n",
    "        images = images.view(images.shape[0], -1)\n",
    "    \n",
    "        # Training pass\n",
    "        output = model(images)\n",
    "        loss = criterion(output, labels)\n",
    "        \n",
    "        optimizer.zero_grad()    \n",
    "        loss.backward()\n",
    "        optimizer.step()\n",
    "        \n",
    "        running_loss += loss.item()\n",
    "    else:\n",
    "        print(f\"Training loss: {running_loss/len(trainloader)}\")"
   ]
  },
  {
   "cell_type": "markdown",
   "id": "4cfd2ba2",
   "metadata": {},
   "source": [
    "Посмотрим на вероятности предсказанных классов после обучения нейронной сети:"
   ]
  },
  {
   "cell_type": "code",
   "execution_count": 20,
   "id": "f2b0aca3",
   "metadata": {},
   "outputs": [
    {
     "data": {
      "image/png": "[encoded data removed]",
      "text/plain": [
       "<Figure size 600x900 with 2 Axes>"
      ]
     },
     "metadata": {},
     "output_type": "display_data"
    }
   ],
   "source": [
    "%matplotlib inline\n",
    "\n",
    "images, labels = next(iter(trainloader))\n",
    "\n",
    "img = images[0].view(1, 784)\n",
    "# Turn off gradients to speed up this part\n",
    "with torch.no_grad():\n",
    "    logps = model(img)\n",
    "\n",
    "# Output of the network are log-probabilities, need to take exponential for probabilities\n",
    "ps = torch.exp(logps)\n",
    "view_classify(img.view(1, 28, 28), ps)"
   ]
  },
  {
   "cell_type": "markdown",
   "id": "357a91c1",
   "metadata": {},
   "source": [
    "Видим, что нейронная сеть уже научилась распознавать цифры с достаточно большой вероятностью."
   ]
  },
  {
   "cell_type": "markdown",
   "id": "779193bf",
   "metadata": {},
   "source": [
    "# Пример нейронной сети для решения задачи классификации на наборе данных MNIST"
   ]
  },
  {
   "cell_type": "markdown",
   "id": "fd043c8c",
   "metadata": {},
   "source": [
    "Шаг 1. Подгружаем необходимые библиотеки:"
   ]
  },
  {
   "cell_type": "code",
   "execution_count": 3,
   "id": "3cf340cd",
   "metadata": {},
   "outputs": [],
   "source": [
    "import torch\n",
    "from torchvision import datasets\n",
    "from torchvision.transforms import ToTensor\n",
    "from IPython.display import clear_output\n",
    "from torch.utils.data import DataLoader"
   ]
  },
  {
   "cell_type": "markdown",
   "id": "131f23bc",
   "metadata": {},
   "source": [
    "Шаг 2. Выбираем гиперпараметры для нейронной сети:"
   ]
  },
  {
   "cell_type": "code",
   "execution_count": 4,
   "id": "dab9514d",
   "metadata": {},
   "outputs": [],
   "source": [
    "num_epochs = 10\n",
    "batch_size = 64\n",
    "learning_rate = 1e-3"
   ]
  },
  {
   "cell_type": "markdown",
   "id": "fd7bb6b5",
   "metadata": {},
   "source": [
    "Шаг 3. Загружаем набор данных MNIST:"
   ]
  },
  {
   "cell_type": "code",
   "execution_count": 5,
   "id": "3ab3ea60",
   "metadata": {},
   "outputs": [],
   "source": [
    "train_data_MNIST = datasets.MNIST(\n",
    "    root=\"./MNIST\", train=True, download=True, transform=ToTensor()\n",
    ")\n",
    "\n",
    "test_data_MNIST = datasets.MNIST(\n",
    "    root=\"./MNIST\", train=False, download=True, transform=ToTensor()\n",
    ")"
   ]
  },
  {
   "cell_type": "markdown",
   "id": "e578567f",
   "metadata": {},
   "source": [
    "Шаг 4. Посмотрим на основные параметры данных:"
   ]
  },
  {
   "cell_type": "code",
   "execution_count": 6,
   "id": "c1432389",
   "metadata": {},
   "outputs": [
    {
     "name": "stdout",
     "output_type": "stream",
     "text": [
      "train_data.data:\n",
      "Type:  <class 'torch.Tensor'>\n",
      "Size:  torch.Size([60000, 28, 28])\n",
      "Dtype: torch.uint8\n",
      "Max:   tensor(255, dtype=torch.uint8)\n",
      "Min:   tensor(0, dtype=torch.uint8)\n"
     ]
    }
   ],
   "source": [
    "print(\"train_data.data:\")\n",
    "print(\"Type: \", type(train_data_MNIST.data))\n",
    "print(\"Size: \", train_data_MNIST.data.size())\n",
    "print(\"Dtype:\", train_data_MNIST.data.dtype)\n",
    "print(\"Max:  \", train_data_MNIST.data.max())\n",
    "print(\"Min:  \", train_data_MNIST.data.min())"
   ]
  },
  {
   "cell_type": "markdown",
   "id": "08bcf90d",
   "metadata": {},
   "source": [
    "Шаг 5. Посмотрим на матожидание и дисперсию:"
   ]
  },
  {
   "cell_type": "code",
   "execution_count": 7,
   "id": "0722555e",
   "metadata": {},
   "outputs": [
    {
     "name": "stdout",
     "output_type": "stream",
     "text": [
      "mean = 33.32, std = 78.57\n"
     ]
    }
   ],
   "source": [
    "mean = torch.mean(train_data_MNIST.data.float())\n",
    "std = torch.std(train_data_MNIST.data.float())\n",
    "\n",
    "print(f\"mean = {mean:.2f}, std = {std:.2f}\")"
   ]
  },
  {
   "cell_type": "markdown",
   "id": "2630de30",
   "metadata": {},
   "source": [
    "Шаг 6. Нормализуем значения, чтобы они попали в диапазон $[0;1]$:"
   ]
  },
  {
   "cell_type": "code",
   "execution_count": 8,
   "id": "ecc14a07",
   "metadata": {},
   "outputs": [
    {
     "name": "stdout",
     "output_type": "stream",
     "text": [
      "mean = 0.13, std = 0.31\n"
     ]
    }
   ],
   "source": [
    "mean = torch.mean(train_data_MNIST.data.float()) / 255\n",
    "std = torch.std(train_data_MNIST.data.float()) / 255\n",
    "\n",
    "print(f\"mean = {mean:.2f}, std = {std:.2f}\")"
   ]
  },
  {
   "cell_type": "markdown",
   "id": "a98b90c1",
   "metadata": {},
   "source": [
    "Шаг 7. Мы вычислили среднее и стандартное отклонение по обучающей выборке MNIST для применения транcформации Normalize. Но мы также помним, что она должна применяться только после ToTensor:"
   ]
  },
  {
   "cell_type": "code",
   "execution_count": 9,
   "id": "8e28b4d4",
   "metadata": {},
   "outputs": [
    {
     "name": "stdout",
     "output_type": "stream",
     "text": [
      "Compose(\n",
      "    ToTensor()\n",
      "    Normalize(mean=0.13066047430038452, std=0.30810779333114624)\n",
      ")\n"
     ]
    }
   ],
   "source": [
    "from torchvision import transforms\n",
    "\n",
    "transform_with_normalize = transforms.Compose([\n",
    "    transforms.ToTensor(), \n",
    "    transforms.Normalize(mean, std) \n",
    "])\n",
    "\n",
    "print(transform_with_normalize)"
   ]
  },
  {
   "cell_type": "markdown",
   "id": "20ce2bba",
   "metadata": {},
   "source": [
    "Шаг 8. Заменим тренировочные и тестовые данные на новые с применённой трансфоормацией: "
   ]
  },
  {
   "cell_type": "code",
   "execution_count": 10,
   "id": "aa2152b7",
   "metadata": {},
   "outputs": [
    {
     "name": "stdout",
     "output_type": "stream",
     "text": [
      "Old train transform: ToTensor()\n",
      "Old test transform: ToTensor()\n",
      "\n",
      "New train transform: Compose(\n",
      "    ToTensor()\n",
      "    Normalize(mean=0.13066047430038452, std=0.30810779333114624)\n",
      ")\n",
      "New test transform: Compose(\n",
      "    ToTensor()\n",
      "    Normalize(mean=0.13066047430038452, std=0.30810779333114624)\n",
      ")\n"
     ]
    }
   ],
   "source": [
    "print(\"Old train transform:\", train_data_MNIST.transform)\n",
    "print(\"Old test transform:\", test_data_MNIST.transform)\n",
    "\n",
    "train_data_MNIST.transform = transform_with_normalize\n",
    "test_data_MNIST.transform =  transform_with_normalize\n",
    "\n",
    "print(\"\\nNew train transform:\", train_data_MNIST.transform)\n",
    "print(\"New test transform:\", test_data_MNIST.transform)"
   ]
  },
  {
   "cell_type": "code",
   "execution_count": 24,
   "id": "7e198ba3",
   "metadata": {},
   "outputs": [],
   "source": [
    "train_dataloader = DataLoader(train_data_MNIST, batch_size=256, shuffle=True)\n",
    "test_dataloader = DataLoader(test_data_MNIST, batch_size=256, shuffle=False)"
   ]
  },
  {
   "cell_type": "markdown",
   "id": "a06b1b3c",
   "metadata": {},
   "source": [
    "Шаг 9. Выбираем устройство для обучения:"
   ]
  },
  {
   "cell_type": "code",
   "execution_count": 25,
   "id": "2ca999ee",
   "metadata": {},
   "outputs": [
    {
     "name": "stdout",
     "output_type": "stream",
     "text": [
      "Using cuda device\n"
     ]
    }
   ],
   "source": [
    "device = \"cuda\" if torch.cuda.is_available() else \"cpu\"\n",
    "print(f\"Using {device} device\")"
   ]
  },
  {
   "cell_type": "markdown",
   "id": "72b021dd",
   "metadata": {},
   "source": [
    "Шаг 10. Задаём архитектуру нейронной сети:"
   ]
  },
  {
   "cell_type": "code",
   "execution_count": 35,
   "id": "010c904c",
   "metadata": {},
   "outputs": [],
   "source": [
    "from torch import nn\n",
    "\n",
    "\n",
    "class NeuralNetwork(nn.Module):\n",
    "    def __init__(self):\n",
    "        super().__init__()\n",
    "        self.flatten = nn.Flatten()\n",
    "        self.layers_stack = nn.Sequential(\n",
    "            nn.Linear(28 * 28, 512),\n",
    "            nn.ReLU(),\n",
    "            nn.Linear(512, 128),\n",
    "            nn.ReLU(),\n",
    "            nn.Linear(128, 10),\n",
    "        )\n",
    "\n",
    "    def forward(self, x):\n",
    "        x = self.flatten(x)\n",
    "        x = self.layers_stack(x)\n",
    "        return x"
   ]
  },
  {
   "cell_type": "markdown",
   "id": "94529a01",
   "metadata": {},
   "source": [
    "Шаг 11. Создадим объект класса указанной нейронной сети и выведем его архитектуру:"
   ]
  },
  {
   "cell_type": "code",
   "execution_count": 36,
   "id": "f1d35c42",
   "metadata": {},
   "outputs": [
    {
     "data": {
      "text/plain": [
       "NeuralNetwork(\n",
       "  (flatten): Flatten(start_dim=1, end_dim=-1)\n",
       "  (layers_stack): Sequential(\n",
       "    (0): Linear(in_features=784, out_features=512, bias=True)\n",
       "    (1): ReLU()\n",
       "    (2): Linear(in_features=512, out_features=128, bias=True)\n",
       "    (3): ReLU()\n",
       "    (4): Linear(in_features=128, out_features=10, bias=True)\n",
       "  )\n",
       ")"
      ]
     },
     "execution_count": 36,
     "metadata": {},
     "output_type": "execute_result"
    }
   ],
   "source": [
    "model = NeuralNetwork()\n",
    "\n",
    "model.to(device)"
   ]
  },
  {
   "cell_type": "markdown",
   "id": "c5ead366",
   "metadata": {},
   "source": [
    "Шаг 12. Выберем функцию потерь и оптимизатор:"
   ]
  },
  {
   "cell_type": "code",
   "execution_count": 37,
   "id": "19eb8165",
   "metadata": {},
   "outputs": [],
   "source": [
    "loss = nn.CrossEntropyLoss()\n",
    "optim = torch.optim.Adam(model.parameters(), lr=0.003)"
   ]
  },
  {
   "cell_type": "markdown",
   "id": "9189e8ac",
   "metadata": {},
   "source": [
    "Шаг 13. Зададим функции обучения на тренировочном и тестовом множествах:"
   ]
  },
  {
   "cell_type": "code",
   "execution_count": 29,
   "id": "4095c924",
   "metadata": {},
   "outputs": [],
   "source": [
    "def train_loop(dataloader, model, criterion, optimizer):\n",
    "    num_batches = len(dataloader)\n",
    "\n",
    "    train_loss = 0\n",
    "\n",
    "    for imgs, labels in dataloader:\n",
    "        imgs, labels = imgs.to(device), labels.to(device)\n",
    "        \n",
    "        # Compute prediction and loss\n",
    "        pred = model(imgs)\n",
    "        loss = criterion(pred, labels)\n",
    "\n",
    "        # Optimization\n",
    "        optimizer.zero_grad()\n",
    "        loss.backward()\n",
    "        optimizer.step()\n",
    "\n",
    "        train_loss += loss.item()\n",
    "\n",
    "    train_loss /= num_batches\n",
    "    print(f\"Train loss: {train_loss:>8f}\")\n",
    "\n",
    "    return train_loss\n",
    "\n",
    "def test_loop(dataloader, model, criterion):\n",
    "    size = len(dataloader.dataset)\n",
    "    num_batches = len(dataloader)\n",
    "\n",
    "    test_loss, correct = 0, 0\n",
    "\n",
    "    with torch.no_grad():\n",
    "        for imgs, labels in dataloader:\n",
    "            imgs, labels = imgs.to(device), labels.to(device)\n",
    "            \n",
    "            # Compute prediction and loss\n",
    "            pred = model(imgs)\n",
    "            loss = criterion(pred, labels)\n",
    "\n",
    "            test_loss += loss.item()\n",
    "            correct += (pred.argmax(1) == labels).sum().item()\n",
    "\n",
    "    test_loss /= num_batches\n",
    "    correct /= size\n",
    "    accuracy = 100 * correct\n",
    "    print(f\"Test loss: {test_loss:>8f}, test accuracy: {accuracy:>0.1f}% \\n\")\n",
    "\n",
    "    return test_loss, accuracy\n"
   ]
  },
  {
   "cell_type": "code",
   "execution_count": 396,
   "id": "1a545467",
   "metadata": {},
   "outputs": [],
   "source": [
    "def train_loop(dataloader, model, criterion, optimizer):\n",
    "    num_batches = len(dataloader)\n",
    "\n",
    "    train_loss = 0\n",
    "\n",
    "    for imgs, labels in dataloader:\n",
    "        # Compute prediction and loss\n",
    "        pred = model(imgs.to(device))\n",
    "        loss = ## WRITE YOUR CODE HERE\n",
    "\n",
    "        # Optimization\n",
    "        ## WRITE YOUR CODE HERE\n",
    "\n",
    "        train_loss += loss.item()\n",
    "\n",
    "    train_loss /= num_batches\n",
    "    print(f\"Train loss: {train_loss:>8f}\")\n",
    "\n",
    "    return train_loss\n",
    "\n",
    "\n",
    "def test_loop(dataloader, model, criterion):\n",
    "    size = len(dataloader.dataset)\n",
    "    num_batches = len(dataloader)\n",
    "\n",
    "    test_loss, correct = 0, 0\n",
    "\n",
    "    with torch.no_grad():\n",
    "        for imgs, labels in dataloader:\n",
    "            # Compute prediction and loss\n",
    "            pred = ## WRITE YOUR CODE HERE\n",
    "            loss = ## WRITE YOUR CODE HERE\n",
    "\n",
    "            test_loss += loss.item()\n",
    "            correct += (\n",
    "                (pred.argmax(1) == labels.to(device)).type(torch.float).sum().item()\n",
    "            )\n",
    "\n",
    "    test_loss /= num_batches\n",
    "    correct /= size\n",
    "    print(f\"Test loss: {test_loss:>8f}, test accuracy: {(100*correct):>0.1f}% \\n\")\n",
    "\n",
    "    return test_loss"
   ]
  },
  {
   "cell_type": "markdown",
   "id": "38967d87",
   "metadata": {},
   "source": [
    "Шаг 14. Запустим процесс обучения:"
   ]
  },
  {
   "cell_type": "code",
   "execution_count": 38,
   "id": "7098d7e2",
   "metadata": {},
   "outputs": [
    {
     "name": "stdout",
     "output_type": "stream",
     "text": [
      "Epoch 1\n",
      "Train loss: 0.233354\n",
      "Test loss: 0.095657, test accuracy: 96.9% \n",
      "\n",
      "Epoch 2\n",
      "Train loss: 0.089212\n",
      "Test loss: 0.106172, test accuracy: 96.6% \n",
      "\n",
      "Epoch 3\n",
      "Train loss: 0.063519\n",
      "Test loss: 0.073829, test accuracy: 97.8% \n",
      "\n",
      "Epoch 4\n",
      "Train loss: 0.048192\n",
      "Test loss: 0.085426, test accuracy: 97.5% \n",
      "\n",
      "Epoch 5\n",
      "Train loss: 0.040150\n",
      "Test loss: 0.073328, test accuracy: 98.0% \n",
      "\n",
      "Epoch 6\n",
      "Train loss: 0.034445\n",
      "Test loss: 0.086865, test accuracy: 97.7% \n",
      "\n",
      "Epoch 7\n",
      "Train loss: 0.032862\n",
      "Test loss: 0.086658, test accuracy: 97.8% \n",
      "\n",
      "Epoch 8\n",
      "Train loss: 0.023473\n",
      "Test loss: 0.078401, test accuracy: 98.0% \n",
      "\n",
      "Epoch 9\n",
      "Train loss: 0.023837\n",
      "Test loss: 0.081754, test accuracy: 97.9% \n",
      "\n",
      "Epoch 10\n",
      "Train loss: 0.027456\n",
      "Test loss: 0.098005, test accuracy: 97.9% \n",
      "\n",
      "Done!\n"
     ]
    }
   ],
   "source": [
    "# for plotting\n",
    "loss_history = {\"train\": [], \"test\": []}\n",
    "\n",
    "for i in range(num_epochs):\n",
    "    print(f\"Epoch {i + 1}\")\n",
    "    \n",
    "    # Тренировка и вычисление потерь на тренировочном множестве\n",
    "    train_loss = train_loop(train_dataloader, model, loss, optim)\n",
    "    \n",
    "    # Тестирование и вычисление потерь на тестовом множестве\n",
    "    test_loss, accuracy = test_loop(test_dataloader, model, loss)\n",
    "    \n",
    "    # Сохраняем историю потерь\n",
    "    loss_history[\"train\"].append(train_loss)\n",
    "    loss_history[\"test\"].append(test_loss)\n",
    "\n",
    "print(\"Done!\")"
   ]
  },
  {
   "cell_type": "markdown",
   "id": "7aef120a",
   "metadata": {},
   "source": [
    "Шаг 15. Построим графики функции потерь на тренировочном и тестовом множествах:"
   ]
  },
  {
   "cell_type": "code",
   "execution_count": 39,
   "id": "d26b061e",
   "metadata": {},
   "outputs": [
    {
     "data": {
      "image/png": "[encoded data removed]",
      "text/plain": [
       "<Figure size 1000x500 with 1 Axes>"
      ]
     },
     "metadata": {},
     "output_type": "display_data"
    }
   ],
   "source": [
    "plt.figure(figsize=(10, 5))\n",
    "plt.plot(range(1, num_epochs + 1), loss_history[\"train\"], label=\"train\")\n",
    "plt.plot(range(1, num_epochs + 1), loss_history[\"test\"], label=\"test\")\n",
    "plt.xlabel(\"Epochs\", fontsize=15)\n",
    "plt.ylabel(\"Loss\", fontsize=15)\n",
    "plt.legend()\n",
    "plt.grid()\n",
    "plt.show()"
   ]
  },
  {
   "cell_type": "markdown",
   "id": "0c8b1e22",
   "metadata": {},
   "source": [
    "## Обработка результатов:"
   ]
  },
  {
   "cell_type": "markdown",
   "id": "c965d914",
   "metadata": {},
   "source": [
    "Поэтапно пропустим тестовые изображения через модель и посмотрим на размерности:"
   ]
  },
  {
   "cell_type": "code",
   "execution_count": 55,
   "id": "b7312af1",
   "metadata": {
    "scrolled": true
   },
   "outputs": [
    {
     "name": "stdout",
     "output_type": "stream",
     "text": [
      "imgs shape:  torch.Size([256, 1, 28, 28])\n"
     ]
    }
   ],
   "source": [
    "# get batch\n",
    "imgs, labels = next(iter(test_dataloader))\n",
    "print(\"imgs shape: \", imgs.shape)"
   ]
  },
  {
   "cell_type": "code",
   "execution_count": 56,
   "id": "818fcd33",
   "metadata": {},
   "outputs": [
    {
     "name": "stdout",
     "output_type": "stream",
     "text": [
      "pred shape:  torch.Size([256, 10])\n"
     ]
    }
   ],
   "source": [
    "# get output\n",
    "pred = model(imgs.to(device))\n",
    "print(\"pred shape: \", pred.shape)"
   ]
  },
  {
   "cell_type": "markdown",
   "id": "ebe82db3",
   "metadata": {},
   "source": [
    "Посмотрим на результаты обработки нейронной сети для выбранного батча:"
   ]
  },
  {
   "cell_type": "code",
   "execution_count": 57,
   "id": "cefd2d29",
   "metadata": {},
   "outputs": [
    {
     "data": {
      "text/plain": [
       "tensor([ -8.8422,   0.3582,  -4.1478,   1.4328,  -5.0729,  -9.4295, -12.9970,\n",
       "         16.2465,  -7.8813,   2.1012], device='cuda:0',\n",
       "       grad_fn=<SelectBackward0>)"
      ]
     },
     "execution_count": 57,
     "metadata": {},
     "output_type": "execute_result"
    }
   ],
   "source": [
    "# First sample in prediction batch\n",
    "pred[0]"
   ]
  },
  {
   "cell_type": "markdown",
   "id": "2e9fe30d",
   "metadata": {},
   "source": [
    "Чтобы посчитать вероятность, применим функццию softmax:"
   ]
  },
  {
   "cell_type": "code",
   "execution_count": 58,
   "id": "4858be52",
   "metadata": {},
   "outputs": [
    {
     "data": {
      "text/plain": [
       "tensor([1.2708e-11, 1.2583e-07, 1.3895e-09, 3.6854e-07, 5.5090e-10, 7.0638e-12,\n",
       "        1.9938e-13, 1.0000e+00, 3.3220e-11, 7.1902e-07], device='cuda:0')"
      ]
     },
     "execution_count": 58,
     "metadata": {},
     "output_type": "execute_result"
    }
   ],
   "source": [
    "# Calculate probabilities\n",
    "nn.Softmax(dim=0)(pred[0].detach())"
   ]
  },
  {
   "cell_type": "markdown",
   "id": "13f90cb8",
   "metadata": {},
   "source": [
    "Изменим размерности данных для вывода картинок на экран:"
   ]
  },
  {
   "cell_type": "code",
   "execution_count": 59,
   "id": "cace1765",
   "metadata": {},
   "outputs": [
    {
     "name": "stdout",
     "output_type": "stream",
     "text": [
      "imgs shape(after reshape):  torch.Size([256, 28, 28])\n"
     ]
    }
   ],
   "source": [
    "# remove axis\n",
    "imgs = torch.reshape(imgs, (256, 28, 28))\n",
    "print(\"imgs shape(after reshape): \", imgs.shape)"
   ]
  },
  {
   "cell_type": "code",
   "execution_count": 60,
   "id": "2e176f7a",
   "metadata": {},
   "outputs": [
    {
     "name": "stdout",
     "output_type": "stream",
     "text": [
      "imgs shape:  torch.Size([10, 28, 28])\n"
     ]
    }
   ],
   "source": [
    "# take 10 first images\n",
    "imgs = imgs[:10]\n",
    "print(\"imgs shape: \", imgs.shape)"
   ]
  },
  {
   "cell_type": "markdown",
   "id": "ed60c3e5",
   "metadata": {},
   "source": [
    "Посмотрим на предсказанные вероятности и выведем позицию максимального значения:"
   ]
  },
  {
   "cell_type": "code",
   "execution_count": 61,
   "id": "9d96b210",
   "metadata": {},
   "outputs": [
    {
     "name": "stdout",
     "output_type": "stream",
     "text": [
      "Prediction(1 sample):\n",
      " tensor([ -8.8422,   0.3582,  -4.1478,   1.4328,  -5.0729,  -9.4295, -12.9970,\n",
      "         16.2465,  -7.8813,   2.1012], device='cuda:0')\n",
      "Predicted class:  7\n"
     ]
    }
   ],
   "source": [
    "import numpy as np\n",
    "\n",
    "pred = pred[:10].detach()\n",
    "print(\"Prediction(1 sample):\\n\", pred[0])\n",
    "digits = np.argmax(pred.cpu().numpy(), axis=1)\n",
    "print(\"Predicted class: \", digits[0])"
   ]
  },
  {
   "cell_type": "markdown",
   "id": "657336bb",
   "metadata": {},
   "source": [
    "Визуализируем изображения, подпишем предсказанное и истинное значение:"
   ]
  },
  {
   "cell_type": "code",
   "execution_count": 62,
   "id": "8544161e",
   "metadata": {},
   "outputs": [
    {
     "data": {
      "image/png": "[encoded data removed]",
      "text/plain": [
       "<Figure size 2500x2500 with 10 Axes>"
      ]
     },
     "metadata": {},
     "output_type": "display_data"
    }
   ],
   "source": [
    "plt.figure(figsize=(25.0, 25.0))\n",
    "for i in range(10):\n",
    "    img = imgs[i]\n",
    "\n",
    "    plt.subplot(1, 10, i + 1)\n",
    "    plt.title(\n",
    "        \"pred: \" + str(digits[i]) + \" real: \" + str(labels[i].numpy())\n",
    "    )  # predicted and real values\n",
    "    plt.axis(\"off\")\n",
    "    plt.imshow(img.numpy(), cmap=\"gray\")"
   ]
  },
  {
   "cell_type": "markdown",
   "id": "c441fe9a",
   "metadata": {},
   "source": [
    "## Сохранение и загрузка весов модели\n",
    "\n",
    "Обычно обучение модели является достаточно затратным процессом с точки зрения вычислительных ресурсов. Поэтому, однажды обучив сеть, разумно будет сохранить ее для последующего использования. Рассмотрим варианты, как это можно сделать в PyTorch.\n",
    "\n",
    "Модели PyTorch хранят обучаемые параметры во внутреннем словаре состояния, который называется `state_dict`. Их можно сохранить с помощью метода `torch.save`.\n"
   ]
  },
  {
   "cell_type": "code",
   "execution_count": 63,
   "id": "ed416697",
   "metadata": {},
   "outputs": [],
   "source": [
    "torch.save(model.state_dict(), \"model_weights.pth\")"
   ]
  },
  {
   "cell_type": "markdown",
   "id": "0f3048e7",
   "metadata": {},
   "source": [
    "Для того, чтобы загрузить веса модели, сперва необходимо создать экземпляр такой модели, а затем загрузить параметры с помощью метода `load_state_dict()`."
   ]
  },
  {
   "cell_type": "code",
   "execution_count": 67,
   "id": "87c7b4c0",
   "metadata": {},
   "outputs": [
    {
     "data": {
      "text/plain": [
       "NeuralNetwork(\n",
       "  (flatten): Flatten(start_dim=1, end_dim=-1)\n",
       "  (layers_stack): Sequential(\n",
       "    (0): Linear(in_features=784, out_features=512, bias=True)\n",
       "    (1): ReLU()\n",
       "    (2): Linear(in_features=512, out_features=128, bias=True)\n",
       "    (3): ReLU()\n",
       "    (4): Linear(in_features=128, out_features=10, bias=True)\n",
       "  )\n",
       ")"
      ]
     },
     "execution_count": 67,
     "metadata": {},
     "output_type": "execute_result"
    }
   ],
   "source": [
    "model = NeuralNetwork()\n",
    "model.load_state_dict(torch.load(\"model_weights.pth\"))\n",
    "model.to(device)"
   ]
  },
  {
   "cell_type": "code",
   "execution_count": 68,
   "id": "dacb93e6",
   "metadata": {},
   "outputs": [],
   "source": [
    "imgs, labels = next(iter(test_dataloader))\n",
    "pred = model(torch.reshape(imgs, (256, 28, 28)).to(device))"
   ]
  },
  {
   "cell_type": "code",
   "execution_count": 69,
   "id": "6577fd8d",
   "metadata": {},
   "outputs": [
    {
     "name": "stdout",
     "output_type": "stream",
     "text": [
      "Prediction(1 sample):\n",
      " tensor([[ -8.8422,   0.3582,  -4.1478,  ...,  16.2465,  -7.8813,   2.1012],\n",
      "        [ -6.7898,  -1.7082,  25.3615,  ..., -15.9372,  -0.6459, -13.0732],\n",
      "        [-10.4180,  15.1604,  -9.4118,  ...,  -5.7116,   0.3360,  -1.9835],\n",
      "        ...,\n",
      "        [-13.9207, -16.5031, -12.8986,  ..., -17.9277,  -3.0325,   5.9829],\n",
      "        [ -7.4261,  -0.8288,  -0.7441,  ...,  16.5022,  -8.2789,   3.0645],\n",
      "        [ -9.4313,   1.8045,   8.3075,  ...,  13.4585,  -5.6533,  -0.4591]],\n",
      "       device='cuda:0')\n",
      "[7 2 1 0 4 1 4 9 5 9 0 6 9 0 1 5 9 7 3 4 9 6 6 5 4 0 7 4 0 1 3 1 3 4 7 2 7\n",
      " 1 2 1 1 7 4 2 3 5 1 2 4 4 6 3 5 5 6 0 4 1 9 5 7 8 9 3 7 4 6 4 3 0 7 0 2 9\n",
      " 1 7 3 2 9 7 7 6 2 7 8 4 7 3 6 1 3 6 9 3 1 4 1 7 6 9 6 0 5 4 9 9 2 1 9 4 8\n",
      " 7 3 9 7 4 4 4 9 2 5 4 7 6 7 9 0 5 8 5 6 6 5 7 8 1 0 1 6 4 6 7 3 1 7 1 8 2\n",
      " 0 2 9 3 5 5 1 5 6 0 3 4 4 6 5 4 6 5 4 5 1 4 4 7 2 3 2 9 1 8 1 8 1 8 5 0 8\n",
      " 9 2 5 0 1 1 1 0 9 0 3 1 6 4 2 3 6 1 1 1 3 9 5 2 9 4 5 9 3 9 0 3 5 5 5 7 2\n",
      " 2 7 1 2 8 4 1 7 3 3 8 8 7 9 2 2 4 1 5 9 8 7 2 3 0 2 4 2 4 1 9 5 7 7]\n"
     ]
    }
   ],
   "source": [
    "pred = pred.detach()\n",
    "print(\"Prediction(1 sample):\\n\", pred)\n",
    "digits = np.argmax(pred.cpu().numpy(), axis=1)\n",
    "print(digits)"
   ]
  },
  {
   "cell_type": "code",
   "execution_count": null,
   "id": "5b1f99d4",
   "metadata": {},
   "outputs": [],
   "source": []
  }
 ],
 "metadata": {
  "kernelspec": {
   "display_name": "Python 3 (ipykernel)",
   "language": "python",
   "name": "python3"
  },
  "language_info": {
   "codemirror_mode": {
    "name": "ipython",
    "version": 3
   },
   "file_extension": ".py",
   "mimetype": "text/x-python",
   "name": "python",
   "nbconvert_exporter": "python",
   "pygments_lexer": "ipython3",
   "version": "3.10.12"
  }
 },
 "nbformat": 4,
 "nbformat_minor": 5
}
